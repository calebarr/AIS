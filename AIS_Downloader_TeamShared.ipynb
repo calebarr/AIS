{
  "nbformat": 4,
  "nbformat_minor": 0,
  "metadata": {
    "colab": {
      "provenance": [],
      "include_colab_link": true
    },
    "kernelspec": {
      "name": "python3",
      "display_name": "Python 3"
    },
    "language_info": {
      "name": "python"
    }
  },
  "cells": [
    {
      "cell_type": "markdown",
      "metadata": {
        "id": "view-in-github",
        "colab_type": "text"
      },
      "source": [
        "<a href=\"https://colab.research.google.com/github/calebarr/AIS/blob/main/AIS_Downloader_TeamShared.ipynb\" target=\"_parent\"><img src=\"https://colab.research.google.com/assets/colab-badge.svg\" alt=\"Open In Colab\"/></a>"
      ]
    },
    {
      "cell_type": "code",
      "source": [
        "# AIS Data Downloader - Google Colab Version (Team-Ready)\n",
        "\n",
        "# Mount Google Drive\n",
        "from google.colab import drive\n",
        "import os\n",
        "from datetime import datetime, timedelta\n",
        "import requests\n",
        "\n",
        "print(\"Mounting Google Drive...\")\n",
        "drive.mount('/content/drive')\n",
        "\n",
        "# Define the AIS downloader function\n",
        "def download_ais_data(start_date_str, end_date_str, save_folder):\n",
        "    os.makedirs(save_folder, exist_ok=True)\n",
        "    print(f\"Files will be saved to: {save_folder}\")\n",
        "\n",
        "    # Convert string dates to datetime objects\n",
        "    start_date = datetime.strptime(start_date_str, \"%Y-%m-%d\")\n",
        "    end_date = datetime.strptime(end_date_str, \"%Y-%m-%d\")\n",
        "\n",
        "    # Generate the date list\n",
        "    dates_to_download = [\n",
        "        (start_date + timedelta(days=i)).strftime(\"%Y-%m-%d\")\n",
        "        for i in range((end_date - start_date).days + 1)\n",
        "    ]\n",
        "\n",
        "    # Download each file in the date range\n",
        "    for date_str in dates_to_download:\n",
        "        date_obj = datetime.strptime(date_str, \"%Y-%m-%d\")\n",
        "        filename = f\"AIS_{date_obj.strftime('%Y_%m_%d')}.zip\"\n",
        "        url = f\"https://coast.noaa.gov/htdata/CMSP/AISDataHandler/2020/{filename}\"\n",
        "\n",
        "        print(f\"Downloading {filename}...\")\n",
        "        response = requests.get(url)\n",
        "\n",
        "        if response.status_code == 200:\n",
        "            file_path = os.path.join(save_folder, filename)\n",
        "            with open(file_path, \"wb\") as f:\n",
        "                f.write(response.content)\n",
        "            print(f\"Saved: {file_path}\")\n",
        "        else:\n",
        "            print(f\"Failed to download {filename} (HTTP {response.status_code})\")\n",
        "\n",
        "# Now call the function with your chosen parameters\n",
        "download_ais_data(\n",
        "    start_date_str=\"2020-01-05\",\n",
        "    end_date_str=\"2020-01-06\",\n",
        "    save_folder=\"/content/drive/My Drive/SIADS_593/assets/raw_data\"\n",
        ")\n"
      ],
      "metadata": {
        "id": "0yfBwBvK_XL5",
        "colab": {
          "base_uri": "https://localhost:8080/"
        },
        "outputId": "9ab4b434-5743-4136-ded9-e27f50a558f4"
      },
      "execution_count": null,
      "outputs": [
        {
          "output_type": "stream",
          "name": "stdout",
          "text": [
            "Mounting Google Drive...\n",
            "Mounted at /content/drive\n",
            "Files will be saved to: /content/drive/My Drive/SIADS_593/assets/raw_data\n",
            "Downloading AIS_2020_01_05.zip...\n",
            "Saved: /content/drive/My Drive/SIADS_593/assets/raw_data/AIS_2020_01_05.zip\n",
            "Downloading AIS_2020_01_06.zip...\n",
            "Saved: /content/drive/My Drive/SIADS_593/assets/raw_data/AIS_2020_01_06.zip\n",
            "Mounting Google Drive...\n",
            "Drive already mounted at /content/drive; to attempt to forcibly remount, call drive.mount(\"/content/drive\", force_remount=True).\n",
            "Files will be saved to: /content/drive/My Drive/SIADS_593/assets/raw_data\n",
            "Downloading AIS_2020_01_05.zip...\n",
            "Saved: /content/drive/My Drive/SIADS_593/assets/raw_data/AIS_2020_01_05.zip\n",
            "Downloading AIS_2020_01_06.zip...\n",
            "Saved: /content/drive/My Drive/SIADS_593/assets/raw_data/AIS_2020_01_06.zip\n"
          ]
        }
      ]
    }
  ]
}