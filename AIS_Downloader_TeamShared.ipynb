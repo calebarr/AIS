{
  "nbformat": 4,
  "nbformat_minor": 0,
  "metadata": {
    "colab": {
      "provenance": [],
      "include_colab_link": true
    },
    "kernelspec": {
      "name": "python3",
      "display_name": "Python 3"
    },
    "language_info": {
      "name": "python"
    }
  },
  "cells": [
    {
      "cell_type": "markdown",
      "metadata": {
        "id": "view-in-github",
        "colab_type": "text"
      },
      "source": [
        "<a href=\"https://colab.research.google.com/github/calebarr/AIS/blob/ais_cleaning/AIS_Downloader_TeamShared.ipynb\" target=\"_parent\"><img src=\"https://colab.research.google.com/assets/colab-badge.svg\" alt=\"Open In Colab\"/></a>"
      ]
    },
    {
      "cell_type": "code",
      "source": [
        "# AIS Data Downloader - Google Colab Version (Team-Ready)\n",
        "\n",
        "# Mount Google Drive\n",
        "from google.colab import drive\n",
        "import os\n",
        "from datetime import datetime, timedelta\n",
        "import requests\n",
        "\n",
        "print(\"Mounting Google Drive...\")\n",
        "drive.mount('/content/drive')\n",
        "\n",
        "# Define the AIS downloader function\n",
        "def download_ais_data(start_date_str, end_date_str, save_folder):\n",
        "    os.makedirs(save_folder, exist_ok=True)\n",
        "    print(f\"Files will be saved to: {save_folder}\")\n",
        "\n",
        "    # Convert string dates to datetime objects\n",
        "    start_date = datetime.strptime(start_date_str, \"%Y-%m-%d\")\n",
        "    end_date = datetime.strptime(end_date_str, \"%Y-%m-%d\")\n",
        "\n",
        "    # Generate the date list\n",
        "    dates_to_download = [\n",
        "        (start_date + timedelta(days=i)).strftime(\"%Y-%m-%d\")\n",
        "        for i in range((end_date - start_date).days + 1)\n",
        "    ]\n",
        "\n",
        "    # Download each file in the date range\n",
        "    for date_str in dates_to_download:\n",
        "        date_obj = datetime.strptime(date_str, \"%Y-%m-%d\")\n",
        "        filename = f\"AIS_{date_obj.strftime('%Y_%m_%d')}.zip\"\n",
        "        url = f\"https://coast.noaa.gov/htdata/CMSP/AISDataHandler/2020/{filename}\"\n",
        "\n",
        "        print(f\"Downloading {filename}...\")\n",
        "        response = requests.get(url)\n",
        "\n",
        "        if response.status_code == 200:\n",
        "            file_path = os.path.join(save_folder, filename)\n",
        "            with open(file_path, \"wb\") as f:\n",
        "                f.write(response.content)\n",
        "            print(f\"Saved: {file_path}\")\n",
        "        else:\n",
        "            print(f\"Failed to download {filename} (HTTP {response.status_code})\")\n",
        "\n",
        "# Now call the function with your chosen parameters\n",
        "download_ais_data(\n",
        "    start_date_str=\"2020-01-05\",\n",
        "    end_date_str=\"2020-01-06\",\n",
        "    save_folder=\"/content/drive/My Drive/SIADS_593/assets/raw_data\"\n",
        ")\n"
      ],
      "metadata": {
        "id": "0yfBwBvK_XL5",
        "colab": {
          "base_uri": "https://localhost:8080/"
        },
        "outputId": "25aac10c-6f82-4270-96e4-6407bb38a583"
      },
      "execution_count": 1,
      "outputs": [
        {
          "output_type": "stream",
          "name": "stdout",
          "text": [
            "Mounting Google Drive...\n",
            "Mounted at /content/drive\n",
            "Files will be saved to: /content/drive/My Drive/SIADS_593/assets/raw_data\n",
            "Downloading AIS_2020_01_05.zip...\n",
            "Saved: /content/drive/My Drive/SIADS_593/assets/raw_data/AIS_2020_01_05.zip\n",
            "Downloading AIS_2020_01_06.zip...\n",
            "Saved: /content/drive/My Drive/SIADS_593/assets/raw_data/AIS_2020_01_06.zip\n"
          ]
        }
      ]
    },
    {
      "cell_type": "code",
      "source": [
        "!ls -lh \"/content/drive/My Drive/SIADS_593/assets/raw_data\"\n"
      ],
      "metadata": {
        "id": "TpA13JPEiYcz",
        "outputId": "c2807cc5-7871-4235-8ba4-c73e5b5b477b",
        "colab": {
          "base_uri": "https://localhost:8080/"
        }
      },
      "execution_count": 2,
      "outputs": [
        {
          "output_type": "stream",
          "name": "stdout",
          "text": [
            "total 1.3G\n",
            "-rw------- 1 root root 252M May 21 06:02 AIS_2020_01_01.zip\n",
            "-rw------- 1 root root 250M May 21 06:02 AIS_2020_01_02.zip\n",
            "-rw------- 1 root root 256M May 21 06:02 AIS_2020_01_03.zip\n",
            "-rw------- 1 root root 245M May 27 06:55 AIS_2020_01_05.zip\n",
            "-rw------- 1 root root 254M May 27 06:55 AIS_2020_01_06.zip\n"
          ]
        }
      ]
    },
    {
      "cell_type": "code",
      "source": [],
      "metadata": {
        "id": "CKNye-J6ijZ2"
      },
      "execution_count": null,
      "outputs": []
    }
  ]
}