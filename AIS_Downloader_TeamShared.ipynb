{
  "nbformat": 4,
  "nbformat_minor": 0,
  "metadata": {
    "colab": {
      "provenance": [],
      "include_colab_link": true
    },
    "kernelspec": {
      "name": "python3",
      "display_name": "Python 3"
    },
    "language_info": {
      "name": "python"
    }
  },
  "cells": [
    {
      "cell_type": "markdown",
      "metadata": {
        "id": "view-in-github",
        "colab_type": "text"
      },
      "source": [
        "<a href=\"https://colab.research.google.com/github/calebarr/AIS/blob/main/AIS_Downloader_TeamShared.ipynb\" target=\"_parent\"><img src=\"https://colab.research.google.com/assets/colab-badge.svg\" alt=\"Open In Colab\"/></a>"
      ]
    },
    {
      "cell_type": "code",
      "source": [],
      "metadata": {
        "id": "0yfBwBvK_XL5",
        "colab": {
          "base_uri": "https://localhost:8080/",
          "height": 70
        },
        "outputId": "0890de10-bc3d-427e-e995-987b076ac360"
      },
      "execution_count": 8,
      "outputs": [
        {
          "output_type": "stream",
          "name": "stdout",
          "text": [
            "Mounting Google Drive...\n",
            "Drive already mounted at /content/drive; to attempt to forcibly remount, call drive.mount(\"/content/drive\", force_remount=True).\n"
          ]
        },
        {
          "output_type": "execute_result",
          "data": {
            "text/plain": [
              "'\\ndownload_ais_data(\\n    start_date_str=\"2020-01-01\",\\n    end_date_str=\"2020-01-02\",\\n    save_folder=\"/content/drive/My Drive/SIADS_593/assets/raw_data\"\\n)\\n'"
            ],
            "application/vnd.google.colaboratory.intrinsic+json": {
              "type": "string"
            }
          },
          "metadata": {},
          "execution_count": 8
        }
      ]
    },
    {
      "cell_type": "code",
      "source": [
        "!ls -lh \"/content/drive/My Drive/SIADS_593/assets/raw_data\"\n"
      ],
      "metadata": {
        "colab": {
          "base_uri": "https://localhost:8080/"
        },
        "id": "TpA13JPEiYcz",
        "outputId": "52679419-6e83-445f-a67e-7924a423e5c6"
      },
      "execution_count": 9,
      "outputs": [
        {
          "output_type": "stream",
          "name": "stdout",
          "text": [
            "total 0\n"
          ]
        }
      ]
    },
    {
      "cell_type": "code",
      "source": [
        "def process_zip_in_chunks(zip_path, chunksize=100_000):\n",
        "\n",
        "    all_cleaned_chunks = []\n",
        "    with zipfile.ZipFile(zip_path, 'r') as zip_ref:\n",
        "        csv_files = [name for name in zip_ref.namelist() if name.endswith('.csv')]\n",
        "        if not csv_files:\n",
        "            return pd.DataFrame()\n",
        "\n",
        "        with zip_ref.open(csv_files[0]) as f:\n",
        "            reader = pd.read_csv(f, chunksize=chunksize)\n",
        "            for chunk in reader:\n",
        "                cleaned = extract_first_arrivals_anywhere(chunk)\n",
        "                all_cleaned_chunks.append(cleaned)\n",
        "\n",
        "    return pd.concat(all_cleaned_chunks, ignore_index=True)\n"
      ],
      "metadata": {
        "id": "yJhRWmHVVINR"
      },
      "execution_count": 20,
      "outputs": []
    },
    {
      "cell_type": "code",
      "source": [
        "def extract_first_arrivals_anywhere(df):\n",
        "    # Filter by relevant vessel types\n",
        "    df = df[\n",
        "        df[\"VesselType\"].isin(range(70, 90)) | df[\"VesselType\"].isin([30, 52])\n",
        "    ].copy()\n",
        "\n",
        "    # Drop rows with missing or invalid coordinates\n",
        "    df = df.dropna(subset=[\"LAT\", \"LON\"])\n",
        "    df = df[(df[\"LAT\"] != 0) & (df[\"LON\"] != 0)]\n",
        "\n",
        "    # Convert timestamps\n",
        "    df[\"BaseDateTime\"] = pd.to_datetime(df[\"BaseDateTime\"], errors='coerce')\n",
        "\n",
        "    df = df.dropna(subset=[\"BaseDateTime\"])\n",
        "\n",
        "    # Filter for ships that are of Status 1 & 5 (Anchored)\n",
        "   #if \"Status\" in df.columns:\n",
        "   #  df = df[df[\"Status\"].isin([1, 5])]\n",
        "\n",
        "    \"\"\"\n",
        "    Working on cleaning this section\n",
        "    \"\"\"\n",
        "    # Drop all the columns that are not need\n",
        "    columns_to_drop = [\"SOG\", \"COG\", \"Heading\", \"IMO\", \"VesselName\", \"Length\", \"Width\", \"TransceiverClass\", \"Cargo\", \"CallSign\", \"Draft\"]\n",
        "    existing_cols = [col for col in columns_to_drop if col in df.columns]\n",
        "\n",
        "    df = df.drop(columns=existing_cols)\n",
        "\n",
        "    # End of cleaning\n",
        "\n",
        "    # Sort and get the first ping per MMSI\n",
        "    first_arrivals = (\n",
        "        df.sort_values([\"MMSI\", \"BaseDateTime\"])\n",
        "          .drop_duplicates(\"MMSI\", keep=\"first\")\n",
        "    )\n",
        "\n",
        "    # Assign port names\n",
        "    return assign_port_names(first_arrivals)\n"
      ],
      "metadata": {
        "id": "GoKkrlRTgxg7"
      },
      "execution_count": 21,
      "outputs": []
    },
    {
      "cell_type": "code",
      "source": [
        "def assign_port_names(df, buffer=1.3):\n",
        "    PORT_REGIONS = {\n",
        "        \"Los Angeles\": (33.6, 33.9, -118.5, -118.0),\n",
        "        \"Long Beach\": (33.7, 33.9, -118.25, -118.15),\n",
        "        \"Oakland\": (37.7, 37.85, -122.35, -122.2),\n",
        "        \"Seattle\": (47.5, 47.7, -122.4, -122.2),\n",
        "        \"New York\": (40.6, 40.8, -74.1, -73.9),\n",
        "        \"Norfolk\": (36.8, 37.1, -76.4, -76.2),\n",
        "        \"Savannah\": (32.0, 32.2, -81.2, -80.8),\n",
        "        \"Charleston\": (32.7, 32.9, -80.0, -79.8),\n",
        "        \"Miami\": (25.75, 25.85, -80.2, -80.0),\n",
        "        \"Port Everglades\": (26.05, 26.1, -80.15, -80.1),\n",
        "        \"Baltimore\": (39.2, 39.3, -76.6, -76.5),\n",
        "        \"Philadelphia\": (39.9, 40.0, -75.2, -75.1),\n",
        "        \"Houston\": (29.6, 29.8, -95.2, -94.8),\n",
        "        \"New Orleans\": (29.9, 30.1, -90.1, -89.9),\n",
        "        \"Jacksonville\": (30.3, 30.5, -81.7, -81.3),\n",
        "        \"San Diego\": (32.7, 32.8, -117.2, -117.1),\n",
        "        \"Boston\": (42.3, 42.4, -71.1, -70.9),\n",
        "        \"Anchorage\": (61.1, 61.3, -149.95, -149.8),\n",
        "        \"Honolulu\": (21.3, 21.4, -157.9, -157.8),\n",
        "        \"Portland\": (45.6, 45.7, -122.7, -122.6),\n",
        "        \"Puerto Rico\": (18.2, 18.3, -66.3, -66.2),\n",
        "        \"Tacoma\": (47.2, 47.4, -122.55, -122.35),\n",
        "        \"Port Arthur\": (29.85, 29.95, -93.95, -93.85),\n",
        "        \"Beaumont\": (30.0, 30.1, -94.15, -94.05),\n",
        "        \"Corpus Christi\": (27.75, 27.9, -97.45, -97.25),\n",
        "        \"Baton Rouge\": (30.4, 30.5, -91.25, -91.15),\n",
        "        \"Mobile\": (30.6, 30.7, -88.1, -88.0),\n",
        "        \"Tampa\": (27.9, 28.0, -82.5, -82.4),\n",
        "        \"San Francisco\": (37.75, 37.85, -122.45, -122.3),\n",
        "        \"Wilmington (DE)\": (39.7, 39.75, -75.55, -75.5),\n",
        "        \"Camden (NJ)\": (39.9, 39.95, -75.1, -75.05),\n",
        "        \"Providence\": (41.7, 41.8, -71.45, -71.35),\n",
        "        \"Unknown\": (None, None, None, None),  # fallback\n",
        "    }\n",
        "\n",
        "    def get_port_name(lat, lon):\n",
        "        for port, bounds in PORT_REGIONS.items():\n",
        "            if None in bounds:\n",
        "                continue  # skip 'Unknown'\n",
        "            min_lat, max_lat, min_lon, max_lon = bounds\n",
        "            if (min_lat - buffer) <= lat <= (max_lat + buffer) and \\\n",
        "               (min_lon - buffer) <= lon <= (max_lon + buffer):\n",
        "                return port\n",
        "        return \"Unknown\"\n",
        "\n",
        "    df[\"Port Name\"] = df.apply(lambda row: get_port_name(row[\"LAT\"], row[\"LON\"]), axis=1)\n",
        "    return df\n",
        "\n"
      ],
      "metadata": {
        "id": "Og93Hm7cBPzE"
      },
      "execution_count": 22,
      "outputs": []
    },
    {
      "cell_type": "code",
      "source": [
        "def run_ais_pipeline(start_date_str, end_date_str, raw_data_dir, cleaned_csv_path):\n",
        "    from datetime import datetime, timedelta\n",
        "\n",
        "    # Step 1: Download AIS zip files\n",
        "    download_ais_data(start_date_str, end_date_str, raw_data_dir)\n",
        "\n",
        "    # Step 2: Build list of zip paths from date range\n",
        "    start_date = datetime.strptime(start_date_str, \"%Y-%m-%d\")\n",
        "    end_date = datetime.strptime(end_date_str, \"%Y-%m-%d\")\n",
        "    date_range = [\n",
        "        (start_date + timedelta(days=i)).strftime(\"AIS_%Y_%m_%d.zip\")\n",
        "        for i in range((end_date - start_date).days + 1)\n",
        "    ]\n",
        "\n",
        "    zip_paths = [\n",
        "        os.path.join(raw_data_dir, filename)\n",
        "        for filename in date_range\n",
        "        if os.path.exists(os.path.join(raw_data_dir, filename))\n",
        "    ]\n",
        "\n",
        "    if not zip_paths:\n",
        "        print(\"No matching zip files found. Exiting.\")\n",
        "        return\n",
        "\n",
        "    # Step 3: Process and concatenate\n",
        "    print(f\"Processing {len(zip_paths)} zip files...\")\n",
        "    vessel_data = pd.concat(\n",
        "        [process_zip_in_chunks(path) for path in zip_paths],\n",
        "        ignore_index=True\n",
        "    )\n",
        "\n",
        "    # Step 4: Drop rows where port is 'Unknown'\n",
        "    cleaned_df = vessel_data[vessel_data['Port Name'] != 'Unknown'].copy()\n",
        "\n",
        "    # Step 5: Save the cleaned data\n",
        "    os.makedirs(os.path.dirname(cleaned_csv_path), exist_ok=True)\n",
        "    cleaned_df.to_csv(cleaned_csv_path, index=False)\n",
        "\n",
        "    print(f\" Cleaned data saved to: {cleaned_csv_path}\")\n",
        "    print(\"Shape of the cleaned data:\", cleaned_df.shape)\n"
      ],
      "metadata": {
        "id": "vFGrqni--WRY"
      },
      "execution_count": 23,
      "outputs": []
    },
    {
      "cell_type": "code",
      "source": [
        "run_ais_pipeline(\n",
        "    start_date_str=\"2020-01-01\",\n",
        "    end_date_str=\"2020-01-02\",\n",
        "    raw_data_dir=\"/content/drive/My Drive/SIADS_593/assets/raw_data\",\n",
        "    cleaned_csv_path=\"/content/drive/My Drive/SIADS_593/assets/cleaned_data/first_arrivals_cleaned.csv\"\n",
        ")\n"
      ],
      "metadata": {
        "colab": {
          "base_uri": "https://localhost:8080/"
        },
        "id": "001FPOHo-LEd",
        "outputId": "6b668e24-c3f4-4383-a92f-c33160d7bd3a"
      },
      "execution_count": 25,
      "outputs": [
        {
          "output_type": "stream",
          "name": "stdout",
          "text": [
            "Files will be saved to: /content/drive/My Drive/SIADS_593/assets/raw_data\n",
            "Already downloaded: AIS_2020_01_01.zip\n",
            "Already downloaded: AIS_2020_01_02.zip\n",
            "📦 Processing 2 zip files...\n"
          ]
        },
        {
          "output_type": "stream",
          "name": "stderr",
          "text": [
            "<ipython-input-21-e0d6979b6baf>:12: UserWarning: Could not infer format, so each element will be parsed individually, falling back to `dateutil`. To ensure parsing is consistent and as-expected, please specify a format.\n",
            "  df[\"BaseDateTime\"] = pd.to_datetime(df[\"BaseDateTime\"], errors='coerce')\n"
          ]
        },
        {
          "output_type": "stream",
          "name": "stdout",
          "text": [
            "✅ Cleaned data saved to: /content/drive/My Drive/SIADS_593/assets/cleaned_data/first_arrivals_cleaned.csv\n",
            "📊 Shape of the cleaned data: (182038, 7)\n"
          ]
        }
      ]
    },
    {
      "cell_type": "code",
      "source": [
        "import pandas as pd\n",
        "\n",
        "vessel_data = pd.concat([\n",
        "    process_zip_in_chunks(\"/content/drive/My Drive/SIADS_593/assets/raw_data/AIS_2020_01_01.zip\"),\n",
        "    process_zip_in_chunks(\"/content/drive/My Drive/SIADS_593/assets/raw_data/AIS_2020_01_02.zip\")\n",
        "])\n",
        "\n"
      ],
      "metadata": {
        "colab": {
          "base_uri": "https://localhost:8080/"
        },
        "id": "eSI_D9G5X9hv",
        "outputId": "d1fd7093-6808-4c35-b8da-5000a24d921d"
      },
      "execution_count": null,
      "outputs": [
        {
          "output_type": "stream",
          "name": "stderr",
          "text": [
            "<ipython-input-103-e0d6979b6baf>:12: UserWarning:\n",
            "\n",
            "Could not infer format, so each element will be parsed individually, falling back to `dateutil`. To ensure parsing is consistent and as-expected, please specify a format.\n",
            "\n"
          ]
        }
      ]
    },
    {
      "cell_type": "code",
      "source": [
        "first_arrivals_df = extract_first_arrivals_anywhere(vessel_data)\n",
        "first_arrivals_df[\"Port Name\"].value_counts()\n",
        "\n"
      ],
      "metadata": {
        "colab": {
          "base_uri": "https://localhost:8080/",
          "height": 1000
        },
        "id": "Yek6EzYvPcwe",
        "outputId": "422e6e0c-6245-4b9c-fd8c-b0943ae79f08"
      },
      "execution_count": null,
      "outputs": [
        {
          "output_type": "execute_result",
          "data": {
            "text/plain": [
              "Port Name\n",
              "Unknown            1285\n",
              "Houston             222\n",
              "New Orleans         174\n",
              "Seattle             172\n",
              "Boston              166\n",
              "New York             98\n",
              "Norfolk              97\n",
              "Los Angeles          80\n",
              "Miami                68\n",
              "Honolulu             64\n",
              "Savannah             57\n",
              "Mobile               57\n",
              "Oakland              56\n",
              "Philadelphia         43\n",
              "Portland             39\n",
              "Corpus Christi       33\n",
              "Jacksonville         29\n",
              "Baton Rouge          26\n",
              "Baltimore            24\n",
              "Tampa                21\n",
              "Port Arthur          18\n",
              "Puerto Rico          16\n",
              "Charleston           11\n",
              "Providence           11\n",
              "Anchorage             6\n",
              "San Diego             6\n",
              "Tacoma                3\n",
              "Wilmington (DE)       3\n",
              "Port Everglades       2\n",
              "Name: count, dtype: int64"
            ],
            "text/html": [
              "<div>\n",
              "<style scoped>\n",
              "    .dataframe tbody tr th:only-of-type {\n",
              "        vertical-align: middle;\n",
              "    }\n",
              "\n",
              "    .dataframe tbody tr th {\n",
              "        vertical-align: top;\n",
              "    }\n",
              "\n",
              "    .dataframe thead th {\n",
              "        text-align: right;\n",
              "    }\n",
              "</style>\n",
              "<table border=\"1\" class=\"dataframe\">\n",
              "  <thead>\n",
              "    <tr style=\"text-align: right;\">\n",
              "      <th></th>\n",
              "      <th>count</th>\n",
              "    </tr>\n",
              "    <tr>\n",
              "      <th>Port Name</th>\n",
              "      <th></th>\n",
              "    </tr>\n",
              "  </thead>\n",
              "  <tbody>\n",
              "    <tr>\n",
              "      <th>Unknown</th>\n",
              "      <td>1285</td>\n",
              "    </tr>\n",
              "    <tr>\n",
              "      <th>Houston</th>\n",
              "      <td>222</td>\n",
              "    </tr>\n",
              "    <tr>\n",
              "      <th>New Orleans</th>\n",
              "      <td>174</td>\n",
              "    </tr>\n",
              "    <tr>\n",
              "      <th>Seattle</th>\n",
              "      <td>172</td>\n",
              "    </tr>\n",
              "    <tr>\n",
              "      <th>Boston</th>\n",
              "      <td>166</td>\n",
              "    </tr>\n",
              "    <tr>\n",
              "      <th>New York</th>\n",
              "      <td>98</td>\n",
              "    </tr>\n",
              "    <tr>\n",
              "      <th>Norfolk</th>\n",
              "      <td>97</td>\n",
              "    </tr>\n",
              "    <tr>\n",
              "      <th>Los Angeles</th>\n",
              "      <td>80</td>\n",
              "    </tr>\n",
              "    <tr>\n",
              "      <th>Miami</th>\n",
              "      <td>68</td>\n",
              "    </tr>\n",
              "    <tr>\n",
              "      <th>Honolulu</th>\n",
              "      <td>64</td>\n",
              "    </tr>\n",
              "    <tr>\n",
              "      <th>Savannah</th>\n",
              "      <td>57</td>\n",
              "    </tr>\n",
              "    <tr>\n",
              "      <th>Mobile</th>\n",
              "      <td>57</td>\n",
              "    </tr>\n",
              "    <tr>\n",
              "      <th>Oakland</th>\n",
              "      <td>56</td>\n",
              "    </tr>\n",
              "    <tr>\n",
              "      <th>Philadelphia</th>\n",
              "      <td>43</td>\n",
              "    </tr>\n",
              "    <tr>\n",
              "      <th>Portland</th>\n",
              "      <td>39</td>\n",
              "    </tr>\n",
              "    <tr>\n",
              "      <th>Corpus Christi</th>\n",
              "      <td>33</td>\n",
              "    </tr>\n",
              "    <tr>\n",
              "      <th>Jacksonville</th>\n",
              "      <td>29</td>\n",
              "    </tr>\n",
              "    <tr>\n",
              "      <th>Baton Rouge</th>\n",
              "      <td>26</td>\n",
              "    </tr>\n",
              "    <tr>\n",
              "      <th>Baltimore</th>\n",
              "      <td>24</td>\n",
              "    </tr>\n",
              "    <tr>\n",
              "      <th>Tampa</th>\n",
              "      <td>21</td>\n",
              "    </tr>\n",
              "    <tr>\n",
              "      <th>Port Arthur</th>\n",
              "      <td>18</td>\n",
              "    </tr>\n",
              "    <tr>\n",
              "      <th>Puerto Rico</th>\n",
              "      <td>16</td>\n",
              "    </tr>\n",
              "    <tr>\n",
              "      <th>Charleston</th>\n",
              "      <td>11</td>\n",
              "    </tr>\n",
              "    <tr>\n",
              "      <th>Providence</th>\n",
              "      <td>11</td>\n",
              "    </tr>\n",
              "    <tr>\n",
              "      <th>Anchorage</th>\n",
              "      <td>6</td>\n",
              "    </tr>\n",
              "    <tr>\n",
              "      <th>San Diego</th>\n",
              "      <td>6</td>\n",
              "    </tr>\n",
              "    <tr>\n",
              "      <th>Tacoma</th>\n",
              "      <td>3</td>\n",
              "    </tr>\n",
              "    <tr>\n",
              "      <th>Wilmington (DE)</th>\n",
              "      <td>3</td>\n",
              "    </tr>\n",
              "    <tr>\n",
              "      <th>Port Everglades</th>\n",
              "      <td>2</td>\n",
              "    </tr>\n",
              "  </tbody>\n",
              "</table>\n",
              "</div><br><label><b>dtype:</b> int64</label>"
            ]
          },
          "metadata": {},
          "execution_count": 106
        }
      ]
    },
    {
      "cell_type": "code",
      "source": [
        "# prompt: create bar chart\n",
        "\n",
        "import matplotlib.pyplot as plt\n",
        "\n",
        "# Assuming 'first_arrivals_df' is already created and contains the 'Port Name' column\n",
        "if 'Port Name' in first_arrivals_df.columns:\n",
        "    port_counts = first_arrivals_df[\"Port Name\"].value_counts()\n",
        "\n",
        "    plt.figure(figsize=(10, 6))\n",
        "    port_counts.plot(kind='bar')\n",
        "    plt.title('Number of First Arrivals per Port')\n",
        "    plt.xlabel('Port Name')\n",
        "    plt.ylabel('Number of Vessels')\n",
        "    plt.xticks(rotation=45, ha='right')\n",
        "    plt.tight_layout()\n",
        "    plt.show()\n",
        "else:\n",
        "    print(\"The DataFrame does not contain a 'Port Name' column to create the bar chart.\")"
      ],
      "metadata": {
        "id": "c3kk4H6wiVdg",
        "outputId": "83d1a76e-9f40-4a47-e15c-a8380e445c1d",
        "colab": {
          "base_uri": "https://localhost:8080/",
          "height": 607
        }
      },
      "execution_count": null,
      "outputs": [
        {
          "output_type": "display_data",
          "data": {
            "text/plain": [
              "<Figure size 1000x600 with 1 Axes>"
            ],
            "image/png": "[encoded data removed]"
          },
          "metadata": {}
        }
      ]
    },
    {
      "cell_type": "code",
      "source": [
        "print(vessel_data.info())"
      ],
      "metadata": {
        "id": "iyHlVhpWRadr",
        "outputId": "e66b9160-e0f3-4892-85de-9c8fb2d14fa3",
        "colab": {
          "base_uri": "https://localhost:8080/"
        }
      },
      "execution_count": null,
      "outputs": [
        {
          "output_type": "stream",
          "name": "stdout",
          "text": [
            "<class 'pandas.core.frame.DataFrame'>\n",
            "Index: 91490 entries, 0 to 46463\n",
            "Data columns (total 7 columns):\n",
            " #   Column        Non-Null Count  Dtype         \n",
            "---  ------        --------------  -----         \n",
            " 0   MMSI          91490 non-null  int64         \n",
            " 1   BaseDateTime  91490 non-null  datetime64[ns]\n",
            " 2   LAT           91490 non-null  float64       \n",
            " 3   LON           91490 non-null  float64       \n",
            " 4   VesselType    91490 non-null  float64       \n",
            " 5   Status        91490 non-null  float64       \n",
            " 6   Port Name     91490 non-null  object        \n",
            "dtypes: datetime64[ns](1), float64(4), int64(1), object(1)\n",
            "memory usage: 5.6+ MB\n",
            "None\n"
          ]
        }
      ]
    },
    {
      "cell_type": "code",
      "source": [
        "anchored_ships = vessel_data[vessel_data[\"Status\"] == 5]\n",
        "anchored_ships = vessel_data[vessel_data[\"Status\"] == 1]\n",
        "print(anchored_ships.head())\n",
        "\n"
      ],
      "metadata": {
        "id": "FCEn7xcWSdNd",
        "outputId": "b3e64f18-9bb8-426d-ed21-0eb5a318b806",
        "colab": {
          "base_uri": "https://localhost:8080/"
        }
      },
      "execution_count": null,
      "outputs": [
        {
          "output_type": "stream",
          "name": "stdout",
          "text": [
            "         MMSI        BaseDateTime       LAT        LON  VesselType  Status  \\\n",
            "4   210057000 2020-01-01 00:02:47  25.80055  -78.09210        70.0     1.0   \n",
            "5   210159000 2020-01-01 00:06:25  25.80604  -78.05797        70.0     1.0   \n",
            "8   211327410 2020-01-01 00:01:18  37.75225 -122.35440        70.0     1.0   \n",
            "9   212122000 2020-01-01 00:00:55  29.99707  -90.43610        70.0     1.0   \n",
            "11  212498000 2020-01-01 00:00:48  30.03903  -90.68842        70.0     1.0   \n",
            "\n",
            "      Port Name  \n",
            "4       Unknown  \n",
            "5       Unknown  \n",
            "8       Oakland  \n",
            "9   New Orleans  \n",
            "11  New Orleans  \n"
          ]
        }
      ]
    },
    {
      "cell_type": "code",
      "source": [
        "# Drop rows where 'Port Name' is 'Unknown'\n",
        "cleaned_df = first_arrivals_df[first_arrivals_df['Port Name'] != 'Unknown'].copy()\n",
        "\n",
        "# Define the path to save the cleaned CSV\n",
        "cleaned_csv_path = \"/content/drive/My Drive/SIADS_593/assets/cleaned_data/first_arrivals_cleaned.csv\"\n",
        "\n",
        "# Create the directory if it doesn't exist\n",
        "os.makedirs(os.path.dirname(cleaned_csv_path), exist_ok=True)\n",
        "\n",
        "# Save the cleaned DataFrame to a new CSV file\n",
        "cleaned_df.to_csv(cleaned_csv_path, index=False)\n",
        "\n",
        "print(f\"Cleaned data saved to: {cleaned_csv_path}\")\n",
        "print(\"Shape of the cleaned data:\", cleaned_df.shape)"
      ],
      "metadata": {
        "id": "OKaQ67H8ivy8",
        "outputId": "edb99aee-33da-4155-f6c9-cf5d4737b60e",
        "colab": {
          "base_uri": "https://localhost:8080/"
        }
      },
      "execution_count": null,
      "outputs": [
        {
          "output_type": "stream",
          "name": "stdout",
          "text": [
            "Cleaned data saved to: /content/drive/My Drive/SIADS_593/assets/cleaned_data/first_arrivals_cleaned.csv\n",
            "Shape of the cleaned data: (790, 7)\n"
          ]
        }
      ]
    },
    {
      "cell_type": "code",
      "source": [
        "print(f\"Number of anchored ships: {len(anchored_ships)}\")\n"
      ],
      "metadata": {
        "id": "N4OUhSxTakMN",
        "outputId": "3d400b06-6154-4b4f-dd57-4fa3e9b624cd",
        "colab": {
          "base_uri": "https://localhost:8080/"
        }
      },
      "execution_count": null,
      "outputs": [
        {
          "output_type": "stream",
          "name": "stdout",
          "text": [
            "Number of anchored ships: 37053\n"
          ]
        }
      ]
    },
    {
      "cell_type": "code",
      "source": [
        "anchored_by_port = anchored_ships[\"Port Name\"].value_counts()\n",
        "print(anchored_by_port)\n"
      ],
      "metadata": {
        "id": "AYAh6sSvati8",
        "outputId": "a3e0b10c-1b55-4455-d0cd-eedc3aa7e189",
        "colab": {
          "base_uri": "https://localhost:8080/"
        }
      },
      "execution_count": null,
      "outputs": [
        {
          "output_type": "stream",
          "name": "stdout",
          "text": [
            "Port Name\n",
            "Unknown            8886\n",
            "Houston            7603\n",
            "New Orleans        5766\n",
            "Los Angeles        2279\n",
            "Oakland            1711\n",
            "Corpus Christi     1521\n",
            "Mobile             1295\n",
            "Port Arthur        1250\n",
            "Savannah           1140\n",
            "New York            854\n",
            "Seattle             752\n",
            "San Diego           568\n",
            "Norfolk             486\n",
            "Philadelphia        478\n",
            "Boston              446\n",
            "Miami               389\n",
            "Baton Rouge         341\n",
            "Portland            275\n",
            "Tampa               229\n",
            "Charleston          228\n",
            "Jacksonville        214\n",
            "Tacoma              168\n",
            "Honolulu            129\n",
            "Baltimore            34\n",
            "Wilmington (DE)      11\n",
            "Name: count, dtype: int64\n"
          ]
        }
      ]
    },
    {
      "cell_type": "code",
      "source": [
        "#Start Check for duplicates"
      ],
      "metadata": {
        "id": "9qLcOFPYN_8E"
      },
      "execution_count": null,
      "outputs": []
    },
    {
      "cell_type": "code",
      "source": [
        "# Checking for duplicate MMSi S (unique ship IDuigd)\n",
        "first_arrivals = extract_first_arrivals_anywhere(vessel_data)\n",
        "\n",
        "# Check for duplicates in MMSI\n",
        "duplicates = first_arrivals[first_arrivals.duplicated(\"MMSI\", keep=False)]\n",
        "\n",
        "print(f\"Number of duplicate MMSI entries: {len(duplicates)}\")\n",
        "if not duplicates.empty:\n",
        "    print(duplicates)\n"
      ],
      "metadata": {
        "id": "54_KOe_WNgcX",
        "outputId": "7dba2d8f-43e9-46b5-abf9-6a87af6a8f66",
        "colab": {
          "base_uri": "https://localhost:8080/"
        }
      },
      "execution_count": null,
      "outputs": [
        {
          "output_type": "stream",
          "name": "stdout",
          "text": [
            "Number of duplicate MMSI entries: 0\n"
          ]
        }
      ]
    },
    {
      "cell_type": "code",
      "source": [
        "# Check for full row duplicates\n",
        "full_dupes = first_arrivals[first_arrivals.duplicated(keep=False)]\n",
        "print(f\"Duplicate full rows: {len(full_dupes)}\")\n",
        "\n",
        "# Optional: check that each MMSI is only listed once\n",
        "assert first_arrivals[\"MMSI\"].is_unique, \"⚠️ Duplicate MMSIs found!\"\n"
      ],
      "metadata": {
        "id": "7631vXx2N50k",
        "outputId": "e942f051-a149-4511-9904-5125a97e34ef",
        "colab": {
          "base_uri": "https://localhost:8080/"
        }
      },
      "execution_count": null,
      "outputs": [
        {
          "output_type": "stream",
          "name": "stdout",
          "text": [
            "Duplicate full rows: 0\n"
          ]
        }
      ]
    },
    {
      "cell_type": "code",
      "source": [
        "mmsi_counts = first_arrivals[\"MMSI\"].value_counts()\n",
        "print(mmsi_counts.head())\n",
        "\n",
        "# Show MMSIs that appear more than once\n",
        "print(\"MMSIs with multiple entries:\")\n",
        "print(mmsi_counts[mmsi_counts > 1])\n"
      ],
      "metadata": {
        "id": "9-H8loIDN9oo",
        "outputId": "ef4f2824-e72a-4729-8aba-b8e2227df0a2",
        "colab": {
          "base_uri": "https://localhost:8080/"
        }
      },
      "execution_count": null,
      "outputs": [
        {
          "output_type": "stream",
          "name": "stdout",
          "text": [
            "MMSI\n",
            "775093000    1\n",
            "205700000    1\n",
            "205706000    1\n",
            "209017000    1\n",
            "209393000    1\n",
            "Name: count, dtype: int64\n",
            "MMSIs with multiple entries:\n",
            "Series([], Name: count, dtype: int64)\n"
          ]
        }
      ]
    },
    {
      "cell_type": "code",
      "source": [
        "#End of Check for Duplicates"
      ],
      "metadata": {
        "id": "wNPTjgs-N-rJ"
      },
      "execution_count": null,
      "outputs": []
    },
    {
      "cell_type": "code",
      "source": [
        "import plotly.express as px\n",
        "\n",
        "# Sample 500 points to make rendering faster, or skip .sample() to show all\n",
        "sample_df = first_arrivals_df.sample(n=500, random_state=42)\n",
        "\n",
        "fig = px.scatter_geo(\n",
        "    sample_df,\n",
        "    lat='LAT',\n",
        "    lon='LON',\n",
        "    color='Port Name',\n",
        "    hover_name='VesselType',\n",
        "    title='First Arrivals: Vessel Locations by Port',\n",
        "    projection=\"natural earth\"\n",
        ")\n",
        "\n",
        "fig.update_layout(geo=dict(\n",
        "    scope='world',\n",
        "    showland=True,\n",
        "    landcolor=\"lightgray\",\n",
        "))\n",
        "\n",
        "fig.show()\n"
      ],
      "metadata": {
        "colab": {
          "base_uri": "https://localhost:8080/",
          "height": 542
        },
        "id": "ZEnoQwtaaPJO",
        "outputId": "85b714a5-6303-4496-8994-3c43871bb5e6"
      },
      "execution_count": null,
      "outputs": [
        {
          "output_type": "display_data",
          "data": {
            "text/html": [
              "<html>\n",
              "<head><meta charset=\"utf-8\" /></head>\n",
              "<body>\n",
              "    <div>            <script src=\"https://cdnjs.cloudflare.com/ajax/libs/mathjax/2.7.5/MathJax.js?config=TeX-AMS-MML_SVG\"></script><script type=\"text/javascript\">if (window.MathJax && window.MathJax.Hub && window.MathJax.Hub.Config) {window.MathJax.Hub.Config({SVG: {font: \"STIX-Web\"}});}</script>                <script type=\"text/javascript\">window.PlotlyConfig = {MathJaxConfig: 'local'};</script>\n",
              "        <script charset=\"utf-8\" src=\"https://cdn.plot.ly/plotly-2.35.2.min.js\"></script>                <div id=\"e364dfe3-e790-4d2d-a829-766f2f3723f9\" class=\"plotly-graph-div\" style=\"height:525px; width:100%;\"></div>            <script type=\"text/javascript\">                                    window.PLOTLYENV=window.PLOTLYENV || {};                                    if (document.getElementById(\"e364dfe3-e790-4d2d-a829-766f2f3723f9\")) {                    Plotly.newPlot(                        \"e364dfe3-e790-4d2d-a829-766f2f3723f9\",                        [{\"geo\":\"geo\",\"hovertemplate\":\"\\u003cb\\u003e%{hovertext}\\u003c\\u002fb\\u003e\\u003cbr\\u003e\\u003cbr\\u003ePort Name=Houston\\u003cbr\\u003eLAT=%{lat}\\u003cbr\\u003eLON=%{lon}\\u003cextra\\u003e\\u003c\\u002fextra\\u003e\",\"hovertext\":[70.0,83.0,80.0,80.0,80.0,70.0,80.0,89.0,80.0,80.0,70.0,80.0,52.0,80.0,79.0,80.0,80.0,80.0,89.0,80.0,80.0,80.0,80.0,80.0,70.0,80.0,80.0,70.0,70.0,80.0,80.0,71.0,80.0,70.0,80.0,80.0,80.0,80.0,89.0,70.0,70.0,80.0,80.0,80.0,80.0,70.0,70.0,80.0,80.0,80.0,70.0,80.0,80.0,80.0,70.0,80.0,80.0,70.0,70.0,80.0,70.0,80.0,70.0,80.0,80.0,70.0,80.0,80.0,80.0,80.0,70.0,80.0,70.0,70.0,80.0,80.0,80.0,80.0,80.0,70.0,70.0,80.0,80.0,70.0,80.0,70.0,80.0,70.0,80.0,70.0],\"lat\":[29.84768,29.26114,29.85064,29.72929,29.72545,29.68033,28.70736,28.66032,29.74179,29.20126,28.93893,29.17968,29.32086,29.26303,29.86253,29.82243,28.66023,29.73647,29.74498,29.21233,28.70534,29.74481,28.85872,29.26885,29.61266,29.23418,28.70583,29.74843,29.68024,29.73758,29.75297,29.32745,29.31447,29.71808,29.1193,29.31277,29.74467,29.32796,29.24827,29.30833,29.35109,29.60856,29.73257,29.68241,30.01417,29.6805,29.29821,29.68508,29.0973,29.84592,29.74721,29.37786,28.79881,29.85887,29.3119,28.84858,29.60867,29.10022,29.68217,28.62094,29.61247,29.3385,29.28407,29.21128,29.21131,29.98209,28.81112,29.3499,29.27182,29.74713,29.24798,29.74038,29.73202,29.61272,28.83565,29.60885,29.74096,28.94001,29.60884,29.34505,28.93984,29.15553,29.30967,29.11401,29.31762,29.74918,29.7492,29.30674,29.61198,29.32442],\"legendgroup\":\"Houston\",\"lon\":[-93.96962,-94.62782,-93.97133,-95.02215,-95.22,-95.00587,-94.67208,-94.6544,-95.20461,-94.57345,-95.34208,-94.57925,-94.78452,-94.51304,-93.9368,-93.95598,-94.58932,-95.12875,-95.09654,-94.59078,-94.57452,-95.09979,-95.16915,-94.46207,-95.00461,-94.59713,-94.57433,-95.10988,-95.00573,-95.1293,-95.09692,-94.57654,-94.58925,-95.2439,-94.68819,-94.78835,-95.09769,-94.53928,-94.60245,-94.80779,-94.54426,-95.01898,-95.12712,-95.00901,-93.99303,-95.00298,-94.55526,-95.00958,-94.63012,-93.96837,-95.17848,-94.89213,-95.10311,-93.94065,-94.56853,-95.14938,-95.01887,-94.67606,-94.99233,-94.26271,-95.00898,-94.52726,-94.524,-94.61367,-94.69701,-93.88821,-94.37893,-94.73169,-94.47928,-95.09788,-94.48088,-95.20648,-95.27597,-94.99977,-95.15147,-95.02015,-95.16315,-95.30886,-95.02343,-94.55907,-95.34041,-94.55187,-94.54777,-94.53241,-94.52396,-95.16792,-95.1027,-94.50058,-95.02608,-94.54587],\"marker\":{\"color\":\"#636efa\",\"symbol\":\"circle\"},\"mode\":\"markers\",\"name\":\"Houston\",\"showlegend\":true,\"type\":\"scattergeo\"},{\"geo\":\"geo\",\"hovertemplate\":\"\\u003cb\\u003e%{hovertext}\\u003c\\u002fb\\u003e\\u003cbr\\u003e\\u003cbr\\u003ePort Name=Baltimore\\u003cbr\\u003eLAT=%{lat}\\u003cbr\\u003eLON=%{lon}\\u003cextra\\u003e\\u003c\\u002fextra\\u003e\",\"hovertext\":[70.0,70.0,70.0,80.0,70.0,70.0,70.0],\"lat\":[39.71902,39.26873,39.26753,39.27478,39.2399,39.27376,39.26033],\"legendgroup\":\"Baltimore\",\"lon\":[-75.52303,-76.57092,-76.58205,-76.58846,-76.53054,-76.58626,-76.55427],\"marker\":{\"color\":\"#EF553B\",\"symbol\":\"circle\"},\"mode\":\"markers\",\"name\":\"Baltimore\",\"showlegend\":true,\"type\":\"scattergeo\"},{\"geo\":\"geo\",\"hovertemplate\":\"\\u003cb\\u003e%{hovertext}\\u003c\\u002fb\\u003e\\u003cbr\\u003e\\u003cbr\\u003ePort Name=Unknown\\u003cbr\\u003eLAT=%{lat}\\u003cbr\\u003eLON=%{lon}\\u003cextra\\u003e\\u003c\\u002fextra\\u003e\",\"hovertext\":[70.0,30.0,80.0,70.0,70.0,70.0,30.0,80.0,70.0,70.0,70.0,70.0,70.0,70.0,80.0,80.0,80.0,70.0,70.0,80.0,80.0,70.0,70.0,70.0,80.0,70.0,80.0,70.0,80.0,70.0,80.0,80.0,70.0,70.0,70.0,70.0,80.0,70.0,70.0,70.0,70.0,70.0,70.0,80.0,52.0,70.0,80.0,30.0,70.0,30.0,30.0,80.0,70.0,70.0,70.0,70.0,70.0,70.0,80.0,70.0,70.0,80.0,70.0,70.0,70.0,80.0,30.0,70.0,70.0,70.0,70.0,30.0,70.0,70.0,70.0,80.0,70.0,70.0,70.0,70.0,70.0,70.0,70.0,80.0,80.0,70.0,70.0,70.0,70.0,70.0,80.0,80.0,70.0,70.0,70.0,70.0,30.0,70.0,70.0,80.0,80.0,70.0,30.0,70.0,70.0,70.0,70.0,70.0,70.0,80.0,70.0,80.0,70.0,70.0,80.0,81.0,80.0,80.0,70.0,30.0,80.0,70.0,80.0,70.0,70.0,52.0,70.0,70.0,70.0,80.0,70.0,70.0,80.0,70.0,70.0,70.0,80.0,70.0,70.0,70.0,80.0,70.0,80.0,70.0,80.0,80.0,70.0,70.0,80.0,70.0,70.0,70.0,52.0,70.0,70.0,52.0,70.0,70.0,80.0,70.0,30.0,70.0,30.0,80.0,80.0,30.0,70.0,80.0,70.0,70.0,70.0,80.0,30.0,80.0,70.0,70.0,70.0,70.0,70.0,70.0,80.0,70.0,70.0,70.0,30.0,80.0,30.0,80.0,80.0,80.0,52.0,70.0,70.0,80.0,80.0,70.0,30.0,80.0,80.0,70.0,70.0,80.0,80.0,80.0],\"lat\":[49.18615,51.70673,27.81442,26.53042,26.52429,26.53027,29.87578,29.56834,30.36459,27.64107,27.6267,43.64248,17.659,49.29913,59.61814,27.85831,27.82102,28.87644,18.46282,30.16775,27.81224,49.14419,18.45646,29.40678,27.84115,45.63283,28.98334,49.29689,30.72716,49.28659,27.82926,27.66525,34.63271,30.33696,30.08585,49.30089,30.17836,13.45855,45.98398,30.70539,13.46046,43.2279,43.27787,48.84019,30.40122,54.23306,30.2767,41.69855,30.5295,29.87131,29.82281,27.81909,47.28247,28.49409,23.13209,49.30022,45.63352,18.27381,60.68353,26.52759,26.54304,45.5491,49.28896,53.91203,18.43373,27.81635,29.82208,43.27081,30.43308,18.43562,25.83002,29.82186,46.1244,41.66732,41.75463,18.4197,45.01364,30.44182,49.01698,46.01349,28.8789,29.6014,43.64083,30.22873,30.48,30.18271,30.08158,18.40936,30.11605,47.28168,26.61251,18.24412,45.63367,49.30178,45.49572,30.07153,53.90193,34.65443,27.62759,27.81992,54.21084,30.69867,55.05519,49.30517,49.30445,53.94808,27.633,18.40725,46.57967,30.2179,25.17218,60.64354,30.19135,49.3003,28.87713,17.99395,43.6543,25.95682,49.18033,29.82227,48.86113,18.46288,27.81207,30.65732,13.4604,59.44879,54.31818,18.41851,28.89392,29.5867,27.82252,46.78033,29.42948,43.63379,49.30252,49.2894,41.03514,30.17607,49.29738,41.63645,17.96717,54.28907,38.40185,42.62631,27.92973,27.63356,54.19576,46.96406,29.62845,49.20306,28.8763,45.53193,27.8463,35.80098,45.06822,49.29019,42.70778,26.02607,42.71678,30.17604,54.86205,49.30865,29.82253,27.76932,28.64531,46.18843,30.65381,30.1042,30.39125,27.80682,30.19307,29.41912,55.05402,29.43025,34.19398,49.30111,46.19901,28.87567,49.30454,13.46042,26.51939,54.13355,28.40905,46.58037,44.66334,29.5942,53.87831,30.19785,29.41553,18.05345,45.60737,18.44811,18.42348,28.38894,38.52998,49.1862,53.87875,45.63132,30.34225,25.80604,30.6795,28.86287,28.86332,28.87189],\"legendgroup\":\"Unknown\",\"lon\":[-123.9035,-178.22307,-97.41148,-78.76322,-78.76902,-78.75621,-92.12994,-93.72254,-88.56687,-83.06264,-83.05778,-79.36748,-64.75032,-123.19233,-151.38001,-96.93998,-97.2064,-89.33204,-66.10297,-88.48179,-97.40416,-123.03373,-69.88123,-93.6405,-96.95143,-122.73767,-93.24236,-123.2585,-88.04326,-123.21474,-96.91003,-96.42388,-76.66462,-88.50925,-88.07365,-123.18374,-93.31716,144.63608,-122.83505,-88.03645,144.6687,-79.21773,-79.79657,-122.72182,-87.21063,-130.33671,-91.17027,-83.44856,-88.10724,-92.13016,-92.13183,-97.20267,-91.26223,-94.52133,-82.34524,-123.23032,-122.70113,-64.92333,-151.39986,-78.76593,-77.065,-73.52711,-123.07946,-166.50914,-66.09757,-97.42348,-92.13272,-79.79966,-91.20057,-66.11011,-77.96145,-92.13213,-122.98843,-83.49787,-81.28031,-69.31432,-66.75584,-91.19964,-123.1538,-122.8593,-89.32269,-93.26145,-70.2785,-93.25319,-91.19433,-85.73285,-88.0322,-64.6065,-88.56973,-91.26306,-78.22837,-64.97927,-122.701,-123.08224,-73.54538,-88.08391,-166.52902,-87.06617,-82.56321,-97.48033,-130.52552,-88.03833,-162.3276,-123.10467,-123.06705,-166.61433,-82.55956,-64.6048,-87.38814,-93.24998,-78.02837,-146.61067,-93.29871,-123.07342,-89.36438,-66.76541,-70.24055,-97.38817,-122.91852,-92.13328,-122.75909,-66.10328,-97.4073,-88.03243,144.67075,-135.32509,-130.34972,-64.60502,-89.33267,-93.24244,-96.97705,-92.0365,-93.62748,-79.3486,-123.07953,-123.09593,-72.66872,-85.72969,-123.03458,-87.14765,-66.62138,-130.36102,-74.77217,-73.75546,-82.44642,-82.55888,-130.52086,-123.85323,-93.36995,-123.91113,-89.3745,-73.54098,-97.22529,-74.65578,-83.40614,-123.06055,-80.21351,-97.01501,-80.1489,-85.7327,-163.41069,-123.11685,-92.13247,-96.86267,-96.55318,-123.86226,-88.03267,-88.56046,-91.21776,-82.41047,-93.296,-93.62142,-162.32636,-93.64013,-77.95583,-123.18268,-123.80859,-89.3815,-123.20306,144.67127,-78.80488,-130.6178,-80.60518,-87.38882,-124.10306,-93.75228,-166.55037,-91.10728,-93.62532,-65.83561,-122.68403,-69.31028,-70.0196,-94.63495,-74.68192,-122.92137,-166.55189,-73.49152,-88.50824,-78.05797,-88.03328,-89.37892,-89.33886,-89.3181],\"marker\":{\"color\":\"#00cc96\",\"symbol\":\"circle\"},\"mode\":\"markers\",\"name\":\"Unknown\",\"showlegend\":true,\"type\":\"scattergeo\"},{\"geo\":\"geo\",\"hovertemplate\":\"\\u003cb\\u003e%{hovertext}\\u003c\\u002fb\\u003e\\u003cbr\\u003e\\u003cbr\\u003ePort Name=New York\\u003cbr\\u003eLAT=%{lat}\\u003cbr\\u003eLON=%{lon}\\u003cextra\\u003e\\u003c\\u002fextra\\u003e\",\"hovertext\":[80.0,70.0,70.0,80.0,70.0,79.0,80.0,80.0,80.0,70.0,80.0,80.0,70.0,80.0,80.0,80.0],\"lat\":[40.65225,40.49077,40.69244,40.58318,40.67866,40.69065,40.63835,40.48494,40.51232,40.51465,40.49452,40.63835,40.66455,39.9778,40.63905,40.63105],\"legendgroup\":\"New York\",\"lon\":[-74.08715,-73.62393,-74.13881,-74.20958,-74.14611,-74.1347,-74.0647,-73.67323,-73.65487,-73.61882,-73.6581,-74.06448,-74.14493,-75.08555,-74.1961,-74.06221],\"marker\":{\"color\":\"#ab63fa\",\"symbol\":\"circle\"},\"mode\":\"markers\",\"name\":\"New York\",\"showlegend\":true,\"type\":\"scattergeo\"},{\"geo\":\"geo\",\"hovertemplate\":\"\\u003cb\\u003e%{hovertext}\\u003c\\u002fb\\u003e\\u003cbr\\u003e\\u003cbr\\u003ePort Name=New Orleans\\u003cbr\\u003eLAT=%{lat}\\u003cbr\\u003eLON=%{lon}\\u003cextra\\u003e\\u003c\\u002fextra\\u003e\",\"hovertext\":[70.0,70.0,70.0,70.0,80.0,70.0,79.0,80.0,70.0,70.0,70.0,80.0,70.0,80.0,80.0,70.0,70.0,80.0,70.0,70.0,30.0,70.0,70.0,80.0,80.0,70.0,80.0,70.0,70.0,70.0,70.0,70.0,70.0,80.0,70.0,70.0,70.0,30.0,70.0,70.0,70.0,70.0,70.0,70.0,70.0,70.0],\"lat\":[30.04156,30.03903,30.07814,29.87673,30.11172,30.06903,29.54587,29.95413,29.9644,29.93937,29.58846,29.77449,29.88162,30.17635,29.8822,29.89608,30.05227,29.92497,29.96626,29.54558,29.37824,29.82664,28.91467,29.968,30.05298,29.58318,29.9364,29.89195,29.87873,29.94025,29.87279,29.91157,30.03437,28.90413,29.91155,29.62829,29.93712,29.37867,29.55634,29.58417,29.99707,29.93799,30.00706,29.93685,30.06448,30.34998],\"legendgroup\":\"New Orleans\",\"lon\":[-90.68533,-90.68842,-90.9036,-89.94363,-90.91245,-90.89695,-90.70168,-90.30351,-90.28184,-90.35635,-89.82654,-90.02535,-89.90612,-91.00677,-89.9561,-89.90987,-90.66333,-89.9464,-90.27477,-89.76887,-90.25897,-90.00048,-89.35733,-90.26383,-90.64783,-89.81718,-90.32957,-89.9091,-89.94732,-90.36273,-89.93448,-90.10848,-90.69497,-89.32541,-90.10978,-89.9125,-90.14195,-90.259,-89.77744,-89.81983,-90.4361,-90.3504,-90.83044,-89.99983,-90.87478,-89.0884],\"marker\":{\"color\":\"#FFA15A\",\"symbol\":\"circle\"},\"mode\":\"markers\",\"name\":\"New Orleans\",\"showlegend\":true,\"type\":\"scattergeo\"},{\"geo\":\"geo\",\"hovertemplate\":\"\\u003cb\\u003e%{hovertext}\\u003c\\u002fb\\u003e\\u003cbr\\u003e\\u003cbr\\u003ePort Name=Miami\\u003cbr\\u003eLAT=%{lat}\\u003cbr\\u003eLON=%{lon}\\u003cextra\\u003e\\u003c\\u002fextra\\u003e\",\"hovertext\":[70.0,70.0,70.0,70.0,70.0,80.0,70.0,80.0,70.0,70.0,70.0,70.0,70.0,79.0,70.0,70.0,70.0,70.0,70.0,30.0],\"lat\":[25.77744,26.07289,26.06676,26.09067,26.12316,26.09292,26.76904,26.09297,25.79438,26.07214,25.76701,26.07048,26.76796,25.76627,26.09158,26.0905,26.06963,25.7962,26.76992,26.71424],\"legendgroup\":\"Miami\",\"lon\":[-80.09276,-80.11756,-80.11579,-80.1215,-80.07364,-80.12306,-80.05033,-80.12187,-80.24246,-80.11527,-80.16267,-80.11539,-80.05249,-80.1588,-80.12,-79.11225,-80.11544,-80.24556,-80.0528,-80.0482],\"marker\":{\"color\":\"#19d3f3\",\"symbol\":\"circle\"},\"mode\":\"markers\",\"name\":\"Miami\",\"showlegend\":true,\"type\":\"scattergeo\"},{\"geo\":\"geo\",\"hovertemplate\":\"\\u003cb\\u003e%{hovertext}\\u003c\\u002fb\\u003e\\u003cbr\\u003e\\u003cbr\\u003ePort Name=Seattle\\u003cbr\\u003eLAT=%{lat}\\u003cbr\\u003eLON=%{lon}\\u003cextra\\u003e\\u003c\\u002fextra\\u003e\",\"hovertext\":[70.0,30.0,70.0,30.0,30.0,30.0,70.0,70.0,89.0,70.0,80.0,70.0,70.0,80.0,70.0,30.0,52.0],\"lat\":[48.35312,47.6602,47.26921,47.28283,47.63212,47.9219,47.65719,48.35036,48.62344,48.60477,47.65813,47.58313,47.25436,48.51693,47.27537,47.65934,48.58441],\"legendgroup\":\"Seattle\",\"lon\":[-123.33217,-122.38093,-122.4186,-122.40768,-122.38378,-122.6859,-122.37465,-123.35939,-122.57078,-122.54609,-122.37809,-122.34581,-122.37876,-122.57157,-122.44322,-122.38143,-122.62012],\"marker\":{\"color\":\"#FF6692\",\"symbol\":\"circle\"},\"mode\":\"markers\",\"name\":\"Seattle\",\"showlegend\":true,\"type\":\"scattergeo\"},{\"geo\":\"geo\",\"hovertemplate\":\"\\u003cb\\u003e%{hovertext}\\u003c\\u002fb\\u003e\\u003cbr\\u003e\\u003cbr\\u003ePort Name=Savannah\\u003cbr\\u003eLAT=%{lat}\\u003cbr\\u003eLON=%{lon}\\u003cextra\\u003e\\u003c\\u002fextra\\u003e\",\"hovertext\":[70.0,70.0,70.0,70.0,70.0,70.0,70.0,70.0,70.0,70.0,70.0,70.0,70.0,70.0,70.0],\"lat\":[32.01665,32.85026,32.79282,31.04885,31.05092,32.13891,32.82965,32.90292,31.99889,31.96578,32.80016,32.86172,32.85047,32.14356,32.9007],\"legendgroup\":\"Savannah\",\"lon\":[-80.67113,-79.94029,-79.9256,-81.15722,-81.13315,-81.14308,-79.89401,-79.95835,-80.67116,-80.61677,-79.92947,-79.96297,-79.94039,-81.14266,-79.96058],\"marker\":{\"color\":\"#B6E880\",\"symbol\":\"circle\"},\"mode\":\"markers\",\"name\":\"Savannah\",\"showlegend\":true,\"type\":\"scattergeo\"},{\"geo\":\"geo\",\"hovertemplate\":\"\\u003cb\\u003e%{hovertext}\\u003c\\u002fb\\u003e\\u003cbr\\u003e\\u003cbr\\u003ePort Name=Norfolk\\u003cbr\\u003eLAT=%{lat}\\u003cbr\\u003eLON=%{lon}\\u003cextra\\u003e\\u003c\\u002fextra\\u003e\",\"hovertext\":[70.0,70.0,70.0,70.0,70.0,80.0,70.0,80.0,70.0,70.0,70.0,70.0,70.0,70.0,30.0,52.0,70.0],\"lat\":[37.19305,36.76029,36.858,36.96245,36.8538,36.96252,36.96286,36.94634,36.85673,36.81547,36.96703,36.97042,36.96162,36.75688,37.82906,36.83744,36.86574],\"legendgroup\":\"Norfolk\",\"lon\":[-76.10492,-75.6406,-76.32223,-76.42363,-76.31122,-76.36162,-76.41979,-76.33203,-75.67692,-76.28989,-76.42949,-76.43302,-76.35953,-75.61375,-76.27898,-76.27092,-76.31607],\"marker\":{\"color\":\"#FF97FF\",\"symbol\":\"circle\"},\"mode\":\"markers\",\"name\":\"Norfolk\",\"showlegend\":true,\"type\":\"scattergeo\"},{\"geo\":\"geo\",\"hovertemplate\":\"\\u003cb\\u003e%{hovertext}\\u003c\\u002fb\\u003e\\u003cbr\\u003e\\u003cbr\\u003ePort Name=Oakland\\u003cbr\\u003eLAT=%{lat}\\u003cbr\\u003eLON=%{lon}\\u003cextra\\u003e\\u003c\\u002fextra\\u003e\",\"hovertext\":[70.0,70.0,70.0,80.0,70.0,80.0,70.0,80.0,80.0,80.0,70.0,80.0,70.0,70.0,70.0,70.0],\"lat\":[37.77385,37.81223,37.75937,38.04945,37.76288,37.73129,37.81088,38.04503,37.75965,37.92723,37.7604,38.05697,37.76104,37.91953,37.77393,38.04283],\"legendgroup\":\"Oakland\",\"lon\":[-122.30263,-122.3211,-122.33898,-122.08986,-122.35708,-122.33768,-122.4181,-122.12857,-122.3471,-122.41543,-122.35497,-122.26087,-122.34882,-122.3673,-122.30555,-122.13243],\"marker\":{\"color\":\"#FECB52\",\"symbol\":\"circle\"},\"mode\":\"markers\",\"name\":\"Oakland\",\"showlegend\":true,\"type\":\"scattergeo\"},{\"geo\":\"geo\",\"hovertemplate\":\"\\u003cb\\u003e%{hovertext}\\u003c\\u002fb\\u003e\\u003cbr\\u003e\\u003cbr\\u003ePort Name=Los Angeles\\u003cbr\\u003eLAT=%{lat}\\u003cbr\\u003eLON=%{lon}\\u003cextra\\u003e\\u003c\\u002fextra\\u003e\",\"hovertext\":[70.0,71.0,70.0,80.0,70.0,70.0,80.0,80.0,80.0,70.0,70.0,80.0,70.0,70.0,70.0,70.0,70.0,80.0,80.0,70.0,80.0,70.0,70.0,70.0,70.0,70.0,70.0,70.0,70.0,70.0,70.0],\"lat\":[33.7468,33.75768,34.14781,33.70667,33.75677,33.76359,33.77058,33.73131,33.70527,33.74327,33.76168,33.72572,32.63932,33.75973,32.69947,33.73912,33.7689,33.69866,33.91125,33.74967,33.75642,33.73095,33.72835,33.74406,33.74076,33.72877,33.76895,33.72814,33.76902,33.74533,33.74347],\"legendgroup\":\"Los Angeles\",\"lon\":[-118.20678,-118.25981,-119.20699,-118.14233,-118.21413,-118.27232,-118.22455,-118.21038,-118.13125,-118.2738,-118.25234,-118.21758,-117.18185,-118.21421,-117.1596,-118.21609,-118.25189,-118.21592,-118.4557,-118.20893,-118.21819,-118.25212,-118.15533,-118.2267,-118.19739,-118.15838,-118.21716,-118.17575,-118.219,-118.22432,-118.2024],\"marker\":{\"color\":\"#636efa\",\"symbol\":\"circle\"},\"mode\":\"markers\",\"name\":\"Los Angeles\",\"showlegend\":true,\"type\":\"scattergeo\"},{\"geo\":\"geo\",\"hovertemplate\":\"\\u003cb\\u003e%{hovertext}\\u003c\\u002fb\\u003e\\u003cbr\\u003e\\u003cbr\\u003ePort Name=San Diego\\u003cbr\\u003eLAT=%{lat}\\u003cbr\\u003eLON=%{lon}\\u003cextra\\u003e\\u003c\\u002fextra\\u003e\",\"hovertext\":[80.0,80.0,80.0],\"lat\":[32.32107,32.32553,32.33358],\"legendgroup\":\"San Diego\",\"lon\":[-117.09939,-117.12595,-117.11176],\"marker\":{\"color\":\"#EF553B\",\"symbol\":\"circle\"},\"mode\":\"markers\",\"name\":\"San Diego\",\"showlegend\":true,\"type\":\"scattergeo\"},{\"geo\":\"geo\",\"hovertemplate\":\"\\u003cb\\u003e%{hovertext}\\u003c\\u002fb\\u003e\\u003cbr\\u003e\\u003cbr\\u003ePort Name=Philadelphia\\u003cbr\\u003eLAT=%{lat}\\u003cbr\\u003eLON=%{lon}\\u003cextra\\u003e\\u003c\\u002fextra\\u003e\",\"hovertext\":[70.0,80.0,70.0],\"lat\":[39.90654,39.80679,39.93262],\"legendgroup\":\"Philadelphia\",\"lon\":[-75.12629,-75.41809,-75.1328],\"marker\":{\"color\":\"#00cc96\",\"symbol\":\"circle\"},\"mode\":\"markers\",\"name\":\"Philadelphia\",\"showlegend\":true,\"type\":\"scattergeo\"},{\"geo\":\"geo\",\"hovertemplate\":\"\\u003cb\\u003e%{hovertext}\\u003c\\u002fb\\u003e\\u003cbr\\u003e\\u003cbr\\u003ePort Name=Jacksonville\\u003cbr\\u003eLAT=%{lat}\\u003cbr\\u003eLON=%{lon}\\u003cextra\\u003e\\u003c\\u002fextra\\u003e\",\"hovertext\":[80.0,70.0,70.0],\"lat\":[30.35251,30.3968,30.3696],\"legendgroup\":\"Jacksonville\",\"lon\":[-81.62037,-81.54967,-81.62836],\"marker\":{\"color\":\"#ab63fa\",\"symbol\":\"circle\"},\"mode\":\"markers\",\"name\":\"Jacksonville\",\"showlegend\":true,\"type\":\"scattergeo\"},{\"geo\":\"geo\",\"hovertemplate\":\"\\u003cb\\u003e%{hovertext}\\u003c\\u002fb\\u003e\\u003cbr\\u003e\\u003cbr\\u003ePort Name=Boston\\u003cbr\\u003eLAT=%{lat}\\u003cbr\\u003eLON=%{lon}\\u003cextra\\u003e\\u003c\\u002fextra\\u003e\",\"hovertext\":[80.0,70.0,30.0,80.0,52.0,70.0,80.0,70.0],\"lat\":[42.99267,41.80807,42.61518,41.8113,43.07905,42.34536,41.8013,42.38428],\"legendgroup\":\"Boston\",\"lon\":[-70.67005,-71.3989,-70.65418,-71.39493,-70.73939,-71.02955,-71.39579,-71.05168],\"marker\":{\"color\":\"#FFA15A\",\"symbol\":\"circle\"},\"mode\":\"markers\",\"name\":\"Boston\",\"showlegend\":true,\"type\":\"scattergeo\"},{\"geo\":\"geo\",\"hovertemplate\":\"\\u003cb\\u003e%{hovertext}\\u003c\\u002fb\\u003e\\u003cbr\\u003e\\u003cbr\\u003ePort Name=Charleston\\u003cbr\\u003eLAT=%{lat}\\u003cbr\\u003eLON=%{lon}\\u003cextra\\u003e\\u003c\\u002fextra\\u003e\",\"hovertext\":[79.0],\"lat\":[32.62912],\"legendgroup\":\"Charleston\",\"lon\":[-79.52267],\"marker\":{\"color\":\"#19d3f3\",\"symbol\":\"circle\"},\"mode\":\"markers\",\"name\":\"Charleston\",\"showlegend\":true,\"type\":\"scattergeo\"},{\"geo\":\"geo\",\"hovertemplate\":\"\\u003cb\\u003e%{hovertext}\\u003c\\u002fb\\u003e\\u003cbr\\u003e\\u003cbr\\u003ePort Name=Anchorage\\u003cbr\\u003eLAT=%{lat}\\u003cbr\\u003eLON=%{lon}\\u003cextra\\u003e\\u003c\\u002fextra\\u003e\",\"hovertext\":[70.0,70.0],\"lat\":[60.11826,61.24115],\"legendgroup\":\"Anchorage\",\"lon\":[-149.42515,-149.88809],\"marker\":{\"color\":\"#FF6692\",\"symbol\":\"circle\"},\"mode\":\"markers\",\"name\":\"Anchorage\",\"showlegend\":true,\"type\":\"scattergeo\"},{\"geo\":\"geo\",\"hovertemplate\":\"\\u003cb\\u003e%{hovertext}\\u003c\\u002fb\\u003e\\u003cbr\\u003e\\u003cbr\\u003ePort Name=Honolulu\\u003cbr\\u003eLAT=%{lat}\\u003cbr\\u003eLON=%{lon}\\u003cextra\\u003e\\u003c\\u002fextra\\u003e\",\"hovertext\":[80.0],\"lat\":[21.28583],\"legendgroup\":\"Honolulu\",\"lon\":[-157.91638],\"marker\":{\"color\":\"#B6E880\",\"symbol\":\"circle\"},\"mode\":\"markers\",\"name\":\"Honolulu\",\"showlegend\":true,\"type\":\"scattergeo\"}],                        {\"template\":{\"data\":{\"histogram2dcontour\":[{\"type\":\"histogram2dcontour\",\"colorbar\":{\"outlinewidth\":0,\"ticks\":\"\"},\"colorscale\":[[0.0,\"#0d0887\"],[0.1111111111111111,\"#46039f\"],[0.2222222222222222,\"#7201a8\"],[0.3333333333333333,\"#9c179e\"],[0.4444444444444444,\"#bd3786\"],[0.5555555555555556,\"#d8576b\"],[0.6666666666666666,\"#ed7953\"],[0.7777777777777778,\"#fb9f3a\"],[0.8888888888888888,\"#fdca26\"],[1.0,\"#f0f921\"]]}],\"choropleth\":[{\"type\":\"choropleth\",\"colorbar\":{\"outlinewidth\":0,\"ticks\":\"\"}}],\"histogram2d\":[{\"type\":\"histogram2d\",\"colorbar\":{\"outlinewidth\":0,\"ticks\":\"\"},\"colorscale\":[[0.0,\"#0d0887\"],[0.1111111111111111,\"#46039f\"],[0.2222222222222222,\"#7201a8\"],[0.3333333333333333,\"#9c179e\"],[0.4444444444444444,\"#bd3786\"],[0.5555555555555556,\"#d8576b\"],[0.6666666666666666,\"#ed7953\"],[0.7777777777777778,\"#fb9f3a\"],[0.8888888888888888,\"#fdca26\"],[1.0,\"#f0f921\"]]}],\"heatmap\":[{\"type\":\"heatmap\",\"colorbar\":{\"outlinewidth\":0,\"ticks\":\"\"},\"colorscale\":[[0.0,\"#0d0887\"],[0.1111111111111111,\"#46039f\"],[0.2222222222222222,\"#7201a8\"],[0.3333333333333333,\"#9c179e\"],[0.4444444444444444,\"#bd3786\"],[0.5555555555555556,\"#d8576b\"],[0.6666666666666666,\"#ed7953\"],[0.7777777777777778,\"#fb9f3a\"],[0.8888888888888888,\"#fdca26\"],[1.0,\"#f0f921\"]]}],\"heatmapgl\":[{\"type\":\"heatmapgl\",\"colorbar\":{\"outlinewidth\":0,\"ticks\":\"\"},\"colorscale\":[[0.0,\"#0d0887\"],[0.1111111111111111,\"#46039f\"],[0.2222222222222222,\"#7201a8\"],[0.3333333333333333,\"#9c179e\"],[0.4444444444444444,\"#bd3786\"],[0.5555555555555556,\"#d8576b\"],[0.6666666666666666,\"#ed7953\"],[0.7777777777777778,\"#fb9f3a\"],[0.8888888888888888,\"#fdca26\"],[1.0,\"#f0f921\"]]}],\"contourcarpet\":[{\"type\":\"contourcarpet\",\"colorbar\":{\"outlinewidth\":0,\"ticks\":\"\"}}],\"contour\":[{\"type\":\"contour\",\"colorbar\":{\"outlinewidth\":0,\"ticks\":\"\"},\"colorscale\":[[0.0,\"#0d0887\"],[0.1111111111111111,\"#46039f\"],[0.2222222222222222,\"#7201a8\"],[0.3333333333333333,\"#9c179e\"],[0.4444444444444444,\"#bd3786\"],[0.5555555555555556,\"#d8576b\"],[0.6666666666666666,\"#ed7953\"],[0.7777777777777778,\"#fb9f3a\"],[0.8888888888888888,\"#fdca26\"],[1.0,\"#f0f921\"]]}],\"surface\":[{\"type\":\"surface\",\"colorbar\":{\"outlinewidth\":0,\"ticks\":\"\"},\"colorscale\":[[0.0,\"#0d0887\"],[0.1111111111111111,\"#46039f\"],[0.2222222222222222,\"#7201a8\"],[0.3333333333333333,\"#9c179e\"],[0.4444444444444444,\"#bd3786\"],[0.5555555555555556,\"#d8576b\"],[0.6666666666666666,\"#ed7953\"],[0.7777777777777778,\"#fb9f3a\"],[0.8888888888888888,\"#fdca26\"],[1.0,\"#f0f921\"]]}],\"mesh3d\":[{\"type\":\"mesh3d\",\"colorbar\":{\"outlinewidth\":0,\"ticks\":\"\"}}],\"scatter\":[{\"fillpattern\":{\"fillmode\":\"overlay\",\"size\":10,\"solidity\":0.2},\"type\":\"scatter\"}],\"parcoords\":[{\"type\":\"parcoords\",\"line\":{\"colorbar\":{\"outlinewidth\":0,\"ticks\":\"\"}}}],\"scatterpolargl\":[{\"type\":\"scatterpolargl\",\"marker\":{\"colorbar\":{\"outlinewidth\":0,\"ticks\":\"\"}}}],\"bar\":[{\"error_x\":{\"color\":\"#2a3f5f\"},\"error_y\":{\"color\":\"#2a3f5f\"},\"marker\":{\"line\":{\"color\":\"#E5ECF6\",\"width\":0.5},\"pattern\":{\"fillmode\":\"overlay\",\"size\":10,\"solidity\":0.2}},\"type\":\"bar\"}],\"scattergeo\":[{\"type\":\"scattergeo\",\"marker\":{\"colorbar\":{\"outlinewidth\":0,\"ticks\":\"\"}}}],\"scatterpolar\":[{\"type\":\"scatterpolar\",\"marker\":{\"colorbar\":{\"outlinewidth\":0,\"ticks\":\"\"}}}],\"histogram\":[{\"marker\":{\"pattern\":{\"fillmode\":\"overlay\",\"size\":10,\"solidity\":0.2}},\"type\":\"histogram\"}],\"scattergl\":[{\"type\":\"scattergl\",\"marker\":{\"colorbar\":{\"outlinewidth\":0,\"ticks\":\"\"}}}],\"scatter3d\":[{\"type\":\"scatter3d\",\"line\":{\"colorbar\":{\"outlinewidth\":0,\"ticks\":\"\"}},\"marker\":{\"colorbar\":{\"outlinewidth\":0,\"ticks\":\"\"}}}],\"scattermapbox\":[{\"type\":\"scattermapbox\",\"marker\":{\"colorbar\":{\"outlinewidth\":0,\"ticks\":\"\"}}}],\"scatterternary\":[{\"type\":\"scatterternary\",\"marker\":{\"colorbar\":{\"outlinewidth\":0,\"ticks\":\"\"}}}],\"scattercarpet\":[{\"type\":\"scattercarpet\",\"marker\":{\"colorbar\":{\"outlinewidth\":0,\"ticks\":\"\"}}}],\"carpet\":[{\"aaxis\":{\"endlinecolor\":\"#2a3f5f\",\"gridcolor\":\"white\",\"linecolor\":\"white\",\"minorgridcolor\":\"white\",\"startlinecolor\":\"#2a3f5f\"},\"baxis\":{\"endlinecolor\":\"#2a3f5f\",\"gridcolor\":\"white\",\"linecolor\":\"white\",\"minorgridcolor\":\"white\",\"startlinecolor\":\"#2a3f5f\"},\"type\":\"carpet\"}],\"table\":[{\"cells\":{\"fill\":{\"color\":\"#EBF0F8\"},\"line\":{\"color\":\"white\"}},\"header\":{\"fill\":{\"color\":\"#C8D4E3\"},\"line\":{\"color\":\"white\"}},\"type\":\"table\"}],\"barpolar\":[{\"marker\":{\"line\":{\"color\":\"#E5ECF6\",\"width\":0.5},\"pattern\":{\"fillmode\":\"overlay\",\"size\":10,\"solidity\":0.2}},\"type\":\"barpolar\"}],\"pie\":[{\"automargin\":true,\"type\":\"pie\"}]},\"layout\":{\"autotypenumbers\":\"strict\",\"colorway\":[\"#636efa\",\"#EF553B\",\"#00cc96\",\"#ab63fa\",\"#FFA15A\",\"#19d3f3\",\"#FF6692\",\"#B6E880\",\"#FF97FF\",\"#FECB52\"],\"font\":{\"color\":\"#2a3f5f\"},\"hovermode\":\"closest\",\"hoverlabel\":{\"align\":\"left\"},\"paper_bgcolor\":\"white\",\"plot_bgcolor\":\"#E5ECF6\",\"polar\":{\"bgcolor\":\"#E5ECF6\",\"angularaxis\":{\"gridcolor\":\"white\",\"linecolor\":\"white\",\"ticks\":\"\"},\"radialaxis\":{\"gridcolor\":\"white\",\"linecolor\":\"white\",\"ticks\":\"\"}},\"ternary\":{\"bgcolor\":\"#E5ECF6\",\"aaxis\":{\"gridcolor\":\"white\",\"linecolor\":\"white\",\"ticks\":\"\"},\"baxis\":{\"gridcolor\":\"white\",\"linecolor\":\"white\",\"ticks\":\"\"},\"caxis\":{\"gridcolor\":\"white\",\"linecolor\":\"white\",\"ticks\":\"\"}},\"coloraxis\":{\"colorbar\":{\"outlinewidth\":0,\"ticks\":\"\"}},\"colorscale\":{\"sequential\":[[0.0,\"#0d0887\"],[0.1111111111111111,\"#46039f\"],[0.2222222222222222,\"#7201a8\"],[0.3333333333333333,\"#9c179e\"],[0.4444444444444444,\"#bd3786\"],[0.5555555555555556,\"#d8576b\"],[0.6666666666666666,\"#ed7953\"],[0.7777777777777778,\"#fb9f3a\"],[0.8888888888888888,\"#fdca26\"],[1.0,\"#f0f921\"]],\"sequentialminus\":[[0.0,\"#0d0887\"],[0.1111111111111111,\"#46039f\"],[0.2222222222222222,\"#7201a8\"],[0.3333333333333333,\"#9c179e\"],[0.4444444444444444,\"#bd3786\"],[0.5555555555555556,\"#d8576b\"],[0.6666666666666666,\"#ed7953\"],[0.7777777777777778,\"#fb9f3a\"],[0.8888888888888888,\"#fdca26\"],[1.0,\"#f0f921\"]],\"diverging\":[[0,\"#8e0152\"],[0.1,\"#c51b7d\"],[0.2,\"#de77ae\"],[0.3,\"#f1b6da\"],[0.4,\"#fde0ef\"],[0.5,\"#f7f7f7\"],[0.6,\"#e6f5d0\"],[0.7,\"#b8e186\"],[0.8,\"#7fbc41\"],[0.9,\"#4d9221\"],[1,\"#276419\"]]},\"xaxis\":{\"gridcolor\":\"white\",\"linecolor\":\"white\",\"ticks\":\"\",\"title\":{\"standoff\":15},\"zerolinecolor\":\"white\",\"automargin\":true,\"zerolinewidth\":2},\"yaxis\":{\"gridcolor\":\"white\",\"linecolor\":\"white\",\"ticks\":\"\",\"title\":{\"standoff\":15},\"zerolinecolor\":\"white\",\"automargin\":true,\"zerolinewidth\":2},\"scene\":{\"xaxis\":{\"backgroundcolor\":\"#E5ECF6\",\"gridcolor\":\"white\",\"linecolor\":\"white\",\"showbackground\":true,\"ticks\":\"\",\"zerolinecolor\":\"white\",\"gridwidth\":2},\"yaxis\":{\"backgroundcolor\":\"#E5ECF6\",\"gridcolor\":\"white\",\"linecolor\":\"white\",\"showbackground\":true,\"ticks\":\"\",\"zerolinecolor\":\"white\",\"gridwidth\":2},\"zaxis\":{\"backgroundcolor\":\"#E5ECF6\",\"gridcolor\":\"white\",\"linecolor\":\"white\",\"showbackground\":true,\"ticks\":\"\",\"zerolinecolor\":\"white\",\"gridwidth\":2}},\"shapedefaults\":{\"line\":{\"color\":\"#2a3f5f\"}},\"annotationdefaults\":{\"arrowcolor\":\"#2a3f5f\",\"arrowhead\":0,\"arrowwidth\":1},\"geo\":{\"bgcolor\":\"white\",\"landcolor\":\"#E5ECF6\",\"subunitcolor\":\"white\",\"showland\":true,\"showlakes\":true,\"lakecolor\":\"white\"},\"title\":{\"x\":0.05},\"mapbox\":{\"style\":\"light\"}}},\"geo\":{\"domain\":{\"x\":[0.0,1.0],\"y\":[0.0,1.0]},\"projection\":{\"type\":\"natural earth\"},\"center\":{},\"scope\":\"world\",\"showland\":true,\"landcolor\":\"lightgray\"},\"legend\":{\"title\":{\"text\":\"Port Name\"},\"tracegroupgap\":0},\"title\":{\"text\":\"First Arrivals: Vessel Locations by Port\"}},                        {\"responsive\": true}                    ).then(function(){\n",
              "                            \n",
              "var gd = document.getElementById('e364dfe3-e790-4d2d-a829-766f2f3723f9');\n",
              "var x = new MutationObserver(function (mutations, observer) {{\n",
              "        var display = window.getComputedStyle(gd).display;\n",
              "        if (!display || display === 'none') {{\n",
              "            console.log([gd, 'removed!']);\n",
              "            Plotly.purge(gd);\n",
              "            observer.disconnect();\n",
              "        }}\n",
              "}});\n",
              "\n",
              "// Listen for the removal of the full notebook cells\n",
              "var notebookContainer = gd.closest('#notebook-container');\n",
              "if (notebookContainer) {{\n",
              "    x.observe(notebookContainer, {childList: true});\n",
              "}}\n",
              "\n",
              "// Listen for the clearing of the current output cell\n",
              "var outputEl = gd.closest('.output');\n",
              "if (outputEl) {{\n",
              "    x.observe(outputEl, {childList: true});\n",
              "}}\n",
              "\n",
              "                        })                };                            </script>        </div>\n",
              "</body>\n",
              "</html>"
            ]
          },
          "metadata": {}
        }
      ]
    },
    {
      "cell_type": "code",
      "source": [
        "def process_zip_in_chunks_filtered(zip_path, chunksize=100_000):\n",
        "    import zipfile, pandas as pd\n",
        "\n",
        "    all_filtered_chunks = []\n",
        "    with zipfile.ZipFile(zip_path, 'r') as zip_ref:\n",
        "        csv_files = [name for name in zip_ref.namelist() if name.endswith('.csv')]\n",
        "        if not csv_files:\n",
        "            return pd.DataFrame()\n",
        "\n",
        "        with zip_ref.open(csv_files[0]) as f:\n",
        "            reader = pd.read_csv(f, chunksize=chunksize)\n",
        "            for chunk in reader:\n",
        "                # Filter by relevant vessel types\n",
        "                filtered_chunk = chunk[\n",
        "                    chunk[\"VesselType\"].isin(range(70, 90)) | chunk[\"VesselType\"].isin([30, 52])\n",
        "                ].copy()\n",
        "\n",
        "                # Drop rows with missing or invalid coordinates\n",
        "                filtered_chunk = filtered_chunk.dropna(subset=[\"LAT\", \"LON\"])\n",
        "                filtered_chunk = filtered_chunk[(filtered_chunk[\"LAT\"] != 0) & (filtered_chunk[\"LON\"] != 0)]\n",
        "\n",
        "                # Convert timestamps\n",
        "                filtered_chunk[\"BaseDateTime\"] = pd.to_datetime(filtered_chunk[\"BaseDateTime\"], errors='coerce')\n",
        "                filtered_chunk = filtered_chunk.dropna(subset=[\"BaseDateTime\"])\n",
        "\n",
        "                all_filtered_chunks.append(filtered_chunk)\n",
        "\n",
        "    return pd.concat(all_filtered_chunks, ignore_index=True)"
      ],
      "metadata": {
        "id": "oAFMNz1PG5GD"
      },
      "execution_count": null,
      "outputs": []
    },
    {
      "cell_type": "code",
      "source": [
        "import pandas as pd\n",
        "\n",
        "# Process each zip file to get filtered data\n",
        "all_filtered_data = pd.concat([\n",
        "    process_zip_in_chunks_filtered(\"/content/drive/My Drive/SIADS_593/assets/raw_data/AIS_2020_01_01.zip\"),\n",
        "    process_zip_in_chunks_filtered(\"/content/drive/My Drive/SIADS_593/assets/raw_data/AIS_2020_01_02.zip\")\n",
        "])\n",
        "\n",
        "# Now find the true first arrivals from the combined filtered data\n",
        "first_arrivals_df = (\n",
        "    all_filtered_data.sort_values([\"MMSI\", \"BaseDateTime\"])\n",
        "    .drop_duplicates(\"MMSI\", keep=\"first\")\n",
        ")\n",
        "\n",
        "# Finally, assign port names to the first arrivals\n",
        "first_arrivals_df = assign_port_names(first_arrivals_df)\n",
        "\n",
        "# Now you can analyze first_arrivals_df\n",
        "first_arrivals_df[\"Port Name\"].value_counts()"
      ],
      "metadata": {
        "id": "oyVz2wsWrK_n",
        "outputId": "ab2f50ef-9e30-4ded-b48f-a07feb019df9",
        "colab": {
          "base_uri": "https://localhost:8080/",
          "height": 755
        }
      },
      "execution_count": null,
      "outputs": [
        {
          "output_type": "stream",
          "name": "stderr",
          "text": [
            "<ipython-input-108-3f1429748360>:23: UserWarning:\n",
            "\n",
            "Could not infer format, so each element will be parsed individually, falling back to `dateutil`. To ensure parsing is consistent and as-expected, please specify a format.\n",
            "\n"
          ]
        },
        {
          "output_type": "execute_result",
          "data": {
            "text/plain": [
              "Port Name\n",
              "Unknown         2158\n",
              "Houston          123\n",
              "Seattle          107\n",
              "Norfolk           63\n",
              "Honolulu          62\n",
              "New Orleans       57\n",
              "Los Angeles       52\n",
              "Oakland           46\n",
              "New York          45\n",
              "Miami             27\n",
              "Boston            27\n",
              "Jacksonville      26\n",
              "Charleston        25\n",
              "Savannah          21\n",
              "Baltimore         16\n",
              "San Diego         16\n",
              "Philadelphia      15\n",
              "Anchorage          1\n",
              "Name: count, dtype: int64"
            ],
            "text/html": [
              "<div>\n",
              "<style scoped>\n",
              "    .dataframe tbody tr th:only-of-type {\n",
              "        vertical-align: middle;\n",
              "    }\n",
              "\n",
              "    .dataframe tbody tr th {\n",
              "        vertical-align: top;\n",
              "    }\n",
              "\n",
              "    .dataframe thead th {\n",
              "        text-align: right;\n",
              "    }\n",
              "</style>\n",
              "<table border=\"1\" class=\"dataframe\">\n",
              "  <thead>\n",
              "    <tr style=\"text-align: right;\">\n",
              "      <th></th>\n",
              "      <th>count</th>\n",
              "    </tr>\n",
              "    <tr>\n",
              "      <th>Port Name</th>\n",
              "      <th></th>\n",
              "    </tr>\n",
              "  </thead>\n",
              "  <tbody>\n",
              "    <tr>\n",
              "      <th>Unknown</th>\n",
              "      <td>2158</td>\n",
              "    </tr>\n",
              "    <tr>\n",
              "      <th>Houston</th>\n",
              "      <td>123</td>\n",
              "    </tr>\n",
              "    <tr>\n",
              "      <th>Seattle</th>\n",
              "      <td>107</td>\n",
              "    </tr>\n",
              "    <tr>\n",
              "      <th>Norfolk</th>\n",
              "      <td>63</td>\n",
              "    </tr>\n",
              "    <tr>\n",
              "      <th>Honolulu</th>\n",
              "      <td>62</td>\n",
              "    </tr>\n",
              "    <tr>\n",
              "      <th>New Orleans</th>\n",
              "      <td>57</td>\n",
              "    </tr>\n",
              "    <tr>\n",
              "      <th>Los Angeles</th>\n",
              "      <td>52</td>\n",
              "    </tr>\n",
              "    <tr>\n",
              "      <th>Oakland</th>\n",
              "      <td>46</td>\n",
              "    </tr>\n",
              "    <tr>\n",
              "      <th>New York</th>\n",
              "      <td>45</td>\n",
              "    </tr>\n",
              "    <tr>\n",
              "      <th>Miami</th>\n",
              "      <td>27</td>\n",
              "    </tr>\n",
              "    <tr>\n",
              "      <th>Boston</th>\n",
              "      <td>27</td>\n",
              "    </tr>\n",
              "    <tr>\n",
              "      <th>Jacksonville</th>\n",
              "      <td>26</td>\n",
              "    </tr>\n",
              "    <tr>\n",
              "      <th>Charleston</th>\n",
              "      <td>25</td>\n",
              "    </tr>\n",
              "    <tr>\n",
              "      <th>Savannah</th>\n",
              "      <td>21</td>\n",
              "    </tr>\n",
              "    <tr>\n",
              "      <th>Baltimore</th>\n",
              "      <td>16</td>\n",
              "    </tr>\n",
              "    <tr>\n",
              "      <th>San Diego</th>\n",
              "      <td>16</td>\n",
              "    </tr>\n",
              "    <tr>\n",
              "      <th>Philadelphia</th>\n",
              "      <td>15</td>\n",
              "    </tr>\n",
              "    <tr>\n",
              "      <th>Anchorage</th>\n",
              "      <td>1</td>\n",
              "    </tr>\n",
              "  </tbody>\n",
              "</table>\n",
              "</div><br><label><b>dtype:</b> int64</label>"
            ]
          },
          "metadata": {},
          "execution_count": 109
        }
      ]
    },
    {
      "cell_type": "code",
      "source": [
        "import plotly.express as px\n",
        "\n",
        "# Sample 500 points to make rendering faster, or skip .sample() to show all\n",
        "sample_df = first_arrivals_df.sample(n=500, random_state=42)\n",
        "\n",
        "fig = px.scatter_geo(\n",
        "    sample_df,\n",
        "    lat='LAT',\n",
        "    lon='LON',\n",
        "    color='Port Name',\n",
        "    hover_name='VesselType',\n",
        "    title='First Arrivals: Vessel Locations by Port',\n",
        "    projection=\"natural earth\"\n",
        ")\n",
        "\n",
        "fig.update_layout(geo=dict(\n",
        "    scope='world',\n",
        "    showland=True,\n",
        "    landcolor=\"lightgray\",\n",
        "))\n",
        "\n",
        "fig.show()"
      ],
      "metadata": {
        "id": "6udHZEcWrlqC",
        "outputId": "6e7c224d-57d5-4342-89c3-fb0129eed111",
        "colab": {
          "base_uri": "https://localhost:8080/",
          "height": 543
        }
      },
      "execution_count": null,
      "outputs": [
        {
          "output_type": "display_data",
          "data": {
            "text/html": [
              "<html>\n",
              "<head><meta charset=\"utf-8\" /></head>\n",
              "<body>\n",
              "    <div>            <script src=\"https://cdnjs.cloudflare.com/ajax/libs/mathjax/2.7.5/MathJax.js?config=TeX-AMS-MML_SVG\"></script><script type=\"text/javascript\">if (window.MathJax && window.MathJax.Hub && window.MathJax.Hub.Config) {window.MathJax.Hub.Config({SVG: {font: \"STIX-Web\"}});}</script>                <script type=\"text/javascript\">window.PlotlyConfig = {MathJaxConfig: 'local'};</script>\n",
              "        <script charset=\"utf-8\" src=\"https://cdn.plot.ly/plotly-2.35.2.min.js\"></script>                <div id=\"3ab5503b-4b0a-412f-8f8c-087e673cc80c\" class=\"plotly-graph-div\" style=\"height:525px; width:100%;\"></div>            <script type=\"text/javascript\">                                    window.PLOTLYENV=window.PLOTLYENV || {};                                    if (document.getElementById(\"3ab5503b-4b0a-412f-8f8c-087e673cc80c\")) {                    Plotly.newPlot(                        \"3ab5503b-4b0a-412f-8f8c-087e673cc80c\",                        [{\"geo\":\"geo\",\"hovertemplate\":\"\\u003cb\\u003e%{hovertext}\\u003c\\u002fb\\u003e\\u003cbr\\u003e\\u003cbr\\u003ePort Name=Unknown\\u003cbr\\u003eLAT=%{lat}\\u003cbr\\u003eLON=%{lon}\\u003cextra\\u003e\\u003c\\u002fextra\\u003e\",\"hovertext\":[30.0,30.0,52.0,70.0,30.0,70.0,30.0,70.0,30.0,70.0,70.0,30.0,80.0,70.0,70.0,70.0,30.0,70.0,30.0,80.0,30.0,30.0,30.0,70.0,80.0,80.0,70.0,80.0,80.0,70.0,70.0,30.0,30.0,30.0,30.0,70.0,80.0,30.0,30.0,70.0,80.0,70.0,30.0,30.0,30.0,70.0,30.0,70.0,70.0,70.0,30.0,80.0,30.0,70.0,30.0,30.0,30.0,70.0,30.0,30.0,30.0,30.0,30.0,30.0,80.0,30.0,30.0,70.0,70.0,80.0,70.0,30.0,30.0,30.0,30.0,30.0,30.0,30.0,80.0,30.0,30.0,30.0,80.0,70.0,70.0,30.0,70.0,80.0,70.0,70.0,30.0,30.0,30.0,70.0,30.0,30.0,80.0,70.0,30.0,70.0,80.0,70.0,70.0,30.0,79.0,30.0,30.0,80.0,30.0,70.0,30.0,30.0,80.0,70.0,70.0,30.0,70.0,30.0,30.0,70.0,70.0,30.0,70.0,70.0,80.0,30.0,70.0,70.0,70.0,30.0,70.0,30.0,70.0,70.0,80.0,30.0,30.0,70.0,80.0,80.0,70.0,30.0,30.0,30.0,80.0,30.0,30.0,70.0,80.0,80.0,70.0,30.0,80.0,30.0,70.0,30.0,30.0,30.0,30.0,70.0,70.0,70.0,30.0,70.0,30.0,30.0,30.0,30.0,70.0,70.0,30.0,70.0,30.0,70.0,30.0,30.0,30.0,30.0,30.0,70.0,30.0,80.0,70.0,80.0,70.0,30.0,30.0,52.0,30.0,30.0,80.0,80.0,30.0,30.0,30.0,30.0,80.0,30.0,70.0,30.0,80.0,30.0,30.0,80.0,52.0,30.0,30.0,30.0,80.0,80.0,80.0,52.0,30.0,30.0,30.0,30.0,80.0,30.0,30.0,70.0,52.0,70.0,70.0,80.0,30.0,30.0,30.0,30.0,30.0,30.0,30.0,30.0,30.0,70.0,70.0,30.0,80.0,70.0,30.0,30.0,30.0,70.0,30.0,30.0,30.0,30.0,80.0,70.0,30.0,30.0,30.0,30.0,30.0,80.0,30.0,30.0,70.0,80.0,80.0,70.0,30.0,70.0,30.0,30.0,89.0,70.0,70.0,70.0,70.0,30.0,70.0,80.0,30.0,30.0,70.0,30.0,52.0,30.0,80.0,52.0,70.0,30.0,80.0,70.0,30.0,30.0,70.0,30.0,80.0,80.0,30.0,30.0,70.0,80.0,80.0,70.0,30.0,30.0,80.0,80.0,70.0,30.0,70.0,80.0,30.0,30.0,80.0,30.0,30.0,30.0,70.0,70.0,70.0,80.0,70.0,30.0,30.0,80.0,80.0,30.0,70.0,70.0,70.0,30.0,30.0,30.0,30.0,70.0,80.0,30.0,30.0,71.0,70.0,30.0,80.0,30.0,30.0,70.0,80.0,30.0,80.0,30.0,30.0,30.0,70.0,70.0,70.0,70.0,80.0,80.0,80.0,89.0,70.0,30.0,70.0,80.0,30.0,70.0,70.0,30.0,80.0,30.0,30.0,30.0,80.0,30.0,80.0,30.0,70.0,70.0,30.0,30.0,30.0,70.0,70.0,70.0,80.0],\"lat\":[49.53533,29.82081,29.137,18.32332,44.15457,46.40263,24.92264,24.82983,29.15287,27.52493,24.47905,49.20047,45.61239,30.13303,29.89713,49.29738,28.18153,46.64743,40.91546,25.38612,56.8141,57.77873,56.811,25.07757,26.54921,27.79941,48.46903,23.53849,23.36445,40.25746,28.60878,56.81072,29.11448,41.38008,53.87875,18.08567,27.8328,41.48901,24.89192,29.91552,29.59918,49.77463,41.62906,29.23841,29.19899,31.06859,41.48895,49.29689,27.84296,34.05766,43.19763,27.82147,44.23986,31.71004,57.77635,28.70084,28.95774,26.54304,49.17684,29.06765,30.41312,29.43834,49.16707,48.5215,27.76596,30.28452,24.89016,28.906,47.90443,25.78301,34.3341,44.04349,53.86855,35.02365,49.3496,55.05519,34.24186,34.17445,29.41912,31.88463,29.73792,41.64218,38.93726,31.61067,48.46887,36.80092,40.77067,29.85059,18.22575,22.44439,29.82253,56.81122,41.38054,38.23258,40.44611,28.69778,27.83053,25.79113,48.75584,49.30022,29.82243,34.74697,18.04309,53.88145,59.62059,41.63229,41.46496,23.182,49.35013,48.5162,34.98328,37.82839,28.39175,30.70275,34.21782,25.113,24.39929,24.78313,56.81357,27.62758,34.10737,43.79674,45.70705,23.5083,30.77081,48.75522,22.58035,39.40502,23.99938,49.12452,30.33696,41.37532,36.85673,24.28097,31.67527,55.05402,56.81142,54.37067,27.83266,30.16775,26.0905,38.95874,53.8445,53.86987,32.86406,24.90781,35.89386,27.48217,11.22102,25.66399,41.70645,34.40665,16.51513,25.02966,23.22251,39.75035,53.90727,38.9487,48.75731,23.38673,16.15897,23.18386,55.05913,48.68869,60.54474,59.56441,53.90575,46.2587,54.08885,42.72542,29.87578,29.69408,27.92833,35.25201,53.87861,60.11845,56.46566,38.95693,54.29402,36.99996,28.18846,42.71678,29.11454,28.35395,28.80308,34.66362,49.30304,27.79211,35.84072,54.23729,27.05672,31.19433,48.9476,57.77797,46.20002,53.94833,30.48,30.41319,49.08941,56.46785,18.24412,35.01706,28.69439,24.62636,30.40122,48.75406,30.39352,29.24363,43.13352,17.04233,30.11172,30.39594,28.69965,54.13157,41.64405,24.72404,39.04524,45.7479,40.80728,30.07222,49.51094,28.89392,25.07738,25.57165,26.06966,57.77825,41.38092,27.92874,57.77781,41.42398,30.41176,44.62532,35.50858,49.28918,29.04274,38.98828,60.88663,34.07981,48.75649,29.19226,41.48694,32.06024,56.8104,54.29414,56.80995,27.83853,40.57345,24.50697,41.38392,43.39955,30.4048,30.39846,48.75448,27.86903,43.75206,53.86814,23.77729,43.8798,30.2767,23.75874,29.17293,34.62787,29.87131,35.23268,41.19408,25.07849,25.42605,23.32869,34.19398,56.81326,26.18687,40.5611,48.94371,55.33336,13.45855,43.71269,49.29037,29.10796,14.69927,49.29057,17.71676,37.82832,29.78541,49.17849,54.28908,46.16915,29.99927,56.81027,25.61788,42.26346,24.84484,39.7502,29.58015,28.75456,40.41996,25.80712,30.412,46.90776,28.65657,18.91417,47.55899,27.47088,48.47002,48.13155,28.98969,29.37095,25.10516,41.63742,35.89469,48.4295,24.69852,24.14737,27.63349,37.46788,26.24407,57.77856,48.99935,24.08921,44.19676,49.11884,25.07768,25.17218,30.05227,39.75033,53.90241,56.81062,55.63513,49.28497,24.58217,35.24326,43.34566,49.20758,25.55861,43.6513,26.0842,57.78466,27.88692,19.8559,43.48647,41.70977,18.09187,29.20011,29.18957,49.11973,54.13355,36.19943,43.27787,49.30454,45.58127,25.46983,25.7389,48.62344,36.47712,24.92323,37.23458,29.40667,44.07575,55.40426,48.80461,30.42264,23.68074,57.78688,41.64328,56.81106,18.74917,48.36991,30.10422,49.29844,40.99143,15.38994,49.12384,41.59406,29.35221,49.30447,15.87847,22.50304,26.50268],\"legendgroup\":\"Unknown\",\"lon\":[-123.76403,-92.13253,-90.19493,-64.956,-68.66305,-84.24058,-82.21043,-74.70833,-90.18631,-115.56877,-80.11392,-123.08924,-73.50587,-91.00915,-117.65698,-123.03458,-90.89214,-84.82131,-124.2125,-91.66358,-132.96168,-152.41035,-132.96452,-77.32584,-91.90292,-96.86393,-126.37282,-87.59106,-81.14576,-68.45367,-89.2884,-132.96395,-90.20006,-71.51069,-166.55159,-64.23767,-135.40938,-71.32274,-82.21043,-85.72271,-93.73575,-124.70505,-70.90566,-90.00242,-89.63691,-80.85121,-71.32272,-123.2585,-97.07279,-76.5929,-69.21202,-97.43213,-68.43541,-116.9259,-152.41333,-96.22965,-80.76747,-77.065,-122.91643,-88.98942,-88.88005,-92.10072,-123.93433,-122.61064,-78.66897,-87.56328,-82.1772,-94.84,-125.61734,-76.82916,-125.20979,-68.83385,-166.55547,-76.69645,-124.35824,-162.3276,-119.26442,-119.22749,-93.62142,-116.70528,-93.88597,-70.26918,-75.16719,-123.73229,-126.45983,-121.78769,-68.80567,-93.97137,-70.02403,-155.07527,-92.13247,-132.96591,-71.51184,-74.54788,-70.15457,-96.22966,-97.49765,-77.44998,-122.5035,-123.23032,-93.95598,-121.14918,-68.17861,-166.54236,-151.45698,-70.91206,-71.19559,-86.19483,-124.35631,-125.08192,-76.69281,-76.27863,-89.13348,-88.03633,-119.90853,-82.27603,-80.21036,-82.13486,-132.96105,-82.56323,-119.42158,-69.92517,-73.4392,-86.93942,-72.88173,-122.50316,-160.28137,-124.36761,-80.96966,-123.18893,-88.50925,-71.51381,-75.67692,-79.45713,-72.01756,-162.32636,-132.96597,-167.56864,-96.92888,-88.48179,-79.11225,-74.86691,-166.57859,-166.55183,-126.9638,-82.89333,-75.64183,-94.21977,142.5154,-90.29856,-71.16429,-120.17221,-70.48283,-82.49239,-78.9579,-74.11506,-166.50983,-74.9057,-122.50682,-80.1552,-69.9963,-83.06178,-162.32738,-123.40734,-145.76656,-139.74053,-166.51147,-124.02164,-161.91431,-125.23076,-92.12994,-67.37503,-82.42713,-128.14499,-166.53856,-149.43819,-132.38278,-74.87457,-130.35496,-74.51583,-91.07457,-80.1489,-90.20871,-90.71753,-93.7889,-76.78487,-123.02331,-97.39132,-75.62014,-130.35862,-96.15515,-73.86675,-125.55094,-152.41371,-123.38558,-166.61423,-91.19433,-88.88027,-123.69844,-132.38317,-64.97927,-75.95758,-95.9567,-88.11578,-87.21063,-122.50481,-88.26571,-89.99022,-66.8282,-69.243,-90.91245,-88.26314,-96.22621,-165.78725,-70.92109,-81.01806,-75.16414,-124.06898,-124.16469,-88.06342,-123.75858,-89.33267,-77.32575,-91.57786,-97.12372,-152.41358,-71.51202,-82.42736,-152.4127,-68.63834,-88.87866,-124.0324,-75.9962,-123.06809,-95.64241,-74.82442,-146.93,-76.44254,-122.50357,-89.60054,-70.55411,-127.46258,-132.96508,-130.35465,-132.96468,-97.0653,-69.52812,-81.1755,-71.50842,-124.336,-88.25034,-88.25812,-122.50552,-97.24583,-124.23319,-166.5548,-79.17825,-68.3578,-91.17027,-83.85389,-91.4757,-121.02541,-92.13016,-75.4589,-72.86778,-77.32426,-90.15063,-88.01831,-77.95583,-132.96031,-94.54663,-69.37898,-125.54534,-160.49814,144.63608,-124.10548,-123.06075,-89.8375,-63.45667,-123.06057,-64.49459,-76.27946,-88.14989,-122.91942,-130.38326,-123.9137,-136.42325,-132.96486,-91.04667,-83.10544,-82.03796,-74.11464,-73.30717,-94.4214,-70.3804,-76.1628,-88.87801,-124.10782,-94.69427,-66.01848,-85.3573,-80.33014,-126.44576,-123.43617,-92.06322,-92.03247,-74.40144,-70.90747,-75.6414,-123.37398,-86.44667,-80.58417,-72.46788,-127.5846,-79.18015,-152.41422,-123.81411,-85.39722,-67.09458,-123.16159,-77.32567,-78.02837,-90.66333,-74.11486,-166.52843,-132.96532,-159.2416,-123.18332,-87.9125,-76.59072,-124.32094,-123.0812,-74.67685,-70.25422,-79.48273,-152.42119,-82.84001,-66.65011,-66.79672,-124.23582,-63.92438,-91.37329,-89.6219,-123.16807,-130.6178,-132.57243,-79.79657,-123.20306,-73.50575,-91.21904,-89.69938,-122.57078,-137.16365,-81.92684,-130.84003,-93.64207,-69.11281,-131.74147,-123.37665,-88.89145,-81.5446,-152.41156,-70.91618,-132.96424,-63.17653,-123.72592,-116.75429,-123.02939,-68.94699,-66.93705,-123.18695,-70.88662,-81.03706,-123.05981,-64.8239,-86.155,-78.80007],\"marker\":{\"color\":\"#636efa\",\"symbol\":\"circle\"},\"mode\":\"markers\",\"name\":\"Unknown\",\"showlegend\":true,\"type\":\"scattergeo\"},{\"geo\":\"geo\",\"hovertemplate\":\"\\u003cb\\u003e%{hovertext}\\u003c\\u002fb\\u003e\\u003cbr\\u003e\\u003cbr\\u003ePort Name=Houston\\u003cbr\\u003eLAT=%{lat}\\u003cbr\\u003eLON=%{lon}\\u003cextra\\u003e\\u003c\\u002fextra\\u003e\",\"hovertext\":[70.0,80.0,30.0,30.0,80.0,80.0,80.0,89.0,70.0,80.0,80.0,89.0,30.0,80.0,30.0,30.0,80.0,80.0,52.0,80.0,70.0,80.0,70.0,30.0,80.0,80.0,80.0,30.0],\"lat\":[29.32442,29.60885,29.39091,29.31632,29.33537,29.17606,29.24096,29.74498,29.68225,29.73819,29.74179,29.31235,29.31532,29.23418,29.39051,29.46732,29.73868,29.26956,29.67937,29.68241,29.73202,29.2342,29.73567,29.30347,29.3615,29.73157,29.26885,29.31563],\"legendgroup\":\"Houston\",\"lon\":[-94.54587,-95.02015,-94.76034,-94.7791,-94.54236,-94.61426,-94.66983,-95.09654,-94.99233,-95.12486,-95.20461,-94.78616,-94.77875,-94.59713,-94.75997,-94.96218,-95.16387,-94.51707,-94.92611,-95.00901,-95.27597,-94.6112,-95.14604,-94.43045,-94.91675,-95.0536,-94.46207,-94.77932],\"marker\":{\"color\":\"#EF553B\",\"symbol\":\"circle\"},\"mode\":\"markers\",\"name\":\"Houston\",\"showlegend\":true,\"type\":\"scattergeo\"},{\"geo\":\"geo\",\"hovertemplate\":\"\\u003cb\\u003e%{hovertext}\\u003c\\u002fb\\u003e\\u003cbr\\u003e\\u003cbr\\u003ePort Name=Miami\\u003cbr\\u003eLAT=%{lat}\\u003cbr\\u003eLON=%{lon}\\u003cextra\\u003e\\u003c\\u002fextra\\u003e\",\"hovertext\":[70.0,80.0,70.0],\"lat\":[25.79494,25.98007,26.09235],\"legendgroup\":\"Miami\",\"lon\":[-80.24384,-79.51506,-80.11331],\"marker\":{\"color\":\"#00cc96\",\"symbol\":\"circle\"},\"mode\":\"markers\",\"name\":\"Miami\",\"showlegend\":true,\"type\":\"scattergeo\"},{\"geo\":\"geo\",\"hovertemplate\":\"\\u003cb\\u003e%{hovertext}\\u003c\\u002fb\\u003e\\u003cbr\\u003e\\u003cbr\\u003ePort Name=Seattle\\u003cbr\\u003eLAT=%{lat}\\u003cbr\\u003eLON=%{lon}\\u003cextra\\u003e\\u003c\\u002fextra\\u003e\",\"hovertext\":[30.0,30.0,30.0,30.0,30.0,30.0,30.0,30.0,30.0,30.0,70.0,30.0,30.0,30.0,70.0,30.0,30.0,30.0,70.0,30.0],\"lat\":[47.65673,47.62731,47.66351,47.63502,47.66692,47.63459,47.659,47.64681,47.65686,47.66728,47.2741,47.63538,47.33483,48.10504,47.65968,47.65605,47.62916,47.63529,47.57556,47.65655],\"legendgroup\":\"Seattle\",\"lon\":[-122.37781,-122.38204,-122.39148,-122.32838,-122.38874,-122.32826,-122.37906,-122.34021,-122.37817,-122.388,-122.45628,-122.32879,-122.58704,-122.77751,-122.38086,-122.37944,-122.37944,-122.32906,-122.36125,-122.36718],\"marker\":{\"color\":\"#ab63fa\",\"symbol\":\"circle\"},\"mode\":\"markers\",\"name\":\"Seattle\",\"showlegend\":true,\"type\":\"scattergeo\"},{\"geo\":\"geo\",\"hovertemplate\":\"\\u003cb\\u003e%{hovertext}\\u003c\\u002fb\\u003e\\u003cbr\\u003e\\u003cbr\\u003ePort Name=Norfolk\\u003cbr\\u003eLAT=%{lat}\\u003cbr\\u003eLON=%{lon}\\u003cextra\\u003e\\u003c\\u002fextra\\u003e\",\"hovertext\":[30.0,30.0,80.0,30.0,30.0,70.0,30.0,70.0,80.0],\"lat\":[36.97102,36.96927,36.94634,36.96217,36.99796,36.87716,36.96778,36.92383,36.93394],\"legendgroup\":\"Norfolk\",\"lon\":[-76.41535,-76.41493,-76.33203,-76.40935,-76.29854,-76.34314,-76.41489,-76.3295,-76.33266],\"marker\":{\"color\":\"#FFA15A\",\"symbol\":\"circle\"},\"mode\":\"markers\",\"name\":\"Norfolk\",\"showlegend\":true,\"type\":\"scattergeo\"},{\"geo\":\"geo\",\"hovertemplate\":\"\\u003cb\\u003e%{hovertext}\\u003c\\u002fb\\u003e\\u003cbr\\u003e\\u003cbr\\u003ePort Name=Boston\\u003cbr\\u003eLAT=%{lat}\\u003cbr\\u003eLON=%{lon}\\u003cextra\\u003e\\u003c\\u002fextra\\u003e\",\"hovertext\":[30.0,30.0,30.0,30.0,80.0,30.0,30.0],\"lat\":[42.61253,42.61274,42.61726,42.61549,41.8113,42.61015,42.35112],\"legendgroup\":\"Boston\",\"lon\":[-70.65201,-70.65325,-70.58752,-70.65119,-71.39493,-70.66364,-71.0374],\"marker\":{\"color\":\"#19d3f3\",\"symbol\":\"circle\"},\"mode\":\"markers\",\"name\":\"Boston\",\"showlegend\":true,\"type\":\"scattergeo\"},{\"geo\":\"geo\",\"hovertemplate\":\"\\u003cb\\u003e%{hovertext}\\u003c\\u002fb\\u003e\\u003cbr\\u003e\\u003cbr\\u003ePort Name=Savannah\\u003cbr\\u003eLAT=%{lat}\\u003cbr\\u003eLON=%{lon}\\u003cextra\\u003e\\u003c\\u002fextra\\u003e\",\"hovertext\":[70.0,70.0,70.0,30.0,30.0],\"lat\":[32.09949,31.88253,32.14356,32.3758,31.53534],\"legendgroup\":\"Savannah\",\"lon\":[-81.1129,-80.36742,-81.14266,-80.69692,-81.36424],\"marker\":{\"color\":\"#FF6692\",\"symbol\":\"circle\"},\"mode\":\"markers\",\"name\":\"Savannah\",\"showlegend\":true,\"type\":\"scattergeo\"},{\"geo\":\"geo\",\"hovertemplate\":\"\\u003cb\\u003e%{hovertext}\\u003c\\u002fb\\u003e\\u003cbr\\u003e\\u003cbr\\u003ePort Name=Honolulu\\u003cbr\\u003eLAT=%{lat}\\u003cbr\\u003eLON=%{lon}\\u003cextra\\u003e\\u003c\\u002fextra\\u003e\",\"hovertext\":[30.0,30.0,30.0,80.0,30.0,30.0,30.0,30.0,30.0,30.0,30.0],\"lat\":[21.31254,21.31304,21.31373,21.28583,21.31694,21.317,21.31642,21.31269,21.31695,21.31683,21.31333],\"legendgroup\":\"Honolulu\",\"lon\":[-157.86621,-157.86619,-157.86597,-157.91638,-157.87794,-157.87707,-157.87918,-157.86609,-157.87949,-157.87766,-157.86671],\"marker\":{\"color\":\"#B6E880\",\"symbol\":\"circle\"},\"mode\":\"markers\",\"name\":\"Honolulu\",\"showlegend\":true,\"type\":\"scattergeo\"},{\"geo\":\"geo\",\"hovertemplate\":\"\\u003cb\\u003e%{hovertext}\\u003c\\u002fb\\u003e\\u003cbr\\u003e\\u003cbr\\u003ePort Name=New Orleans\\u003cbr\\u003eLAT=%{lat}\\u003cbr\\u003eLON=%{lon}\\u003cextra\\u003e\\u003c\\u002fextra\\u003e\",\"hovertext\":[80.0,70.0,80.0,70.0,70.0,70.0,70.0],\"lat\":[30.05037,29.58417,29.96212,29.82664,29.83698,29.99707,29.96626],\"legendgroup\":\"New Orleans\",\"lon\":[-90.5939,-89.81983,-90.29608,-90.00048,-89.9945,-90.4361,-90.27477],\"marker\":{\"color\":\"#FF97FF\",\"symbol\":\"circle\"},\"mode\":\"markers\",\"name\":\"New Orleans\",\"showlegend\":true,\"type\":\"scattergeo\"},{\"geo\":\"geo\",\"hovertemplate\":\"\\u003cb\\u003e%{hovertext}\\u003c\\u002fb\\u003e\\u003cbr\\u003e\\u003cbr\\u003ePort Name=Jacksonville\\u003cbr\\u003eLAT=%{lat}\\u003cbr\\u003eLON=%{lon}\\u003cextra\\u003e\\u003c\\u002fextra\\u003e\",\"hovertext\":[30.0,30.0,30.0,30.0,30.0],\"lat\":[30.39954,29.89214,30.04816,30.41663,30.39107],\"legendgroup\":\"Jacksonville\",\"lon\":[-81.55119,-81.30933,-81.25569,-81.53642,-81.43317],\"marker\":{\"color\":\"#FECB52\",\"symbol\":\"circle\"},\"mode\":\"markers\",\"name\":\"Jacksonville\",\"showlegend\":true,\"type\":\"scattergeo\"},{\"geo\":\"geo\",\"hovertemplate\":\"\\u003cb\\u003e%{hovertext}\\u003c\\u002fb\\u003e\\u003cbr\\u003e\\u003cbr\\u003ePort Name=Los Angeles\\u003cbr\\u003eLAT=%{lat}\\u003cbr\\u003eLON=%{lon}\\u003cextra\\u003e\\u003c\\u002fextra\\u003e\",\"hovertext\":[30.0,30.0,80.0,30.0,70.0,70.0,30.0],\"lat\":[33.73801,33.57424,33.90432,33.60053,33.74533,33.74406,33.15022],\"legendgroup\":\"Los Angeles\",\"lon\":[-118.26763,-118.26279,-118.45142,-117.88784,-118.22432,-118.2267,-118.38385],\"marker\":{\"color\":\"#636efa\",\"symbol\":\"circle\"},\"mode\":\"markers\",\"name\":\"Los Angeles\",\"showlegend\":true,\"type\":\"scattergeo\"},{\"geo\":\"geo\",\"hovertemplate\":\"\\u003cb\\u003e%{hovertext}\\u003c\\u002fb\\u003e\\u003cbr\\u003e\\u003cbr\\u003ePort Name=Oakland\\u003cbr\\u003eLAT=%{lat}\\u003cbr\\u003eLON=%{lon}\\u003cextra\\u003e\\u003c\\u002fextra\\u003e\",\"hovertext\":[70.0,80.0,80.0,70.0,80.0,70.0,30.0],\"lat\":[38.04283,37.719,37.73977,37.73023,37.76973,38.05917,37.50202],\"legendgroup\":\"Oakland\",\"lon\":[-122.13243,-122.32438,-122.33928,-122.34468,-122.35415,-122.02348,-122.48276],\"marker\":{\"color\":\"#EF553B\",\"symbol\":\"circle\"},\"mode\":\"markers\",\"name\":\"Oakland\",\"showlegend\":true,\"type\":\"scattergeo\"},{\"geo\":\"geo\",\"hovertemplate\":\"\\u003cb\\u003e%{hovertext}\\u003c\\u002fb\\u003e\\u003cbr\\u003e\\u003cbr\\u003ePort Name=San Diego\\u003cbr\\u003eLAT=%{lat}\\u003cbr\\u003eLON=%{lon}\\u003cextra\\u003e\\u003c\\u002fextra\\u003e\",\"hovertext\":[30.0,80.0,30.0],\"lat\":[32.76403,32.32107,32.71324],\"legendgroup\":\"San Diego\",\"lon\":[-117.23975,-117.09939,-117.23068],\"marker\":{\"color\":\"#00cc96\",\"symbol\":\"circle\"},\"mode\":\"markers\",\"name\":\"San Diego\",\"showlegend\":true,\"type\":\"scattergeo\"},{\"geo\":\"geo\",\"hovertemplate\":\"\\u003cb\\u003e%{hovertext}\\u003c\\u002fb\\u003e\\u003cbr\\u003e\\u003cbr\\u003ePort Name=Philadelphia\\u003cbr\\u003eLAT=%{lat}\\u003cbr\\u003eLON=%{lon}\\u003cextra\\u003e\\u003c\\u002fextra\\u003e\",\"hovertext\":[80.0,80.0],\"lat\":[39.45323,39.80075],\"legendgroup\":\"Philadelphia\",\"lon\":[-75.55768,-75.41683],\"marker\":{\"color\":\"#ab63fa\",\"symbol\":\"circle\"},\"mode\":\"markers\",\"name\":\"Philadelphia\",\"showlegend\":true,\"type\":\"scattergeo\"},{\"geo\":\"geo\",\"hovertemplate\":\"\\u003cb\\u003e%{hovertext}\\u003c\\u002fb\\u003e\\u003cbr\\u003e\\u003cbr\\u003ePort Name=New York\\u003cbr\\u003eLAT=%{lat}\\u003cbr\\u003eLON=%{lon}\\u003cextra\\u003e\\u003c\\u002fextra\\u003e\",\"hovertext\":[70.0,30.0,70.0,80.0],\"lat\":[40.69244,40.10206,40.50695,40.58318],\"legendgroup\":\"New York\",\"lon\":[-74.13881,-74.03848,-73.59117,-74.20958],\"marker\":{\"color\":\"#FFA15A\",\"symbol\":\"circle\"},\"mode\":\"markers\",\"name\":\"New York\",\"showlegend\":true,\"type\":\"scattergeo\"},{\"geo\":\"geo\",\"hovertemplate\":\"\\u003cb\\u003e%{hovertext}\\u003c\\u002fb\\u003e\\u003cbr\\u003e\\u003cbr\\u003ePort Name=Baltimore\\u003cbr\\u003eLAT=%{lat}\\u003cbr\\u003eLON=%{lon}\\u003cextra\\u003e\\u003c\\u002fextra\\u003e\",\"hovertext\":[52.0,30.0],\"lat\":[39.26953,38.95222],\"legendgroup\":\"Baltimore\",\"lon\":[-76.58491,-76.55268],\"marker\":{\"color\":\"#19d3f3\",\"symbol\":\"circle\"},\"mode\":\"markers\",\"name\":\"Baltimore\",\"showlegend\":true,\"type\":\"scattergeo\"},{\"geo\":\"geo\",\"hovertemplate\":\"\\u003cb\\u003e%{hovertext}\\u003c\\u002fb\\u003e\\u003cbr\\u003e\\u003cbr\\u003ePort Name=Charleston\\u003cbr\\u003eLAT=%{lat}\\u003cbr\\u003eLON=%{lon}\\u003cextra\\u003e\\u003c\\u002fextra\\u003e\",\"hovertext\":[70.0,30.0,71.0],\"lat\":[32.5868,32.59972,32.61868],\"legendgroup\":\"Charleston\",\"lon\":[-79.5461,-80.1767,-79.50279],\"marker\":{\"color\":\"#FF6692\",\"symbol\":\"circle\"},\"mode\":\"markers\",\"name\":\"Charleston\",\"showlegend\":true,\"type\":\"scattergeo\"}],                        {\"template\":{\"data\":{\"histogram2dcontour\":[{\"type\":\"histogram2dcontour\",\"colorbar\":{\"outlinewidth\":0,\"ticks\":\"\"},\"colorscale\":[[0.0,\"#0d0887\"],[0.1111111111111111,\"#46039f\"],[0.2222222222222222,\"#7201a8\"],[0.3333333333333333,\"#9c179e\"],[0.4444444444444444,\"#bd3786\"],[0.5555555555555556,\"#d8576b\"],[0.6666666666666666,\"#ed7953\"],[0.7777777777777778,\"#fb9f3a\"],[0.8888888888888888,\"#fdca26\"],[1.0,\"#f0f921\"]]}],\"choropleth\":[{\"type\":\"choropleth\",\"colorbar\":{\"outlinewidth\":0,\"ticks\":\"\"}}],\"histogram2d\":[{\"type\":\"histogram2d\",\"colorbar\":{\"outlinewidth\":0,\"ticks\":\"\"},\"colorscale\":[[0.0,\"#0d0887\"],[0.1111111111111111,\"#46039f\"],[0.2222222222222222,\"#7201a8\"],[0.3333333333333333,\"#9c179e\"],[0.4444444444444444,\"#bd3786\"],[0.5555555555555556,\"#d8576b\"],[0.6666666666666666,\"#ed7953\"],[0.7777777777777778,\"#fb9f3a\"],[0.8888888888888888,\"#fdca26\"],[1.0,\"#f0f921\"]]}],\"heatmap\":[{\"type\":\"heatmap\",\"colorbar\":{\"outlinewidth\":0,\"ticks\":\"\"},\"colorscale\":[[0.0,\"#0d0887\"],[0.1111111111111111,\"#46039f\"],[0.2222222222222222,\"#7201a8\"],[0.3333333333333333,\"#9c179e\"],[0.4444444444444444,\"#bd3786\"],[0.5555555555555556,\"#d8576b\"],[0.6666666666666666,\"#ed7953\"],[0.7777777777777778,\"#fb9f3a\"],[0.8888888888888888,\"#fdca26\"],[1.0,\"#f0f921\"]]}],\"heatmapgl\":[{\"type\":\"heatmapgl\",\"colorbar\":{\"outlinewidth\":0,\"ticks\":\"\"},\"colorscale\":[[0.0,\"#0d0887\"],[0.1111111111111111,\"#46039f\"],[0.2222222222222222,\"#7201a8\"],[0.3333333333333333,\"#9c179e\"],[0.4444444444444444,\"#bd3786\"],[0.5555555555555556,\"#d8576b\"],[0.6666666666666666,\"#ed7953\"],[0.7777777777777778,\"#fb9f3a\"],[0.8888888888888888,\"#fdca26\"],[1.0,\"#f0f921\"]]}],\"contourcarpet\":[{\"type\":\"contourcarpet\",\"colorbar\":{\"outlinewidth\":0,\"ticks\":\"\"}}],\"contour\":[{\"type\":\"contour\",\"colorbar\":{\"outlinewidth\":0,\"ticks\":\"\"},\"colorscale\":[[0.0,\"#0d0887\"],[0.1111111111111111,\"#46039f\"],[0.2222222222222222,\"#7201a8\"],[0.3333333333333333,\"#9c179e\"],[0.4444444444444444,\"#bd3786\"],[0.5555555555555556,\"#d8576b\"],[0.6666666666666666,\"#ed7953\"],[0.7777777777777778,\"#fb9f3a\"],[0.8888888888888888,\"#fdca26\"],[1.0,\"#f0f921\"]]}],\"surface\":[{\"type\":\"surface\",\"colorbar\":{\"outlinewidth\":0,\"ticks\":\"\"},\"colorscale\":[[0.0,\"#0d0887\"],[0.1111111111111111,\"#46039f\"],[0.2222222222222222,\"#7201a8\"],[0.3333333333333333,\"#9c179e\"],[0.4444444444444444,\"#bd3786\"],[0.5555555555555556,\"#d8576b\"],[0.6666666666666666,\"#ed7953\"],[0.7777777777777778,\"#fb9f3a\"],[0.8888888888888888,\"#fdca26\"],[1.0,\"#f0f921\"]]}],\"mesh3d\":[{\"type\":\"mesh3d\",\"colorbar\":{\"outlinewidth\":0,\"ticks\":\"\"}}],\"scatter\":[{\"fillpattern\":{\"fillmode\":\"overlay\",\"size\":10,\"solidity\":0.2},\"type\":\"scatter\"}],\"parcoords\":[{\"type\":\"parcoords\",\"line\":{\"colorbar\":{\"outlinewidth\":0,\"ticks\":\"\"}}}],\"scatterpolargl\":[{\"type\":\"scatterpolargl\",\"marker\":{\"colorbar\":{\"outlinewidth\":0,\"ticks\":\"\"}}}],\"bar\":[{\"error_x\":{\"color\":\"#2a3f5f\"},\"error_y\":{\"color\":\"#2a3f5f\"},\"marker\":{\"line\":{\"color\":\"#E5ECF6\",\"width\":0.5},\"pattern\":{\"fillmode\":\"overlay\",\"size\":10,\"solidity\":0.2}},\"type\":\"bar\"}],\"scattergeo\":[{\"type\":\"scattergeo\",\"marker\":{\"colorbar\":{\"outlinewidth\":0,\"ticks\":\"\"}}}],\"scatterpolar\":[{\"type\":\"scatterpolar\",\"marker\":{\"colorbar\":{\"outlinewidth\":0,\"ticks\":\"\"}}}],\"histogram\":[{\"marker\":{\"pattern\":{\"fillmode\":\"overlay\",\"size\":10,\"solidity\":0.2}},\"type\":\"histogram\"}],\"scattergl\":[{\"type\":\"scattergl\",\"marker\":{\"colorbar\":{\"outlinewidth\":0,\"ticks\":\"\"}}}],\"scatter3d\":[{\"type\":\"scatter3d\",\"line\":{\"colorbar\":{\"outlinewidth\":0,\"ticks\":\"\"}},\"marker\":{\"colorbar\":{\"outlinewidth\":0,\"ticks\":\"\"}}}],\"scattermapbox\":[{\"type\":\"scattermapbox\",\"marker\":{\"colorbar\":{\"outlinewidth\":0,\"ticks\":\"\"}}}],\"scatterternary\":[{\"type\":\"scatterternary\",\"marker\":{\"colorbar\":{\"outlinewidth\":0,\"ticks\":\"\"}}}],\"scattercarpet\":[{\"type\":\"scattercarpet\",\"marker\":{\"colorbar\":{\"outlinewidth\":0,\"ticks\":\"\"}}}],\"carpet\":[{\"aaxis\":{\"endlinecolor\":\"#2a3f5f\",\"gridcolor\":\"white\",\"linecolor\":\"white\",\"minorgridcolor\":\"white\",\"startlinecolor\":\"#2a3f5f\"},\"baxis\":{\"endlinecolor\":\"#2a3f5f\",\"gridcolor\":\"white\",\"linecolor\":\"white\",\"minorgridcolor\":\"white\",\"startlinecolor\":\"#2a3f5f\"},\"type\":\"carpet\"}],\"table\":[{\"cells\":{\"fill\":{\"color\":\"#EBF0F8\"},\"line\":{\"color\":\"white\"}},\"header\":{\"fill\":{\"color\":\"#C8D4E3\"},\"line\":{\"color\":\"white\"}},\"type\":\"table\"}],\"barpolar\":[{\"marker\":{\"line\":{\"color\":\"#E5ECF6\",\"width\":0.5},\"pattern\":{\"fillmode\":\"overlay\",\"size\":10,\"solidity\":0.2}},\"type\":\"barpolar\"}],\"pie\":[{\"automargin\":true,\"type\":\"pie\"}]},\"layout\":{\"autotypenumbers\":\"strict\",\"colorway\":[\"#636efa\",\"#EF553B\",\"#00cc96\",\"#ab63fa\",\"#FFA15A\",\"#19d3f3\",\"#FF6692\",\"#B6E880\",\"#FF97FF\",\"#FECB52\"],\"font\":{\"color\":\"#2a3f5f\"},\"hovermode\":\"closest\",\"hoverlabel\":{\"align\":\"left\"},\"paper_bgcolor\":\"white\",\"plot_bgcolor\":\"#E5ECF6\",\"polar\":{\"bgcolor\":\"#E5ECF6\",\"angularaxis\":{\"gridcolor\":\"white\",\"linecolor\":\"white\",\"ticks\":\"\"},\"radialaxis\":{\"gridcolor\":\"white\",\"linecolor\":\"white\",\"ticks\":\"\"}},\"ternary\":{\"bgcolor\":\"#E5ECF6\",\"aaxis\":{\"gridcolor\":\"white\",\"linecolor\":\"white\",\"ticks\":\"\"},\"baxis\":{\"gridcolor\":\"white\",\"linecolor\":\"white\",\"ticks\":\"\"},\"caxis\":{\"gridcolor\":\"white\",\"linecolor\":\"white\",\"ticks\":\"\"}},\"coloraxis\":{\"colorbar\":{\"outlinewidth\":0,\"ticks\":\"\"}},\"colorscale\":{\"sequential\":[[0.0,\"#0d0887\"],[0.1111111111111111,\"#46039f\"],[0.2222222222222222,\"#7201a8\"],[0.3333333333333333,\"#9c179e\"],[0.4444444444444444,\"#bd3786\"],[0.5555555555555556,\"#d8576b\"],[0.6666666666666666,\"#ed7953\"],[0.7777777777777778,\"#fb9f3a\"],[0.8888888888888888,\"#fdca26\"],[1.0,\"#f0f921\"]],\"sequentialminus\":[[0.0,\"#0d0887\"],[0.1111111111111111,\"#46039f\"],[0.2222222222222222,\"#7201a8\"],[0.3333333333333333,\"#9c179e\"],[0.4444444444444444,\"#bd3786\"],[0.5555555555555556,\"#d8576b\"],[0.6666666666666666,\"#ed7953\"],[0.7777777777777778,\"#fb9f3a\"],[0.8888888888888888,\"#fdca26\"],[1.0,\"#f0f921\"]],\"diverging\":[[0,\"#8e0152\"],[0.1,\"#c51b7d\"],[0.2,\"#de77ae\"],[0.3,\"#f1b6da\"],[0.4,\"#fde0ef\"],[0.5,\"#f7f7f7\"],[0.6,\"#e6f5d0\"],[0.7,\"#b8e186\"],[0.8,\"#7fbc41\"],[0.9,\"#4d9221\"],[1,\"#276419\"]]},\"xaxis\":{\"gridcolor\":\"white\",\"linecolor\":\"white\",\"ticks\":\"\",\"title\":{\"standoff\":15},\"zerolinecolor\":\"white\",\"automargin\":true,\"zerolinewidth\":2},\"yaxis\":{\"gridcolor\":\"white\",\"linecolor\":\"white\",\"ticks\":\"\",\"title\":{\"standoff\":15},\"zerolinecolor\":\"white\",\"automargin\":true,\"zerolinewidth\":2},\"scene\":{\"xaxis\":{\"backgroundcolor\":\"#E5ECF6\",\"gridcolor\":\"white\",\"linecolor\":\"white\",\"showbackground\":true,\"ticks\":\"\",\"zerolinecolor\":\"white\",\"gridwidth\":2},\"yaxis\":{\"backgroundcolor\":\"#E5ECF6\",\"gridcolor\":\"white\",\"linecolor\":\"white\",\"showbackground\":true,\"ticks\":\"\",\"zerolinecolor\":\"white\",\"gridwidth\":2},\"zaxis\":{\"backgroundcolor\":\"#E5ECF6\",\"gridcolor\":\"white\",\"linecolor\":\"white\",\"showbackground\":true,\"ticks\":\"\",\"zerolinecolor\":\"white\",\"gridwidth\":2}},\"shapedefaults\":{\"line\":{\"color\":\"#2a3f5f\"}},\"annotationdefaults\":{\"arrowcolor\":\"#2a3f5f\",\"arrowhead\":0,\"arrowwidth\":1},\"geo\":{\"bgcolor\":\"white\",\"landcolor\":\"#E5ECF6\",\"subunitcolor\":\"white\",\"showland\":true,\"showlakes\":true,\"lakecolor\":\"white\"},\"title\":{\"x\":0.05},\"mapbox\":{\"style\":\"light\"}}},\"geo\":{\"domain\":{\"x\":[0.0,1.0],\"y\":[0.0,1.0]},\"projection\":{\"type\":\"natural earth\"},\"center\":{},\"scope\":\"world\",\"showland\":true,\"landcolor\":\"lightgray\"},\"legend\":{\"title\":{\"text\":\"Port Name\"},\"tracegroupgap\":0},\"title\":{\"text\":\"First Arrivals: Vessel Locations by Port\"}},                        {\"responsive\": true}                    ).then(function(){\n",
              "                            \n",
              "var gd = document.getElementById('3ab5503b-4b0a-412f-8f8c-087e673cc80c');\n",
              "var x = new MutationObserver(function (mutations, observer) {{\n",
              "        var display = window.getComputedStyle(gd).display;\n",
              "        if (!display || display === 'none') {{\n",
              "            console.log([gd, 'removed!']);\n",
              "            Plotly.purge(gd);\n",
              "            observer.disconnect();\n",
              "        }}\n",
              "}});\n",
              "\n",
              "// Listen for the removal of the full notebook cells\n",
              "var notebookContainer = gd.closest('#notebook-container');\n",
              "if (notebookContainer) {{\n",
              "    x.observe(notebookContainer, {childList: true});\n",
              "}}\n",
              "\n",
              "// Listen for the clearing of the current output cell\n",
              "var outputEl = gd.closest('.output');\n",
              "if (outputEl) {{\n",
              "    x.observe(outputEl, {childList: true});\n",
              "}}\n",
              "\n",
              "                        })                };                            </script>        </div>\n",
              "</body>\n",
              "</html>"
            ]
          },
          "metadata": {}
        }
      ]
    },
    {
      "cell_type": "code",
      "source": [
        "import pandas as pd\n",
        "\n",
        "# 1. Create a sample DataFrame\n",
        "data = {\n",
        "    'MMSI': [1, 2, 3, 4, 5, 6, 7],\n",
        "    'BaseDateTime': ['2023-01-01 10:00:00', '2023-01-01 10:05:00', '2023-01-01 10:10:00', '2023-01-01 10:15:00', '2023-01-01 10:20:00', '2023-01-01 10:25:00', '2023-01-01 10:30:00'],\n",
        "    'LAT': [34.0, 34.1, 34.2, 34.3, 34.4, 34.5, 34.6],\n",
        "    'LON': [-118.0, -118.1, -118.2, -118.3, -118.4, -118.5, -118.6],\n",
        "    'VesselType': [70, 85, 30, 52, 20, 60, 91] # 20, 60, and 91 should be dropped\n",
        "}\n",
        "sample_df = pd.DataFrame(data)\n",
        "\n",
        "# Convert BaseDateTime to datetime objects\n",
        "sample_df[\"BaseDateTime\"] = pd.to_datetime(sample_df[\"BaseDateTime\"], errors='coerce')\n",
        "\n",
        "\n",
        "# 2. Check unique values in the original DataFrame\n",
        "print(\"Unique Vessel Types in Original DataFrame:\")\n",
        "print(sample_df[\"VesselType\"].unique())\n",
        "\n",
        "# Define the filtering logic\n",
        "allowed_vessel_types = range(70, 90)\n",
        "specific_vessel_types = [30, 52]\n",
        "\n",
        "# 3. Apply the filtering logic\n",
        "filtered_df = sample_df[\n",
        "    sample_df[\"VesselType\"].isin(allowed_vessel_types) | sample_df[\"VesselType\"].isin(specific_vessel_types)\n",
        "].copy()\n",
        "\n",
        "# You can also include the other filtering steps from your function\n",
        "# filtered_df = filtered_df.dropna(subset=[\"LAT\", \"LON\"])\n",
        "# filtered_df = filtered_df[(filtered_df[\"LAT\"] != 0) & (filtered_df[\"LON\"] != 0)]\n",
        "# filtered_df = filtered_df.dropna(subset=[\"BaseDateTime\"])\n",
        "\n",
        "\n",
        "# 4. Check unique values in the filtered DataFrame\n",
        "print(\"\\nUnique Vessel Types in Filtered DataFrame:\")\n",
        "print(filtered_df[\"VesselType\"].unique())\n",
        "\n",
        "# You can also check the shape of the DataFrames to see how many rows were removed\n",
        "print(\"\\nOriginal DataFrame shape:\", sample_df.shape)\n",
        "print(\"Filtered DataFrame shape:\", filtered_df.shape)"
      ],
      "metadata": {
        "id": "W62_LJQprnGV",
        "outputId": "d7202332-176c-432d-a46c-43633805d845",
        "colab": {
          "base_uri": "https://localhost:8080/"
        }
      },
      "execution_count": null,
      "outputs": [
        {
          "output_type": "stream",
          "name": "stdout",
          "text": [
            "Unique Vessel Types in Original DataFrame:\n",
            "[70 85 30 52 20 60 91]\n",
            "\n",
            "Unique Vessel Types in Filtered DataFrame:\n",
            "[70 85 30 52]\n",
            "\n",
            "Original DataFrame shape: (7, 5)\n",
            "Filtered DataFrame shape: (4, 5)\n"
          ]
        }
      ]
    },
    {
      "cell_type": "code",
      "source": [
        "import plotly.express as px\n",
        "import pandas as pd\n",
        "\n",
        "# Plotting just the unknowns to see where they are going\n",
        "\n",
        "\n",
        "if 'first_arrivals_df' in locals() and not first_arrivals_df.empty:\n",
        "\n",
        "    # Filter the DataFrame to include only \"Unknown\" ports\n",
        "    unknown_arrivals_df = first_arrivals_df[first_arrivals_df['Port Name'] == 'Unknown'].copy()\n",
        "\n",
        "    # Check if there are any unknown arrivals to plot\n",
        "    if not unknown_arrivals_df.empty:\n",
        "\n",
        "        # Create the scatter geo plot for unknown arrivals\n",
        "        fig = px.scatter_geo(\n",
        "            unknown_arrivals_df,\n",
        "            lat='LAT',\n",
        "            lon='LON',\n",
        "            title='First Arrivals with \"Unknown\" Port Names',\n",
        "            projection=\"natural earth\",\n",
        "            hover_name='VesselType' # You can still hover to see vessel type\n",
        "        )\n",
        "\n",
        "        # Customize the map layout\n",
        "        fig.update_layout(geo=dict(\n",
        "            scope='world', # You can change this scope if you want to focus on a specific region\n",
        "            showland=True,\n",
        "            landcolor=\"lightgray\",\n",
        "        ))\n",
        "\n",
        "        # Show the plot\n",
        "        fig.show()\n",
        "    else:\n",
        "        print(\"No 'Unknown' port names found in the first_arrivals_df.\")\n",
        "else:\n",
        "    print(\"first_arrivals_df is not available or is empty. Please run the previous cells to create it.\")"
      ],
      "metadata": {
        "id": "nvouxUppsLo5",
        "outputId": "718d9274-0881-4a68-8ceb-62b1a2cf2c24",
        "colab": {
          "base_uri": "https://localhost:8080/",
          "height": 543
        }
      },
      "execution_count": null,
      "outputs": [
        {
          "output_type": "display_data",
          "data": {
            "text/html": [
              "<html>\n",
              "<head><meta charset=\"utf-8\" /></head>\n",
              "<body>\n",
              "    <div>            <script src=\"https://cdnjs.cloudflare.com/ajax/libs/mathjax/2.7.5/MathJax.js?config=TeX-AMS-MML_SVG\"></script><script type=\"text/javascript\">if (window.MathJax && window.MathJax.Hub && window.MathJax.Hub.Config) {window.MathJax.Hub.Config({SVG: {font: \"STIX-Web\"}});}</script>                <script type=\"text/javascript\">window.PlotlyConfig = {MathJaxConfig: 'local'};</script>\n",
              "        <script charset=\"utf-8\" src=\"https://cdn.plot.ly/plotly-2.35.2.min.js\"></script>                <div id=\"6ddf9a70-2773-4ff7-bbe2-f826571f0d55\" class=\"plotly-graph-div\" style=\"height:525px; width:100%;\"></div>            <script type=\"text/javascript\">                                    window.PLOTLYENV=window.PLOTLYENV || {};                                    if (document.getElementById(\"6ddf9a70-2773-4ff7-bbe2-f826571f0d55\")) {                    Plotly.newPlot(                        \"6ddf9a70-2773-4ff7-bbe2-f826571f0d55\",                        [{\"geo\":\"geo\",\"hovertemplate\":\"\\u003cb\\u003e%{hovertext}\\u003c\\u002fb\\u003e\\u003cbr\\u003e\\u003cbr\\u003eLAT=%{lat}\\u003cbr\\u003eLON=%{lon}\\u003cextra\\u003e\\u003c\\u002fextra\\u003e\",\"hovertext\":[80.0,80.0,80.0,80.0,80.0,70.0,70.0,70.0,70.0,70.0,70.0,79.0,80.0,70.0,70.0,70.0,70.0,70.0,70.0,70.0,70.0,70.0,70.0,70.0,70.0,70.0,70.0,70.0,70.0,70.0,70.0,70.0,70.0,70.0,70.0,70.0,70.0,70.0,70.0,70.0,70.0,80.0,71.0,70.0,80.0,70.0,80.0,70.0,70.0,70.0,70.0,70.0,70.0,70.0,82.0,89.0,70.0,70.0,70.0,70.0,80.0,80.0,80.0,80.0,80.0,80.0,70.0,70.0,70.0,70.0,70.0,80.0,70.0,80.0,80.0,80.0,72.0,80.0,71.0,80.0,80.0,70.0,80.0,70.0,80.0,70.0,80.0,80.0,80.0,80.0,80.0,70.0,70.0,80.0,70.0,80.0,70.0,70.0,80.0,70.0,80.0,80.0,70.0,80.0,80.0,80.0,80.0,80.0,80.0,80.0,80.0,70.0,80.0,80.0,70.0,80.0,80.0,80.0,80.0,80.0,80.0,80.0,70.0,70.0,80.0,70.0,70.0,70.0,70.0,70.0,70.0,70.0,70.0,70.0,70.0,80.0,80.0,70.0,70.0,80.0,70.0,70.0,80.0,80.0,80.0,80.0,80.0,80.0,70.0,80.0,80.0,70.0,80.0,80.0,80.0,70.0,70.0,70.0,70.0,70.0,70.0,70.0,70.0,70.0,70.0,70.0,70.0,70.0,70.0,89.0,89.0,71.0,70.0,70.0,70.0,80.0,70.0,70.0,70.0,80.0,80.0,80.0,70.0,70.0,70.0,70.0,83.0,80.0,79.0,70.0,80.0,70.0,70.0,70.0,70.0,70.0,70.0,80.0,70.0,70.0,80.0,80.0,80.0,70.0,80.0,80.0,70.0,70.0,70.0,80.0,70.0,80.0,70.0,80.0,30.0,80.0,70.0,30.0,30.0,30.0,30.0,70.0,30.0,30.0,30.0,30.0,30.0,80.0,30.0,30.0,30.0,80.0,70.0,30.0,30.0,30.0,70.0,70.0,70.0,70.0,70.0,70.0,80.0,70.0,70.0,70.0,70.0,70.0,70.0,70.0,70.0,70.0,70.0,70.0,70.0,70.0,70.0,70.0,70.0,70.0,80.0,70.0,70.0,80.0,80.0,70.0,80.0,70.0,70.0,70.0,80.0,80.0,80.0,70.0,80.0,80.0,70.0,70.0,70.0,70.0,80.0,80.0,80.0,70.0,80.0,80.0,70.0,70.0,80.0,70.0,80.0,80.0,80.0,80.0,70.0,70.0,70.0,80.0,80.0,70.0,79.0,70.0,70.0,80.0,80.0,70.0,80.0,70.0,70.0,70.0,70.0,80.0,70.0,70.0,70.0,80.0,80.0,70.0,80.0,80.0,80.0,80.0,80.0,80.0,70.0,70.0,80.0,30.0,70.0,70.0,30.0,30.0,70.0,30.0,70.0,70.0,70.0,30.0,30.0,70.0,70.0,70.0,70.0,30.0,30.0,70.0,30.0,30.0,30.0,30.0,30.0,30.0,81.0,70.0,30.0,30.0,30.0,30.0,30.0,30.0,30.0,30.0,30.0,52.0,70.0,30.0,30.0,52.0,70.0,70.0,70.0,30.0,52.0,80.0,30.0,30.0,30.0,30.0,52.0,52.0,52.0,52.0,52.0,30.0,30.0,30.0,30.0,30.0,30.0,30.0,52.0,30.0,30.0,30.0,30.0,30.0,30.0,80.0,30.0,30.0,30.0,30.0,30.0,30.0,30.0,30.0,70.0,70.0,30.0,52.0,52.0,30.0,80.0,30.0,70.0,30.0,70.0,80.0,30.0,80.0,30.0,80.0,80.0,30.0,30.0,71.0,30.0,70.0,80.0,70.0,30.0,70.0,30.0,30.0,70.0,70.0,30.0,30.0,30.0,52.0,30.0,30.0,52.0,30.0,70.0,70.0,30.0,30.0,70.0,30.0,70.0,70.0,30.0,52.0,80.0,30.0,70.0,70.0,70.0,70.0,30.0,80.0,80.0,52.0,52.0,70.0,52.0,30.0,30.0,52.0,52.0,52.0,30.0,30.0,30.0,30.0,30.0,52.0,70.0,80.0,70.0,80.0,70.0,70.0,80.0,70.0,80.0,80.0,80.0,80.0,80.0,80.0,30.0,30.0,30.0,30.0,30.0,30.0,30.0,30.0,30.0,30.0,30.0,30.0,30.0,30.0,30.0,30.0,30.0,30.0,70.0,30.0,30.0,30.0,30.0,30.0,30.0,30.0,80.0,30.0,30.0,30.0,30.0,30.0,30.0,30.0,30.0,30.0,30.0,30.0,30.0,30.0,30.0,30.0,30.0,80.0,30.0,30.0,30.0,30.0,30.0,30.0,30.0,30.0,30.0,30.0,30.0,30.0,30.0,30.0,30.0,30.0,30.0,30.0,30.0,30.0,30.0,30.0,30.0,30.0,30.0,30.0,30.0,30.0,70.0,80.0,30.0,30.0,30.0,30.0,30.0,30.0,30.0,30.0,30.0,30.0,70.0,30.0,80.0,30.0,30.0,30.0,70.0,80.0,30.0,80.0,70.0,70.0,70.0,30.0,70.0,80.0,70.0,70.0,70.0,70.0,70.0,70.0,70.0,80.0,70.0,70.0,70.0,70.0,70.0,70.0,70.0,70.0,70.0,70.0,79.0,80.0,80.0,70.0,70.0,70.0,70.0,70.0,70.0,70.0,70.0,70.0,70.0,70.0,70.0,70.0,70.0,70.0,70.0,70.0,70.0,70.0,80.0,70.0,70.0,70.0,70.0,70.0,70.0,70.0,70.0,70.0,70.0,70.0,70.0,70.0,70.0,80.0,70.0,70.0,70.0,80.0,70.0,70.0,70.0,70.0,70.0,70.0,70.0,70.0,70.0,80.0,70.0,70.0,70.0,70.0,70.0,70.0,80.0,70.0,70.0,80.0,70.0,70.0,70.0,70.0,70.0,70.0,70.0,70.0,70.0,70.0,70.0,70.0,80.0,80.0,70.0,70.0,70.0,70.0,70.0,70.0,70.0,70.0,80.0,70.0,80.0,70.0,70.0,70.0,79.0,70.0,70.0,70.0,30.0,30.0,30.0,30.0,30.0,30.0,30.0,30.0,30.0,30.0,30.0,30.0,80.0,30.0,30.0,30.0,30.0,30.0,30.0,30.0,30.0,30.0,80.0,80.0,30.0,70.0,30.0,30.0,30.0,30.0,30.0,30.0,30.0,30.0,30.0,30.0,30.0,30.0,30.0,30.0,30.0,70.0,30.0,30.0,70.0,30.0,30.0,30.0,30.0,30.0,30.0,30.0,70.0,30.0,30.0,30.0,30.0,30.0,30.0,30.0,30.0,30.0,30.0,30.0,30.0,30.0,70.0,30.0,30.0,30.0,30.0,30.0,30.0,30.0,30.0,80.0,30.0,30.0,30.0,30.0,30.0,30.0,30.0,30.0,30.0,70.0,30.0,70.0,30.0,30.0,70.0,30.0,70.0,70.0,70.0,70.0,70.0,70.0,70.0,52.0,30.0,70.0,30.0,30.0,30.0,30.0,70.0,30.0,70.0,70.0,30.0,30.0,30.0,30.0,30.0,30.0,30.0,30.0,30.0,30.0,30.0,30.0,30.0,30.0,70.0,70.0,70.0,70.0,70.0,70.0,30.0,30.0,30.0,30.0,30.0,70.0,30.0,30.0,30.0,30.0,30.0,30.0,52.0,52.0,30.0,30.0,30.0,30.0,30.0,30.0,30.0,30.0,30.0,30.0,30.0,30.0,30.0,30.0,30.0,30.0,30.0,70.0,30.0,70.0,30.0,30.0,30.0,70.0,30.0,30.0,70.0,30.0,30.0,30.0,30.0,70.0,30.0,30.0,30.0,30.0,30.0,30.0,30.0,30.0,30.0,30.0,30.0,30.0,79.0,30.0,30.0,30.0,30.0,30.0,30.0,30.0,30.0,30.0,30.0,30.0,30.0,30.0,30.0,30.0,30.0,30.0,30.0,30.0,30.0,30.0,30.0,30.0,30.0,30.0,30.0,30.0,30.0,30.0,30.0,30.0,30.0,30.0,30.0,30.0,30.0,30.0,30.0,30.0,30.0,30.0,30.0,30.0,30.0,80.0,30.0,30.0,30.0,30.0,30.0,30.0,30.0,30.0,30.0,30.0,70.0,70.0,70.0,30.0,30.0,30.0,70.0,80.0,30.0,30.0,30.0,30.0,30.0,30.0,52.0,30.0,30.0,80.0,30.0,30.0,30.0,30.0,30.0,70.0,30.0,30.0,30.0,70.0,30.0,30.0,30.0,30.0,30.0,30.0,30.0,30.0,70.0,30.0,30.0,52.0,30.0,30.0,30.0,30.0,30.0,30.0,30.0,30.0,30.0,30.0,30.0,30.0,30.0,30.0,30.0,30.0,30.0,30.0,30.0,30.0,30.0,30.0,30.0,30.0,30.0,30.0,30.0,70.0,30.0,30.0,30.0,30.0,30.0,30.0,30.0,30.0,30.0,30.0,30.0,30.0,30.0,30.0,30.0,30.0,52.0,30.0,30.0,30.0,30.0,30.0,30.0,30.0,30.0,30.0,30.0,30.0,70.0,30.0,30.0,30.0,30.0,30.0,30.0,30.0,30.0,30.0,30.0,30.0,30.0,30.0,30.0,30.0,30.0,30.0,79.0,30.0,30.0,30.0,70.0,30.0,30.0,30.0,30.0,30.0,30.0,30.0,30.0,30.0,30.0,30.0,30.0,30.0,30.0,30.0,30.0,30.0,30.0,30.0,30.0,30.0,30.0,30.0,30.0,70.0,30.0,30.0,30.0,30.0,30.0,30.0,30.0,80.0,80.0,30.0,30.0,30.0,30.0,30.0,30.0,30.0,30.0,30.0,30.0,30.0,30.0,30.0,30.0,70.0,30.0,30.0,30.0,30.0,30.0,30.0,30.0,30.0,30.0,30.0,30.0,30.0,80.0,30.0,30.0,30.0,30.0,30.0,30.0,30.0,30.0,30.0,30.0,30.0,30.0,30.0,30.0,30.0,30.0,30.0,30.0,80.0,30.0,30.0,30.0,30.0,30.0,30.0,30.0,30.0,30.0,30.0,30.0,30.0,30.0,30.0,52.0,30.0,30.0,70.0,30.0,30.0,30.0,30.0,30.0,52.0,30.0,30.0,30.0,30.0,30.0,30.0,30.0,30.0,30.0,70.0,30.0,30.0,30.0,30.0,30.0,30.0,30.0,30.0,30.0,30.0,30.0,30.0,30.0,30.0,30.0,30.0,30.0,80.0,30.0,30.0,30.0,30.0,30.0,30.0,30.0,30.0,30.0,30.0,30.0,30.0,30.0,30.0,30.0,30.0,30.0,30.0,30.0,30.0,30.0,30.0,30.0,30.0,30.0,30.0,30.0,30.0,30.0,30.0,30.0,30.0,30.0,30.0,30.0,30.0,30.0,30.0,30.0,52.0,30.0,30.0,30.0,30.0,30.0,30.0,30.0,30.0,30.0,30.0,30.0,30.0,30.0,30.0,30.0,30.0,30.0,30.0,30.0,30.0,30.0,30.0,30.0,30.0,30.0,30.0,30.0,70.0,30.0,30.0,30.0,30.0,30.0,30.0,30.0,30.0,30.0,30.0,30.0,30.0,30.0,30.0,30.0,30.0,30.0,30.0,30.0,30.0,30.0,30.0,30.0,30.0,30.0,30.0,30.0,30.0,30.0,30.0,30.0,30.0,30.0,30.0,30.0,30.0,30.0,30.0,30.0,30.0,30.0,30.0,30.0,30.0,30.0,30.0,30.0,30.0,30.0,30.0,30.0,30.0,30.0,30.0,30.0,30.0,30.0,30.0,30.0,30.0,30.0,30.0,30.0,30.0,30.0,30.0,30.0,30.0,30.0,30.0,30.0,30.0,30.0,30.0,30.0,30.0,30.0,30.0,30.0,30.0,30.0,30.0,30.0,30.0,30.0,30.0,30.0,30.0,30.0,80.0,30.0,30.0,30.0,30.0,30.0,30.0,30.0,30.0,30.0,30.0,30.0,30.0,30.0,30.0,30.0,30.0,30.0,30.0,30.0,30.0,30.0,30.0,30.0,30.0,30.0,30.0,30.0,30.0,30.0,30.0,30.0,30.0,30.0,30.0,30.0,30.0,30.0,30.0,30.0,30.0,30.0,30.0,30.0,80.0,30.0,30.0,30.0,30.0,30.0,30.0,30.0,30.0,30.0,80.0,30.0,30.0,30.0,30.0,30.0,30.0,30.0,30.0,30.0,80.0,30.0,30.0,30.0,30.0,30.0,30.0,30.0,70.0,30.0,80.0,30.0,30.0,30.0,30.0,30.0,30.0,30.0,30.0,30.0,30.0,30.0,30.0,30.0,30.0,30.0,30.0,30.0,30.0,30.0,70.0,30.0,30.0,30.0,30.0,30.0,30.0,30.0,30.0,30.0,30.0,30.0,30.0,30.0,30.0,30.0,30.0,30.0,30.0,30.0,30.0,30.0,30.0,30.0,30.0,30.0,30.0,30.0,30.0,30.0,30.0,30.0,30.0,30.0,30.0,30.0,30.0,30.0,30.0,30.0,30.0,30.0,30.0,30.0,30.0,30.0,30.0,30.0,30.0,30.0,30.0,30.0,70.0,30.0,30.0,30.0,30.0,30.0,30.0,30.0,30.0,30.0,30.0,30.0,70.0,30.0,30.0,30.0,30.0,30.0,30.0,30.0,30.0,30.0,30.0,30.0,30.0,30.0,30.0,30.0,80.0,30.0,30.0,30.0,30.0,70.0,80.0,30.0,30.0,30.0,30.0,30.0,30.0,30.0,30.0,30.0,30.0,30.0,30.0,30.0,52.0,30.0,30.0,30.0,52.0,30.0,30.0,30.0,30.0,52.0,30.0,30.0,71.0,30.0,30.0,30.0,30.0,30.0,30.0,30.0,30.0,30.0,52.0,30.0,52.0,30.0,30.0,30.0,52.0,30.0,30.0,30.0,30.0,30.0,30.0,30.0,30.0,30.0,30.0,30.0,70.0,52.0,52.0,30.0,30.0,30.0,30.0,30.0,30.0,30.0,52.0,30.0,30.0,30.0,30.0,30.0,30.0,30.0,30.0,52.0,30.0,30.0,30.0,30.0,30.0,30.0,70.0,30.0,30.0,30.0,30.0,30.0,30.0,30.0,30.0,30.0,80.0,70.0,80.0,52.0,80.0,70.0,30.0,30.0,30.0,30.0,30.0,30.0,80.0,30.0,30.0,30.0,30.0,30.0,70.0,80.0,80.0,80.0,80.0,70.0,80.0,70.0,70.0,79.0,80.0,70.0,70.0,70.0,70.0,70.0,70.0,70.0,70.0,80.0,70.0,79.0,70.0,70.0,80.0,70.0,70.0,80.0,70.0,70.0,70.0,70.0,80.0,80.0,70.0,70.0,70.0,80.0,70.0,70.0,70.0,70.0,70.0,70.0,70.0,70.0,70.0,70.0,70.0,70.0,70.0,80.0,70.0,70.0,70.0,70.0,70.0,70.0,70.0,70.0,80.0,70.0,70.0,70.0,80.0,70.0,70.0,70.0,70.0,70.0,80.0,70.0,70.0,70.0,70.0,80.0,70.0,70.0,80.0,70.0,70.0,70.0,70.0,70.0,70.0,70.0,70.0,70.0,70.0,70.0,52.0,70.0,80.0,80.0,80.0,70.0,70.0,70.0,70.0,70.0,70.0,80.0,70.0,70.0,70.0,70.0,70.0,70.0,70.0,70.0,70.0,70.0,80.0,80.0,70.0,70.0,70.0,70.0,70.0,80.0,70.0,70.0,70.0,70.0,80.0,70.0,70.0,70.0,70.0,70.0,80.0,70.0,70.0,70.0,80.0,80.0,70.0,70.0,70.0,70.0,70.0,70.0,70.0,70.0,70.0,70.0,70.0,70.0,80.0,70.0,70.0,70.0,70.0,80.0,72.0,70.0,80.0,70.0,70.0,70.0,70.0,70.0,70.0,70.0,70.0,70.0,70.0,70.0,70.0,70.0,70.0,70.0,80.0,70.0,70.0,70.0,70.0,80.0,70.0,70.0,70.0,70.0,70.0,70.0,80.0,52.0,70.0,80.0,80.0,80.0,70.0,80.0,80.0,80.0,80.0,80.0,80.0,80.0,80.0,70.0,80.0,70.0,70.0,80.0,80.0,80.0,70.0,80.0,70.0,80.0,80.0,70.0,80.0,70.0,80.0,89.0,80.0,70.0,70.0,70.0,70.0,80.0,70.0,70.0,80.0,80.0,80.0,70.0,70.0,70.0,80.0,70.0,70.0,80.0,70.0,70.0,80.0,80.0,70.0,70.0,80.0,70.0,80.0,70.0,70.0,70.0,80.0,80.0,80.0,80.0,70.0,80.0,70.0,70.0,70.0,70.0,80.0,80.0,80.0,70.0,80.0,80.0,80.0,80.0,70.0,70.0,70.0,70.0,80.0,70.0,80.0,80.0,80.0,80.0,70.0,80.0,80.0,70.0,80.0,80.0,80.0,80.0,70.0,80.0,80.0,80.0,70.0,80.0,70.0,80.0,80.0,70.0,80.0,80.0,70.0,80.0,80.0,70.0,70.0,80.0,80.0,81.0,70.0,80.0,80.0,80.0,70.0,80.0,70.0,71.0,71.0,84.0,80.0,80.0,70.0,80.0,80.0,70.0,80.0,70.0,70.0,70.0,70.0,80.0,80.0,70.0,80.0,80.0,80.0,80.0,80.0,80.0,80.0,80.0,70.0,70.0,70.0,80.0,70.0,80.0,70.0,70.0,80.0,80.0,70.0,70.0,80.0,80.0,70.0,70.0,80.0,80.0,70.0,80.0,70.0,70.0,80.0,70.0,70.0,70.0,79.0,80.0,70.0,80.0,70.0,70.0,70.0,70.0,70.0,80.0,70.0,70.0,70.0,70.0,70.0,70.0,70.0,70.0,70.0,70.0,70.0,79.0,80.0,70.0,80.0,80.0,80.0,80.0,80.0,80.0,80.0,80.0,70.0,80.0,70.0,70.0,70.0,80.0,80.0,80.0,80.0,80.0,70.0,80.0,80.0,70.0,80.0,70.0,80.0,80.0,80.0,80.0,70.0,80.0,70.0,70.0,80.0,70.0,70.0,80.0,70.0,70.0,70.0,70.0,80.0,80.0,70.0,70.0,80.0,80.0,70.0,80.0,80.0,70.0,70.0,70.0,70.0,70.0,70.0,70.0,70.0,70.0,70.0,70.0,70.0,70.0,80.0,70.0,70.0,70.0,70.0,80.0,70.0,70.0,70.0,70.0,70.0,70.0,70.0,70.0,70.0,70.0,70.0,80.0,70.0,80.0,80.0,80.0,70.0,70.0,80.0,70.0,70.0,79.0,71.0,70.0,80.0,70.0,79.0,80.0,80.0,89.0,72.0,71.0,70.0,73.0,80.0,80.0,70.0,70.0,70.0,70.0,70.0,70.0,70.0,70.0,70.0,70.0,70.0,70.0,70.0,70.0,70.0,70.0,71.0,70.0,70.0,76.0,70.0,70.0,70.0,70.0,80.0],\"lat\":[26.13212,25.28293,45.12506,15.91152,28.93657,28.57353,24.49808,18.42348,35.5956,30.18271,23.60861,23.35152,17.00068,25.80055,25.80604,45.77393,24.66289,30.06448,24.2357,24.97697,28.84297,27.59261,36.50047,59.10072,34.74697,23.78308,31.61067,42.29776,37.03795,23.9895,30.6795,30.03903,46.96406,26.78185,26.9647,27.90416,49.28918,26.0905,27.62758,18.1396,25.49536,29.40667,29.09735,29.57748,28.30107,18.45426,28.35395,31.59855,54.13259,28.59257,40.73452,33.04479,27.06876,24.39929,25.15892,17.07709,21.85739,36.99996,33.00687,34.21782,33.73201,16.09175,28.55833,17.06312,17.63734,27.25616,39.78067,48.44886,41.29436,30.08158,30.03437,21.23084,48.60477,28.89772,25.66399,29.74295,34.50753,26.44102,18.28263,27.05672,18.09187,54.52557,37.46788,39.9079,25.87973,30.36459,37.54523,28.34128,27.39111,28.62884,27.81442,32.85682,48.39003,17.96717,25.92765,25.95682,29.91751,25.20911,18.4197,22.88782,25.47664,40.57345,29.58015,29.08925,28.445,14.69927,27.82102,27.32778,16.89682,17.90423,28.1559,30.64658,37.75674,24.57807,34.19398,32.44051,24.58146,28.64764,28.94001,30.03765,26.61251,27.11357,23.33365,27.84296,42.93403,28.40905,29.6014,38.01546,29.99927,24.63638,37.16214,33.5086,23.75874,27.5356,32.26243,27.76596,28.70583,38.97312,23.23917,20.6595,38.60115,27.07874,28.62144,40.56172,28.70534,29.85059,28.67955,27.82147,24.37143,28.79881,18.43011,41.58463,18.02017,45.6179,26.79577,27.126,38.9808,48.47002,23.5083,15.87847,30.54966,27.38849,39.99558,40.54107,49.2894,32.57167,23.77729,17.97333,38.63611,28.66032,48.62344,27.24163,18.42145,36.47712,25.25676,17.04233,28.72874,15.30414,49.28833,45.61239,28.94799,26.88699,49.0196,18.42888,49.28497,26.87692,24.66573,37.95079,29.86258,37.23458,34.18457,47.98342,49.17849,45.78906,27.2753,27.80682,31.06625,28.37532,30.27294,30.55121,24.28179,28.52803,23.74972,27.34477,24.63754,40.5611,54.10217,26.18687,30.08174,27.98707,22.73908,19.54767,40.50742,60.88663,53.87831,38.68232,27.39291,53.87875,49.94604,55.63513,57.77835,26.0631,54.8616,53.87875,54.13296,53.88145,55.05932,27.92973,53.86914,53.98805,53.94378,61.089,38.64272,53.86831,53.88013,57.77635,27.92705,23.32869,23.40744,26.85166,41.70645,32.20428,24.52673,22.58035,23.18386,28.906,23.4125,18.27286,25.65018,34.89717,29.49604,24.13317,30.13303,23.98033,34.19096,28.877,29.48515,21.19809,21.48946,28.86914,28.70432,30.0432,45.01364,28.66825,32.10587,24.60838,11.22102,40.74866,16.11005,22.36012,27.76932,27.40004,29.8858,33.67483,29.61661,25.10516,30.70612,24.82983,35.87279,60.11826,22.30414,25.81942,30.85181,26.96414,35.15389,30.6291,30.08585,54.04896,25.42745,29.83731,24.62636,38.40185,27.12776,25.09057,22.86133,23.99938,37.57525,28.4754,27.81016,28.53623,19.4146,39.38366,48.46887,48.49487,38.94916,17.63405,30.17836,27.63349,39.40502,37.519,30.33696,27.83266,19.908,16.15897,25.07768,27.6315,24.88378,27.48217,26.50268,18.24412,26.4077,25.00212,25.00418,25.00374,45.70705,45.53193,24.08921,49.16707,45.40719,44.37827,49.17684,49.12443,42.91083,48.4295,47.69632,42.87967,48.35639,48.94371,44.62607,45.32748,41.86778,45.40745,41.87613,48.94686,48.99935,46.6994,48.37381,34.0577,49.34957,49.12307,49.12352,54.23729,42.95721,49.14434,49.11973,49.11822,49.1748,49.35013,48.36991,49.16339,49.12378,48.75426,49.30188,48.9997,46.33567,49.53533,48.36977,43.63916,47.71933,46.43237,47.69232,49.27214,49.51094,42.95838,54.32325,49.11818,49.34898,54.22716,49.29057,49.29037,48.4278,49.29019,49.19987,49.12453,49.08553,54.19498,49.27203,49.27204,49.12384,49.12361,54.29194,49.20047,49.29137,49.27197,54.20608,31.89499,54.31961,42.73615,54.22781,48.9476,54.29402,54.29346,49.09226,48.74162,54.29414,49.27218,46.7785,43.23997,54.32504,49.20333,49.19993,49.29844,45.73046,54.32453,43.27787,49.16716,43.29544,45.62735,54.29346,42.99267,49.11884,42.71678,45.0933,49.2042,54.29268,49.20758,54.28908,43.47332,42.26346,45.55851,48.42977,45.49572,48.95013,54.32455,43.27081,42.90708,49.12452,49.30304,49.11827,49.20314,49.11962,49.34959,49.29233,49.29867,44.1244,45.5358,49.11811,49.3496,45.77953,48.66781,42.70778,46.46953,49.40001,43.74717,43.92401,49.12353,43.64248,49.77463,48.80461,49.00576,49.08569,45.58127,45.63132,48.41312,48.41513,48.68869,48.38936,54.19601,54.29085,48.74189,49.29241,49.29222,49.12346,49.12433,49.11884,49.18871,48.46426,48.88401,43.63379,45.5491,45.55853,45.52406,45.24093,14.30168,27.22629,29.9417,28.34273,27.6891,23.27983,31.19433,39.84416,28.84858,47.23086,27.77085,44.07575,34.17445,46.9076,56.45814,55.33405,56.81064,43.97763,35.84477,38.77951,56.45723,59.60567,59.23322,35.2242,35.84511,48.52199,39.75057,48.4944,35.84008,56.80507,24.72811,41.66837,48.12625,34.21189,58.38202,29.84592,56.80943,40.76346,56.81081,56.81326,25.09577,46.16724,43.12062,56.81062,57.1681,43.65465,40.06429,35.84406,43.65619,34.41662,53.84407,44.08478,27.47308,26.82627,58.38465,41.57298,35.84464,55.34922,38.32778,27.88692,28.69439,43.79674,43.5845,45.60171,35.84468,38.32849,36.60316,27.83983,41.38392,44.04349,56.80932,36.29992,41.45435,55.34938,35.84143,41.66921,35.89469,56.81122,26.94607,33.55548,38.32744,30.5295,30.02348,26.70441,26.82851,40.84183,28.40891,38.40743,46.75333,28.04903,30.28452,39.76098,35.89386,29.08477,31.86333,60.64354,39.15722,39.15708,38.98828,32.53044,48.86113,44.62535,27.8265,26.60854,14.09248,34.65443,35.84134,25.55861,24.16442,34.15324,14.92163,26.54304,31.8442,36.06547,30.54363,26.24407,14.12867,54.64287,47.90443,25.0778,49.29689,23.18936,54.11952,41.88659,29.80353,49.0153,35.78682,25.76882,37.55302,40.57161,30.44182,53.94808,24.47905,46.19157,29.7514,23.20898,25.07738,31.00927,49.28215,27.09784,31.60499,33.3036,24.19963,30.04156,30.02523,49.30022,23.13501,30.79294,30.21877,25.61788,49.30178,29.45222,28.04478,25.87938,32.774,28.88603,27.42581,25.69443,54.13503,26.41503,29.38247,27.52493,54.15001,18.04309,23.82178,38.66335,49.30445,24.89348,28.2661,42.72542,39.79417,35.24276,28.79194,11.52969,28.89392,18.45617,41.79271,29.89713,26.80587,49.30865,23.66674,54.10895,54.23306,25.62393,34.44835,29.9137,17.18416,30.11605,28.38762,37.73823,24.67825,22.50304,48.46903,26.41105,25.80384,30.05227,46.1244,26.304,23.51313,54.28545,27.24371,23.86098,49.29578,27.54408,23.41759,20.55611,48.49165,48.30762,44.42127,49.18615,29.32893,29.43025,23.25568,23.02329,14.61653,27.01594,54.54435,49.2931,48.8292,49.28896,30.08085,57.78357,57.04967,26.71424,48.7553,41.36349,59.60385,41.08895,44.43054,38.94903,41.64218,41.38053,54.86392,29.59918,40.53848,41.37754,55.33387,42.04667,38.99286,46.90638,41.4895,53.91118,46.16782,39.04524,27.8793,57.78466,48.94405,57.78831,57.78688,26.47638,41.46496,56.81142,38.95796,46.10369,57.78627,57.78644,44.62532,30.42272,38.95826,55.05402,38.95861,41.4063,22.13956,53.91049,46.90622,28.85165,27.92833,44.66334,24.88962,56.81091,44.06629,41.63914,36.22419,29.79715,37.9985,29.08123,30.40419,25.27591,56.48303,30.39352,30.39663,29.88225,48.14067,28.9107,41.63807,43.39955,41.37894,30.67994,56.8141,42.48297,28.69939,41.52637,53.90977,28.70084,30.41312,41.63921,59.61814,28.88461,29.16571,30.39675,30.42264,39.75081,27.81503,35.14452,56.81089,38.61294,45.06822,48.51176,54.2342,44.11224,53.87861,46.20448,46.16646,47.71258,46.77125,46.49203,43.90302,46.86146,46.57967,47.55899,29.26133,38.32744,46.6999,27.80441,41.77264,25.79154,57.77856,47.28168,42.04638,41.50249,46.26132,53.87798,57.05744,51.86152,55.54386,59.43741,41.45596,46.90776,41.62812,44.11216,56.8107,57.77781,38.95871,35.16533,35.02369,44.84273,47.0169,46.40263,47.01553,46.73245,47.24543,35.02961,40.91546,35.01706,39.37483,41.64303,30.67885,29.82197,41.62906,40.84229,39.75083,51.96131,29.73757,44.46308,29.57693,41.64325,59.60616,38.95693,38.94423,53.87941,29.37867,41.58729,39.75037,30.00814,53.83044,46.16808,55.05355,55.05519,55.35045,55.05578,46.16772,55.05472,33.56105,46.16719,41.63645,53.87707,41.38128,48.5215,46.64743,40.80728,39.7524,29.25107,46.3036,43.3456,46.20002,55.33438,18.44771,30.25458,41.62723,46.18859,57.77894,41.64265,39.37409,41.36768,31.13818,41.0919,39.75038,56.81109,42.3018,29.54587,41.63946,55.33509,57.77742,55.33349,53.9077,57.7782,41.59372,39.75042,29.82208,29.82227,29.82281,29.82231,29.82186,56.8096,27.45772,46.16711,25.12023,56.81054,56.81357,43.80815,41.63327,57.77766,56.81088,53.87961,41.6362,35.14444,53.91006,53.91242,57.77897,26.06966,56.46843,51.9468,34.98328,60.54474,35.28097,56.81115,48.75107,34.40365,37.82829,37.82838,29.87578,29.65499,29.82081,29.82253,30.11172,29.18957,39.75053,60.1186,34.61243,28.97231,28.88102,57.77895,41.38092,24.72404,39.76146,44.84255,46.76918,41.69705,53.86941,55.05896,59.57856,30.37407,47.87765,56.27374,30.41176,43.6513,41.7726,41.38061,38.95811,27.79211,29.19226,38.95869,48.86276,38.95831,56.80969,38.94866,29.81129,53.90193,26.90966,55.05815,42.98008,35.84072,28.80308,39.37331,35.23268,24.93629,57.77797,42.03624,26.0708,24.92264,41.62876,18.32332,38.32695,41.58808,39.19748,48.75731,41.63052,46.16906,24.84484,41.37926,30.74982,46.30217,57.78653,41.64196,46.16716,30.30357,41.62951,56.46566,24.92323,57.78586,60.12046,41.48895,41.48872,26.06739,38.69132,41.63069,46.16721,46.19973,41.48951,27.92774,41.37991,59.60489,24.50697,57.78596,35.50858,46.16853,40.51505,35.50838,41.63513,56.81072,30.4048,56.81311,57.05819,46.16718,38.94886,39.48552,36.75672,57.77825,39.72685,29.93012,24.90209,56.81244,41.19324,26.18422,24.84991,41.64533,46.19678,29.41361,57.7783,40.62034,30.39359,22.44439,46.16931,41.63325,56.80989,35.84315,38.95805,35.0112,39.36365,41.48694,35.26586,60.08816,33.0566,24.88353,26.45796,38.5519,35.84119,55.16122,41.42735,59.62059,29.35221,46.16915,40.90657,48.52154,41.60661,28.97204,30.41319,53.86829,41.63753,53.87679,38.95842,30.39213,57.77873,43.75206,35.2435,48.51259,57.77763,41.63423,41.38094,56.811,58.30497,46.16855,57.77776,37.82839,55.33336,41.37768,43.97729,54.03684,42.31127,55.34967,23.57595,39.37234,39.37265,38.95771,28.18846,38.98841,39.9329,38.88152,46.16725,46.16793,30.41318,57.77987,29.00449,53.86873,46.16722,53.86852,53.83068,36.18812,38.94878,56.46785,57.78771,54.12557,13.45855,41.59406,48.75577,53.91217,27.92874,60.54444,41.09371,34.71945,57.77842,57.78665,46.30371,30.38785,38.95869,29.58246,43.61792,46.18843,39.7502,41.63899,40.6997,27.45881,30.42274,53.86814,41.63834,41.74943,57.05783,43.19763,24.80377,38.3723,29.87595,38.9093,38.95874,48.51286,44.11109,41.37532,27.47088,57.78665,55.33346,29.19899,48.7554,39.76095,53.84455,39.75021,55.0592,53.8445,39.88519,41.64303,29.76261,30.08789,41.37748,53.86855,55.40426,28.96007,43.34457,38.95833,53.87656,35.35731,43.07905,29.17688,39.76137,41.58906,38.32697,57.7777,24.89888,29.37824,57.78521,55.05929,36.68397,48.75446,28.69817,41.63555,42.92922,41.63958,29.78469,29.78447,29.78474,56.81143,41.63829,29.21789,29.3887,34.72198,56.81106,39.7503,29.11439,34.24275,29.02912,34.75865,36.80092,28.93403,29.79769,35.24468,24.94799,36.96723,41.63657,22.09484,29.44394,28.81948,43.71622,29.12581,30.41275,37.82935,56.81015,53.86878,34.24141,28.7984,41.48901,34.72151,48.75448,41.61961,54.2264,39.75033,54.00985,48.75649,24.85173,28.9813,24.89192,48.50142,29.47094,48.52083,41.63229,55.05936,46.16722,48.75406,37.85364,27.46598,29.83432,41.09184,57.77812,53.90727,39.75066,20.80223,28.69778,57.77752,54.13231,38.9581,56.81108,48.42178,29.35552,58.21334,55.05965,43.64964,41.38111,35.11392,40.67761,53.86855,53.90502,53.94833,53.90575,25.10713,55.05512,43.65142,28.70079,46.16873,28.54689,25.72076,28.70051,44.00016,25.86332,41.64405,29.03151,39.37484,38.47465,28.32052,59.6028,43.65306,41.38155,41.0736,43.71269,39.29855,35.36784,28.17346,42.33425,41.48881,28.86487,29.0013,35.22176,29.46307,28.69841,43.56182,28.96451,25.11088,29.43834,28.96186,41.70977,57.77841,57.05849,37.82832,38.95829,43.7242,41.63798,48.75421,53.8695,34.24186,34.71993,60.54682,48.36768,54.13157,37.82906,46.16819,46.16898,57.78582,30.40328,41.02394,55.05422,53.86935,29.23841,28.69837,25.50022,38.94872,41.09302,41.38132,53.87647,41.37907,19.72658,43.34566,60.54582,40.44611,29.73792,29.47515,57.77511,53.85853,24.89016,56.80995,29.1636,29.84337,38.33002,25.20273,29.15287,48.75558,29.39578,45.7479,29.47868,44.63111,56.8104,39.75035,41.6309,57.05758,60.54654,57.26116,38.94863,25.113,57.78744,48.51288,24.18529,29.43741,41.48819,48.75454,35.20852,41.63394,39.7506,39.81753,57.77836,54.13207,24.87472,41.64072,38.95777,28.94153,56.45663,29.07576,29.10796,41.38008,38.59844,38.58578,29.46868,34.66362,35.8437,30.39216,46.19692,48.75584,41.63578,58.38445,48.75505,35.65089,57.77881,30.39846,51.70673,34.71711,48.75569,48.7513,29.23697,44.70566,27.51724,41.643,54.13256,29.43812,39.37336,46.16863,32.30481,29.3975,25.02966,24.97451,27.92812,27.76495,29.87652,29.1752,53.8576,41.38054,45.64287,53.87968,43.31998,31.14197,48.75522,55.05913,55.05488,41.63789,53.85881,46.16718,30.34225,30.4051,41.6382,35.02295,34.72175,41.51566,46.29402,41.42398,45.61262,41.36371,12.62517,29.07024,37.82933,56.81009,56.8133,29.7373,28.96276,28.94161,29.29969,29.12194,56.81045,41.22243,24.82431,28.7729,29.76299,24.8911,31.27413,31.88463,29.87131,41.35004,56.81121,29.28912,29.37095,28.70038,30.47853,41.63742,30.40363,61.12418,57.05777,29.06765,30.4133,35.02365,30.39759,26.83863,31.47878,44.14839,30.412,35.4049,29.22256,29.2431,41.63094,29.36968,48.50158,43.97307,29.24363,30.38003,48.75536,25.08708,36.64043,24.94819,29.21969,56.80939,40.65931,29.87844,41.63201,28.69965,28.69939,28.18153,25.15112,29.99497,56.80979,29.35286,24.95368,24.90781,26.29581,28.98295,29.17293,29.31685,22.20583,28.88386,30.36111,29.19735,29.04274,46.2587,34.40665,54.88325,46.30471,48.51104,44.15457,57.78574,60.54416,29.89741,44.62543,28.69808,26.23344,48.36772,39.75071,39.75079,27.83853,40.51053,38.95799,41.63847,59.56441,40.57376,29.11448,55.05692,24.84721,44.14851,53.90241,28.69977,13.42872,45.98496,53.86987,41.38183,29.67199,29.75809,38.11444,57.77904,33.87205,57.77907,34.75452,28.98969,55.05439,55.35105,22.43854,30.40327,29.20011,43.97215,35.72509,34.56334,59.44879,28.95774,29.06641,25.87171,30.39594,29.73761,48.51172,55.3338,29.12443,29.99696,48.75536,39.37461,28.81441,48.75405,41.77549,35.47543,48.51343,41.20515,60.54467,26.45749,43.96952,34.72191,30.28257,41.64972,30.40122,27.80947,43.64823,30.72086,29.137,40.79568,43.19991,41.63401,56.93045,42.96554,33.85358,35.24326,30.39383,57.05797,56.83463,43.05663,29.13751,27.84655,27.8463,41.38007,57.78733,41.62492,24.84068,44.23986,43.87415,38.94853,29.24069,48.51245,56.81027,25.00527,43.35711,53.90727,58.38256,29.8662,56.81132,45.60737,41.37893,30.38975,35.07248,24.78313,41.63865,41.43276,29.5833,30.39315,38.9487,41.56693,41.64329,41.64299,41.64328,41.354,41.18863,33.86807,37.96885,41.66732,27.86136,30.69514,29.62845,13.80216,54.45075,56.80866,44.62519,60.11845,40.80723,46.30377,24.6628,55.33139,54.13195,57.77685,53.87944,46.30543,30.07788,25.86657,60.68353,30.16775,30.1758,25.39533,43.61868,49.29462,36.64881,29.64343,48.51693,29.11454,49.30111,29.00856,49.11333,54.35872,25.17218,26.39982,24.83863,28.81112,34.62787,34.3459,30.70539,53.91399,49.29035,30.52652,30.19135,25.35842,37.13889,27.14152,48.2917,19.29221,29.08263,25.67641,24.69927,35.69856,54.08885,28.38373,18.4199,24.69852,48.4718,14.27665,49.01698,23.83744,48.35312,26.81801,26.96187,25.07757,33.65012,31.59497,29.84768,17.85582,26.24423,50.70209,26.47997,54.10426,54.13355,36.70383,54.14938,25.078,26.50306,34.7964,23.38673,42.15303,28.70736,23.8166,26.75857,54.13683,35.03915,26.66325,54.21084,40.99143,18.46288,27.27082,31.71004,24.58217,23.13209,26.13575,27.8328,48.51467,18.44811,26.76992,17.96123,25.83002,26.76796,24.71293,18.08567,17.71676,26.76751,26.76904,48.46555,28.49409,23.46221,27.33005,28.62925,40.4555,24.87657,34.8395,40.22006,54.31818,54.521,20.77269,36.85673,31.83374,48.48155,32.83507,30.00065,32.3836,38.1491,34.1776,45.98398,54.37067,25.38612,11.45384,31.06859,18.67603,37.83567,32.8898,27.05513,35.41652,35.25201,49.29738,24.29375,32.06024,28.65657,49.18033,23.73469,34.35809,50.6755,45.63352,30.00835,38.68431,54.66184,54.11596,27.66525,48.13155,52.5515,34.28483,36.65142,15.69647,28.87177,49.33174,54.41034,28.82882,36.19943,49.08941,25.81289,49.29476,28.58257,48.13345,30.65381,32.50025,19.96647,31.72396,36.37873,33.66078,18.74917,29.15473,28.62475,36.80096,49.30454,30.99555,46.10371,21.78098,31.21825,45.56446,29.11707,41.91826,40.2005,19.03265,40.04095,18.45646,28.37018,46.16766,26.66548,54.46048,17.04166,18.38337,49.30447,49.30356,46.63956,26.94643,32.12794,28.95735,30.72716,48.81609,13.46046,25.84147,43.48647,30.15841,18.57392,32.32208,44.19676,44.22013,30.48,43.8798,43.11649,19.77603,26.0842,24.79003,25.02128,49.29152,32.89476,27.96637,28.24526,38.52998,37.2244,23.83893,35.80098,25.78301,27.76141,29.58472,43.13352,30.06903,27.79307,18.33642,27.82248,45.6366,30.12956,33.89299,24.50162,27.8045,30.43308,48.60592,28.98334,32.86406,28.63407,28.18167,54.19576,19.9233,29.78541,31.6387,30.65732,23.6631,30.23674,28.93984,27.82295,27.81224,34.07981,40.58118,54.27795,36.91002,24.2798,30.70275,46.09449,24.14737,23.75377,34.18211,23.62751,29.80221,26.9559,37.66807,54.09383,48.19982,18.29132,30.10116,25.46983,29.0973,26.34689,54.11141,36.19302,30.1042,18.91417,24.08675,30.11446,30.03053,23.30854,15.78479,17.38028,30.00706,18.60329,35.1001,28.66023,28.81385,26.39793,26.33816,25.16842,43.64083,30.2179,26.36082,28.33027,48.84019,15.38994,49.29711,44.13372,23.94213,54.56007,27.79941,49.3029,30.17635,27.83053,54.48793,23.71238,26.54921,29.91552,41.29745,30.07672,54.17676,38.91627,38.93726,23.26519,17.69481,25.39796,27.69624,30.2767,27.96134,54.20047,26.14223,30.04428,35.82874,32.65604,26.21016,30.19785,29.41912,25.75109,28.93886,27.81207,49.20306,45.52795,28.60008,32.74574,28.73376,27.64107,28.67789,16.32251,14.20239,27.8101,29.82243,27.5573,31.67527,25.7389,18.31417,14.06333,23.53849,26.2614,25.79113,46.24414,18.19367,18.43386,28.62713,16.26969,23.675,30.77081,26.51939,45.58676,18.3464,28.93482,30.48864,34.14781,26.5183,23.60298,24.28717,31.78538,23.76438,44.90669,50.51391,27.80002,25.42605,34.05766,43.05102,25.85903,30.20929,17.56151,29.25483,40.60371,49.30517,40.25746,23.73161,25.28338,28.32533,26.53094,49.28659,28.34872,25.07849,29.8815,18.33853,18.40936,18.41851,18.41003,18.03054,18.48774,25.14716,27.63356,19.62748,26.27527,23.182,29.5942,33.43467,30.47782,30.01027,29.29079,40.41996,27.978,28.72445,34.10737,33.6651,49.30846,30.00883,30.01417,29.85887,31.85105,28.56623,25.80712,25.85178,26.67059,27.32759,25.57165,38.23258,27.93132,28.24535,11.18686,16.51513,35.41454,28.30693,19.8559,28.28983,27.81992,30.07814,27.68082,30.10422,32.59618,47.78419,32.49855,54.11975,19.909,28.75456,24.17912,27.61652,27.82926,27.13275,29.47801,23.36445,23.72908,34.3341,32.35403,26.89363,40.77067,26.12358,34.01347,23.03646,28.49872,47.13882,27.6267,27.82252,35.46682,45.06175,29.95799,34.49702,23.04169,17.916,49.33111,32.5326,32.07737,30.39125,30.07222,28.96906,29.69408,54.33912,28.88286,26.73474,28.60878,52.30356,27.38261,23.68074,30.53083,25.63077,28.39175,28.63079,39.51605,26.52763,27.32628,23.22251,23.7256,48.43938,48.51922,28.93893,43.6543,32.32132,27.1456,30.05298,15.9733,41.19408,38.10255,39.09513,32.1614,43.25543,27.86903,23.76366,26.52441,40.41887,39.48401,25.00293,18.25309,26.53028,34.82933,18.37607,23.1244,46.17345,19.10409,40.29323,30.19307,48.5162,23.00298,23.17244,23.40479,28.91467,18.22575,25.23798,18.46282,18.45059,18.46144,24.28097,23.06535],\"legendgroup\":\"\",\"lon\":[-92.04056,-90.92744,-66.05533,-67.43655,-95.3337,-89.65935,-73.46378,-70.0196,-129.48268,-85.73285,-89.22973,-83.58835,-68.97303,-78.0921,-78.05797,-125.67845,-79.73941,-90.87478,-86.93961,-86.56972,-86.33234,-92.53738,-75.39898,-152.02915,-121.14918,-84.59412,-123.73229,-125.21449,-126.11355,-79.36619,-88.03328,-90.68842,-123.85323,-68.28493,-90.76476,-82.41732,-123.06809,-79.11225,-82.56323,-69.02976,-76.37003,-93.64207,-94.54947,-93.23363,-94.40782,-64.44193,-90.71753,-142.98529,-161.92715,-79.75875,-137.60253,-124.53005,-70.2717,-80.21036,-89.5,-69.93352,-64.87605,-74.51583,-127.36658,-119.90853,-120.95985,-69.07203,-89.18521,-64.30647,-67.89927,-93.98911,-73.874,-126.49686,-72.90665,-88.0322,-90.69497,-68.26497,-122.54609,-95.22269,-90.29856,-93.86956,-75.4339,-78.83505,-69.74283,-96.15515,-63.92438,-167.6202,-127.5846,-73.85877,-76.58317,-88.56687,-73.62082,-94.42066,-96.88836,-94.32689,-97.41148,-143.66464,-126.72626,-66.62138,-75.67828,-97.38817,-85.74389,-86.64399,-69.31432,-83.86155,-90.15988,-69.52812,-73.30717,-94.59068,-116.61933,-63.45667,-97.2064,-88.23748,-67.27329,-70.06827,-94.47973,-135.61492,-72.6506,-84.16093,-77.95583,-118.71342,-90.0441,-65.92353,-95.30886,-93.33327,-78.22837,-68.2221,-82.42166,-97.07279,-82.44707,-80.60518,-93.26145,-73.25764,-136.42325,-84.17574,-74.16069,-76.30783,-83.85389,-90.75954,-79.16918,-78.66897,-94.57433,-75.1248,-79.94917,-154.28467,-76.43083,-88.39249,-95.31842,-69.44728,-94.57452,-93.97137,-94.67877,-97.43213,-80.2902,-95.10311,-66.11008,-71.28674,-63.08323,-73.50336,-117.09334,-68.18717,-71.62185,-126.44576,-86.93942,-64.8239,-121.5727,-94.35511,-72.08143,-68.70449,-123.09593,-78.75742,-79.17825,-69.11858,-72.85397,-94.6544,-122.57078,-91.87172,-69.62963,-137.16365,-90.06681,-69.243,-117.89098,-65.22101,-123.20257,-73.50587,-93.51076,-79.43697,-123.15128,-69.62755,-123.18332,-83.48519,-88.1307,-121.32616,-93.93682,-130.84003,-77.95663,-126.08238,-122.91942,-125.33026,-79.32507,-82.41047,-138.2086,-118.8314,-77.05361,-80.69423,-80.36341,-93.35967,-81.37668,-93.27239,-83.21299,-69.37898,-162.49862,-94.54663,-88.09834,-94.42245,-85.99298,-63.92567,-72.54033,-146.93,-166.55037,-74.88911,-79.48704,-166.55189,-125.13449,-159.2416,-152.41456,-91.90504,-163.40918,-166.55159,-165.79028,-166.54236,-162.31821,-82.44642,-166.55407,-166.45444,-166.55885,-146.39401,-74.02141,-166.55431,-166.53959,-152.41333,-66.84227,-88.01831,-82.67835,-88.04499,-71.16429,-144.19762,-89.79285,-160.28137,-83.06178,-94.84,-84.995,-64.96501,-77.67897,-129.59178,-139.54591,-80.77967,-91.00915,-79.18152,-77.95602,-95.14745,-87.84024,-65.20173,-156.87808,-94.4287,-94.62885,-90.60043,-66.75584,-94.07692,-119.50715,-89.91269,142.5154,-69.00542,-63.69313,-65.33676,-96.86267,-95.53069,-74.70725,-74.37317,-93.31352,-74.40144,-88.04084,-74.70833,-122.45307,-149.42515,-86.12638,-90.25987,-69.0537,-115.10932,-121.705,-176.20954,-88.07365,-162.50582,-91.19281,-93.95656,-88.11578,-74.77217,-131.99398,-89.66331,-116.45497,-80.96966,-72.56986,-94.53263,-97.36391,-75.55494,-68.04748,-75.4776,-126.45983,-122.72558,-75.17861,-69.03528,-93.31716,-72.46788,-124.36761,-74.35462,-88.50925,-96.92888,-63.10267,-69.9963,-77.32567,-95.57654,-92.06083,-94.21977,-78.80007,-64.97927,-78.60807,-77.53893,-77.54446,-77.54271,-73.4392,-73.54098,-85.39722,-123.93433,-73.59394,-82.63323,-122.91643,-123.18893,-79.24361,-123.37398,-86.73598,-79.24825,-89.23189,-125.54534,-66.45388,-81.86808,-82.60088,-73.5898,-82.69073,-125.55129,-123.81411,-86.47115,-123.71916,-119.94261,-124.35826,-123.18145,-123.18778,-130.35862,-82.42078,-123.03291,-123.16807,-123.16417,-122.91734,-124.35631,-123.72592,-122.99258,-123.1876,-122.50531,-123.02297,-123.81427,-84.185,-123.76403,-123.72604,-79.35176,-86.15358,-84.25392,-87.15374,-123.13875,-123.75858,-82.4193,-130.31,-123.16454,-124.35682,-130.2975,-123.06057,-123.06075,-123.37162,-123.06055,-122.91082,-123.19043,-123.11158,-130.3283,-123.13847,-123.1393,-123.18695,-123.18772,-130.3557,-123.08924,-123.05839,-123.13873,-130.39852,-116.70479,-130.31922,-80.14731,-130.29686,-125.55094,-130.35496,-130.35419,-123.09244,-123.61745,-130.35465,-123.13878,-92.03817,-79.26489,-130.30618,-123.06408,-122.91048,-123.02939,-73.42017,-130.30583,-79.79657,-123.93435,-87.50001,-73.49495,-130.35428,-70.67005,-123.16159,-80.1489,-83.05853,-123.09633,-130.35454,-123.0812,-130.38326,-79.5907,-83.10544,-73.51971,-123.37313,-73.54538,-125.55686,-130.30631,-79.79966,-79.24378,-123.18893,-123.02331,-123.1645,-123.04622,-123.16771,-124.35749,-122.87797,-123.0292,-82.86403,-73.53971,-123.16418,-124.35824,-73.36283,-123.40826,-80.21351,-84.28782,-123.50475,-81.72292,-66.81344,-123.18525,-79.36748,-124.70505,-123.37665,-123.12912,-123.10975,-73.50575,-73.49152,-89.21659,-89.21579,-123.40734,-89.2186,-130.35812,-130.3577,-123.61851,-122.88345,-122.87801,-123.18638,-123.19002,-123.16072,-123.94695,-123.33547,-123.32654,-79.3486,-73.52711,-73.52234,-73.54361,-83.1807,140.759,-94.42107,-76.9928,-75.04093,-72.32698,-79.94988,-73.86675,-69.55104,-95.14938,-88.14392,-82.63176,-69.11281,-119.22749,-124.10795,-132.38352,-160.49674,-132.96408,-69.35108,-75.62446,-75.14033,-132.38361,-151.42581,-135.43864,-75.68582,-75.62272,-122.61444,-74.11472,-122.68356,-75.6188,-132.98652,-81.01238,-70.0588,-123.45608,-77.8062,-134.64821,-93.96837,-132.96432,-124.21662,-132.96423,-132.96031,-80.43617,-123.91745,-124.41075,-132.96532,-133.66888,-70.25147,-74.05824,-75.62312,-70.24801,-120.119,-166.57869,-69.04959,-91.40584,-80.05414,-134.65169,-71.44327,-75.62432,-131.68026,-123.04415,-82.84001,-95.9567,-69.92517,-69.38586,-122.65731,-75.65458,-75.10305,-121.88984,-97.06064,-71.50842,-68.83385,-132.96424,-75.96932,-70.59663,-131.68075,-75.62009,-70.05823,-75.6414,-132.96591,-80.08115,-79.03266,-75.10472,-88.10724,-94.02833,-80.04455,-80.05925,-72.48341,-80.63041,-122.75121,-84.96812,-82.78737,-87.56328,-74.1107,-75.64183,-89.99727,-116.66274,-146.61067,-74.69676,-74.69655,-74.82442,-77.27588,-122.75909,-124.03253,-93.01567,-82.96749,145.01019,-87.06617,-75.62005,-74.67685,-82.46927,-119.20998,-66.24752,-77.065,-116.61663,-132.7613,-72.05818,-79.18015,-67.24436,-167.15947,-125.61734,-77.32545,-123.2585,-83.83374,-162.49385,-130.40716,-80.72257,-123.15525,-125.62287,-79.30355,-127.33305,-69.41591,-91.19964,-166.61433,-80.11392,-126.41257,-88.27973,-79.87082,-77.32575,-81.19038,-123.19573,-79.38543,-143.95027,-77.31364,-85.91866,-90.68533,-90.70648,-123.23032,-82.32889,-134.03051,-93.25682,-91.04667,-123.08224,-87.78755,-87.04765,-96.46191,-136.91817,-128.35168,-92.1192,-123.89963,-161.65825,-78.86194,-122.63532,-115.56877,-162.88274,-68.17861,-81.34383,-124.13196,-123.06705,-119.86722,-94.59995,-125.23076,-73.84596,-137.93049,-89.3589,141.35559,-89.33267,-64.44488,-71.38287,-117.65698,-92.50942,-123.11685,-82.66858,-130.58294,-130.33671,-137.47966,-123.70812,-93.88933,-69.3773,-88.56973,-94.41052,-74.12944,-79.47162,-86.155,-126.37282,-78.93641,-78.65179,-90.66333,-122.98843,-71.71267,-82.03752,-164.49713,-67.28424,-94.45527,-123.04178,-88.66228,-81.60058,-93.92264,-126.45522,-123.99199,-68.91833,-123.9035,-89.39101,-93.64013,-82.67588,-82.75763,144.26743,-79.27695,-167.00648,-123.22174,-126.77037,-123.07946,-94.08984,-152.42782,-135.34196,-80.0482,-122.50368,-71.21404,-151.42133,-70.82058,-124.2716,-74.90707,-70.26918,-71.51145,-163.40849,-93.73575,-72.95165,-71.51269,-160.49714,-124.26663,-74.82994,-124.10698,-71.32264,-166.51108,-123.91442,-75.16414,-92.60452,-152.42119,-126.84697,-152.39873,-152.41156,-81.95277,-71.19559,-132.96597,-74.8674,-124.13055,-152.40958,-152.40998,-124.0324,-88.89182,-74.87697,-162.32636,-74.87666,-69.90203,-154.84095,-166.51185,-124.10734,-95.278,-82.42713,-124.10306,-82.20017,-132.96436,-124.27289,-70.92014,-75.74223,-130.32781,-123.06285,-89.90683,-88.25221,-82.60067,-132.3349,-88.26571,-88.263,-88.61168,-123.4255,-91.62749,-70.907,-124.336,-71.51125,-88.03779,-132.96168,-70.38934,-96.22861,-70.6749,-166.51272,-96.22965,-88.88005,-70.92142,-151.38001,-91.23248,-89.74832,-88.26151,-88.89145,-74.11492,-96.99924,-76.7656,-132.96566,-73.6953,-83.40614,-122.60829,-165.85891,-69.10133,-166.53856,-84.119,-123.91692,-85.46248,-85.76495,-84.42568,-82.4991,-85.23549,-87.38814,-85.3573,-89.36302,-75.10338,-92.01863,-96.98676,-70.50704,-82.29013,-152.41422,-91.26306,-124.26578,-81.71046,-84.10617,-166.55488,-135.35413,-176.63798,-159.62615,-151.71632,-70.29073,-124.10782,-70.91587,-69.10165,-132.9642,-152.4127,-74.87665,-75.49303,-76.69634,-87.3831,-91.6755,-84.24058,-91.67408,-91.97046,-90.23854,-76.63916,-124.2125,-75.95758,-74.42126,-70.9209,-88.03236,-92.13211,-70.90566,-72.48324,-74.11485,-173.30461,-93.88406,-87.49951,-90.60927,-70.92136,-151.42496,-74.87457,-74.86966,-166.5518,-90.259,-124.1574,-74.11501,-88.41976,-166.59613,-123.91428,-162.32814,-162.3276,-131.6832,-162.3229,-123.91443,-162.3263,-76.69592,-123.91731,-87.14765,-166.54835,-71.51239,-122.61064,-84.82131,-124.16469,-74.11272,-90.68222,-124.04201,-124.32183,-123.38558,-160.49765,-66.09083,-88.37251,-71.21371,-123.86257,-152.41041,-70.92137,-74.42751,-71.51478,-81.49519,-71.52413,-74.11506,-132.96566,-124.43678,-90.70168,-70.92021,-160.50132,-152.41525,-160.49783,-166.50996,-152.4115,-70.88724,-74.11515,-92.13272,-92.13328,-92.13183,-92.13195,-92.13213,-132.9643,-80.32349,-123.91809,-82.19317,-132.96398,-132.96105,-67.7389,-70.9183,-152.41241,-132.9644,-166.54123,-70.91957,-76.76552,-166.51229,-166.5083,-152.41303,-97.12372,-132.38257,-173.51592,-76.69281,-145.76656,-75.50098,-132.96416,-122.48753,-119.69223,-76.27838,-76.27848,-92.12994,-91.12409,-92.13253,-92.13247,-90.91245,-89.6219,-74.11512,-149.43843,-76.62734,-90.35128,-90.15049,-152.41229,-71.51202,-81.01806,-74.10979,-87.38446,-92.00262,-83.45103,-166.55424,-162.32566,-145.3965,-79.99155,-126.47388,-157.89812,-88.87866,-70.25422,-70.50226,-71.51192,-74.86724,-97.39132,-89.60054,-74.87687,-122.76246,-74.87752,-132.96462,-74.90642,-88.67414,-166.52902,-90.02389,-162.32629,-67.88231,-75.62014,-93.7889,-74.42031,-75.4589,-82.11008,-152.41371,-124.35876,-97.21246,-82.21043,-70.90556,-64.956,-75.10181,-71.40933,-74.63441,-122.50682,-70.91016,-123.91375,-82.03796,-71.5125,-118.11079,-124.04268,-152.41104,-70.91799,-123.91807,-87.72863,-70.90684,-132.38278,-81.92684,-152.41048,-149.43712,-71.32272,-71.32262,-97.21012,-73.60681,-70.91069,-123.91683,-123.76132,-71.3223,-82.42562,-71.51245,-151.42139,-81.1755,-152.41632,-75.9962,-123.91402,-72.01341,-75.99572,-70.90633,-132.96395,-88.25034,-132.96023,-135.35459,-123.91712,-74.9063,-74.09112,-75.32989,-152.41358,-74.27327,-93.87452,-82.31682,-132.96167,-70.77637,-82.29825,-82.02581,-70.92113,-123.80193,-89.20992,-152.41433,-72.1013,-88.2658,-155.07527,-123.91359,-70.91858,-132.96348,-75.62273,-74.87632,-76.04155,-74.35512,-70.55411,-75.45557,-149.3506,-79.13062,-82.24836,-81.94784,-73.87853,-75.61991,-162.56654,-71.2739,-151.45698,-81.03706,-123.9137,-71.85497,-122.60635,-70.89432,-89.58333,-88.88027,-166.55457,-70.90694,-166.54814,-74.87805,-88.2665,-152.41035,-124.23319,-76.59084,-122.6458,-152.41628,-70.91911,-71.51253,-132.96452,-134.43244,-123.91405,-152.41337,-76.27863,-160.49814,-71.51266,-124.2162,-165.73557,-83.07575,-131.68339,-156.5661,-74.41969,-74.41987,-74.8745,-91.07457,-74.82457,-125.68075,-125.11968,-123.917,-123.91432,-88.88018,-152.41172,-90.00519,-166.5559,-123.91752,-166.55468,-166.59578,-124.64985,-74.90528,-132.38317,-152.41045,-165.79653,144.63608,-70.88662,-122.50309,-166.50891,-82.42736,-145.76501,-71.85631,-76.92381,-152.41202,-152.4104,-124.0417,-88.26803,-74.8773,-93.24992,-124.24659,-123.86226,-74.11464,-70.9202,-73.23586,-80.32454,-88.89157,-166.5548,-70.91846,-124.18372,-135.35389,-69.21202,-82.36258,-74.00732,-88.65331,-74.58592,-74.86691,-122.64466,-69.10352,-71.51381,-80.33014,-152.41001,-160.49594,-89.63691,-122.50435,-74.10839,-166.5785,-74.11471,-162.32682,-166.57859,-73.75963,-70.91988,-93.90252,-90.90687,-71.51285,-166.55556,-131.74147,-89.72115,-124.32076,-74.87775,-166.55148,-120.85017,-70.73939,-91.6066,-74.10961,-71.40991,-75.10243,-152.41563,-82.11266,-90.25897,-152.41846,-162.3275,-126.13954,-122.50552,-96.22625,-70.90705,-69.77584,-70.91882,-92.15279,-92.15262,-92.15225,-132.96635,-70.91839,-91.29238,-91.71521,-76.66997,-132.96424,-74.11481,-90.20011,-119.26399,-93.56118,-76.37665,-121.78769,-91.26636,-92.13958,-76.59131,-82.24365,-122.00213,-70.90744,-156.43468,-92.3599,-89.96494,-124.10203,-90.03974,-88.87865,-76.28357,-132.96332,-166.55605,-119.26182,-90.81536,-71.32274,-76.67054,-122.50552,-70.90225,-166.38172,-74.11486,-165.72857,-122.50357,-82.15029,-89.61779,-82.21043,-122.60532,-81.06629,-122.61742,-70.91206,-162.32752,-123.91809,-122.50481,-122.93437,-80.32757,-93.95832,-71.86682,-152.41404,-166.50983,-74.11459,-155.45227,-96.22966,-152.41237,-165.78145,-74.87628,-132.96449,-123.36969,-90.25029,-136.8746,-162.32725,-70.25425,-71.51237,-75.41904,-71.66053,-166.55547,-166.51214,-166.61423,-166.51147,-82.3221,-162.32677,-70.25435,-96.2313,-123.91393,-96.21843,-82.01272,-96.22793,-69.12938,-82.50474,-70.92109,-94.67038,-74.42118,-74.2117,-90.21076,-151.41891,-70.25309,-71.51284,-71.93413,-124.10548,-74.49899,-120.85445,-90.89788,-124.49759,-71.322,-89.85633,-89.78935,-75.69522,-92.79578,-96.22522,-68.0276,-90.4223,-82.46742,-92.10072,-89.71134,-124.23582,-152.41391,-135.35459,-76.27946,-74.87758,-67.582,-70.9073,-122.50611,-166.55439,-119.26442,-76.70931,-145.76543,-124.61166,-165.78725,-76.27898,-123.91419,-123.91374,-152.41022,-88.25378,-71.35486,-162.32733,-166.55313,-90.00242,-96.2251,-82.4988,-74.90632,-71.48185,-71.51275,-166.55131,-71.51163,-156.26618,-124.32094,-145.76751,-70.15457,-93.88597,-88.4767,-152.41359,-166.5534,-82.1772,-132.96468,-89.81906,-88.66766,-123.05723,-82.35096,-90.18631,-122.50319,-93.16865,-124.06898,-81.0924,-124.04897,-132.96508,-74.11506,-70.91509,-135.35373,-145.76522,-134.91482,-74.90604,-82.27603,-152.40967,-122.64487,-82.09435,-92.09976,-71.32237,-122.49347,-75.59497,-70.9187,-74.11402,-73.10926,-152.41193,-165.78198,-81.94846,-70.91971,-74.87471,-95.30286,-132.38436,-89.6842,-89.8375,-71.51069,-74.06122,-73.89935,-89.31251,-76.78487,-75.62069,-88.26655,-123.8015,-122.5035,-70.90912,-134.65163,-122.50351,-133.3884,-152.41205,-88.25812,-178.22307,-76.68174,-122.50331,-122.4873,-89.66281,-124.12377,-82.71335,-70.92134,-165.79004,-89.29473,-74.42029,-123.91406,-78.79358,-88.82166,-82.49239,-82.38699,-82.42675,-82.50996,-87.5528,-89.83195,-166.55665,-71.51184,-125.9615,-166.551,-70.56341,-81.49631,-122.50316,-162.32738,-162.32672,-70.90768,-166.55265,-123.91827,-88.50824,-88.25039,-70.92123,-76.69714,-76.67028,-71.07165,-124.04541,-68.63834,-122.6463,-71.51371,143.79983,-89.92514,-76.28364,-132.96362,-132.96048,-93.88362,-89.72458,-90.47553,-92.41503,-89.88349,-132.96396,-72.04266,-82.45433,-90.1616,-93.90587,-82.26113,-78.2831,-116.70528,-92.13016,-70.98678,-132.96435,-91.73828,-92.03247,-96.22761,-75.15621,-70.90747,-88.25476,-146.33234,-135.3536,-88.98942,-88.88061,-76.69645,-88.25971,-83.09913,-81.34229,-68.6778,-88.87801,-76.33351,-80.90913,-89.99196,-70.91339,-90.72092,-122.60526,-69.3361,-89.99022,-88.56114,-122.50436,-82.25613,-121.92157,-82.17378,-91.69437,-132.96411,-70.45197,-88.64894,-70.91866,-96.22621,-96.2262,-90.89214,-82.43221,-88.68151,-132.96456,-89.54775,-82.19808,-82.89333,-82.05381,-90.33145,-91.4757,-91.74226,-158.68544,-90.15835,-87.6047,-91.63744,-95.64241,-124.02164,-120.17221,-162.92857,-124.04035,-122.60901,-68.66305,-152.41678,-145.7648,-88.58976,-124.03218,-96.23206,-75.51798,-124.61259,-74.11397,-74.11482,-97.0653,-73.22883,-74.87579,-70.9184,-139.74053,-70.29905,-90.20006,-162.32687,-81.9179,-68.67765,-166.52843,-96.22535,144.66354,-124.01017,-166.55183,-71.51269,-81.18521,-93.90274,-74.71984,-152.41072,-78.57075,-152.41051,-76.37911,-92.06322,-162.32809,-131.68713,-156.30579,-88.25373,-91.37329,-69.33692,-133.03165,-76.57716,-135.32509,-80.76747,-90.0753,-83.78683,-88.26314,-93.8841,-122.64642,-160.49728,-90.03268,-93.33342,-122.50423,-74.42781,-91.73958,-122.50494,-70.54842,-75.39142,-122.91624,-70.89454,-145.76525,-81.94585,-69.33791,-76.66988,-91.1547,-70.27916,-87.21063,-82.45339,-70.25651,-88.03995,-90.19493,-124.24304,-69.05281,-70.91902,-135.5878,-124.52192,-78.65162,-76.59072,-88.26566,-135.35378,-132.92565,-70.72599,-90.22146,-97.22494,-97.22529,-71.51059,-152.41104,-70.90621,-82.10951,-68.43541,-69.49071,-74.90608,-90.38725,-122.64616,-132.96486,-82.49191,-70.47528,-166.48613,-134.64985,-87.54497,-132.96436,-122.68403,-71.51187,-88.26657,-75.69076,-82.13486,-70.92033,-69.52479,-90.71628,-88.2661,-74.9057,-70.87516,-70.91594,-70.91582,-70.91618,-70.76619,-70.89042,-78.57345,-123.96424,-83.49787,-82.54949,-88.03473,-93.36995,145.12421,-163.95014,-132.97405,-124.0338,-149.43819,-124.16671,-124.04084,-84.91947,-160.50516,-165.78967,-152.41293,-166.54102,-124.03794,-94.09075,-85.23126,-151.39986,-88.48179,-93.31869,-86.13167,-127.97912,-126.96442,-73.83105,-91.10271,-122.57157,-90.20871,-123.18268,-75.03394,-127.33827,-167.555,-78.02837,-78.79059,-113.70075,-94.37893,-121.02541,-75.39298,-88.03645,-130.97446,-122.86847,-80.78012,-93.29871,-88.85405,-140.13085,-96.95391,-123.42712,-64.22057,-94.70525,-87.65199,-87.86002,-141.1713,-161.91431,-71.67253,-70.02009,-86.44667,-125.20264,144.27652,-123.1538,-84.00984,-123.33217,-79.35172,-123.63577,-77.32584,-125.54218,-137.44228,-93.96962,-63.28095,-88.12148,-176.40894,-78.78941,-162.41858,-130.6178,-138.45161,-161.68173,-77.32564,-78.77607,-75.20915,-80.1552,-124.91567,-94.67208,-84.14296,-90.68737,-161.83443,-143.52602,-116.36605,-130.52552,-68.94699,-66.10328,-123.03799,-116.9259,-87.9125,-82.34524,-89.95924,-135.40938,-126.05695,-69.31028,-80.0528,-68.60943,-77.96145,-80.05249,-80.63169,-64.23767,-64.49459,-80.05201,-80.05033,-122.69667,-94.52133,-86.28495,-96.82687,-94.12435,-69.3905,-75.0612,-128.10387,-124.78583,-130.34972,-167.30932,-63.0456,-75.67692,-130.24586,-126.46159,-78.33629,-128.73737,-141.03037,-128.35272,-119.7218,-122.83505,-167.56864,-91.66358,143.68938,-80.85121,-66.15681,-127.64723,-142.18923,-123.46418,-134.08133,-128.14499,-123.03458,-88.14738,-127.46258,-94.69427,-122.91852,-82.64353,-122.42434,-176.34999,-122.70113,-93.97619,-74.9411,-133.00557,-162.47595,-96.42388,-123.43617,-171.84953,-127.42262,-127.07394,-64.26917,-89.33694,-123.23642,-166.31586,-93.91326,-132.57243,-123.69844,-87.04966,-123.2104,-94.24657,-123.41942,-88.03267,-134.59846,-66.18922,-123.58372,-73.49175,-123.9511,-63.17653,-135.23999,-89.6216,-75.22302,-123.20306,-78.71584,-122.95064,-66.2229,-135.43722,-73.51927,-139.3564,-69.72378,-67.20669,-62.98801,-71.86211,-69.88123,-93.01272,-125.77334,-154.37532,-134.57701,-69.13197,-69.91567,-123.05981,-123.09366,-127.08679,-68.76783,-79.55124,-94.20557,-88.04326,-122.72549,144.6687,-90.10277,-66.79672,-93.32691,-67.27223,-128.73762,-67.09458,-67.01652,-91.19433,-68.3578,-70.81017,-68.0846,-79.48273,-87.86058,-91.15248,-123.18964,-117.84929,-91.00353,-94.40532,-74.68192,-125.73991,-81.14505,-74.65578,-76.82916,-67.92001,-93.7302,-66.8282,-90.89695,-96.91962,-69.96075,-97.4361,-122.70733,-91.01515,-75.47934,-80.16558,-96.90041,-91.20057,-123.23487,-93.24236,-126.9638,-94.21714,-89.03925,-130.52086,-65.19261,-88.14989,-79.0444,-88.03243,-86.94822,-70.9093,-95.34041,-97.43892,-97.40416,-76.44254,-69.2913,-132.32352,-73.19737,-84.90989,-88.03633,-125.79465,-80.58417,-84.32563,-77.95682,-82.21104,-93.34727,-89.31581,-139.88786,-161.91133,-123.21931,-69.95467,-88.53257,-91.21904,-94.63012,-91.05223,-162.41994,-74.56678,-88.56046,-66.01848,-88.97889,-90.9839,-90.70119,-85.75398,-70.34973,-64.98737,-90.83044,-68.09739,-141.77489,-94.58932,-94.6215,-76.0171,-87.26243,-92.11316,-70.2785,-93.24998,-91.00092,-74.28294,-122.72182,-66.93705,-123.19623,-66.99757,-88.29979,-167.01819,-96.86393,-123.21514,-91.00677,-97.49765,-167.55338,-83.40047,-91.90292,-85.72271,-71.58033,-94.06504,-162.64065,-73.1497,-75.16719,-85.98708,-64.75194,-87.49278,-92.38838,-91.17027,-91.02611,-130.369,-90.27088,-90.67964,-127.42276,-76.78738,-75.21559,-91.10728,-93.62142,-73.70518,-95.31842,-97.4073,-123.91113,-125.20986,-152.25473,-78.11398,-87.15682,-83.06264,-94.07485,-69.89162,142.4728,-97.34315,-93.95598,-95.06511,-72.01756,-89.69938,-64.98071,-66.17135,-87.59106,-78.24711,-77.44998,-123.99894,-65.00856,-66.09757,-94.12409,-67.26271,-83.80733,-72.88173,-78.80488,-73.50402,-68.1906,-95.33115,-138.62643,-119.20536,-78.7765,-87.70708,-80.24537,-116.72877,-86.44515,-127.02184,-176.2031,-96.88507,-90.15063,-76.5929,-125.19256,-76.57615,-91.03665,-68.2634,-93.70132,-68.95732,-123.10467,-68.45367,-82.78131,-124.39504,-89.88132,-78.77265,-123.21474,-89.15578,-77.32426,-116.64805,-64.28733,-64.6065,-64.60502,-64.60741,-63.90216,-64.45783,-77.47661,-82.55888,-67.34463,-78.43265,-86.19483,-93.75228,-75.99167,-91.19439,-93.97148,-94.19325,-70.3804,-90.94313,-78.37093,-119.42158,-126.81992,-123.19228,-117.01483,-93.99303,-93.94065,-68.31602,-76.09422,-76.1628,-76.7425,-93.51632,-87.48082,-91.57786,-74.54788,-92.62583,-89.05018,140.30342,-70.48283,-121.61382,-96.04646,-66.65011,-89.12917,-97.48033,-90.9036,-71.20381,-116.75429,-118.37179,-126.60079,-145.74999,-161.92798,-70.23867,-94.4214,-79.43512,-134.03112,-96.91003,-92.58586,-130.77416,-81.14576,-84.1399,-125.20979,-123.65783,-79.20262,-68.80567,-77.95707,-75.91724,-83.55,-89.09421,-125.00635,-83.05778,-96.97705,-75.02693,-126.56607,-74.09655,-120.88887,-86.01652,-68.32467,-123.24915,-78.70278,-74.66592,-91.21776,-88.06342,-89.38402,-67.37503,-130.28897,-89.35561,-68.1057,-89.2884,-171.74111,-132.14981,-81.5446,-116.78405,-90.55516,-89.13348,-94.4127,-72.68633,-78.76595,-94.17297,-78.9579,-81.61181,-126.69226,-125.2595,-95.34208,-70.24055,-79.13796,-92.04325,-90.64783,-68.59529,-72.86778,-128.3145,-131.7263,-120.02415,-125.25167,-97.24583,-82.32434,-78.76879,-69.47202,-72.22499,-87.36965,-69.49357,-78.7562,-75.1525,-69.85859,-79.5334,-125.3425,-67.77936,-67.25773,-93.296,-125.08192,-83.59912,-79.00275,-83.22013,-89.35733,-70.02403,-79.50116,-66.10297,-64.44298,-66.10164,-79.45713,-81.53459],\"marker\":{\"color\":\"#636efa\",\"symbol\":\"circle\"},\"mode\":\"markers\",\"name\":\"\",\"showlegend\":false,\"type\":\"scattergeo\"}],                        {\"template\":{\"data\":{\"histogram2dcontour\":[{\"type\":\"histogram2dcontour\",\"colorbar\":{\"outlinewidth\":0,\"ticks\":\"\"},\"colorscale\":[[0.0,\"#0d0887\"],[0.1111111111111111,\"#46039f\"],[0.2222222222222222,\"#7201a8\"],[0.3333333333333333,\"#9c179e\"],[0.4444444444444444,\"#bd3786\"],[0.5555555555555556,\"#d8576b\"],[0.6666666666666666,\"#ed7953\"],[0.7777777777777778,\"#fb9f3a\"],[0.8888888888888888,\"#fdca26\"],[1.0,\"#f0f921\"]]}],\"choropleth\":[{\"type\":\"choropleth\",\"colorbar\":{\"outlinewidth\":0,\"ticks\":\"\"}}],\"histogram2d\":[{\"type\":\"histogram2d\",\"colorbar\":{\"outlinewidth\":0,\"ticks\":\"\"},\"colorscale\":[[0.0,\"#0d0887\"],[0.1111111111111111,\"#46039f\"],[0.2222222222222222,\"#7201a8\"],[0.3333333333333333,\"#9c179e\"],[0.4444444444444444,\"#bd3786\"],[0.5555555555555556,\"#d8576b\"],[0.6666666666666666,\"#ed7953\"],[0.7777777777777778,\"#fb9f3a\"],[0.8888888888888888,\"#fdca26\"],[1.0,\"#f0f921\"]]}],\"heatmap\":[{\"type\":\"heatmap\",\"colorbar\":{\"outlinewidth\":0,\"ticks\":\"\"},\"colorscale\":[[0.0,\"#0d0887\"],[0.1111111111111111,\"#46039f\"],[0.2222222222222222,\"#7201a8\"],[0.3333333333333333,\"#9c179e\"],[0.4444444444444444,\"#bd3786\"],[0.5555555555555556,\"#d8576b\"],[0.6666666666666666,\"#ed7953\"],[0.7777777777777778,\"#fb9f3a\"],[0.8888888888888888,\"#fdca26\"],[1.0,\"#f0f921\"]]}],\"heatmapgl\":[{\"type\":\"heatmapgl\",\"colorbar\":{\"outlinewidth\":0,\"ticks\":\"\"},\"colorscale\":[[0.0,\"#0d0887\"],[0.1111111111111111,\"#46039f\"],[0.2222222222222222,\"#7201a8\"],[0.3333333333333333,\"#9c179e\"],[0.4444444444444444,\"#bd3786\"],[0.5555555555555556,\"#d8576b\"],[0.6666666666666666,\"#ed7953\"],[0.7777777777777778,\"#fb9f3a\"],[0.8888888888888888,\"#fdca26\"],[1.0,\"#f0f921\"]]}],\"contourcarpet\":[{\"type\":\"contourcarpet\",\"colorbar\":{\"outlinewidth\":0,\"ticks\":\"\"}}],\"contour\":[{\"type\":\"contour\",\"colorbar\":{\"outlinewidth\":0,\"ticks\":\"\"},\"colorscale\":[[0.0,\"#0d0887\"],[0.1111111111111111,\"#46039f\"],[0.2222222222222222,\"#7201a8\"],[0.3333333333333333,\"#9c179e\"],[0.4444444444444444,\"#bd3786\"],[0.5555555555555556,\"#d8576b\"],[0.6666666666666666,\"#ed7953\"],[0.7777777777777778,\"#fb9f3a\"],[0.8888888888888888,\"#fdca26\"],[1.0,\"#f0f921\"]]}],\"surface\":[{\"type\":\"surface\",\"colorbar\":{\"outlinewidth\":0,\"ticks\":\"\"},\"colorscale\":[[0.0,\"#0d0887\"],[0.1111111111111111,\"#46039f\"],[0.2222222222222222,\"#7201a8\"],[0.3333333333333333,\"#9c179e\"],[0.4444444444444444,\"#bd3786\"],[0.5555555555555556,\"#d8576b\"],[0.6666666666666666,\"#ed7953\"],[0.7777777777777778,\"#fb9f3a\"],[0.8888888888888888,\"#fdca26\"],[1.0,\"#f0f921\"]]}],\"mesh3d\":[{\"type\":\"mesh3d\",\"colorbar\":{\"outlinewidth\":0,\"ticks\":\"\"}}],\"scatter\":[{\"fillpattern\":{\"fillmode\":\"overlay\",\"size\":10,\"solidity\":0.2},\"type\":\"scatter\"}],\"parcoords\":[{\"type\":\"parcoords\",\"line\":{\"colorbar\":{\"outlinewidth\":0,\"ticks\":\"\"}}}],\"scatterpolargl\":[{\"type\":\"scatterpolargl\",\"marker\":{\"colorbar\":{\"outlinewidth\":0,\"ticks\":\"\"}}}],\"bar\":[{\"error_x\":{\"color\":\"#2a3f5f\"},\"error_y\":{\"color\":\"#2a3f5f\"},\"marker\":{\"line\":{\"color\":\"#E5ECF6\",\"width\":0.5},\"pattern\":{\"fillmode\":\"overlay\",\"size\":10,\"solidity\":0.2}},\"type\":\"bar\"}],\"scattergeo\":[{\"type\":\"scattergeo\",\"marker\":{\"colorbar\":{\"outlinewidth\":0,\"ticks\":\"\"}}}],\"scatterpolar\":[{\"type\":\"scatterpolar\",\"marker\":{\"colorbar\":{\"outlinewidth\":0,\"ticks\":\"\"}}}],\"histogram\":[{\"marker\":{\"pattern\":{\"fillmode\":\"overlay\",\"size\":10,\"solidity\":0.2}},\"type\":\"histogram\"}],\"scattergl\":[{\"type\":\"scattergl\",\"marker\":{\"colorbar\":{\"outlinewidth\":0,\"ticks\":\"\"}}}],\"scatter3d\":[{\"type\":\"scatter3d\",\"line\":{\"colorbar\":{\"outlinewidth\":0,\"ticks\":\"\"}},\"marker\":{\"colorbar\":{\"outlinewidth\":0,\"ticks\":\"\"}}}],\"scattermapbox\":[{\"type\":\"scattermapbox\",\"marker\":{\"colorbar\":{\"outlinewidth\":0,\"ticks\":\"\"}}}],\"scatterternary\":[{\"type\":\"scatterternary\",\"marker\":{\"colorbar\":{\"outlinewidth\":0,\"ticks\":\"\"}}}],\"scattercarpet\":[{\"type\":\"scattercarpet\",\"marker\":{\"colorbar\":{\"outlinewidth\":0,\"ticks\":\"\"}}}],\"carpet\":[{\"aaxis\":{\"endlinecolor\":\"#2a3f5f\",\"gridcolor\":\"white\",\"linecolor\":\"white\",\"minorgridcolor\":\"white\",\"startlinecolor\":\"#2a3f5f\"},\"baxis\":{\"endlinecolor\":\"#2a3f5f\",\"gridcolor\":\"white\",\"linecolor\":\"white\",\"minorgridcolor\":\"white\",\"startlinecolor\":\"#2a3f5f\"},\"type\":\"carpet\"}],\"table\":[{\"cells\":{\"fill\":{\"color\":\"#EBF0F8\"},\"line\":{\"color\":\"white\"}},\"header\":{\"fill\":{\"color\":\"#C8D4E3\"},\"line\":{\"color\":\"white\"}},\"type\":\"table\"}],\"barpolar\":[{\"marker\":{\"line\":{\"color\":\"#E5ECF6\",\"width\":0.5},\"pattern\":{\"fillmode\":\"overlay\",\"size\":10,\"solidity\":0.2}},\"type\":\"barpolar\"}],\"pie\":[{\"automargin\":true,\"type\":\"pie\"}]},\"layout\":{\"autotypenumbers\":\"strict\",\"colorway\":[\"#636efa\",\"#EF553B\",\"#00cc96\",\"#ab63fa\",\"#FFA15A\",\"#19d3f3\",\"#FF6692\",\"#B6E880\",\"#FF97FF\",\"#FECB52\"],\"font\":{\"color\":\"#2a3f5f\"},\"hovermode\":\"closest\",\"hoverlabel\":{\"align\":\"left\"},\"paper_bgcolor\":\"white\",\"plot_bgcolor\":\"#E5ECF6\",\"polar\":{\"bgcolor\":\"#E5ECF6\",\"angularaxis\":{\"gridcolor\":\"white\",\"linecolor\":\"white\",\"ticks\":\"\"},\"radialaxis\":{\"gridcolor\":\"white\",\"linecolor\":\"white\",\"ticks\":\"\"}},\"ternary\":{\"bgcolor\":\"#E5ECF6\",\"aaxis\":{\"gridcolor\":\"white\",\"linecolor\":\"white\",\"ticks\":\"\"},\"baxis\":{\"gridcolor\":\"white\",\"linecolor\":\"white\",\"ticks\":\"\"},\"caxis\":{\"gridcolor\":\"white\",\"linecolor\":\"white\",\"ticks\":\"\"}},\"coloraxis\":{\"colorbar\":{\"outlinewidth\":0,\"ticks\":\"\"}},\"colorscale\":{\"sequential\":[[0.0,\"#0d0887\"],[0.1111111111111111,\"#46039f\"],[0.2222222222222222,\"#7201a8\"],[0.3333333333333333,\"#9c179e\"],[0.4444444444444444,\"#bd3786\"],[0.5555555555555556,\"#d8576b\"],[0.6666666666666666,\"#ed7953\"],[0.7777777777777778,\"#fb9f3a\"],[0.8888888888888888,\"#fdca26\"],[1.0,\"#f0f921\"]],\"sequentialminus\":[[0.0,\"#0d0887\"],[0.1111111111111111,\"#46039f\"],[0.2222222222222222,\"#7201a8\"],[0.3333333333333333,\"#9c179e\"],[0.4444444444444444,\"#bd3786\"],[0.5555555555555556,\"#d8576b\"],[0.6666666666666666,\"#ed7953\"],[0.7777777777777778,\"#fb9f3a\"],[0.8888888888888888,\"#fdca26\"],[1.0,\"#f0f921\"]],\"diverging\":[[0,\"#8e0152\"],[0.1,\"#c51b7d\"],[0.2,\"#de77ae\"],[0.3,\"#f1b6da\"],[0.4,\"#fde0ef\"],[0.5,\"#f7f7f7\"],[0.6,\"#e6f5d0\"],[0.7,\"#b8e186\"],[0.8,\"#7fbc41\"],[0.9,\"#4d9221\"],[1,\"#276419\"]]},\"xaxis\":{\"gridcolor\":\"white\",\"linecolor\":\"white\",\"ticks\":\"\",\"title\":{\"standoff\":15},\"zerolinecolor\":\"white\",\"automargin\":true,\"zerolinewidth\":2},\"yaxis\":{\"gridcolor\":\"white\",\"linecolor\":\"white\",\"ticks\":\"\",\"title\":{\"standoff\":15},\"zerolinecolor\":\"white\",\"automargin\":true,\"zerolinewidth\":2},\"scene\":{\"xaxis\":{\"backgroundcolor\":\"#E5ECF6\",\"gridcolor\":\"white\",\"linecolor\":\"white\",\"showbackground\":true,\"ticks\":\"\",\"zerolinecolor\":\"white\",\"gridwidth\":2},\"yaxis\":{\"backgroundcolor\":\"#E5ECF6\",\"gridcolor\":\"white\",\"linecolor\":\"white\",\"showbackground\":true,\"ticks\":\"\",\"zerolinecolor\":\"white\",\"gridwidth\":2},\"zaxis\":{\"backgroundcolor\":\"#E5ECF6\",\"gridcolor\":\"white\",\"linecolor\":\"white\",\"showbackground\":true,\"ticks\":\"\",\"zerolinecolor\":\"white\",\"gridwidth\":2}},\"shapedefaults\":{\"line\":{\"color\":\"#2a3f5f\"}},\"annotationdefaults\":{\"arrowcolor\":\"#2a3f5f\",\"arrowhead\":0,\"arrowwidth\":1},\"geo\":{\"bgcolor\":\"white\",\"landcolor\":\"#E5ECF6\",\"subunitcolor\":\"white\",\"showland\":true,\"showlakes\":true,\"lakecolor\":\"white\"},\"title\":{\"x\":0.05},\"mapbox\":{\"style\":\"light\"}}},\"geo\":{\"domain\":{\"x\":[0.0,1.0],\"y\":[0.0,1.0]},\"projection\":{\"type\":\"natural earth\"},\"center\":{},\"scope\":\"world\",\"showland\":true,\"landcolor\":\"lightgray\"},\"legend\":{\"tracegroupgap\":0},\"title\":{\"text\":\"First Arrivals with \\\"Unknown\\\" Port Names\"}},                        {\"responsive\": true}                    ).then(function(){\n",
              "                            \n",
              "var gd = document.getElementById('6ddf9a70-2773-4ff7-bbe2-f826571f0d55');\n",
              "var x = new MutationObserver(function (mutations, observer) {{\n",
              "        var display = window.getComputedStyle(gd).display;\n",
              "        if (!display || display === 'none') {{\n",
              "            console.log([gd, 'removed!']);\n",
              "            Plotly.purge(gd);\n",
              "            observer.disconnect();\n",
              "        }}\n",
              "}});\n",
              "\n",
              "// Listen for the removal of the full notebook cells\n",
              "var notebookContainer = gd.closest('#notebook-container');\n",
              "if (notebookContainer) {{\n",
              "    x.observe(notebookContainer, {childList: true});\n",
              "}}\n",
              "\n",
              "// Listen for the clearing of the current output cell\n",
              "var outputEl = gd.closest('.output');\n",
              "if (outputEl) {{\n",
              "    x.observe(outputEl, {childList: true});\n",
              "}}\n",
              "\n",
              "                        })                };                            </script>        </div>\n",
              "</body>\n",
              "</html>"
            ]
          },
          "metadata": {}
        }
      ]
    },
    {
      "cell_type": "code",
      "source": [
        "# AIS Data Downloader - Google Colab Version (Team-Ready)\n",
        "\n",
        "# Mount Google Drive\n",
        "from google.colab import drive\n",
        "import os\n",
        "from datetime import datetime, timedelta\n",
        "import requests\n",
        "import pandas as pd\n",
        "import zipfile\n",
        "\n",
        "print(\"Mounting Google Drive...\")\n",
        "drive.mount('/content/drive')\n",
        "\n",
        "# Define the AIS downloader function\n",
        "def download_ais_data(start_date_str, end_date_str, save_folder):\n",
        "    os.makedirs(save_folder, exist_ok=True)\n",
        "    print(f\"Files will be saved to: {save_folder}\")\n",
        "\n",
        "    # Convert string dates to datetime objects\n",
        "    start_date = datetime.strptime(start_date_str, \"%Y-%m-%d\")\n",
        "    end_date = datetime.strptime(end_date_str, \"%Y-%m-%d\")\n",
        "\n",
        "\n",
        "    # Download each file in the date range\n",
        "    for i in range((end_date - start_date).days + 1):\n",
        "        date_obj = start_date + timedelta(days=i)\n",
        "        filename = f\"AIS_{date_obj.strftime('%Y_%m_%d')}.zip\"\n",
        "        url = f\"https://coast.noaa.gov/htdata/CMSP/AISDataHandler/2020/{filename}\"\n",
        "        file_path = os.path.join(save_folder, filename)\n",
        "\n",
        "        if not os.path.exists(file_path):\n",
        "            print(f\"Downloading {filename}...\")\n",
        "            response = requests.get(url)\n",
        "            if response.status_code == 200:\n",
        "                with open(file_path, \"wb\") as f:\n",
        "                    f.write(response.content)\n",
        "                print(f\"Saved: {file_path}\")\n",
        "            else:\n",
        "                print(f\"Failed: {response.status_code}\")\n",
        "        else:\n",
        "            print(f\"Already downloaded: {filename}\")\n",
        "\n",
        "# Now call the function with your chosen parameters\n",
        "\"\"\"\n",
        "download_ais_data(\n",
        "    start_date_str=\"2020-01-01\",\n",
        "    end_date_str=\"2020-01-02\",\n",
        "    save_folder=\"/content/drive/My Drive/SIADS_593/assets/raw_data\"\n",
        ")\n",
        "\"\"\""
      ],
      "metadata": {
        "id": "qmG0bzq6tJhQ"
      },
      "execution_count": null,
      "outputs": []
    }
  ]
}