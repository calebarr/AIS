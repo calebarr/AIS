{
  "nbformat": 4,
  "nbformat_minor": 0,
  "metadata": {
    "colab": {
      "provenance": [],
      "include_colab_link": true
    },
    "kernelspec": {
      "name": "python3",
      "display_name": "Python 3"
    },
    "language_info": {
      "name": "python"
    }
  },
  "cells": [
    {
      "cell_type": "markdown",
      "metadata": {
        "id": "view-in-github",
        "colab_type": "text"
      },
      "source": [
        "<a href=\"https://colab.research.google.com/github/calebarr/AIS/blob/ais_cleaning/AIS_Downloader_TeamShared.ipynb\" target=\"_parent\"><img src=\"https://colab.research.google.com/assets/colab-badge.svg\" alt=\"Open In Colab\"/></a>"
      ]
    },
    {
      "cell_type": "code",
      "source": [
        "def assign_port_names(df, buffer=0.5):\n",
        "    PORT_REGIONS = {\n",
        "        \"Los Angeles\": (33.6, 33.9, -118.5, -118.0),\n",
        "        \"Long Beach\": (33.7, 33.9, -118.25, -118.15),\n",
        "        \"Oakland\": (37.7, 37.85, -122.35, -122.2),\n",
        "        \"Seattle\": (47.5, 47.7, -122.4, -122.2),\n",
        "        \"New York\": (40.6, 40.8, -74.1, -73.9),\n",
        "        \"Norfolk\": (36.8, 37.1, -76.4, -76.2),\n",
        "        \"Savannah\": (32.0, 32.2, -81.2, -80.8),\n",
        "        \"Charleston\": (32.7, 32.9, -80.0, -79.8),\n",
        "        \"Miami\": (25.75, 25.85, -80.2, -80.0),\n",
        "        \"Port Everglades\": (26.05, 26.1, -80.15, -80.1),\n",
        "        \"Baltimore\": (39.2, 39.3, -76.6, -76.5),\n",
        "        \"Philadelphia\": (39.9, 40.0, -75.2, -75.1),\n",
        "        \"Houston\": (29.6, 29.8, -95.2, -94.8),\n",
        "        \"New Orleans\": (29.9, 30.1, -90.1, -89.9),\n",
        "        \"Jacksonville\": (30.3, 30.5, -81.7, -81.3),\n",
        "        \"San Diego\": (32.7, 32.8, -117.2, -117.1),\n",
        "        \"Boston\": (42.3, 42.4, -71.1, -70.9),\n",
        "        \"Anchorage\": (61.1, 61.3, -149.95, -149.8),\n",
        "        \"Honolulu\": (21.3, 21.4, -157.9, -157.8),\n",
        "        \"Unknown\": (None, None, None, None),  # fallback\n",
        "    }\n",
        "\n",
        "    def get_port_name(lat, lon):\n",
        "        for port, bounds in PORT_REGIONS.items():\n",
        "            if None in bounds:\n",
        "                continue  # skip 'Unknown'\n",
        "            min_lat, max_lat, min_lon, max_lon = bounds\n",
        "            if (min_lat - buffer) <= lat <= (max_lat + buffer) and \\\n",
        "               (min_lon - buffer) <= lon <= (max_lon + buffer):\n",
        "                return port\n",
        "        return \"Unknown\"\n",
        "\n",
        "    df[\"Port Name\"] = df.apply(lambda row: get_port_name(row[\"LAT\"], row[\"LON\"]), axis=1)\n",
        "    return df\n",
        "\n"
      ],
      "metadata": {
        "id": "Og93Hm7cBPzE"
      },
      "execution_count": 64,
      "outputs": []
    },
    {
      "cell_type": "code",
      "source": [
        "def extract_first_arrivals_anywhere(df):\n",
        "    # Filter by relevant vessel types\n",
        "    df = df[\n",
        "        df[\"VesselType\"].isin(range(70, 90)) | df[\"VesselType\"].isin([30, 52])\n",
        "    ].copy()\n",
        "\n",
        "    # Drop rows with missing or invalid coordinates\n",
        "    df = df.dropna(subset=[\"LAT\", \"LON\"])\n",
        "    df = df[(df[\"LAT\"] != 0) & (df[\"LON\"] != 0)]\n",
        "\n",
        "    # Convert timestamps\n",
        "    df[\"BaseDateTime\"] = pd.to_datetime(df[\"BaseDateTime\"], errors='coerce')\n",
        "\n",
        "    df = df.dropna(subset=[\"BaseDateTime\"])\n",
        "\n",
        "    # Sort and get the first ping per MMSI\n",
        "    first_arrivals = (\n",
        "        df.sort_values([\"MMSI\", \"BaseDateTime\"])\n",
        "          .drop_duplicates(\"MMSI\", keep=\"first\")\n",
        "    )\n",
        "\n",
        "    # Assign port names\n",
        "    return assign_port_names(first_arrivals)\n"
      ],
      "metadata": {
        "id": "GoKkrlRTgxg7"
      },
      "execution_count": 92,
      "outputs": []
    },
    {
      "cell_type": "code",
      "source": [
        "# AIS Data Downloader - Google Colab Version (Team-Ready)\n",
        "\n",
        "# Mount Google Drive\n",
        "from google.colab import drive\n",
        "import os\n",
        "from datetime import datetime, timedelta\n",
        "import requests\n",
        "import pandas as pd\n",
        "import zipfile\n",
        "\n",
        "print(\"Mounting Google Drive...\")\n",
        "drive.mount('/content/drive')\n",
        "\n",
        "# Define the AIS downloader function\n",
        "def download_ais_data(start_date_str, end_date_str, save_folder):\n",
        "    os.makedirs(save_folder, exist_ok=True)\n",
        "    print(f\"Files will be saved to: {save_folder}\")\n",
        "\n",
        "    # Convert string dates to datetime objects\n",
        "    start_date = datetime.strptime(start_date_str, \"%Y-%m-%d\")\n",
        "    end_date = datetime.strptime(end_date_str, \"%Y-%m-%d\")\n",
        "\n",
        "\n",
        "    # Download each file in the date range\n",
        "    for i in range((end_date - start_date).days + 1):\n",
        "        date_obj = start_date + timedelta(days=i)\n",
        "        filename = f\"AIS_{date_obj.strftime('%Y_%m_%d')}.zip\"\n",
        "        url = f\"https://coast.noaa.gov/htdata/CMSP/AISDataHandler/2020/{filename}\"\n",
        "        file_path = os.path.join(save_folder, filename)\n",
        "\n",
        "        if not os.path.exists(file_path):\n",
        "            print(f\"Downloading {filename}...\")\n",
        "            response = requests.get(url)\n",
        "            if response.status_code == 200:\n",
        "                with open(file_path, \"wb\") as f:\n",
        "                    f.write(response.content)\n",
        "                print(f\"Saved: {file_path}\")\n",
        "            else:\n",
        "                print(f\"Failed: {response.status_code}\")\n",
        "        else:\n",
        "            print(f\"Already downloaded: {filename}\")\n",
        "\n",
        "# Now call the function with your chosen parameters\n",
        "download_ais_data(\n",
        "    start_date_str=\"2020-01-01\",\n",
        "    end_date_str=\"2020-01-02\",\n",
        "    save_folder=\"/content/drive/My Drive/SIADS_593/assets/raw_data\"\n",
        ")\n"
      ],
      "metadata": {
        "id": "0yfBwBvK_XL5",
        "colab": {
          "base_uri": "https://localhost:8080/"
        },
        "outputId": "13413145-584c-47e4-bff2-837e3a58d5ed"
      },
      "execution_count": 93,
      "outputs": [
        {
          "output_type": "stream",
          "name": "stdout",
          "text": [
            "Mounting Google Drive...\n",
            "Drive already mounted at /content/drive; to attempt to forcibly remount, call drive.mount(\"/content/drive\", force_remount=True).\n",
            "Files will be saved to: /content/drive/My Drive/SIADS_593/assets/raw_data\n",
            "Already downloaded: AIS_2020_01_01.zip\n",
            "Already downloaded: AIS_2020_01_02.zip\n"
          ]
        }
      ]
    },
    {
      "cell_type": "code",
      "source": [
        "!ls -lh \"/content/drive/My Drive/SIADS_593/assets/raw_data\"\n"
      ],
      "metadata": {
        "colab": {
          "base_uri": "https://localhost:8080/"
        },
        "id": "TpA13JPEiYcz",
        "outputId": "97bc6442-1405-43ef-8401-0361e708fc52"
      },
      "execution_count": 94,
      "outputs": [
        {
          "output_type": "stream",
          "name": "stdout",
          "text": [
            "total 502M\n",
            "-rw------- 1 root root 252M May 28 04:52 AIS_2020_01_01.zip\n",
            "-rw------- 1 root root 250M May 28 04:52 AIS_2020_01_02.zip\n",
            "drwx------ 2 root root 4.0K May 28 04:51 old_data\n"
          ]
        }
      ]
    },
    {
      "cell_type": "code",
      "source": [
        "def process_zip_in_chunks(zip_path, chunksize=100_000):\n",
        "    import zipfile, pandas as pd\n",
        "\n",
        "    all_cleaned_chunks = []\n",
        "    with zipfile.ZipFile(zip_path, 'r') as zip_ref:\n",
        "        csv_files = [name for name in zip_ref.namelist() if name.endswith('.csv')]\n",
        "        if not csv_files:\n",
        "            return pd.DataFrame()\n",
        "\n",
        "        with zip_ref.open(csv_files[0]) as f:\n",
        "            reader = pd.read_csv(f, chunksize=chunksize)\n",
        "            for chunk in reader:\n",
        "                cleaned = extract_first_arrivals_anywhere(chunk)\n",
        "                all_cleaned_chunks.append(cleaned)\n",
        "\n",
        "    return pd.concat(all_cleaned_chunks, ignore_index=True)\n"
      ],
      "metadata": {
        "id": "yJhRWmHVVINR"
      },
      "execution_count": 95,
      "outputs": []
    },
    {
      "cell_type": "code",
      "source": [
        "import pandas as pd\n",
        "\n",
        "test_df = pd.concat([\n",
        "    process_zip_in_chunks(\"/content/drive/My Drive/SIADS_593/assets/raw_data/AIS_2020_01_01.zip\"),\n",
        "    process_zip_in_chunks(\"/content/drive/My Drive/SIADS_593/assets/raw_data/AIS_2020_01_02.zip\")\n",
        "])\n",
        "\n"
      ],
      "metadata": {
        "id": "eSI_D9G5X9hv",
        "outputId": "f123d80c-5849-4edb-81da-3af8adadfe33",
        "colab": {
          "base_uri": "https://localhost:8080/"
        }
      },
      "execution_count": 96,
      "outputs": [
        {
          "output_type": "stream",
          "name": "stderr",
          "text": [
            "<ipython-input-92-41ecff5bb12d>:12: UserWarning: Could not infer format, so each element will be parsed individually, falling back to `dateutil`. To ensure parsing is consistent and as-expected, please specify a format.\n",
            "  df[\"BaseDateTime\"] = pd.to_datetime(df[\"BaseDateTime\"], errors='coerce')\n"
          ]
        }
      ]
    },
    {
      "cell_type": "code",
      "source": [
        "first_arrivals_df = extract_first_arrivals_anywhere(test_df)\n",
        "first_arrivals_df[\"Port Name\"].value_counts()\n",
        "\n"
      ],
      "metadata": {
        "id": "Yek6EzYvPcwe",
        "outputId": "dfddbde6-d56e-45d4-b808-c1fb22db7f7b",
        "colab": {
          "base_uri": "https://localhost:8080/",
          "height": 668
        }
      },
      "execution_count": 97,
      "outputs": [
        {
          "output_type": "execute_result",
          "data": {
            "text/plain": [
              "Port Name\n",
              "Unknown         2158\n",
              "Houston          123\n",
              "Seattle          107\n",
              "Norfolk           63\n",
              "Honolulu          62\n",
              "New Orleans       57\n",
              "Los Angeles       52\n",
              "Oakland           46\n",
              "New York          45\n",
              "Miami             27\n",
              "Boston            27\n",
              "Jacksonville      26\n",
              "Charleston        25\n",
              "Savannah          21\n",
              "Baltimore         16\n",
              "San Diego         16\n",
              "Philadelphia      15\n",
              "Anchorage          1\n",
              "Name: count, dtype: int64"
            ],
            "text/html": [
              "<div>\n",
              "<style scoped>\n",
              "    .dataframe tbody tr th:only-of-type {\n",
              "        vertical-align: middle;\n",
              "    }\n",
              "\n",
              "    .dataframe tbody tr th {\n",
              "        vertical-align: top;\n",
              "    }\n",
              "\n",
              "    .dataframe thead th {\n",
              "        text-align: right;\n",
              "    }\n",
              "</style>\n",
              "<table border=\"1\" class=\"dataframe\">\n",
              "  <thead>\n",
              "    <tr style=\"text-align: right;\">\n",
              "      <th></th>\n",
              "      <th>count</th>\n",
              "    </tr>\n",
              "    <tr>\n",
              "      <th>Port Name</th>\n",
              "      <th></th>\n",
              "    </tr>\n",
              "  </thead>\n",
              "  <tbody>\n",
              "    <tr>\n",
              "      <th>Unknown</th>\n",
              "      <td>2158</td>\n",
              "    </tr>\n",
              "    <tr>\n",
              "      <th>Houston</th>\n",
              "      <td>123</td>\n",
              "    </tr>\n",
              "    <tr>\n",
              "      <th>Seattle</th>\n",
              "      <td>107</td>\n",
              "    </tr>\n",
              "    <tr>\n",
              "      <th>Norfolk</th>\n",
              "      <td>63</td>\n",
              "    </tr>\n",
              "    <tr>\n",
              "      <th>Honolulu</th>\n",
              "      <td>62</td>\n",
              "    </tr>\n",
              "    <tr>\n",
              "      <th>New Orleans</th>\n",
              "      <td>57</td>\n",
              "    </tr>\n",
              "    <tr>\n",
              "      <th>Los Angeles</th>\n",
              "      <td>52</td>\n",
              "    </tr>\n",
              "    <tr>\n",
              "      <th>Oakland</th>\n",
              "      <td>46</td>\n",
              "    </tr>\n",
              "    <tr>\n",
              "      <th>New York</th>\n",
              "      <td>45</td>\n",
              "    </tr>\n",
              "    <tr>\n",
              "      <th>Miami</th>\n",
              "      <td>27</td>\n",
              "    </tr>\n",
              "    <tr>\n",
              "      <th>Boston</th>\n",
              "      <td>27</td>\n",
              "    </tr>\n",
              "    <tr>\n",
              "      <th>Jacksonville</th>\n",
              "      <td>26</td>\n",
              "    </tr>\n",
              "    <tr>\n",
              "      <th>Charleston</th>\n",
              "      <td>25</td>\n",
              "    </tr>\n",
              "    <tr>\n",
              "      <th>Savannah</th>\n",
              "      <td>21</td>\n",
              "    </tr>\n",
              "    <tr>\n",
              "      <th>Baltimore</th>\n",
              "      <td>16</td>\n",
              "    </tr>\n",
              "    <tr>\n",
              "      <th>San Diego</th>\n",
              "      <td>16</td>\n",
              "    </tr>\n",
              "    <tr>\n",
              "      <th>Philadelphia</th>\n",
              "      <td>15</td>\n",
              "    </tr>\n",
              "    <tr>\n",
              "      <th>Anchorage</th>\n",
              "      <td>1</td>\n",
              "    </tr>\n",
              "  </tbody>\n",
              "</table>\n",
              "</div><br><label><b>dtype:</b> int64</label>"
            ]
          },
          "metadata": {},
          "execution_count": 97
        }
      ]
    },
    {
      "cell_type": "code",
      "source": [
        "import plotly.express as px\n",
        "\n",
        "# Sample 500 points to make rendering faster, or skip .sample() to show all\n",
        "sample_df = first_arrivals_df.sample(n=500, random_state=42)\n",
        "\n",
        "fig = px.scatter_geo(\n",
        "    sample_df,\n",
        "    lat='LAT',\n",
        "    lon='LON',\n",
        "    color='Port Name',\n",
        "    hover_name='VesselType',\n",
        "    title='First Arrivals: Vessel Locations by Port',\n",
        "    projection=\"natural earth\"\n",
        ")\n",
        "\n",
        "fig.update_layout(geo=dict(\n",
        "    scope='world',\n",
        "    showland=True,\n",
        "    landcolor=\"lightgray\",\n",
        "))\n",
        "\n",
        "fig.show()\n"
      ],
      "metadata": {
        "id": "ZEnoQwtaaPJO",
        "outputId": "4396a3b0-60ab-4b8a-ef84-ecb2ffc96f7f",
        "colab": {
          "base_uri": "https://localhost:8080/",
          "height": 543
        }
      },
      "execution_count": 99,
      "outputs": [
        {
          "output_type": "display_data",
          "data": {
            "text/html": [
              "<html>\n",
              "<head><meta charset=\"utf-8\" /></head>\n",
              "<body>\n",
              "    <div>            <script src=\"https://cdnjs.cloudflare.com/ajax/libs/mathjax/2.7.5/MathJax.js?config=TeX-AMS-MML_SVG\"></script><script type=\"text/javascript\">if (window.MathJax && window.MathJax.Hub && window.MathJax.Hub.Config) {window.MathJax.Hub.Config({SVG: {font: \"STIX-Web\"}});}</script>                <script type=\"text/javascript\">window.PlotlyConfig = {MathJaxConfig: 'local'};</script>\n",
              "        <script charset=\"utf-8\" src=\"https://cdn.plot.ly/plotly-2.35.2.min.js\"></script>                <div id=\"004f0058-62e4-4707-a87f-1b8aebd3aaf2\" class=\"plotly-graph-div\" style=\"height:525px; width:100%;\"></div>            <script type=\"text/javascript\">                                    window.PLOTLYENV=window.PLOTLYENV || {};                                    if (document.getElementById(\"004f0058-62e4-4707-a87f-1b8aebd3aaf2\")) {                    Plotly.newPlot(                        \"004f0058-62e4-4707-a87f-1b8aebd3aaf2\",                        [{\"geo\":\"geo\",\"hovertemplate\":\"\\u003cb\\u003e%{hovertext}\\u003c\\u002fb\\u003e\\u003cbr\\u003e\\u003cbr\\u003ePort Name=Unknown\\u003cbr\\u003eLAT=%{lat}\\u003cbr\\u003eLON=%{lon}\\u003cextra\\u003e\\u003c\\u002fextra\\u003e\",\"hovertext\":[30.0,30.0,52.0,70.0,30.0,70.0,30.0,70.0,30.0,70.0,70.0,30.0,80.0,70.0,70.0,70.0,30.0,70.0,30.0,80.0,30.0,30.0,30.0,70.0,80.0,80.0,70.0,80.0,80.0,70.0,70.0,30.0,30.0,30.0,30.0,70.0,80.0,30.0,30.0,70.0,80.0,70.0,30.0,30.0,30.0,70.0,30.0,70.0,70.0,70.0,30.0,80.0,30.0,70.0,30.0,30.0,30.0,70.0,30.0,30.0,30.0,30.0,30.0,30.0,80.0,30.0,30.0,70.0,70.0,80.0,70.0,30.0,30.0,30.0,30.0,30.0,30.0,30.0,80.0,30.0,30.0,30.0,80.0,70.0,70.0,30.0,70.0,80.0,70.0,70.0,30.0,30.0,30.0,70.0,30.0,30.0,80.0,70.0,30.0,70.0,80.0,70.0,70.0,30.0,79.0,30.0,30.0,80.0,30.0,70.0,30.0,30.0,80.0,70.0,70.0,30.0,70.0,30.0,30.0,70.0,70.0,30.0,70.0,70.0,80.0,30.0,70.0,70.0,70.0,30.0,70.0,30.0,70.0,70.0,80.0,30.0,30.0,70.0,80.0,80.0,70.0,30.0,30.0,30.0,80.0,30.0,30.0,70.0,80.0,80.0,70.0,30.0,80.0,30.0,70.0,30.0,30.0,30.0,30.0,70.0,70.0,70.0,30.0,70.0,30.0,30.0,30.0,30.0,70.0,70.0,30.0,70.0,30.0,70.0,30.0,30.0,30.0,30.0,30.0,70.0,30.0,80.0,70.0,80.0,70.0,30.0,30.0,52.0,30.0,30.0,80.0,80.0,30.0,30.0,30.0,30.0,80.0,30.0,70.0,30.0,80.0,30.0,30.0,80.0,52.0,30.0,30.0,30.0,80.0,80.0,80.0,52.0,30.0,30.0,30.0,30.0,80.0,30.0,30.0,70.0,52.0,70.0,70.0,80.0,30.0,30.0,30.0,30.0,30.0,30.0,30.0,30.0,30.0,70.0,70.0,30.0,80.0,70.0,30.0,30.0,30.0,70.0,30.0,30.0,30.0,30.0,80.0,70.0,30.0,30.0,30.0,30.0,30.0,80.0,30.0,30.0,70.0,80.0,80.0,70.0,30.0,70.0,30.0,30.0,89.0,70.0,70.0,70.0,70.0,30.0,70.0,80.0,30.0,30.0,70.0,30.0,52.0,30.0,80.0,52.0,70.0,30.0,80.0,70.0,30.0,30.0,70.0,30.0,80.0,80.0,30.0,30.0,70.0,80.0,80.0,70.0,30.0,30.0,80.0,80.0,70.0,30.0,70.0,80.0,30.0,30.0,80.0,30.0,30.0,30.0,70.0,70.0,70.0,80.0,70.0,30.0,30.0,80.0,80.0,30.0,70.0,70.0,70.0,30.0,30.0,30.0,30.0,70.0,80.0,30.0,30.0,71.0,70.0,30.0,80.0,30.0,30.0,70.0,80.0,30.0,80.0,30.0,30.0,30.0,70.0,70.0,70.0,70.0,80.0,80.0,80.0,89.0,70.0,30.0,70.0,80.0,30.0,70.0,70.0,30.0,80.0,30.0,30.0,30.0,80.0,30.0,80.0,30.0,70.0,70.0,30.0,30.0,30.0,70.0,70.0,70.0,80.0],\"lat\":[49.53533,29.82081,29.137,18.32332,44.15457,46.40263,24.92264,24.82983,29.15287,27.52493,24.47905,49.20047,45.61239,30.13303,29.89713,49.29738,28.18153,46.64743,40.91546,25.38612,56.8141,57.77873,56.811,25.07757,26.54921,27.79941,48.46903,23.53849,23.36445,40.25746,28.60878,56.81072,29.11448,41.38008,53.87875,18.08567,27.8328,41.48901,24.89192,29.91552,29.59918,49.77463,41.62906,29.23841,29.19899,31.06859,41.48895,49.29689,27.84296,34.05766,43.19763,27.82147,44.23986,31.71004,57.77635,28.70084,28.95774,26.54304,49.17684,29.06765,30.41312,29.43834,49.16707,48.5215,27.76596,30.28452,24.89016,28.906,47.90443,25.78301,34.3341,44.04349,53.86855,35.02365,49.3496,55.05519,34.24186,34.17445,29.41912,31.88463,29.73792,41.64218,38.93726,31.61067,48.46887,36.80092,40.77067,29.85059,18.22575,22.44439,29.82253,56.81122,41.38054,38.23258,40.44611,28.69778,27.83053,25.79113,48.75584,49.30022,29.82243,34.74697,18.04309,53.88145,59.62059,41.63229,41.46496,23.182,49.35013,48.5162,34.98328,37.82839,28.39175,30.70275,34.21782,25.113,24.39929,24.78313,56.81357,27.62758,34.10737,43.79674,45.70705,23.5083,30.77081,48.75522,22.58035,39.40502,23.99938,49.12452,30.33696,41.37532,36.85673,24.28097,31.67527,55.05402,56.81142,54.37067,27.83266,30.16775,26.0905,38.95874,53.8445,53.86987,32.86406,24.90781,35.89386,27.48217,11.22102,25.66399,41.70645,34.40665,16.51513,25.02966,23.22251,39.75035,53.90727,38.9487,48.75731,23.38673,16.15897,23.18386,55.05913,48.68869,60.54474,59.56441,53.90575,46.2587,54.08885,42.72542,29.87578,29.69408,27.92833,35.25201,53.87861,60.11845,56.46566,38.95693,54.29402,36.99996,28.18846,42.71678,29.11454,28.35395,28.80308,34.66362,49.30304,27.79211,35.84072,54.23729,27.05672,31.19433,48.9476,57.77797,46.20002,53.94833,30.48,30.41319,49.08941,56.46785,18.24412,35.01706,28.69439,24.62636,30.40122,48.75406,30.39352,29.24363,43.13352,17.04233,30.11172,30.39594,28.69965,54.13157,41.64405,24.72404,39.04524,45.7479,40.80728,30.07222,49.51094,28.89392,25.07738,25.57165,26.06966,57.77825,41.38092,27.92874,57.77781,41.42398,30.41176,44.62532,35.50858,49.28918,29.04274,38.98828,60.88663,34.07981,48.75649,29.19226,41.48694,32.06024,56.8104,54.29414,56.80995,27.83853,40.57345,24.50697,41.38392,43.39955,30.4048,30.39846,48.75448,27.86903,43.75206,53.86814,23.77729,43.8798,30.2767,23.75874,29.17293,34.62787,29.87131,35.23268,41.19408,25.07849,25.42605,23.32869,34.19398,56.81326,26.18687,40.5611,48.94371,55.33336,13.45855,43.71269,49.29037,29.10796,14.69927,49.29057,17.71676,37.82832,29.78541,49.17849,54.28908,46.16915,29.99927,56.81027,25.61788,42.26346,24.84484,39.7502,29.58015,28.75456,40.41996,25.80712,30.412,46.90776,28.65657,18.91417,47.55899,27.47088,48.47002,48.13155,28.98969,29.37095,25.10516,41.63742,35.89469,48.4295,24.69852,24.14737,27.63349,37.46788,26.24407,57.77856,48.99935,24.08921,44.19676,49.11884,25.07768,25.17218,30.05227,39.75033,53.90241,56.81062,55.63513,49.28497,24.58217,35.24326,43.34566,49.20758,25.55861,43.6513,26.0842,57.78466,27.88692,19.8559,43.48647,41.70977,18.09187,29.20011,29.18957,49.11973,54.13355,36.19943,43.27787,49.30454,45.58127,25.46983,25.7389,48.62344,36.47712,24.92323,37.23458,29.40667,44.07575,55.40426,48.80461,30.42264,23.68074,57.78688,41.64328,56.81106,18.74917,48.36991,30.10422,49.29844,40.99143,15.38994,49.12384,41.59406,29.35221,49.30447,15.87847,22.50304,26.50268],\"legendgroup\":\"Unknown\",\"lon\":[-123.76403,-92.13253,-90.19493,-64.956,-68.66305,-84.24058,-82.21043,-74.70833,-90.18631,-115.56877,-80.11392,-123.08924,-73.50587,-91.00915,-117.65698,-123.03458,-90.89214,-84.82131,-124.2125,-91.66358,-132.96168,-152.41035,-132.96452,-77.32584,-91.90292,-96.86393,-126.37282,-87.59106,-81.14576,-68.45367,-89.2884,-132.96395,-90.20006,-71.51069,-166.55159,-64.23767,-135.40938,-71.32274,-82.21043,-85.72271,-93.73575,-124.70505,-70.90566,-90.00242,-89.63691,-80.85121,-71.32272,-123.2585,-97.07279,-76.5929,-69.21202,-97.43213,-68.43541,-116.9259,-152.41333,-96.22965,-80.76747,-77.065,-122.91643,-88.98942,-88.88005,-92.10072,-123.93433,-122.61064,-78.66897,-87.56328,-82.1772,-94.84,-125.61734,-76.82916,-125.20979,-68.83385,-166.55547,-76.69645,-124.35824,-162.3276,-119.26442,-119.22749,-93.62142,-116.70528,-93.88597,-70.26918,-75.16719,-123.73229,-126.45983,-121.78769,-68.80567,-93.97137,-70.02403,-155.07527,-92.13247,-132.96591,-71.51184,-74.54788,-70.15457,-96.22966,-97.49765,-77.44998,-122.5035,-123.23032,-93.95598,-121.14918,-68.17861,-166.54236,-151.45698,-70.91206,-71.19559,-86.19483,-124.35631,-125.08192,-76.69281,-76.27863,-89.13348,-88.03633,-119.90853,-82.27603,-80.21036,-82.13486,-132.96105,-82.56323,-119.42158,-69.92517,-73.4392,-86.93942,-72.88173,-122.50316,-160.28137,-124.36761,-80.96966,-123.18893,-88.50925,-71.51381,-75.67692,-79.45713,-72.01756,-162.32636,-132.96597,-167.56864,-96.92888,-88.48179,-79.11225,-74.86691,-166.57859,-166.55183,-126.9638,-82.89333,-75.64183,-94.21977,142.5154,-90.29856,-71.16429,-120.17221,-70.48283,-82.49239,-78.9579,-74.11506,-166.50983,-74.9057,-122.50682,-80.1552,-69.9963,-83.06178,-162.32738,-123.40734,-145.76656,-139.74053,-166.51147,-124.02164,-161.91431,-125.23076,-92.12994,-67.37503,-82.42713,-128.14499,-166.53856,-149.43819,-132.38278,-74.87457,-130.35496,-74.51583,-91.07457,-80.1489,-90.20871,-90.71753,-93.7889,-76.78487,-123.02331,-97.39132,-75.62014,-130.35862,-96.15515,-73.86675,-125.55094,-152.41371,-123.38558,-166.61423,-91.19433,-88.88027,-123.69844,-132.38317,-64.97927,-75.95758,-95.9567,-88.11578,-87.21063,-122.50481,-88.26571,-89.99022,-66.8282,-69.243,-90.91245,-88.26314,-96.22621,-165.78725,-70.92109,-81.01806,-75.16414,-124.06898,-124.16469,-88.06342,-123.75858,-89.33267,-77.32575,-91.57786,-97.12372,-152.41358,-71.51202,-82.42736,-152.4127,-68.63834,-88.87866,-124.0324,-75.9962,-123.06809,-95.64241,-74.82442,-146.93,-76.44254,-122.50357,-89.60054,-70.55411,-127.46258,-132.96508,-130.35465,-132.96468,-97.0653,-69.52812,-81.1755,-71.50842,-124.336,-88.25034,-88.25812,-122.50552,-97.24583,-124.23319,-166.5548,-79.17825,-68.3578,-91.17027,-83.85389,-91.4757,-121.02541,-92.13016,-75.4589,-72.86778,-77.32426,-90.15063,-88.01831,-77.95583,-132.96031,-94.54663,-69.37898,-125.54534,-160.49814,144.63608,-124.10548,-123.06075,-89.8375,-63.45667,-123.06057,-64.49459,-76.27946,-88.14989,-122.91942,-130.38326,-123.9137,-136.42325,-132.96486,-91.04667,-83.10544,-82.03796,-74.11464,-73.30717,-94.4214,-70.3804,-76.1628,-88.87801,-124.10782,-94.69427,-66.01848,-85.3573,-80.33014,-126.44576,-123.43617,-92.06322,-92.03247,-74.40144,-70.90747,-75.6414,-123.37398,-86.44667,-80.58417,-72.46788,-127.5846,-79.18015,-152.41422,-123.81411,-85.39722,-67.09458,-123.16159,-77.32567,-78.02837,-90.66333,-74.11486,-166.52843,-132.96532,-159.2416,-123.18332,-87.9125,-76.59072,-124.32094,-123.0812,-74.67685,-70.25422,-79.48273,-152.42119,-82.84001,-66.65011,-66.79672,-124.23582,-63.92438,-91.37329,-89.6219,-123.16807,-130.6178,-132.57243,-79.79657,-123.20306,-73.50575,-91.21904,-89.69938,-122.57078,-137.16365,-81.92684,-130.84003,-93.64207,-69.11281,-131.74147,-123.37665,-88.89145,-81.5446,-152.41156,-70.91618,-132.96424,-63.17653,-123.72592,-116.75429,-123.02939,-68.94699,-66.93705,-123.18695,-70.88662,-81.03706,-123.05981,-64.8239,-86.155,-78.80007],\"marker\":{\"color\":\"#636efa\",\"symbol\":\"circle\"},\"mode\":\"markers\",\"name\":\"Unknown\",\"showlegend\":true,\"type\":\"scattergeo\"},{\"geo\":\"geo\",\"hovertemplate\":\"\\u003cb\\u003e%{hovertext}\\u003c\\u002fb\\u003e\\u003cbr\\u003e\\u003cbr\\u003ePort Name=Houston\\u003cbr\\u003eLAT=%{lat}\\u003cbr\\u003eLON=%{lon}\\u003cextra\\u003e\\u003c\\u002fextra\\u003e\",\"hovertext\":[70.0,80.0,30.0,30.0,80.0,80.0,80.0,89.0,70.0,80.0,80.0,89.0,30.0,80.0,30.0,30.0,80.0,80.0,52.0,80.0,70.0,80.0,70.0,30.0,80.0,80.0,80.0,30.0],\"lat\":[29.32442,29.60885,29.39091,29.31632,29.33537,29.17606,29.24096,29.74498,29.68225,29.73819,29.74179,29.31235,29.31532,29.23418,29.39051,29.46732,29.73868,29.26956,29.67937,29.68241,29.73202,29.2342,29.73567,29.30347,29.3615,29.73157,29.26885,29.31563],\"legendgroup\":\"Houston\",\"lon\":[-94.54587,-95.02015,-94.76034,-94.7791,-94.54236,-94.61426,-94.66983,-95.09654,-94.99233,-95.12486,-95.20461,-94.78616,-94.77875,-94.59713,-94.75997,-94.96218,-95.16387,-94.51707,-94.92611,-95.00901,-95.27597,-94.6112,-95.14604,-94.43045,-94.91675,-95.0536,-94.46207,-94.77932],\"marker\":{\"color\":\"#EF553B\",\"symbol\":\"circle\"},\"mode\":\"markers\",\"name\":\"Houston\",\"showlegend\":true,\"type\":\"scattergeo\"},{\"geo\":\"geo\",\"hovertemplate\":\"\\u003cb\\u003e%{hovertext}\\u003c\\u002fb\\u003e\\u003cbr\\u003e\\u003cbr\\u003ePort Name=Miami\\u003cbr\\u003eLAT=%{lat}\\u003cbr\\u003eLON=%{lon}\\u003cextra\\u003e\\u003c\\u002fextra\\u003e\",\"hovertext\":[70.0,80.0,70.0],\"lat\":[25.79494,25.98007,26.09235],\"legendgroup\":\"Miami\",\"lon\":[-80.24384,-79.51506,-80.11331],\"marker\":{\"color\":\"#00cc96\",\"symbol\":\"circle\"},\"mode\":\"markers\",\"name\":\"Miami\",\"showlegend\":true,\"type\":\"scattergeo\"},{\"geo\":\"geo\",\"hovertemplate\":\"\\u003cb\\u003e%{hovertext}\\u003c\\u002fb\\u003e\\u003cbr\\u003e\\u003cbr\\u003ePort Name=Seattle\\u003cbr\\u003eLAT=%{lat}\\u003cbr\\u003eLON=%{lon}\\u003cextra\\u003e\\u003c\\u002fextra\\u003e\",\"hovertext\":[30.0,30.0,30.0,30.0,30.0,30.0,30.0,30.0,30.0,30.0,70.0,30.0,30.0,30.0,70.0,30.0,30.0,30.0,70.0,30.0],\"lat\":[47.65673,47.62731,47.66351,47.63502,47.66692,47.63459,47.659,47.64681,47.65686,47.66728,47.2741,47.63538,47.33483,48.10504,47.65968,47.65605,47.62916,47.63529,47.57556,47.65655],\"legendgroup\":\"Seattle\",\"lon\":[-122.37781,-122.38204,-122.39148,-122.32838,-122.38874,-122.32826,-122.37906,-122.34021,-122.37817,-122.388,-122.45628,-122.32879,-122.58704,-122.77751,-122.38086,-122.37944,-122.37944,-122.32906,-122.36125,-122.36718],\"marker\":{\"color\":\"#ab63fa\",\"symbol\":\"circle\"},\"mode\":\"markers\",\"name\":\"Seattle\",\"showlegend\":true,\"type\":\"scattergeo\"},{\"geo\":\"geo\",\"hovertemplate\":\"\\u003cb\\u003e%{hovertext}\\u003c\\u002fb\\u003e\\u003cbr\\u003e\\u003cbr\\u003ePort Name=Norfolk\\u003cbr\\u003eLAT=%{lat}\\u003cbr\\u003eLON=%{lon}\\u003cextra\\u003e\\u003c\\u002fextra\\u003e\",\"hovertext\":[30.0,30.0,80.0,30.0,30.0,70.0,30.0,70.0,80.0],\"lat\":[36.97102,36.96927,36.94634,36.96217,36.99796,36.87716,36.96778,36.92383,36.93394],\"legendgroup\":\"Norfolk\",\"lon\":[-76.41535,-76.41493,-76.33203,-76.40935,-76.29854,-76.34314,-76.41489,-76.3295,-76.33266],\"marker\":{\"color\":\"#FFA15A\",\"symbol\":\"circle\"},\"mode\":\"markers\",\"name\":\"Norfolk\",\"showlegend\":true,\"type\":\"scattergeo\"},{\"geo\":\"geo\",\"hovertemplate\":\"\\u003cb\\u003e%{hovertext}\\u003c\\u002fb\\u003e\\u003cbr\\u003e\\u003cbr\\u003ePort Name=Boston\\u003cbr\\u003eLAT=%{lat}\\u003cbr\\u003eLON=%{lon}\\u003cextra\\u003e\\u003c\\u002fextra\\u003e\",\"hovertext\":[30.0,30.0,30.0,30.0,80.0,30.0,30.0],\"lat\":[42.61253,42.61274,42.61726,42.61549,41.8113,42.61015,42.35112],\"legendgroup\":\"Boston\",\"lon\":[-70.65201,-70.65325,-70.58752,-70.65119,-71.39493,-70.66364,-71.0374],\"marker\":{\"color\":\"#19d3f3\",\"symbol\":\"circle\"},\"mode\":\"markers\",\"name\":\"Boston\",\"showlegend\":true,\"type\":\"scattergeo\"},{\"geo\":\"geo\",\"hovertemplate\":\"\\u003cb\\u003e%{hovertext}\\u003c\\u002fb\\u003e\\u003cbr\\u003e\\u003cbr\\u003ePort Name=Savannah\\u003cbr\\u003eLAT=%{lat}\\u003cbr\\u003eLON=%{lon}\\u003cextra\\u003e\\u003c\\u002fextra\\u003e\",\"hovertext\":[70.0,70.0,70.0,30.0,30.0],\"lat\":[32.09949,31.88253,32.14356,32.3758,31.53534],\"legendgroup\":\"Savannah\",\"lon\":[-81.1129,-80.36742,-81.14266,-80.69692,-81.36424],\"marker\":{\"color\":\"#FF6692\",\"symbol\":\"circle\"},\"mode\":\"markers\",\"name\":\"Savannah\",\"showlegend\":true,\"type\":\"scattergeo\"},{\"geo\":\"geo\",\"hovertemplate\":\"\\u003cb\\u003e%{hovertext}\\u003c\\u002fb\\u003e\\u003cbr\\u003e\\u003cbr\\u003ePort Name=Honolulu\\u003cbr\\u003eLAT=%{lat}\\u003cbr\\u003eLON=%{lon}\\u003cextra\\u003e\\u003c\\u002fextra\\u003e\",\"hovertext\":[30.0,30.0,30.0,80.0,30.0,30.0,30.0,30.0,30.0,30.0,30.0],\"lat\":[21.31254,21.31304,21.31373,21.28583,21.31694,21.317,21.31642,21.31269,21.31695,21.31683,21.31333],\"legendgroup\":\"Honolulu\",\"lon\":[-157.86621,-157.86619,-157.86597,-157.91638,-157.87794,-157.87707,-157.87918,-157.86609,-157.87949,-157.87766,-157.86671],\"marker\":{\"color\":\"#B6E880\",\"symbol\":\"circle\"},\"mode\":\"markers\",\"name\":\"Honolulu\",\"showlegend\":true,\"type\":\"scattergeo\"},{\"geo\":\"geo\",\"hovertemplate\":\"\\u003cb\\u003e%{hovertext}\\u003c\\u002fb\\u003e\\u003cbr\\u003e\\u003cbr\\u003ePort Name=New Orleans\\u003cbr\\u003eLAT=%{lat}\\u003cbr\\u003eLON=%{lon}\\u003cextra\\u003e\\u003c\\u002fextra\\u003e\",\"hovertext\":[80.0,70.0,80.0,70.0,70.0,70.0,70.0],\"lat\":[30.05037,29.58417,29.96212,29.82664,29.83698,29.99707,29.96626],\"legendgroup\":\"New Orleans\",\"lon\":[-90.5939,-89.81983,-90.29608,-90.00048,-89.9945,-90.4361,-90.27477],\"marker\":{\"color\":\"#FF97FF\",\"symbol\":\"circle\"},\"mode\":\"markers\",\"name\":\"New Orleans\",\"showlegend\":true,\"type\":\"scattergeo\"},{\"geo\":\"geo\",\"hovertemplate\":\"\\u003cb\\u003e%{hovertext}\\u003c\\u002fb\\u003e\\u003cbr\\u003e\\u003cbr\\u003ePort Name=Jacksonville\\u003cbr\\u003eLAT=%{lat}\\u003cbr\\u003eLON=%{lon}\\u003cextra\\u003e\\u003c\\u002fextra\\u003e\",\"hovertext\":[30.0,30.0,30.0,30.0,30.0],\"lat\":[30.39954,29.89214,30.04816,30.41663,30.39107],\"legendgroup\":\"Jacksonville\",\"lon\":[-81.55119,-81.30933,-81.25569,-81.53642,-81.43317],\"marker\":{\"color\":\"#FECB52\",\"symbol\":\"circle\"},\"mode\":\"markers\",\"name\":\"Jacksonville\",\"showlegend\":true,\"type\":\"scattergeo\"},{\"geo\":\"geo\",\"hovertemplate\":\"\\u003cb\\u003e%{hovertext}\\u003c\\u002fb\\u003e\\u003cbr\\u003e\\u003cbr\\u003ePort Name=Los Angeles\\u003cbr\\u003eLAT=%{lat}\\u003cbr\\u003eLON=%{lon}\\u003cextra\\u003e\\u003c\\u002fextra\\u003e\",\"hovertext\":[30.0,30.0,80.0,30.0,70.0,70.0,30.0],\"lat\":[33.73801,33.57424,33.90432,33.60053,33.74533,33.74406,33.15022],\"legendgroup\":\"Los Angeles\",\"lon\":[-118.26763,-118.26279,-118.45142,-117.88784,-118.22432,-118.2267,-118.38385],\"marker\":{\"color\":\"#636efa\",\"symbol\":\"circle\"},\"mode\":\"markers\",\"name\":\"Los Angeles\",\"showlegend\":true,\"type\":\"scattergeo\"},{\"geo\":\"geo\",\"hovertemplate\":\"\\u003cb\\u003e%{hovertext}\\u003c\\u002fb\\u003e\\u003cbr\\u003e\\u003cbr\\u003ePort Name=Oakland\\u003cbr\\u003eLAT=%{lat}\\u003cbr\\u003eLON=%{lon}\\u003cextra\\u003e\\u003c\\u002fextra\\u003e\",\"hovertext\":[70.0,80.0,80.0,70.0,80.0,70.0,30.0],\"lat\":[38.04283,37.719,37.73977,37.73023,37.76973,38.05917,37.50202],\"legendgroup\":\"Oakland\",\"lon\":[-122.13243,-122.32438,-122.33928,-122.34468,-122.35415,-122.02348,-122.48276],\"marker\":{\"color\":\"#EF553B\",\"symbol\":\"circle\"},\"mode\":\"markers\",\"name\":\"Oakland\",\"showlegend\":true,\"type\":\"scattergeo\"},{\"geo\":\"geo\",\"hovertemplate\":\"\\u003cb\\u003e%{hovertext}\\u003c\\u002fb\\u003e\\u003cbr\\u003e\\u003cbr\\u003ePort Name=San Diego\\u003cbr\\u003eLAT=%{lat}\\u003cbr\\u003eLON=%{lon}\\u003cextra\\u003e\\u003c\\u002fextra\\u003e\",\"hovertext\":[30.0,80.0,30.0],\"lat\":[32.76403,32.32107,32.71324],\"legendgroup\":\"San Diego\",\"lon\":[-117.23975,-117.09939,-117.23068],\"marker\":{\"color\":\"#00cc96\",\"symbol\":\"circle\"},\"mode\":\"markers\",\"name\":\"San Diego\",\"showlegend\":true,\"type\":\"scattergeo\"},{\"geo\":\"geo\",\"hovertemplate\":\"\\u003cb\\u003e%{hovertext}\\u003c\\u002fb\\u003e\\u003cbr\\u003e\\u003cbr\\u003ePort Name=Philadelphia\\u003cbr\\u003eLAT=%{lat}\\u003cbr\\u003eLON=%{lon}\\u003cextra\\u003e\\u003c\\u002fextra\\u003e\",\"hovertext\":[80.0,80.0],\"lat\":[39.45323,39.80075],\"legendgroup\":\"Philadelphia\",\"lon\":[-75.55768,-75.41683],\"marker\":{\"color\":\"#ab63fa\",\"symbol\":\"circle\"},\"mode\":\"markers\",\"name\":\"Philadelphia\",\"showlegend\":true,\"type\":\"scattergeo\"},{\"geo\":\"geo\",\"hovertemplate\":\"\\u003cb\\u003e%{hovertext}\\u003c\\u002fb\\u003e\\u003cbr\\u003e\\u003cbr\\u003ePort Name=New York\\u003cbr\\u003eLAT=%{lat}\\u003cbr\\u003eLON=%{lon}\\u003cextra\\u003e\\u003c\\u002fextra\\u003e\",\"hovertext\":[70.0,30.0,70.0,80.0],\"lat\":[40.69244,40.10206,40.50695,40.58318],\"legendgroup\":\"New York\",\"lon\":[-74.13881,-74.03848,-73.59117,-74.20958],\"marker\":{\"color\":\"#FFA15A\",\"symbol\":\"circle\"},\"mode\":\"markers\",\"name\":\"New York\",\"showlegend\":true,\"type\":\"scattergeo\"},{\"geo\":\"geo\",\"hovertemplate\":\"\\u003cb\\u003e%{hovertext}\\u003c\\u002fb\\u003e\\u003cbr\\u003e\\u003cbr\\u003ePort Name=Baltimore\\u003cbr\\u003eLAT=%{lat}\\u003cbr\\u003eLON=%{lon}\\u003cextra\\u003e\\u003c\\u002fextra\\u003e\",\"hovertext\":[52.0,30.0],\"lat\":[39.26953,38.95222],\"legendgroup\":\"Baltimore\",\"lon\":[-76.58491,-76.55268],\"marker\":{\"color\":\"#19d3f3\",\"symbol\":\"circle\"},\"mode\":\"markers\",\"name\":\"Baltimore\",\"showlegend\":true,\"type\":\"scattergeo\"},{\"geo\":\"geo\",\"hovertemplate\":\"\\u003cb\\u003e%{hovertext}\\u003c\\u002fb\\u003e\\u003cbr\\u003e\\u003cbr\\u003ePort Name=Charleston\\u003cbr\\u003eLAT=%{lat}\\u003cbr\\u003eLON=%{lon}\\u003cextra\\u003e\\u003c\\u002fextra\\u003e\",\"hovertext\":[70.0,30.0,71.0],\"lat\":[32.5868,32.59972,32.61868],\"legendgroup\":\"Charleston\",\"lon\":[-79.5461,-80.1767,-79.50279],\"marker\":{\"color\":\"#FF6692\",\"symbol\":\"circle\"},\"mode\":\"markers\",\"name\":\"Charleston\",\"showlegend\":true,\"type\":\"scattergeo\"}],                        {\"template\":{\"data\":{\"histogram2dcontour\":[{\"type\":\"histogram2dcontour\",\"colorbar\":{\"outlinewidth\":0,\"ticks\":\"\"},\"colorscale\":[[0.0,\"#0d0887\"],[0.1111111111111111,\"#46039f\"],[0.2222222222222222,\"#7201a8\"],[0.3333333333333333,\"#9c179e\"],[0.4444444444444444,\"#bd3786\"],[0.5555555555555556,\"#d8576b\"],[0.6666666666666666,\"#ed7953\"],[0.7777777777777778,\"#fb9f3a\"],[0.8888888888888888,\"#fdca26\"],[1.0,\"#f0f921\"]]}],\"choropleth\":[{\"type\":\"choropleth\",\"colorbar\":{\"outlinewidth\":0,\"ticks\":\"\"}}],\"histogram2d\":[{\"type\":\"histogram2d\",\"colorbar\":{\"outlinewidth\":0,\"ticks\":\"\"},\"colorscale\":[[0.0,\"#0d0887\"],[0.1111111111111111,\"#46039f\"],[0.2222222222222222,\"#7201a8\"],[0.3333333333333333,\"#9c179e\"],[0.4444444444444444,\"#bd3786\"],[0.5555555555555556,\"#d8576b\"],[0.6666666666666666,\"#ed7953\"],[0.7777777777777778,\"#fb9f3a\"],[0.8888888888888888,\"#fdca26\"],[1.0,\"#f0f921\"]]}],\"heatmap\":[{\"type\":\"heatmap\",\"colorbar\":{\"outlinewidth\":0,\"ticks\":\"\"},\"colorscale\":[[0.0,\"#0d0887\"],[0.1111111111111111,\"#46039f\"],[0.2222222222222222,\"#7201a8\"],[0.3333333333333333,\"#9c179e\"],[0.4444444444444444,\"#bd3786\"],[0.5555555555555556,\"#d8576b\"],[0.6666666666666666,\"#ed7953\"],[0.7777777777777778,\"#fb9f3a\"],[0.8888888888888888,\"#fdca26\"],[1.0,\"#f0f921\"]]}],\"heatmapgl\":[{\"type\":\"heatmapgl\",\"colorbar\":{\"outlinewidth\":0,\"ticks\":\"\"},\"colorscale\":[[0.0,\"#0d0887\"],[0.1111111111111111,\"#46039f\"],[0.2222222222222222,\"#7201a8\"],[0.3333333333333333,\"#9c179e\"],[0.4444444444444444,\"#bd3786\"],[0.5555555555555556,\"#d8576b\"],[0.6666666666666666,\"#ed7953\"],[0.7777777777777778,\"#fb9f3a\"],[0.8888888888888888,\"#fdca26\"],[1.0,\"#f0f921\"]]}],\"contourcarpet\":[{\"type\":\"contourcarpet\",\"colorbar\":{\"outlinewidth\":0,\"ticks\":\"\"}}],\"contour\":[{\"type\":\"contour\",\"colorbar\":{\"outlinewidth\":0,\"ticks\":\"\"},\"colorscale\":[[0.0,\"#0d0887\"],[0.1111111111111111,\"#46039f\"],[0.2222222222222222,\"#7201a8\"],[0.3333333333333333,\"#9c179e\"],[0.4444444444444444,\"#bd3786\"],[0.5555555555555556,\"#d8576b\"],[0.6666666666666666,\"#ed7953\"],[0.7777777777777778,\"#fb9f3a\"],[0.8888888888888888,\"#fdca26\"],[1.0,\"#f0f921\"]]}],\"surface\":[{\"type\":\"surface\",\"colorbar\":{\"outlinewidth\":0,\"ticks\":\"\"},\"colorscale\":[[0.0,\"#0d0887\"],[0.1111111111111111,\"#46039f\"],[0.2222222222222222,\"#7201a8\"],[0.3333333333333333,\"#9c179e\"],[0.4444444444444444,\"#bd3786\"],[0.5555555555555556,\"#d8576b\"],[0.6666666666666666,\"#ed7953\"],[0.7777777777777778,\"#fb9f3a\"],[0.8888888888888888,\"#fdca26\"],[1.0,\"#f0f921\"]]}],\"mesh3d\":[{\"type\":\"mesh3d\",\"colorbar\":{\"outlinewidth\":0,\"ticks\":\"\"}}],\"scatter\":[{\"fillpattern\":{\"fillmode\":\"overlay\",\"size\":10,\"solidity\":0.2},\"type\":\"scatter\"}],\"parcoords\":[{\"type\":\"parcoords\",\"line\":{\"colorbar\":{\"outlinewidth\":0,\"ticks\":\"\"}}}],\"scatterpolargl\":[{\"type\":\"scatterpolargl\",\"marker\":{\"colorbar\":{\"outlinewidth\":0,\"ticks\":\"\"}}}],\"bar\":[{\"error_x\":{\"color\":\"#2a3f5f\"},\"error_y\":{\"color\":\"#2a3f5f\"},\"marker\":{\"line\":{\"color\":\"#E5ECF6\",\"width\":0.5},\"pattern\":{\"fillmode\":\"overlay\",\"size\":10,\"solidity\":0.2}},\"type\":\"bar\"}],\"scattergeo\":[{\"type\":\"scattergeo\",\"marker\":{\"colorbar\":{\"outlinewidth\":0,\"ticks\":\"\"}}}],\"scatterpolar\":[{\"type\":\"scatterpolar\",\"marker\":{\"colorbar\":{\"outlinewidth\":0,\"ticks\":\"\"}}}],\"histogram\":[{\"marker\":{\"pattern\":{\"fillmode\":\"overlay\",\"size\":10,\"solidity\":0.2}},\"type\":\"histogram\"}],\"scattergl\":[{\"type\":\"scattergl\",\"marker\":{\"colorbar\":{\"outlinewidth\":0,\"ticks\":\"\"}}}],\"scatter3d\":[{\"type\":\"scatter3d\",\"line\":{\"colorbar\":{\"outlinewidth\":0,\"ticks\":\"\"}},\"marker\":{\"colorbar\":{\"outlinewidth\":0,\"ticks\":\"\"}}}],\"scattermapbox\":[{\"type\":\"scattermapbox\",\"marker\":{\"colorbar\":{\"outlinewidth\":0,\"ticks\":\"\"}}}],\"scatterternary\":[{\"type\":\"scatterternary\",\"marker\":{\"colorbar\":{\"outlinewidth\":0,\"ticks\":\"\"}}}],\"scattercarpet\":[{\"type\":\"scattercarpet\",\"marker\":{\"colorbar\":{\"outlinewidth\":0,\"ticks\":\"\"}}}],\"carpet\":[{\"aaxis\":{\"endlinecolor\":\"#2a3f5f\",\"gridcolor\":\"white\",\"linecolor\":\"white\",\"minorgridcolor\":\"white\",\"startlinecolor\":\"#2a3f5f\"},\"baxis\":{\"endlinecolor\":\"#2a3f5f\",\"gridcolor\":\"white\",\"linecolor\":\"white\",\"minorgridcolor\":\"white\",\"startlinecolor\":\"#2a3f5f\"},\"type\":\"carpet\"}],\"table\":[{\"cells\":{\"fill\":{\"color\":\"#EBF0F8\"},\"line\":{\"color\":\"white\"}},\"header\":{\"fill\":{\"color\":\"#C8D4E3\"},\"line\":{\"color\":\"white\"}},\"type\":\"table\"}],\"barpolar\":[{\"marker\":{\"line\":{\"color\":\"#E5ECF6\",\"width\":0.5},\"pattern\":{\"fillmode\":\"overlay\",\"size\":10,\"solidity\":0.2}},\"type\":\"barpolar\"}],\"pie\":[{\"automargin\":true,\"type\":\"pie\"}]},\"layout\":{\"autotypenumbers\":\"strict\",\"colorway\":[\"#636efa\",\"#EF553B\",\"#00cc96\",\"#ab63fa\",\"#FFA15A\",\"#19d3f3\",\"#FF6692\",\"#B6E880\",\"#FF97FF\",\"#FECB52\"],\"font\":{\"color\":\"#2a3f5f\"},\"hovermode\":\"closest\",\"hoverlabel\":{\"align\":\"left\"},\"paper_bgcolor\":\"white\",\"plot_bgcolor\":\"#E5ECF6\",\"polar\":{\"bgcolor\":\"#E5ECF6\",\"angularaxis\":{\"gridcolor\":\"white\",\"linecolor\":\"white\",\"ticks\":\"\"},\"radialaxis\":{\"gridcolor\":\"white\",\"linecolor\":\"white\",\"ticks\":\"\"}},\"ternary\":{\"bgcolor\":\"#E5ECF6\",\"aaxis\":{\"gridcolor\":\"white\",\"linecolor\":\"white\",\"ticks\":\"\"},\"baxis\":{\"gridcolor\":\"white\",\"linecolor\":\"white\",\"ticks\":\"\"},\"caxis\":{\"gridcolor\":\"white\",\"linecolor\":\"white\",\"ticks\":\"\"}},\"coloraxis\":{\"colorbar\":{\"outlinewidth\":0,\"ticks\":\"\"}},\"colorscale\":{\"sequential\":[[0.0,\"#0d0887\"],[0.1111111111111111,\"#46039f\"],[0.2222222222222222,\"#7201a8\"],[0.3333333333333333,\"#9c179e\"],[0.4444444444444444,\"#bd3786\"],[0.5555555555555556,\"#d8576b\"],[0.6666666666666666,\"#ed7953\"],[0.7777777777777778,\"#fb9f3a\"],[0.8888888888888888,\"#fdca26\"],[1.0,\"#f0f921\"]],\"sequentialminus\":[[0.0,\"#0d0887\"],[0.1111111111111111,\"#46039f\"],[0.2222222222222222,\"#7201a8\"],[0.3333333333333333,\"#9c179e\"],[0.4444444444444444,\"#bd3786\"],[0.5555555555555556,\"#d8576b\"],[0.6666666666666666,\"#ed7953\"],[0.7777777777777778,\"#fb9f3a\"],[0.8888888888888888,\"#fdca26\"],[1.0,\"#f0f921\"]],\"diverging\":[[0,\"#8e0152\"],[0.1,\"#c51b7d\"],[0.2,\"#de77ae\"],[0.3,\"#f1b6da\"],[0.4,\"#fde0ef\"],[0.5,\"#f7f7f7\"],[0.6,\"#e6f5d0\"],[0.7,\"#b8e186\"],[0.8,\"#7fbc41\"],[0.9,\"#4d9221\"],[1,\"#276419\"]]},\"xaxis\":{\"gridcolor\":\"white\",\"linecolor\":\"white\",\"ticks\":\"\",\"title\":{\"standoff\":15},\"zerolinecolor\":\"white\",\"automargin\":true,\"zerolinewidth\":2},\"yaxis\":{\"gridcolor\":\"white\",\"linecolor\":\"white\",\"ticks\":\"\",\"title\":{\"standoff\":15},\"zerolinecolor\":\"white\",\"automargin\":true,\"zerolinewidth\":2},\"scene\":{\"xaxis\":{\"backgroundcolor\":\"#E5ECF6\",\"gridcolor\":\"white\",\"linecolor\":\"white\",\"showbackground\":true,\"ticks\":\"\",\"zerolinecolor\":\"white\",\"gridwidth\":2},\"yaxis\":{\"backgroundcolor\":\"#E5ECF6\",\"gridcolor\":\"white\",\"linecolor\":\"white\",\"showbackground\":true,\"ticks\":\"\",\"zerolinecolor\":\"white\",\"gridwidth\":2},\"zaxis\":{\"backgroundcolor\":\"#E5ECF6\",\"gridcolor\":\"white\",\"linecolor\":\"white\",\"showbackground\":true,\"ticks\":\"\",\"zerolinecolor\":\"white\",\"gridwidth\":2}},\"shapedefaults\":{\"line\":{\"color\":\"#2a3f5f\"}},\"annotationdefaults\":{\"arrowcolor\":\"#2a3f5f\",\"arrowhead\":0,\"arrowwidth\":1},\"geo\":{\"bgcolor\":\"white\",\"landcolor\":\"#E5ECF6\",\"subunitcolor\":\"white\",\"showland\":true,\"showlakes\":true,\"lakecolor\":\"white\"},\"title\":{\"x\":0.05},\"mapbox\":{\"style\":\"light\"}}},\"geo\":{\"domain\":{\"x\":[0.0,1.0],\"y\":[0.0,1.0]},\"projection\":{\"type\":\"natural earth\"},\"center\":{},\"scope\":\"world\",\"showland\":true,\"landcolor\":\"lightgray\"},\"legend\":{\"title\":{\"text\":\"Port Name\"},\"tracegroupgap\":0},\"title\":{\"text\":\"First Arrivals: Vessel Locations by Port\"}},                        {\"responsive\": true}                    ).then(function(){\n",
              "                            \n",
              "var gd = document.getElementById('004f0058-62e4-4707-a87f-1b8aebd3aaf2');\n",
              "var x = new MutationObserver(function (mutations, observer) {{\n",
              "        var display = window.getComputedStyle(gd).display;\n",
              "        if (!display || display === 'none') {{\n",
              "            console.log([gd, 'removed!']);\n",
              "            Plotly.purge(gd);\n",
              "            observer.disconnect();\n",
              "        }}\n",
              "}});\n",
              "\n",
              "// Listen for the removal of the full notebook cells\n",
              "var notebookContainer = gd.closest('#notebook-container');\n",
              "if (notebookContainer) {{\n",
              "    x.observe(notebookContainer, {childList: true});\n",
              "}}\n",
              "\n",
              "// Listen for the clearing of the current output cell\n",
              "var outputEl = gd.closest('.output');\n",
              "if (outputEl) {{\n",
              "    x.observe(outputEl, {childList: true});\n",
              "}}\n",
              "\n",
              "                        })                };                            </script>        </div>\n",
              "</body>\n",
              "</html>"
            ]
          },
          "metadata": {}
        }
      ]
    },
    {
      "cell_type": "code",
      "source": [],
      "metadata": {
        "id": "oAFMNz1PG5GD"
      },
      "execution_count": null,
      "outputs": []
    }
  ]
}