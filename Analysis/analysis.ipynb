{
 "cells": [
  {
   "cell_type": "markdown",
   "id": "55164003",
   "metadata": {},
   "source": [
    "# Analyzing Port activity with the US Stock market\n",
    "Don't forget to update requirements.txt if you install additional libraries"
   ]
  },
  {
   "cell_type": "code",
   "execution_count": null,
   "id": "0979548b",
   "metadata": {},
   "outputs": [],
   "source": [
    "#Uncomment and run the following command to update the requirements.txt file:\n",
    "#pip freeze > requirements.txt"
   ]
  }
 ],
 "metadata": {
  "language_info": {
   "name": "python"
  }
 },
 "nbformat": 4,
 "nbformat_minor": 5
}
