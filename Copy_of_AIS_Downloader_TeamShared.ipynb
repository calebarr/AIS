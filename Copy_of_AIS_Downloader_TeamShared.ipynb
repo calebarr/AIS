{
  "nbformat": 4,
  "nbformat_minor": 0,
  "metadata": {
    "colab": {
      "provenance": [],
      "include_colab_link": true
    },
    "kernelspec": {
      "name": "python3",
      "display_name": "Python 3"
    },
    "language_info": {
      "name": "python"
    }
  },
  "cells": [
    {
      "cell_type": "markdown",
      "metadata": {
        "id": "view-in-github",
        "colab_type": "text"
      },
      "source": [
        "<a href=\"https://colab.research.google.com/github/calebarr/AIS/blob/ais_cleaning/Copy_of_AIS_Downloader_TeamShared.ipynb\" target=\"_parent\"><img src=\"https://colab.research.google.com/assets/colab-badge.svg\" alt=\"Open In Colab\"/></a>"
      ]
    },
    {
      "cell_type": "code",
      "source": [
        "# AIS Data Downloader - Google Colab Version (Team-Ready)\n",
        "\n",
        "# Mount Google Drive\n",
        "from google.colab import drive\n",
        "import os\n",
        "from datetime import datetime, timedelta\n",
        "import requests\n",
        "import pandas as pd\n",
        "import zipfile\n",
        "\n",
        "print(\"Mounting Google Drive...\")\n",
        "drive.mount('/content/drive')\n",
        "\n",
        "# Define the AIS downloader function\n",
        "def download_ais_data(start_date_str, end_date_str, save_folder):\n",
        "    os.makedirs(save_folder, exist_ok=True)\n",
        "    print(f\"Files will be saved to: {save_folder}\")\n",
        "\n",
        "    # Convert string dates to datetime objects\n",
        "    start_date = datetime.strptime(start_date_str, \"%Y-%m-%d\")\n",
        "    end_date = datetime.strptime(end_date_str, \"%Y-%m-%d\")\n",
        "\n",
        "\n",
        "    # Download each file in the date range\n",
        "    for i in range((end_date - start_date).days + 1):\n",
        "        date_obj = start_date + timedelta(days=i)\n",
        "        filename = f\"AIS_{date_obj.strftime('%Y_%m_%d')}.zip\"\n",
        "        url = f\"https://coast.noaa.gov/htdata/CMSP/AISDataHandler/2020/{filename}\"\n",
        "        file_path = os.path.join(save_folder, filename)\n",
        "\n",
        "        if not os.path.exists(file_path):\n",
        "            print(f\"Downloading {filename}...\")\n",
        "            response = requests.get(url)\n",
        "            if response.status_code == 200:\n",
        "                with open(file_path, \"wb\") as f:\n",
        "                    f.write(response.content)\n",
        "                print(f\"Saved: {file_path}\")\n",
        "            else:\n",
        "                print(f\"Failed: {response.status_code}\")\n",
        "        else:\n",
        "            print(f\"Already downloaded: {filename}\")\n",
        "\n",
        "# Now call the function with your chosen parameters\n",
        "download_ais_data(\n",
        "    start_date_str=\"2020-03-10\",\n",
        "    end_date_str=\"2020-04-16\",\n",
        "    save_folder=\"/content/drive/My Drive/SIADS_593/assets/raw_data\"\n",
        ")\n"
      ],
      "metadata": {
        "id": "0yfBwBvK_XL5",
        "colab": {
          "base_uri": "https://localhost:8080/"
        },
        "outputId": "e24493b6-2b3b-443d-c496-1dc97d311623"
      },
      "execution_count": null,
      "outputs": [
        {
          "output_type": "stream",
          "name": "stdout",
          "text": [
            "Mounting Google Drive...\n",
            "Mounted at /content/drive\n",
            "Files will be saved to: /content/drive/My Drive/SIADS_593/assets/raw_data\n",
            "Already downloaded: AIS_2020_03_10.zip\n",
            "Already downloaded: AIS_2020_03_11.zip\n",
            "Already downloaded: AIS_2020_03_12.zip\n",
            "Already downloaded: AIS_2020_03_13.zip\n",
            "Already downloaded: AIS_2020_03_14.zip\n",
            "Already downloaded: AIS_2020_03_15.zip\n",
            "Already downloaded: AIS_2020_03_16.zip\n",
            "Already downloaded: AIS_2020_03_17.zip\n",
            "Already downloaded: AIS_2020_03_18.zip\n",
            "Already downloaded: AIS_2020_03_19.zip\n",
            "Already downloaded: AIS_2020_03_20.zip\n",
            "Already downloaded: AIS_2020_03_21.zip\n",
            "Already downloaded: AIS_2020_03_22.zip\n",
            "Already downloaded: AIS_2020_03_23.zip\n",
            "Already downloaded: AIS_2020_03_24.zip\n",
            "Already downloaded: AIS_2020_03_25.zip\n",
            "Already downloaded: AIS_2020_03_26.zip\n",
            "Already downloaded: AIS_2020_03_27.zip\n",
            "Already downloaded: AIS_2020_03_28.zip\n",
            "Already downloaded: AIS_2020_03_29.zip\n",
            "Already downloaded: AIS_2020_03_30.zip\n",
            "Already downloaded: AIS_2020_03_31.zip\n",
            "Already downloaded: AIS_2020_04_01.zip\n",
            "Already downloaded: AIS_2020_04_02.zip\n",
            "Already downloaded: AIS_2020_04_03.zip\n",
            "Already downloaded: AIS_2020_04_04.zip\n",
            "Already downloaded: AIS_2020_04_05.zip\n",
            "Already downloaded: AIS_2020_04_06.zip\n",
            "Already downloaded: AIS_2020_04_07.zip\n",
            "Already downloaded: AIS_2020_04_08.zip\n",
            "Already downloaded: AIS_2020_04_09.zip\n",
            "Already downloaded: AIS_2020_04_10.zip\n",
            "Already downloaded: AIS_2020_04_11.zip\n",
            "Already downloaded: AIS_2020_04_12.zip\n",
            "Already downloaded: AIS_2020_04_13.zip\n",
            "Already downloaded: AIS_2020_04_14.zip\n",
            "Already downloaded: AIS_2020_04_15.zip\n",
            "Already downloaded: AIS_2020_04_16.zip\n"
          ]
        }
      ]
    },
    {
      "cell_type": "code",
      "source": [
        "#!ls -lh \"/content/drive/My Drive/SIADS_593/assets/raw_data\"\n"
      ],
      "metadata": {
        "id": "TpA13JPEiYcz"
      },
      "execution_count": null,
      "outputs": []
    },
    {
      "cell_type": "code",
      "source": [
        "def process_zip_in_chunks(zip_path, chunksize=100_000):\n",
        "\n",
        "    all_cleaned_chunks = []\n",
        "    with zipfile.ZipFile(zip_path, 'r') as zip_ref:\n",
        "        csv_files = [name for name in zip_ref.namelist() if name.endswith('.csv')]\n",
        "        if not csv_files:\n",
        "            return pd.DataFrame()\n",
        "\n",
        "        with zip_ref.open(csv_files[0]) as f:\n",
        "            reader = pd.read_csv(f, chunksize=chunksize)\n",
        "            for chunk in reader:\n",
        "                cleaned = extract_first_arrivals_anywhere(chunk)\n",
        "                all_cleaned_chunks.append(cleaned)\n",
        "\n",
        "    return pd.concat(all_cleaned_chunks, ignore_index=True)\n"
      ],
      "metadata": {
        "id": "yJhRWmHVVINR"
      },
      "execution_count": null,
      "outputs": []
    },
    {
      "cell_type": "code",
      "source": [
        "def extract_first_arrivals_anywhere(df):\n",
        "    # Filter by relevant vessel types\n",
        "    df = df[\n",
        "        df[\"VesselType\"].isin(range(70, 90)) | df[\"VesselType\"].isin([30, 52])\n",
        "    ].copy()\n",
        "\n",
        "    # Drop rows with missing or invalid coordinates\n",
        "    df = df.dropna(subset=[\"LAT\", \"LON\"])\n",
        "    df = df[(df[\"LAT\"] != 0) & (df[\"LON\"] != 0)]\n",
        "\n",
        "    # Convert timestamps\n",
        "    df[\"BaseDateTime\"] = pd.to_datetime(df[\"BaseDateTime\"], errors='coerce')\n",
        "\n",
        "    df = df.dropna(subset=[\"BaseDateTime\"])\n",
        "\n",
        "    # Filter for ships that are of Status 1 & 5 (Anchored)\n",
        "    if \"Status\" in df.columns:\n",
        "      df = df[df[\"Status\"].isin([1, 5])]\n",
        "\n",
        "    \"\"\"\n",
        "    Working on cleaning this section\n",
        "    \"\"\"\n",
        "    # Drop all the columns that are not need\n",
        "    columns_to_drop = [\"SOG\", \"COG\", \"Heading\", \"IMO\", \"VesselName\", \"Length\", \"Width\", \"TransceiverClass\", \"Cargo\", \"CallSign\", \"Draft\"]\n",
        "    existing_cols = [col for col in columns_to_drop if col in df.columns]\n",
        "\n",
        "    df = df.drop(columns=existing_cols)\n",
        "\n",
        "    # End of cleaning\n",
        "\n",
        "    # Sort and get the first ping per MMSI\n",
        "    first_arrivals = (\n",
        "        df.sort_values([\"MMSI\", \"BaseDateTime\"])\n",
        "          .drop_duplicates(\"MMSI\", keep=\"first\")\n",
        "    )\n",
        "\n",
        "    # Assign port names\n",
        "    return assign_port_names(first_arrivals)\n"
      ],
      "metadata": {
        "id": "GoKkrlRTgxg7"
      },
      "execution_count": null,
      "outputs": []
    },
    {
      "cell_type": "code",
      "source": [
        "def assign_port_names(df, buffer=1.3):\n",
        "    PORT_REGIONS = {\n",
        "        \"Los Angeles\": (33.6, 33.9, -118.5, -118.0),\n",
        "        \"Long Beach\": (33.7, 33.9, -118.25, -118.15),\n",
        "        \"Oakland\": (37.7, 37.85, -122.35, -122.2),\n",
        "        \"Seattle\": (47.5, 47.7, -122.4, -122.2),\n",
        "        \"New York\": (40.6, 40.8, -74.1, -73.9),\n",
        "        \"Norfolk\": (36.8, 37.1, -76.4, -76.2),\n",
        "        \"Savannah\": (32.0, 32.2, -81.2, -80.8),\n",
        "        \"Charleston\": (32.7, 32.9, -80.0, -79.8),\n",
        "        \"Miami\": (25.75, 25.85, -80.2, -80.0),\n",
        "        \"Port Everglades\": (26.05, 26.1, -80.15, -80.1),\n",
        "        \"Baltimore\": (39.2, 39.3, -76.6, -76.5),\n",
        "        \"Philadelphia\": (39.9, 40.0, -75.2, -75.1),\n",
        "        \"Houston\": (29.6, 29.8, -95.2, -94.8),\n",
        "        \"New Orleans\": (29.9, 30.1, -90.1, -89.9),\n",
        "        \"Jacksonville\": (30.3, 30.5, -81.7, -81.3),\n",
        "        \"San Diego\": (32.7, 32.8, -117.2, -117.1),\n",
        "        \"Boston\": (42.3, 42.4, -71.1, -70.9),\n",
        "        \"Anchorage\": (61.1, 61.3, -149.95, -149.8),\n",
        "        \"Honolulu\": (21.3, 21.4, -157.9, -157.8),\n",
        "        \"Portland\": (45.6, 45.7, -122.7, -122.6),\n",
        "        \"Puerto Rico\": (18.2, 18.3, -66.3, -66.2),\n",
        "        \"Tacoma\": (47.2, 47.4, -122.55, -122.35),\n",
        "        \"Port Arthur\": (29.85, 29.95, -93.95, -93.85),\n",
        "        \"Beaumont\": (30.0, 30.1, -94.15, -94.05),\n",
        "        \"Corpus Christi\": (27.75, 27.9, -97.45, -97.25),\n",
        "        \"Baton Rouge\": (30.4, 30.5, -91.25, -91.15),\n",
        "        \"Mobile\": (30.6, 30.7, -88.1, -88.0),\n",
        "        \"Tampa\": (27.9, 28.0, -82.5, -82.4),\n",
        "        \"San Francisco\": (37.75, 37.85, -122.45, -122.3),\n",
        "        \"Wilmington (DE)\": (39.7, 39.75, -75.55, -75.5),\n",
        "        \"Camden (NJ)\": (39.9, 39.95, -75.1, -75.05),\n",
        "        \"Providence\": (41.7, 41.8, -71.45, -71.35),\n",
        "        \"Unknown\": (None, None, None, None),  # fallback\n",
        "    }\n",
        "\n",
        "    def get_port_name(lat, lon):\n",
        "        for port, bounds in PORT_REGIONS.items():\n",
        "            if None in bounds:\n",
        "                continue  # skip 'Unknown'\n",
        "            min_lat, max_lat, min_lon, max_lon = bounds\n",
        "            if (min_lat - buffer) <= lat <= (max_lat + buffer) and \\\n",
        "               (min_lon - buffer) <= lon <= (max_lon + buffer):\n",
        "                return port\n",
        "        return \"Unknown\"\n",
        "\n",
        "    df[\"Port Name\"] = df.apply(lambda row: get_port_name(row[\"LAT\"], row[\"LON\"]), axis=1)\n",
        "    return df\n",
        "\n"
      ],
      "metadata": {
        "id": "Og93Hm7cBPzE"
      },
      "execution_count": null,
      "outputs": []
    },
    {
      "cell_type": "code",
      "source": [
        "def concat_all_zips_from_folder(folder_path):\n",
        "    zip_files = sorted([\n",
        "        os.path.join(folder_path, fname)\n",
        "        for fname in os.listdir(folder_path)\n",
        "        if fname.endswith(\".zip\")\n",
        "    ])\n",
        "\n",
        "    all_dataframes = []\n",
        "    for zip_path in zip_files:\n",
        "        print(f\"Processing: {zip_path}\")\n",
        "        df = process_zip_in_chunks(zip_path)\n",
        "        all_dataframes.append(df)\n",
        "\n",
        "    combined_df = pd.concat(all_dataframes, ignore_index=True)\n",
        "    return combined_df\n"
      ],
      "metadata": {
        "id": "sSahmkBoOGUn"
      },
      "execution_count": null,
      "outputs": []
    },
    {
      "cell_type": "code",
      "source": [
        "raw_data_dir = \"/content/drive/My Drive/SIADS_593/assets/raw_data\"\n",
        "vessel_data = concat_all_zips_from_folder(raw_data_dir)\n"
      ],
      "metadata": {
        "colab": {
          "base_uri": "https://localhost:8080/"
        },
        "id": "icpoNT6sOT-0",
        "outputId": "5c5af9db-7523-425a-90eb-106304c69a7f"
      },
      "execution_count": null,
      "outputs": [
        {
          "output_type": "stream",
          "name": "stdout",
          "text": [
            "Processing: /content/drive/My Drive/SIADS_593/assets/raw_data/AIS_2020_03_10.zip\n",
            "Processing: /content/drive/My Drive/SIADS_593/assets/raw_data/AIS_2020_03_11.zip\n",
            "Processing: /content/drive/My Drive/SIADS_593/assets/raw_data/AIS_2020_03_12.zip\n",
            "Processing: /content/drive/My Drive/SIADS_593/assets/raw_data/AIS_2020_03_13.zip\n",
            "Processing: /content/drive/My Drive/SIADS_593/assets/raw_data/AIS_2020_03_14.zip\n",
            "Processing: /content/drive/My Drive/SIADS_593/assets/raw_data/AIS_2020_03_15.zip\n",
            "Processing: /content/drive/My Drive/SIADS_593/assets/raw_data/AIS_2020_03_16.zip\n",
            "Processing: /content/drive/My Drive/SIADS_593/assets/raw_data/AIS_2020_03_17.zip\n",
            "Processing: /content/drive/My Drive/SIADS_593/assets/raw_data/AIS_2020_03_18.zip\n"
          ]
        },
        {
          "output_type": "stream",
          "name": "stderr",
          "text": [
            "<ipython-input-8-fe2e1f857b8a>:48: SettingWithCopyWarning: \n",
            "A value is trying to be set on a copy of a slice from a DataFrame.\n",
            "Try using .loc[row_indexer,col_indexer] = value instead\n",
            "\n",
            "See the caveats in the documentation: https://pandas.pydata.org/pandas-docs/stable/user_guide/indexing.html#returning-a-view-versus-a-copy\n",
            "  df[\"Port Name\"] = df.apply(lambda row: get_port_name(row[\"LAT\"], row[\"LON\"]), axis=1)\n"
          ]
        },
        {
          "output_type": "stream",
          "name": "stdout",
          "text": [
            "Processing: /content/drive/My Drive/SIADS_593/assets/raw_data/AIS_2020_03_19.zip\n"
          ]
        },
        {
          "output_type": "stream",
          "name": "stderr",
          "text": [
            "<ipython-input-8-fe2e1f857b8a>:48: SettingWithCopyWarning: \n",
            "A value is trying to be set on a copy of a slice from a DataFrame.\n",
            "Try using .loc[row_indexer,col_indexer] = value instead\n",
            "\n",
            "See the caveats in the documentation: https://pandas.pydata.org/pandas-docs/stable/user_guide/indexing.html#returning-a-view-versus-a-copy\n",
            "  df[\"Port Name\"] = df.apply(lambda row: get_port_name(row[\"LAT\"], row[\"LON\"]), axis=1)\n"
          ]
        },
        {
          "output_type": "stream",
          "name": "stdout",
          "text": [
            "Processing: /content/drive/My Drive/SIADS_593/assets/raw_data/AIS_2020_03_20.zip\n",
            "Processing: /content/drive/My Drive/SIADS_593/assets/raw_data/AIS_2020_03_21.zip\n",
            "Processing: /content/drive/My Drive/SIADS_593/assets/raw_data/AIS_2020_03_22.zip\n",
            "Processing: /content/drive/My Drive/SIADS_593/assets/raw_data/AIS_2020_03_23.zip\n",
            "Processing: /content/drive/My Drive/SIADS_593/assets/raw_data/AIS_2020_03_24.zip\n",
            "Processing: /content/drive/My Drive/SIADS_593/assets/raw_data/AIS_2020_03_25.zip\n",
            "Processing: /content/drive/My Drive/SIADS_593/assets/raw_data/AIS_2020_03_26.zip\n",
            "Processing: /content/drive/My Drive/SIADS_593/assets/raw_data/AIS_2020_03_27.zip\n",
            "Processing: /content/drive/My Drive/SIADS_593/assets/raw_data/AIS_2020_03_28.zip\n",
            "Processing: /content/drive/My Drive/SIADS_593/assets/raw_data/AIS_2020_03_29.zip\n"
          ]
        },
        {
          "output_type": "stream",
          "name": "stderr",
          "text": [
            "<ipython-input-8-fe2e1f857b8a>:48: SettingWithCopyWarning: \n",
            "A value is trying to be set on a copy of a slice from a DataFrame.\n",
            "Try using .loc[row_indexer,col_indexer] = value instead\n",
            "\n",
            "See the caveats in the documentation: https://pandas.pydata.org/pandas-docs/stable/user_guide/indexing.html#returning-a-view-versus-a-copy\n",
            "  df[\"Port Name\"] = df.apply(lambda row: get_port_name(row[\"LAT\"], row[\"LON\"]), axis=1)\n"
          ]
        },
        {
          "output_type": "stream",
          "name": "stdout",
          "text": [
            "Processing: /content/drive/My Drive/SIADS_593/assets/raw_data/AIS_2020_03_30.zip\n"
          ]
        },
        {
          "output_type": "stream",
          "name": "stderr",
          "text": [
            "<ipython-input-8-fe2e1f857b8a>:48: SettingWithCopyWarning: \n",
            "A value is trying to be set on a copy of a slice from a DataFrame.\n",
            "Try using .loc[row_indexer,col_indexer] = value instead\n",
            "\n",
            "See the caveats in the documentation: https://pandas.pydata.org/pandas-docs/stable/user_guide/indexing.html#returning-a-view-versus-a-copy\n",
            "  df[\"Port Name\"] = df.apply(lambda row: get_port_name(row[\"LAT\"], row[\"LON\"]), axis=1)\n"
          ]
        },
        {
          "output_type": "stream",
          "name": "stdout",
          "text": [
            "Processing: /content/drive/My Drive/SIADS_593/assets/raw_data/AIS_2020_03_31.zip\n",
            "Processing: /content/drive/My Drive/SIADS_593/assets/raw_data/AIS_2020_04_01.zip\n",
            "Processing: /content/drive/My Drive/SIADS_593/assets/raw_data/AIS_2020_04_02.zip\n",
            "Processing: /content/drive/My Drive/SIADS_593/assets/raw_data/AIS_2020_04_03.zip\n",
            "Processing: /content/drive/My Drive/SIADS_593/assets/raw_data/AIS_2020_04_04.zip\n",
            "Processing: /content/drive/My Drive/SIADS_593/assets/raw_data/AIS_2020_04_05.zip\n",
            "Processing: /content/drive/My Drive/SIADS_593/assets/raw_data/AIS_2020_04_06.zip\n",
            "Processing: /content/drive/My Drive/SIADS_593/assets/raw_data/AIS_2020_04_07.zip\n"
          ]
        },
        {
          "output_type": "stream",
          "name": "stderr",
          "text": [
            "<ipython-input-7-ce20ab5aa661>:12: UserWarning: Could not infer format, so each element will be parsed individually, falling back to `dateutil`. To ensure parsing is consistent and as-expected, please specify a format.\n",
            "  df[\"BaseDateTime\"] = pd.to_datetime(df[\"BaseDateTime\"], errors='coerce')\n"
          ]
        },
        {
          "output_type": "stream",
          "name": "stdout",
          "text": [
            "Processing: /content/drive/My Drive/SIADS_593/assets/raw_data/AIS_2020_04_08.zip\n",
            "Processing: /content/drive/My Drive/SIADS_593/assets/raw_data/AIS_2020_04_09.zip\n",
            "Processing: /content/drive/My Drive/SIADS_593/assets/raw_data/AIS_2020_04_10.zip\n",
            "Processing: /content/drive/My Drive/SIADS_593/assets/raw_data/AIS_2020_04_11.zip\n",
            "Processing: /content/drive/My Drive/SIADS_593/assets/raw_data/AIS_2020_04_12.zip\n",
            "Processing: /content/drive/My Drive/SIADS_593/assets/raw_data/AIS_2020_04_13.zip\n",
            "Processing: /content/drive/My Drive/SIADS_593/assets/raw_data/AIS_2020_04_14.zip\n",
            "Processing: /content/drive/My Drive/SIADS_593/assets/raw_data/AIS_2020_04_15.zip\n",
            "Processing: /content/drive/My Drive/SIADS_593/assets/raw_data/AIS_2020_04_16.zip\n"
          ]
        }
      ]
    },
    {
      "cell_type": "code",
      "source": [
        "def clean_and_save_first_arrivals(vessel_data, output_csv_path):\n",
        "    # Drop rows where 'Port Name' is 'Unknown'\n",
        "    cleaned_df = vessel_data[vessel_data['Port Name'] != 'Unknown'].copy()\n",
        "\n",
        "    # Create the output directory if it doesn't exist\n",
        "    os.makedirs(os.path.dirname(output_csv_path), exist_ok=True)\n",
        "\n",
        "    # Save the cleaned DataFrame to a CSV file\n",
        "    cleaned_df.to_csv(output_csv_path, index=False)\n",
        "\n",
        "    print(f\"Cleaned data saved to: {output_csv_path}\")\n",
        "    print(\"Shape of the cleaned data:\", cleaned_df.shape)\n",
        "\n",
        "    return cleaned_df\n"
      ],
      "metadata": {
        "id": "C2Bhh4DbOeEK"
      },
      "execution_count": null,
      "outputs": []
    },
    {
      "cell_type": "markdown",
      "source": [
        "End of script everything else is extra"
      ],
      "metadata": {
        "id": "g2MA5lmEoY9w"
      }
    },
    {
      "cell_type": "code",
      "source": [
        "cleaned_csv_path = \"/content/drive/My Drive/SIADS_593/assets/cleaned_data/first_arrivals_cleaned.csv\"\n",
        "cleaned_df = clean_and_save_first_arrivals(vessel_data, cleaned_csv_path)\n"
      ],
      "metadata": {
        "colab": {
          "base_uri": "https://localhost:8080/"
        },
        "id": "ZcXArVywPTzD",
        "outputId": "bfb4d145-4c62-46f7-a84f-2c89d2186a2e"
      },
      "execution_count": null,
      "outputs": [
        {
          "output_type": "stream",
          "name": "stdout",
          "text": [
            "Cleaned data saved to: /content/drive/My Drive/SIADS_593/assets/cleaned_data/first_arrivals_cleaned.csv\n",
            "Shape of the cleaned data: (1653365, 7)\n"
          ]
        }
      ]
    },
    {
      "cell_type": "markdown",
      "source": [
        "This the end of the script everything else is Extra"
      ],
      "metadata": {
        "id": "gJByinyyoskb"
      }
    },
    {
      "cell_type": "code",
      "source": [
        "first_arrivals_df = extract_first_arrivals_anywhere(vessel_data)\n",
        "first_arrivals_df[\"Port Name\"].value_counts()\n",
        "\n"
      ],
      "metadata": {
        "colab": {
          "base_uri": "https://localhost:8080/",
          "height": 930
        },
        "id": "Yek6EzYvPcwe",
        "outputId": "99f6c661-c4d0-47f0-fc57-5be1fddb9749"
      },
      "execution_count": null,
      "outputs": [
        {
          "output_type": "execute_result",
          "data": {
            "text/plain": [
              "Port Name\n",
              "Unknown            910\n",
              "Houston            531\n",
              "New Orleans        302\n",
              "Los Angeles        284\n",
              "New York           241\n",
              "Miami              146\n",
              "Savannah           121\n",
              "Seattle            119\n",
              "Portland            99\n",
              "Baltimore           91\n",
              "Corpus Christi      89\n",
              "Oakland             84\n",
              "Norfolk             77\n",
              "Mobile              65\n",
              "Puerto Rico         60\n",
              "Boston              49\n",
              "Port Arthur         43\n",
              "Jacksonville        37\n",
              "Tampa               34\n",
              "Honolulu            27\n",
              "Wilmington (DE)     16\n",
              "Philadelphia        15\n",
              "San Diego           14\n",
              "Baton Rouge         11\n",
              "Anchorage            5\n",
              "Charleston           2\n",
              "Name: count, dtype: int64"
            ],
            "text/html": [
              "<div>\n",
              "<style scoped>\n",
              "    .dataframe tbody tr th:only-of-type {\n",
              "        vertical-align: middle;\n",
              "    }\n",
              "\n",
              "    .dataframe tbody tr th {\n",
              "        vertical-align: top;\n",
              "    }\n",
              "\n",
              "    .dataframe thead th {\n",
              "        text-align: right;\n",
              "    }\n",
              "</style>\n",
              "<table border=\"1\" class=\"dataframe\">\n",
              "  <thead>\n",
              "    <tr style=\"text-align: right;\">\n",
              "      <th></th>\n",
              "      <th>count</th>\n",
              "    </tr>\n",
              "    <tr>\n",
              "      <th>Port Name</th>\n",
              "      <th></th>\n",
              "    </tr>\n",
              "  </thead>\n",
              "  <tbody>\n",
              "    <tr>\n",
              "      <th>Unknown</th>\n",
              "      <td>910</td>\n",
              "    </tr>\n",
              "    <tr>\n",
              "      <th>Houston</th>\n",
              "      <td>531</td>\n",
              "    </tr>\n",
              "    <tr>\n",
              "      <th>New Orleans</th>\n",
              "      <td>302</td>\n",
              "    </tr>\n",
              "    <tr>\n",
              "      <th>Los Angeles</th>\n",
              "      <td>284</td>\n",
              "    </tr>\n",
              "    <tr>\n",
              "      <th>New York</th>\n",
              "      <td>241</td>\n",
              "    </tr>\n",
              "    <tr>\n",
              "      <th>Miami</th>\n",
              "      <td>146</td>\n",
              "    </tr>\n",
              "    <tr>\n",
              "      <th>Savannah</th>\n",
              "      <td>121</td>\n",
              "    </tr>\n",
              "    <tr>\n",
              "      <th>Seattle</th>\n",
              "      <td>119</td>\n",
              "    </tr>\n",
              "    <tr>\n",
              "      <th>Portland</th>\n",
              "      <td>99</td>\n",
              "    </tr>\n",
              "    <tr>\n",
              "      <th>Baltimore</th>\n",
              "      <td>91</td>\n",
              "    </tr>\n",
              "    <tr>\n",
              "      <th>Corpus Christi</th>\n",
              "      <td>89</td>\n",
              "    </tr>\n",
              "    <tr>\n",
              "      <th>Oakland</th>\n",
              "      <td>84</td>\n",
              "    </tr>\n",
              "    <tr>\n",
              "      <th>Norfolk</th>\n",
              "      <td>77</td>\n",
              "    </tr>\n",
              "    <tr>\n",
              "      <th>Mobile</th>\n",
              "      <td>65</td>\n",
              "    </tr>\n",
              "    <tr>\n",
              "      <th>Puerto Rico</th>\n",
              "      <td>60</td>\n",
              "    </tr>\n",
              "    <tr>\n",
              "      <th>Boston</th>\n",
              "      <td>49</td>\n",
              "    </tr>\n",
              "    <tr>\n",
              "      <th>Port Arthur</th>\n",
              "      <td>43</td>\n",
              "    </tr>\n",
              "    <tr>\n",
              "      <th>Jacksonville</th>\n",
              "      <td>37</td>\n",
              "    </tr>\n",
              "    <tr>\n",
              "      <th>Tampa</th>\n",
              "      <td>34</td>\n",
              "    </tr>\n",
              "    <tr>\n",
              "      <th>Honolulu</th>\n",
              "      <td>27</td>\n",
              "    </tr>\n",
              "    <tr>\n",
              "      <th>Wilmington (DE)</th>\n",
              "      <td>16</td>\n",
              "    </tr>\n",
              "    <tr>\n",
              "      <th>Philadelphia</th>\n",
              "      <td>15</td>\n",
              "    </tr>\n",
              "    <tr>\n",
              "      <th>San Diego</th>\n",
              "      <td>14</td>\n",
              "    </tr>\n",
              "    <tr>\n",
              "      <th>Baton Rouge</th>\n",
              "      <td>11</td>\n",
              "    </tr>\n",
              "    <tr>\n",
              "      <th>Anchorage</th>\n",
              "      <td>5</td>\n",
              "    </tr>\n",
              "    <tr>\n",
              "      <th>Charleston</th>\n",
              "      <td>2</td>\n",
              "    </tr>\n",
              "  </tbody>\n",
              "</table>\n",
              "</div><br><label><b>dtype:</b> int64</label>"
            ]
          },
          "metadata": {},
          "execution_count": 22
        }
      ]
    },
    {
      "cell_type": "code",
      "source": [
        "print(vessel_data.info())"
      ],
      "metadata": {
        "id": "iyHlVhpWRadr",
        "outputId": "b51f312f-cc3e-48d3-b746-4d701ef4a05d",
        "colab": {
          "base_uri": "https://localhost:8080/"
        }
      },
      "execution_count": null,
      "outputs": [
        {
          "output_type": "stream",
          "name": "stdout",
          "text": [
            "<class 'pandas.core.frame.DataFrame'>\n",
            "RangeIndex: 1995497 entries, 0 to 1995496\n",
            "Data columns (total 7 columns):\n",
            " #   Column        Dtype         \n",
            "---  ------        -----         \n",
            " 0   MMSI          int64         \n",
            " 1   BaseDateTime  datetime64[ns]\n",
            " 2   LAT           float64       \n",
            " 3   LON           float64       \n",
            " 4   VesselType    float64       \n",
            " 5   Status        float64       \n",
            " 6   Port Name     object        \n",
            "dtypes: datetime64[ns](1), float64(4), int64(1), object(1)\n",
            "memory usage: 106.6+ MB\n",
            "None\n"
          ]
        }
      ]
    },
    {
      "cell_type": "code",
      "source": [
        "anchored_ships = vessel_data[vessel_data[\"Status\"] == 5]\n",
        "anchored_ships = vessel_data[vessel_data[\"Status\"] == 1]\n",
        "df =anchored_ships\n",
        "df.head(10)\n"
      ],
      "metadata": {
        "id": "FCEn7xcWSdNd",
        "outputId": "c18c6974-b36a-4973-b496-d9d438a2315e",
        "colab": {
          "base_uri": "https://localhost:8080/",
          "height": 363
        }
      },
      "execution_count": null,
      "outputs": [
        {
          "output_type": "execute_result",
          "data": {
            "text/plain": [
              "         MMSI        BaseDateTime       LAT        LON  VesselType  Status  \\\n",
              "1   205543000 2020-03-10 00:01:30  29.33625  -94.58277        80.0     1.0   \n",
              "2   209148000 2020-03-10 00:01:00  34.60947  -76.63238        70.0     1.0   \n",
              "6   210059000 2020-03-10 00:00:38  27.62148  -83.01884        70.0     1.0   \n",
              "8   210234000 2020-03-10 00:01:35  29.60503  -89.85290        70.0     1.0   \n",
              "9   210263000 2020-03-10 00:00:33  48.79803 -123.23741        70.0     1.0   \n",
              "12  212522000 2020-03-10 00:01:32  29.63888  -93.29527        80.0     1.0   \n",
              "15  212871000 2020-03-10 00:00:05  37.75103 -122.34348        80.0     1.0   \n",
              "17  215322000 2020-03-10 00:01:06  30.04680  -90.54819        89.0     1.0   \n",
              "31  228333700 2020-03-10 00:00:17  36.85513  -75.64044        80.0     1.0   \n",
              "33  229079000 2020-03-10 00:03:02  29.30532  -94.50440        80.0     1.0   \n",
              "\n",
              "      Port Name  \n",
              "1       Houston  \n",
              "2       Unknown  \n",
              "6         Tampa  \n",
              "8   New Orleans  \n",
              "9       Seattle  \n",
              "12  Port Arthur  \n",
              "15      Oakland  \n",
              "17  New Orleans  \n",
              "31      Norfolk  \n",
              "33      Houston  "
            ],
            "text/html": [
              "\n",
              "  <div id=\"df-a23abe90-0095-4f40-98e5-4ec7b094b95e\" class=\"colab-df-container\">\n",
              "    <div>\n",
              "<style scoped>\n",
              "    .dataframe tbody tr th:only-of-type {\n",
              "        vertical-align: middle;\n",
              "    }\n",
              "\n",
              "    .dataframe tbody tr th {\n",
              "        vertical-align: top;\n",
              "    }\n",
              "\n",
              "    .dataframe thead th {\n",
              "        text-align: right;\n",
              "    }\n",
              "</style>\n",
              "<table border=\"1\" class=\"dataframe\">\n",
              "  <thead>\n",
              "    <tr style=\"text-align: right;\">\n",
              "      <th></th>\n",
              "      <th>MMSI</th>\n",
              "      <th>BaseDateTime</th>\n",
              "      <th>LAT</th>\n",
              "      <th>LON</th>\n",
              "      <th>VesselType</th>\n",
              "      <th>Status</th>\n",
              "      <th>Port Name</th>\n",
              "    </tr>\n",
              "  </thead>\n",
              "  <tbody>\n",
              "    <tr>\n",
              "      <th>1</th>\n",
              "      <td>205543000</td>\n",
              "      <td>2020-03-10 00:01:30</td>\n",
              "      <td>29.33625</td>\n",
              "      <td>-94.58277</td>\n",
              "      <td>80.0</td>\n",
              "      <td>1.0</td>\n",
              "      <td>Houston</td>\n",
              "    </tr>\n",
              "    <tr>\n",
              "      <th>2</th>\n",
              "      <td>209148000</td>\n",
              "      <td>2020-03-10 00:01:00</td>\n",
              "      <td>34.60947</td>\n",
              "      <td>-76.63238</td>\n",
              "      <td>70.0</td>\n",
              "      <td>1.0</td>\n",
              "      <td>Unknown</td>\n",
              "    </tr>\n",
              "    <tr>\n",
              "      <th>6</th>\n",
              "      <td>210059000</td>\n",
              "      <td>2020-03-10 00:00:38</td>\n",
              "      <td>27.62148</td>\n",
              "      <td>-83.01884</td>\n",
              "      <td>70.0</td>\n",
              "      <td>1.0</td>\n",
              "      <td>Tampa</td>\n",
              "    </tr>\n",
              "    <tr>\n",
              "      <th>8</th>\n",
              "      <td>210234000</td>\n",
              "      <td>2020-03-10 00:01:35</td>\n",
              "      <td>29.60503</td>\n",
              "      <td>-89.85290</td>\n",
              "      <td>70.0</td>\n",
              "      <td>1.0</td>\n",
              "      <td>New Orleans</td>\n",
              "    </tr>\n",
              "    <tr>\n",
              "      <th>9</th>\n",
              "      <td>210263000</td>\n",
              "      <td>2020-03-10 00:00:33</td>\n",
              "      <td>48.79803</td>\n",
              "      <td>-123.23741</td>\n",
              "      <td>70.0</td>\n",
              "      <td>1.0</td>\n",
              "      <td>Seattle</td>\n",
              "    </tr>\n",
              "    <tr>\n",
              "      <th>12</th>\n",
              "      <td>212522000</td>\n",
              "      <td>2020-03-10 00:01:32</td>\n",
              "      <td>29.63888</td>\n",
              "      <td>-93.29527</td>\n",
              "      <td>80.0</td>\n",
              "      <td>1.0</td>\n",
              "      <td>Port Arthur</td>\n",
              "    </tr>\n",
              "    <tr>\n",
              "      <th>15</th>\n",
              "      <td>212871000</td>\n",
              "      <td>2020-03-10 00:00:05</td>\n",
              "      <td>37.75103</td>\n",
              "      <td>-122.34348</td>\n",
              "      <td>80.0</td>\n",
              "      <td>1.0</td>\n",
              "      <td>Oakland</td>\n",
              "    </tr>\n",
              "    <tr>\n",
              "      <th>17</th>\n",
              "      <td>215322000</td>\n",
              "      <td>2020-03-10 00:01:06</td>\n",
              "      <td>30.04680</td>\n",
              "      <td>-90.54819</td>\n",
              "      <td>89.0</td>\n",
              "      <td>1.0</td>\n",
              "      <td>New Orleans</td>\n",
              "    </tr>\n",
              "    <tr>\n",
              "      <th>31</th>\n",
              "      <td>228333700</td>\n",
              "      <td>2020-03-10 00:00:17</td>\n",
              "      <td>36.85513</td>\n",
              "      <td>-75.64044</td>\n",
              "      <td>80.0</td>\n",
              "      <td>1.0</td>\n",
              "      <td>Norfolk</td>\n",
              "    </tr>\n",
              "    <tr>\n",
              "      <th>33</th>\n",
              "      <td>229079000</td>\n",
              "      <td>2020-03-10 00:03:02</td>\n",
              "      <td>29.30532</td>\n",
              "      <td>-94.50440</td>\n",
              "      <td>80.0</td>\n",
              "      <td>1.0</td>\n",
              "      <td>Houston</td>\n",
              "    </tr>\n",
              "  </tbody>\n",
              "</table>\n",
              "</div>\n",
              "    <div class=\"colab-df-buttons\">\n",
              "\n",
              "  <div class=\"colab-df-container\">\n",
              "    <button class=\"colab-df-convert\" onclick=\"convertToInteractive('df-a23abe90-0095-4f40-98e5-4ec7b094b95e')\"\n",
              "            title=\"Convert this dataframe to an interactive table.\"\n",
              "            style=\"display:none;\">\n",
              "\n",
              "  <svg xmlns=\"http://www.w3.org/2000/svg\" height=\"24px\" viewBox=\"0 -960 960 960\">\n",
              "    <path d=\"M120-120v-720h720v720H120Zm60-500h600v-160H180v160Zm220 220h160v-160H400v160Zm0 220h160v-160H400v160ZM180-400h160v-160H180v160Zm440 0h160v-160H620v160ZM180-180h160v-160H180v160Zm440 0h160v-160H620v160Z\"/>\n",
              "  </svg>\n",
              "    </button>\n",
              "\n",
              "  <style>\n",
              "    .colab-df-container {\n",
              "      display:flex;\n",
              "      gap: 12px;\n",
              "    }\n",
              "\n",
              "    .colab-df-convert {\n",
              "      background-color: #E8F0FE;\n",
              "      border: none;\n",
              "      border-radius: 50%;\n",
              "      cursor: pointer;\n",
              "      display: none;\n",
              "      fill: #1967D2;\n",
              "      height: 32px;\n",
              "      padding: 0 0 0 0;\n",
              "      width: 32px;\n",
              "    }\n",
              "\n",
              "    .colab-df-convert:hover {\n",
              "      background-color: #E2EBFA;\n",
              "      box-shadow: 0px 1px 2px rgba(60, 64, 67, 0.3), 0px 1px 3px 1px rgba(60, 64, 67, 0.15);\n",
              "      fill: #174EA6;\n",
              "    }\n",
              "\n",
              "    .colab-df-buttons div {\n",
              "      margin-bottom: 4px;\n",
              "    }\n",
              "\n",
              "    [theme=dark] .colab-df-convert {\n",
              "      background-color: #3B4455;\n",
              "      fill: #D2E3FC;\n",
              "    }\n",
              "\n",
              "    [theme=dark] .colab-df-convert:hover {\n",
              "      background-color: #434B5C;\n",
              "      box-shadow: 0px 1px 3px 1px rgba(0, 0, 0, 0.15);\n",
              "      filter: drop-shadow(0px 1px 2px rgba(0, 0, 0, 0.3));\n",
              "      fill: #FFFFFF;\n",
              "    }\n",
              "  </style>\n",
              "\n",
              "    <script>\n",
              "      const buttonEl =\n",
              "        document.querySelector('#df-a23abe90-0095-4f40-98e5-4ec7b094b95e button.colab-df-convert');\n",
              "      buttonEl.style.display =\n",
              "        google.colab.kernel.accessAllowed ? 'block' : 'none';\n",
              "\n",
              "      async function convertToInteractive(key) {\n",
              "        const element = document.querySelector('#df-a23abe90-0095-4f40-98e5-4ec7b094b95e');\n",
              "        const dataTable =\n",
              "          await google.colab.kernel.invokeFunction('convertToInteractive',\n",
              "                                                    [key], {});\n",
              "        if (!dataTable) return;\n",
              "\n",
              "        const docLinkHtml = 'Like what you see? Visit the ' +\n",
              "          '<a target=\"_blank\" href=https://colab.research.google.com/notebooks/data_table.ipynb>data table notebook</a>'\n",
              "          + ' to learn more about interactive tables.';\n",
              "        element.innerHTML = '';\n",
              "        dataTable['output_type'] = 'display_data';\n",
              "        await google.colab.output.renderOutput(dataTable, element);\n",
              "        const docLink = document.createElement('div');\n",
              "        docLink.innerHTML = docLinkHtml;\n",
              "        element.appendChild(docLink);\n",
              "      }\n",
              "    </script>\n",
              "  </div>\n",
              "\n",
              "\n",
              "    <div id=\"df-e08919e2-cbeb-479b-b247-984f497acbed\">\n",
              "      <button class=\"colab-df-quickchart\" onclick=\"quickchart('df-e08919e2-cbeb-479b-b247-984f497acbed')\"\n",
              "                title=\"Suggest charts\"\n",
              "                style=\"display:none;\">\n",
              "\n",
              "<svg xmlns=\"http://www.w3.org/2000/svg\" height=\"24px\"viewBox=\"0 0 24 24\"\n",
              "     width=\"24px\">\n",
              "    <g>\n",
              "        <path d=\"M19 3H5c-1.1 0-2 .9-2 2v14c0 1.1.9 2 2 2h14c1.1 0 2-.9 2-2V5c0-1.1-.9-2-2-2zM9 17H7v-7h2v7zm4 0h-2V7h2v10zm4 0h-2v-4h2v4z\"/>\n",
              "    </g>\n",
              "</svg>\n",
              "      </button>\n",
              "\n",
              "<style>\n",
              "  .colab-df-quickchart {\n",
              "      --bg-color: #E8F0FE;\n",
              "      --fill-color: #1967D2;\n",
              "      --hover-bg-color: #E2EBFA;\n",
              "      --hover-fill-color: #174EA6;\n",
              "      --disabled-fill-color: #AAA;\n",
              "      --disabled-bg-color: #DDD;\n",
              "  }\n",
              "\n",
              "  [theme=dark] .colab-df-quickchart {\n",
              "      --bg-color: #3B4455;\n",
              "      --fill-color: #D2E3FC;\n",
              "      --hover-bg-color: #434B5C;\n",
              "      --hover-fill-color: #FFFFFF;\n",
              "      --disabled-bg-color: #3B4455;\n",
              "      --disabled-fill-color: #666;\n",
              "  }\n",
              "\n",
              "  .colab-df-quickchart {\n",
              "    background-color: var(--bg-color);\n",
              "    border: none;\n",
              "    border-radius: 50%;\n",
              "    cursor: pointer;\n",
              "    display: none;\n",
              "    fill: var(--fill-color);\n",
              "    height: 32px;\n",
              "    padding: 0;\n",
              "    width: 32px;\n",
              "  }\n",
              "\n",
              "  .colab-df-quickchart:hover {\n",
              "    background-color: var(--hover-bg-color);\n",
              "    box-shadow: 0 1px 2px rgba(60, 64, 67, 0.3), 0 1px 3px 1px rgba(60, 64, 67, 0.15);\n",
              "    fill: var(--button-hover-fill-color);\n",
              "  }\n",
              "\n",
              "  .colab-df-quickchart-complete:disabled,\n",
              "  .colab-df-quickchart-complete:disabled:hover {\n",
              "    background-color: var(--disabled-bg-color);\n",
              "    fill: var(--disabled-fill-color);\n",
              "    box-shadow: none;\n",
              "  }\n",
              "\n",
              "  .colab-df-spinner {\n",
              "    border: 2px solid var(--fill-color);\n",
              "    border-color: transparent;\n",
              "    border-bottom-color: var(--fill-color);\n",
              "    animation:\n",
              "      spin 1s steps(1) infinite;\n",
              "  }\n",
              "\n",
              "  @keyframes spin {\n",
              "    0% {\n",
              "      border-color: transparent;\n",
              "      border-bottom-color: var(--fill-color);\n",
              "      border-left-color: var(--fill-color);\n",
              "    }\n",
              "    20% {\n",
              "      border-color: transparent;\n",
              "      border-left-color: var(--fill-color);\n",
              "      border-top-color: var(--fill-color);\n",
              "    }\n",
              "    30% {\n",
              "      border-color: transparent;\n",
              "      border-left-color: var(--fill-color);\n",
              "      border-top-color: var(--fill-color);\n",
              "      border-right-color: var(--fill-color);\n",
              "    }\n",
              "    40% {\n",
              "      border-color: transparent;\n",
              "      border-right-color: var(--fill-color);\n",
              "      border-top-color: var(--fill-color);\n",
              "    }\n",
              "    60% {\n",
              "      border-color: transparent;\n",
              "      border-right-color: var(--fill-color);\n",
              "    }\n",
              "    80% {\n",
              "      border-color: transparent;\n",
              "      border-right-color: var(--fill-color);\n",
              "      border-bottom-color: var(--fill-color);\n",
              "    }\n",
              "    90% {\n",
              "      border-color: transparent;\n",
              "      border-bottom-color: var(--fill-color);\n",
              "    }\n",
              "  }\n",
              "</style>\n",
              "\n",
              "      <script>\n",
              "        async function quickchart(key) {\n",
              "          const quickchartButtonEl =\n",
              "            document.querySelector('#' + key + ' button');\n",
              "          quickchartButtonEl.disabled = true;  // To prevent multiple clicks.\n",
              "          quickchartButtonEl.classList.add('colab-df-spinner');\n",
              "          try {\n",
              "            const charts = await google.colab.kernel.invokeFunction(\n",
              "                'suggestCharts', [key], {});\n",
              "          } catch (error) {\n",
              "            console.error('Error during call to suggestCharts:', error);\n",
              "          }\n",
              "          quickchartButtonEl.classList.remove('colab-df-spinner');\n",
              "          quickchartButtonEl.classList.add('colab-df-quickchart-complete');\n",
              "        }\n",
              "        (() => {\n",
              "          let quickchartButtonEl =\n",
              "            document.querySelector('#df-e08919e2-cbeb-479b-b247-984f497acbed button');\n",
              "          quickchartButtonEl.style.display =\n",
              "            google.colab.kernel.accessAllowed ? 'block' : 'none';\n",
              "        })();\n",
              "      </script>\n",
              "    </div>\n",
              "\n",
              "    </div>\n",
              "  </div>\n"
            ],
            "application/vnd.google.colaboratory.intrinsic+json": {
              "type": "dataframe",
              "variable_name": "df"
            }
          },
          "metadata": {},
          "execution_count": 39
        }
      ]
    },
    {
      "cell_type": "code",
      "source": [],
      "metadata": {
        "id": "OKaQ67H8ivy8"
      },
      "execution_count": null,
      "outputs": []
    },
    {
      "cell_type": "code",
      "source": [
        "print(f\"Number of anchored ships: {len(anchored_ships)}\")\n"
      ],
      "metadata": {
        "id": "N4OUhSxTakMN",
        "outputId": "27f13844-2d0c-451c-d037-4a8afdd7f081",
        "colab": {
          "base_uri": "https://localhost:8080/"
        }
      },
      "execution_count": null,
      "outputs": [
        {
          "output_type": "stream",
          "name": "stdout",
          "text": [
            "Number of anchored ships: 823019\n"
          ]
        }
      ]
    },
    {
      "cell_type": "code",
      "source": [
        "anchored_by_port = anchored_ships[\"Port Name\"].value_counts()\n",
        "print(anchored_by_port)\n"
      ],
      "metadata": {
        "id": "AYAh6sSvati8",
        "outputId": "ebb34964-37e1-493a-8561-9f37953bea4d",
        "colab": {
          "base_uri": "https://localhost:8080/"
        }
      },
      "execution_count": null,
      "outputs": [
        {
          "output_type": "stream",
          "name": "stdout",
          "text": [
            "Port Name\n",
            "Houston            261495\n",
            "Unknown            140340\n",
            "New Orleans        132201\n",
            "Los Angeles         42671\n",
            "Corpus Christi      39365\n",
            "Seattle             31891\n",
            "Oakland             26056\n",
            "New York            25269\n",
            "Portland            22062\n",
            "Mobile              16326\n",
            "Miami               13325\n",
            "Port Arthur         12983\n",
            "Savannah            12399\n",
            "Norfolk             10213\n",
            "Baltimore            9128\n",
            "Puerto Rico          5826\n",
            "Boston               5022\n",
            "Tampa                4443\n",
            "Philadelphia         4312\n",
            "Wilmington (DE)      2509\n",
            "Honolulu             1920\n",
            "San Diego            1649\n",
            "Jacksonville         1140\n",
            "Charleston            409\n",
            "Providence             59\n",
            "Tacoma                  6\n",
            "Name: count, dtype: int64\n"
          ]
        }
      ]
    },
    {
      "cell_type": "code",
      "source": [
        "#Start Check for duplicates"
      ],
      "metadata": {
        "id": "9qLcOFPYN_8E"
      },
      "execution_count": null,
      "outputs": []
    },
    {
      "cell_type": "code",
      "source": [
        "# Checking for duplicate MMSi S (unique ship IDuigd)\n",
        "first_arrivals = extract_first_arrivals_anywhere(vessel_data)\n",
        "\n",
        "# Check for duplicates in MMSI\n",
        "duplicates = first_arrivals[first_arrivals.duplicated(\"MMSI\", keep=False)]\n",
        "\n",
        "print(f\"Number of duplicate MMSI entries: {len(duplicates)}\")\n",
        "if not duplicates.empty:\n",
        "    print(duplicates)\n"
      ],
      "metadata": {
        "id": "54_KOe_WNgcX",
        "outputId": "1453b78b-0b3e-4679-ecfa-3a6fc8044c40",
        "colab": {
          "base_uri": "https://localhost:8080/"
        }
      },
      "execution_count": null,
      "outputs": [
        {
          "output_type": "stream",
          "name": "stdout",
          "text": [
            "Number of duplicate MMSI entries: 0\n"
          ]
        }
      ]
    },
    {
      "cell_type": "code",
      "source": [
        "# Check for full row duplicates\n",
        "full_dupes = first_arrivals[first_arrivals.duplicated(keep=False)]\n",
        "print(f\"Duplicate full rows: {len(full_dupes)}\")\n",
        "\n",
        "# Optional: check that each MMSI is only listed once\n",
        "assert first_arrivals[\"MMSI\"].is_unique, \"⚠️ Duplicate MMSIs found!\"\n"
      ],
      "metadata": {
        "id": "7631vXx2N50k",
        "outputId": "4ef1e030-ddf1-454d-cad8-eb4c5a9bee6b",
        "colab": {
          "base_uri": "https://localhost:8080/"
        }
      },
      "execution_count": null,
      "outputs": [
        {
          "output_type": "stream",
          "name": "stdout",
          "text": [
            "Duplicate full rows: 0\n"
          ]
        }
      ]
    },
    {
      "cell_type": "code",
      "source": [
        "mmsi_counts = first_arrivals[\"MMSI\"].value_counts()\n",
        "print(mmsi_counts.head())\n",
        "\n",
        "# Show MMSIs that appear more than once\n",
        "print(\"MMSIs with multiple entries:\")\n",
        "print(mmsi_counts[mmsi_counts > 1])\n"
      ],
      "metadata": {
        "id": "9-H8loIDN9oo",
        "outputId": "f088ca87-a082-48c0-b796-8c11c8d3176b",
        "colab": {
          "base_uri": "https://localhost:8080/"
        }
      },
      "execution_count": null,
      "outputs": [
        {
          "output_type": "stream",
          "name": "stdout",
          "text": [
            "MMSI\n",
            "710023040    1\n",
            "677062300    1\n",
            "677031100    1\n",
            "671960000    1\n",
            "671947000    1\n",
            "Name: count, dtype: int64\n",
            "MMSIs with multiple entries:\n",
            "Series([], Name: count, dtype: int64)\n"
          ]
        }
      ]
    },
    {
      "cell_type": "code",
      "source": [
        "#End of Check for Duplicates"
      ],
      "metadata": {
        "id": "wNPTjgs-N-rJ"
      },
      "execution_count": null,
      "outputs": []
    },
    {
      "cell_type": "code",
      "source": [
        "# prompt: create bar chart\n",
        "\n",
        "import matplotlib.pyplot as plt\n",
        "\n",
        "# Assuming 'first_arrivals_df' is already created and contains the 'Port Name' column\n",
        "if 'Port Name' in first_arrivals_df.columns:\n",
        "    port_counts = first_arrivals_df[\"Port Name\"].value_counts()\n",
        "\n",
        "    plt.figure(figsize=(10, 6))\n",
        "    port_counts.plot(kind='bar')\n",
        "    plt.title('Number of First Arrivals per Port')\n",
        "    plt.xlabel('Port Name')\n",
        "    plt.ylabel('Number of Vessels')\n",
        "    plt.xticks(rotation=45, ha='right')\n",
        "    plt.tight_layout()\n",
        "    plt.show()\n",
        "else:\n",
        "    print(\"The DataFrame does not contain a 'Port Name' column to create the bar chart.\")"
      ],
      "metadata": {
        "id": "c3kk4H6wiVdg",
        "outputId": "19f629cd-25ee-41e0-c8c8-320aba2df25d",
        "colab": {
          "base_uri": "https://localhost:8080/",
          "height": 607
        }
      },
      "execution_count": null,
      "outputs": [
        {
          "output_type": "display_data",
          "data": {
            "text/plain": [
              "<Figure size 1000x600 with 1 Axes>"
            ],
            "image/png": "[encoded data removed]"
          },
          "metadata": {}
        }
      ]
    },
    {
      "cell_type": "code",
      "source": [
        "import plotly.express as px\n",
        "\n",
        "# Sample 500 points to make rendering faster, or skip .sample() to show all\n",
        "sample_df = first_arrivals_df.sample(n=500, random_state=42)\n",
        "\n",
        "fig = px.scatter_geo(\n",
        "    sample_df,\n",
        "    lat='LAT',\n",
        "    lon='LON',\n",
        "    color='Port Name',\n",
        "    hover_name='VesselType',\n",
        "    title='First Arrivals: Vessel Locations by Port',\n",
        "    projection=\"natural earth\"\n",
        ")\n",
        "\n",
        "fig.update_layout(geo=dict(\n",
        "    scope='world',\n",
        "    showland=True,\n",
        "    landcolor=\"lightgray\",\n",
        "))\n",
        "\n",
        "fig.show()\n"
      ],
      "metadata": {
        "colab": {
          "base_uri": "https://localhost:8080/",
          "height": 542
        },
        "id": "ZEnoQwtaaPJO",
        "outputId": "52009ae4-49b6-42dc-f83e-e8f98336ab14"
      },
      "execution_count": null,
      "outputs": [
        {
          "output_type": "display_data",
          "data": {
            "text/html": [
              "<html>\n",
              "<head><meta charset=\"utf-8\" /></head>\n",
              "<body>\n",
              "    <div>            <script src=\"https://cdnjs.cloudflare.com/ajax/libs/mathjax/2.7.5/MathJax.js?config=TeX-AMS-MML_SVG\"></script><script type=\"text/javascript\">if (window.MathJax && window.MathJax.Hub && window.MathJax.Hub.Config) {window.MathJax.Hub.Config({SVG: {font: \"STIX-Web\"}});}</script>                <script type=\"text/javascript\">window.PlotlyConfig = {MathJaxConfig: 'local'};</script>\n",
              "        <script charset=\"utf-8\" src=\"https://cdn.plot.ly/plotly-2.35.2.min.js\"></script>                <div id=\"1cb13f80-a792-486e-acf9-9c1c14bae072\" class=\"plotly-graph-div\" style=\"height:525px; width:100%;\"></div>            <script type=\"text/javascript\">                                    window.PLOTLYENV=window.PLOTLYENV || {};                                    if (document.getElementById(\"1cb13f80-a792-486e-acf9-9c1c14bae072\")) {                    Plotly.newPlot(                        \"1cb13f80-a792-486e-acf9-9c1c14bae072\",                        [{\"geo\":\"geo\",\"hovertemplate\":\"\\u003cb\\u003e%{hovertext}\\u003c\\u002fb\\u003e\\u003cbr\\u003e\\u003cbr\\u003ePort Name=Unknown\\u003cbr\\u003eLAT=%{lat}\\u003cbr\\u003eLON=%{lon}\\u003cextra\\u003e\\u003c\\u002fextra\\u003e\",\"hovertext\":[70.0,70.0,70.0,70.0,70.0,81.0,70.0,80.0,80.0,70.0,70.0,70.0,80.0,80.0,70.0,70.0,70.0,70.0,70.0,70.0,70.0,70.0,70.0,70.0,80.0,70.0,70.0,70.0,70.0,30.0,70.0,80.0,80.0,84.0,80.0,70.0,80.0,70.0,70.0,80.0,80.0,30.0,70.0,70.0,70.0,80.0,70.0,70.0,80.0,30.0,70.0,80.0,80.0,70.0,70.0,70.0,80.0,70.0,70.0,70.0,70.0,70.0,80.0,70.0,80.0,70.0,80.0,80.0,70.0,70.0,70.0,70.0,70.0,80.0,80.0,70.0,70.0,80.0,70.0,80.0,71.0,70.0,70.0,80.0,70.0,80.0,70.0,70.0,70.0,70.0,70.0,70.0,80.0,70.0,70.0,70.0,70.0,70.0,70.0,70.0,70.0,70.0,70.0,80.0,70.0,70.0,30.0,70.0,70.0,70.0,70.0,80.0,70.0,70.0,70.0,70.0,70.0,70.0,80.0,70.0,70.0,80.0,80.0,70.0,70.0,71.0,70.0,70.0,80.0,70.0,70.0,80.0],\"lat\":[41.66971,34.20391,53.9105,45.56024,54.28566,43.09227,45.55952,42.798,22.47419,18.75814,53.91067,45.55691,28.41276,20.94867,49.33231,18.41381,53.84674,34.19633,25.95922,20.95496,22.41467,44.84083,48.954,33.78643,10.63868,34.60947,49.33206,49.30334,45.58983,39.39535,49.308,11.65413,18.40103,18.32382,10.18037,43.42508,17.48185,45.9405,12.4477,13.45828,18.26657,12.88557,58.12679,54.28923,17.69602,22.25313,54.28023,49.29994,17.68248,55.05423,21.90485,45.62457,10.54417,49.30182,19.13777,49.30187,23.0523,17.69502,49.30219,18.71188,54.34342,13.4613,10.52818,22.99616,22.25237,49.33187,10.1941,10.13598,21.34568,54.22677,18.42105,26.03715,22.2117,18.74247,18.22927,19.12292,13.46048,11.6326,23.82238,23.0654,18.44159,49.29191,21.45674,18.22071,49.28887,18.2382,42.87967,43.27626,25.07768,18.40809,48.40752,49.29543,23.01893,43.92798,49.30474,18.43066,42.98749,54.1251,22.54673,42.80277,22.25987,43.23914,49.02318,23.13517,49.30837,49.519,49.29433,49.2892,19.23362,25.80248,19.20473,25.68054,19.14973,49.29011,49.30501,22.21339,42.90709,21.34467,13.46324,49.30426,24.5425,45.62733,11.79407,54.28541,13.45784,49.18888,49.29314,46.92159,34.7195,20.95125,22.46273,18.71545],\"legendgroup\":\"Unknown\",\"lon\":[-83.49483,-77.95639,-166.51172,-73.51128,-130.36105,-82.36825,-73.52097,-80.0435,-97.88675,-93.22055,-166.5114,-73.52009,-80.61136,-97.34904,-123.21357,-64.60347,-166.59013,-77.95558,-97.37637,-97.34162,-97.78133,-87.38545,-123.72859,-78.10497,-71.58297,-76.63238,-123.22164,-123.21718,-73.5045,-129.74922,-123.1897,-70.24504,-70.02195,-94.49324,-64.76909,-124.2561,-63.0164,-85.87033,-70.08194,144.66667,-94.40287,141.918,-134.75825,-130.36093,-64.75473,-97.81238,-130.59931,-123.06767,-64.7399,-162.32787,-82.80082,-73.49745,-68.14133,-123.09421,-96.03566,-123.21403,-87.90253,-64.75414,-123.06829,-93.13749,-130.28933,144.6659,-68.12029,-82.75325,-97.81513,-123.23432,-64.80165,-64.82852,-89.68149,-130.338,-70.01741,-97.07842,-97.86126,-93.16235,-94.41267,-96.02698,144.66838,-70.27137,-81.88184,-81.53465,-69.63013,-123.03219,-89.67958,-94.45675,-123.21403,-94.40527,-79.24831,-79.85253,-77.32568,-64.53888,-89.21544,-123.06699,-82.75409,-68.53675,-123.09912,-64.54408,-82.41727,-130.60822,-97.75307,-79.25007,-97.79521,-79.27773,-123.66696,-82.32967,-123.10837,-123.48517,-123.02951,-123.07458,-96.16874,-77.99614,-96.13549,-92.74636,-96.03773,-123.09873,-123.21578,-97.8662,-79.24379,-89.67687,144.65799,-123.0561,-96.16455,-73.495,-70.32271,-130.3613,144.63652,-122.91238,-123.1883,-124.1196,-76.6947,-97.34577,-97.74963,-93.21518],\"marker\":{\"color\":\"#636efa\",\"symbol\":\"circle\"},\"mode\":\"markers\",\"name\":\"Unknown\",\"showlegend\":true,\"type\":\"scattergeo\"},{\"geo\":\"geo\",\"hovertemplate\":\"\\u003cb\\u003e%{hovertext}\\u003c\\u002fb\\u003e\\u003cbr\\u003e\\u003cbr\\u003ePort Name=Baltimore\\u003cbr\\u003eLAT=%{lat}\\u003cbr\\u003eLON=%{lon}\\u003cextra\\u003e\\u003c\\u002fextra\\u003e\",\"hovertext\":[70.0,81.0,70.0,70.0,71.0,70.0,70.0,70.0,70.0,70.0,80.0,70.0,70.0,70.0,70.0],\"lat\":[39.2539,39.79791,39.719,39.57376,39.80369,39.2622,38.93103,38.91992,39.25696,39.21378,39.80321,39.25157,39.26871,39.7197,39.72085],\"legendgroup\":\"Baltimore\",\"lon\":[-76.54691,-75.41997,-75.5225,-75.48526,-75.40903,-76.59347,-76.41257,-76.4125,-76.56501,-76.53995,-75.41132,-76.54267,-76.57092,-75.52495,-75.52855],\"marker\":{\"color\":\"#EF553B\",\"symbol\":\"circle\"},\"mode\":\"markers\",\"name\":\"Baltimore\",\"showlegend\":true,\"type\":\"scattergeo\"},{\"geo\":\"geo\",\"hovertemplate\":\"\\u003cb\\u003e%{hovertext}\\u003c\\u002fb\\u003e\\u003cbr\\u003e\\u003cbr\\u003ePort Name=Puerto Rico\\u003cbr\\u003eLAT=%{lat}\\u003cbr\\u003eLON=%{lon}\\u003cextra\\u003e\\u003c\\u002fextra\\u003e\",\"hovertext\":[80.0,80.0,70.0,70.0,80.0,80.0,79.0,30.0],\"lat\":[18.45104,18.05352,18.33533,18.4606,18.32613,18.05351,18.43185,18.45953],\"legendgroup\":\"Puerto Rico\",\"lon\":[-66.1059,-65.8354,-64.94917,-66.09791,-64.96106,-65.83544,-66.1011,-66.09008],\"marker\":{\"color\":\"#00cc96\",\"symbol\":\"circle\"},\"mode\":\"markers\",\"name\":\"Puerto Rico\",\"showlegend\":true,\"type\":\"scattergeo\"},{\"geo\":\"geo\",\"hovertemplate\":\"\\u003cb\\u003e%{hovertext}\\u003c\\u002fb\\u003e\\u003cbr\\u003e\\u003cbr\\u003ePort Name=Houston\\u003cbr\\u003eLAT=%{lat}\\u003cbr\\u003eLON=%{lon}\\u003cextra\\u003e\\u003c\\u002fextra\\u003e\",\"hovertext\":[80.0,89.0,80.0,80.0,70.0,80.0,80.0,80.0,80.0,80.0,80.0,80.0,80.0,80.0,80.0,80.0,80.0,80.0,80.0,80.0,70.0,80.0,80.0,80.0,80.0,80.0,70.0,80.0,70.0,80.0,70.0,70.0,30.0,80.0,70.0,80.0,79.0,80.0,80.0,80.0,80.0,80.0,80.0,71.0,80.0,80.0,70.0,80.0,80.0,80.0,80.0,80.0,80.0,80.0,80.0,80.0,70.0,70.0,80.0,80.0,80.0,80.0,80.0,70.0,80.0,80.0,80.0,80.0,80.0,70.0,80.0,80.0,80.0,80.0,80.0,80.0,70.0,80.0,70.0,70.0,70.0,80.0],\"lat\":[29.42952,29.31234,29.73745,29.40557,29.71907,29.18856,28.85133,29.27176,29.72964,29.4315,29.35292,28.56874,29.24428,29.26766,29.72542,29.2842,30.01491,29.10443,29.28358,29.72468,29.13421,29.74464,29.25836,29.27003,29.74716,29.12477,30.02646,29.28376,29.71877,29.14883,29.25581,29.3319,28.6299,29.10985,29.76227,29.08471,29.30613,29.57277,29.68224,29.29567,29.13677,29.72968,29.73888,29.61262,29.26721,28.78807,30.02645,29.27155,29.31724,29.16483,29.19106,29.72841,29.08361,29.40612,28.81467,29.24957,29.74757,29.98223,29.40912,29.61152,28.8705,29.40202,29.41613,28.86417,29.24433,29.25741,29.30917,28.3858,29.08023,29.72651,29.11028,28.86273,28.62902,29.25178,29.28461,28.6737,29.13918,29.73766,29.73865,29.56397,29.17307,28.94454],\"legendgroup\":\"Houston\",\"lon\":[-93.64063,-94.78618,-95.2782,-93.69094,-95.2459,-94.55938,-95.27495,-94.45654,-95.022,-93.64617,-94.77972,-94.17914,-94.47982,-94.48287,-95.26313,-94.48348,-93.99389,-94.56333,-94.53557,-95.23276,-94.58223,-95.09763,-94.47102,-94.65853,-95.09819,-94.69948,-93.99907,-94.48114,-95.24532,-94.51746,-94.71919,-94.57477,-95.97027,-94.70074,-95.09088,-94.59393,-94.56642,-93.70609,-95.00903,-94.53422,-94.56842,-95.02208,-95.12307,-95.00469,-94.51625,-95.10449,-93.99927,-93.71568,-94.55147,-94.541,-94.61907,-95.02056,-94.66999,-93.6911,-95.14142,-93.70348,-95.11145,-93.88818,-93.69658,-94.9914,-95.18452,-93.71116,-93.70027,-95.14363,-94.4675,-94.46146,-94.81886,-96.24227,-94.68619,-95.26385,-94.52764,-94.34456,-94.18798,-94.65253,-94.47073,-93.50534,-94.48936,-95.13024,-95.27883,-93.68023,-94.65938,-95.30829],\"marker\":{\"color\":\"#ab63fa\",\"symbol\":\"circle\"},\"mode\":\"markers\",\"name\":\"Houston\",\"showlegend\":true,\"type\":\"scattergeo\"},{\"geo\":\"geo\",\"hovertemplate\":\"\\u003cb\\u003e%{hovertext}\\u003c\\u002fb\\u003e\\u003cbr\\u003e\\u003cbr\\u003ePort Name=New York\\u003cbr\\u003eLAT=%{lat}\\u003cbr\\u003eLON=%{lon}\\u003cextra\\u003e\\u003c\\u002fextra\\u003e\",\"hovertext\":[70.0,70.0,70.0,70.0,80.0,70.0,70.0,70.0,70.0,70.0,70.0,70.0,80.0,72.0,70.0,70.0,70.0,70.0,70.0,89.0,80.0,80.0,79.0,70.0,70.0,70.0,80.0,70.0,70.0,70.0,70.0,80.0,70.0,70.0,70.0,70.0,70.0,71.0,70.0,89.0,70.0],\"lat\":[39.90405,40.66983,40.67168,40.66444,40.63904,40.69141,40.66103,40.66454,40.67177,39.55,40.67202,40.68505,40.50793,40.68086,40.67059,39.86235,39.97798,40.66199,40.66054,40.54368,40.48559,40.60818,40.64303,40.14034,40.66107,39.8507,40.65371,40.67147,40.67264,40.663,40.5132,39.85447,40.48774,40.6859,40.67612,40.68368,41.29004,40.67633,40.67853,40.58797,40.66109],\"legendgroup\":\"New York\",\"lon\":[-75.12723,-74.14125,-74.08299,-74.14513,-74.19638,-74.13546,-74.1476,-74.14503,-74.08184,-73.63155,-74.08247,-74.01085,-73.66547,-74.14986,-74.07898,-75.21941,-75.08778,-74.15538,-74.14716,-74.25307,-73.60314,-74.20554,-74.1874,-74.75526,-74.14741,-75.33904,-74.08584,-74.08123,-74.13951,-74.07233,-73.6548,-75.22755,-73.76279,-74.15399,-74.14215,-74.15025,-72.90791,-74.14233,-74.14601,-74.20857,-74.14741],\"marker\":{\"color\":\"#FFA15A\",\"symbol\":\"circle\"},\"mode\":\"markers\",\"name\":\"New York\",\"showlegend\":true,\"type\":\"scattergeo\"},{\"geo\":\"geo\",\"hovertemplate\":\"\\u003cb\\u003e%{hovertext}\\u003c\\u002fb\\u003e\\u003cbr\\u003e\\u003cbr\\u003ePort Name=New Orleans\\u003cbr\\u003eLAT=%{lat}\\u003cbr\\u003eLON=%{lon}\\u003cextra\\u003e\\u003c\\u002fextra\\u003e\",\"hovertext\":[70.0,70.0,80.0,52.0,80.0,70.0,30.0,70.0,80.0,70.0,70.0,80.0,70.0,80.0,70.0,70.0,79.0,80.0,70.0,70.0,80.0,80.0,70.0,70.0,70.0,70.0,70.0,80.0,70.0,70.0,80.0,80.0,89.0,70.0,80.0,80.0,80.0],\"lat\":[28.90274,29.93564,28.91012,30.07803,29.96827,28.87394,29.11431,29.87605,30.47785,29.90438,29.9686,29.83642,29.95774,28.90595,29.96185,28.97475,29.91284,28.86315,29.14259,29.12926,29.88246,29.21998,29.70217,29.94338,29.87699,30.07035,29.87317,29.49661,29.54888,29.89132,29.71278,29.8192,28.87307,29.89487,28.85972,29.88083,28.81152],\"legendgroup\":\"New Orleans\",\"lon\":[-89.35715,-90.22107,-89.33093,-89.85165,-90.25768,-89.3473,-90.20018,-89.94315,-91.19447,-89.91181,-90.25932,-89.99397,-90.03217,-89.31463,-90.29702,-90.11739,-90.12429,-90.02683,-90.20474,-90.19937,-89.95687,-89.29043,-89.98284,-90.22293,-89.94479,-90.89888,-89.93741,-89.70355,-89.77197,-89.90894,-89.98782,-90.00368,-89.33707,-89.91015,-89.33315,-89.95372,-89.84322],\"marker\":{\"color\":\"#19d3f3\",\"symbol\":\"circle\"},\"mode\":\"markers\",\"name\":\"New Orleans\",\"showlegend\":true,\"type\":\"scattergeo\"},{\"geo\":\"geo\",\"hovertemplate\":\"\\u003cb\\u003e%{hovertext}\\u003c\\u002fb\\u003e\\u003cbr\\u003e\\u003cbr\\u003ePort Name=Seattle\\u003cbr\\u003eLAT=%{lat}\\u003cbr\\u003eLON=%{lon}\\u003cextra\\u003e\\u003c\\u002fextra\\u003e\",\"hovertext\":[70.0,70.0,70.0,70.0,70.0,70.0,70.0,80.0,70.0,70.0,70.0,30.0,70.0,70.0,70.0,70.0,70.0],\"lat\":[48.94416,48.13252,48.82796,47.26136,47.58202,47.5756,47.61861,48.6213,48.79803,47.27318,48.73426,47.98154,48.34667,47.26072,48.72409,48.34417,47.97818],\"legendgroup\":\"Seattle\",\"lon\":[-123.6207,-123.43267,-123.43702,-122.38298,-122.34573,-122.36113,-122.37569,-122.5719,-123.23741,-122.40738,-123.57282,-122.17161,-123.32981,-122.38204,-123.54283,-123.341,-122.22333],\"marker\":{\"color\":\"#FF6692\",\"symbol\":\"circle\"},\"mode\":\"markers\",\"name\":\"Seattle\",\"showlegend\":true,\"type\":\"scattergeo\"},{\"geo\":\"geo\",\"hovertemplate\":\"\\u003cb\\u003e%{hovertext}\\u003c\\u002fb\\u003e\\u003cbr\\u003e\\u003cbr\\u003ePort Name=Norfolk\\u003cbr\\u003eLAT=%{lat}\\u003cbr\\u003eLON=%{lon}\\u003cextra\\u003e\\u003c\\u002fextra\\u003e\",\"hovertext\":[80.0,79.0,70.0,70.0,70.0,70.0,80.0,70.0,70.0,70.0,70.0,70.0,70.0,80.0],\"lat\":[36.96118,36.87983,36.78266,36.96702,36.85383,36.95193,38.3634,36.9668,36.87083,36.96283,36.92439,36.85356,36.9628,36.85513],\"legendgroup\":\"Norfolk\",\"lon\":[-76.41654,-76.331,-75.57895,-76.4295,-76.31121,-76.33063,-76.34143,-76.42951,-76.34817,-76.42405,-76.32954,-76.31093,-76.42417,-75.64044],\"marker\":{\"color\":\"#B6E880\",\"symbol\":\"circle\"},\"mode\":\"markers\",\"name\":\"Norfolk\",\"showlegend\":true,\"type\":\"scattergeo\"},{\"geo\":\"geo\",\"hovertemplate\":\"\\u003cb\\u003e%{hovertext}\\u003c\\u002fb\\u003e\\u003cbr\\u003e\\u003cbr\\u003ePort Name=Mobile\\u003cbr\\u003eLAT=%{lat}\\u003cbr\\u003eLON=%{lon}\\u003cextra\\u003e\\u003c\\u002fextra\\u003e\",\"hovertext\":[80.0,80.0,70.0,70.0,70.0,80.0,80.0,70.0,70.0,80.0,70.0],\"lat\":[30.12056,30.10608,30.0797,30.40004,30.70323,30.11207,30.70678,30.07872,30.71177,30.10153,30.66869],\"legendgroup\":\"Mobile\",\"lon\":[-88.53629,-88.54248,-88.07233,-87.209,-88.03959,-88.54905,-88.0367,-88.09237,-88.04057,-88.52772,-88.02993],\"marker\":{\"color\":\"#FF97FF\",\"symbol\":\"circle\"},\"mode\":\"markers\",\"name\":\"Mobile\",\"showlegend\":true,\"type\":\"scattergeo\"},{\"geo\":\"geo\",\"hovertemplate\":\"\\u003cb\\u003e%{hovertext}\\u003c\\u002fb\\u003e\\u003cbr\\u003e\\u003cbr\\u003ePort Name=Los Angeles\\u003cbr\\u003eLAT=%{lat}\\u003cbr\\u003eLON=%{lon}\\u003cextra\\u003e\\u003c\\u002fextra\\u003e\",\"hovertext\":[70.0,80.0,80.0,79.0,70.0,70.0,80.0,70.0,70.0,70.0,70.0,70.0,80.0,70.0,70.0,70.0,70.0,70.0,70.0,70.0,70.0,70.0,70.0,70.0,70.0,70.0,70.0,70.0,70.0,70.0,70.0,70.0,70.0,70.0,72.0,70.0,80.0,52.0,71.0,70.0,70.0,70.0,70.0,70.0,70.0],\"lat\":[33.72753,33.72778,33.72733,33.76658,33.7733,33.76655,33.72878,33.76041,33.73419,34.15332,33.73418,33.7307,33.64072,33.72681,33.73649,33.73313,34.14938,33.72757,33.76004,33.73691,34.14851,33.76678,34.14867,33.77357,33.73566,34.14867,33.73397,33.75343,33.75146,33.7407,33.73412,33.7483,33.74361,34.14785,33.76767,33.75423,32.34497,32.69467,33.7676,33.75741,33.76767,34.1487,33.75926,33.72803,33.73348],\"legendgroup\":\"Los Angeles\",\"lon\":[-118.17666,-118.22705,-118.196,-118.27311,-118.21938,-118.27309,-118.154,-118.25587,-118.24973,-119.21007,-118.16198,-118.2531,-118.121,-118.16386,-118.21639,-118.25281,-119.20805,-118.16856,-118.2571,-118.19303,-119.20567,-118.27327,-119.20552,-118.2191,-118.21769,-119.20538,-118.17313,-118.23508,-118.27347,-118.19735,-118.24945,-118.21149,-118.20246,-119.20444,-118.23612,-118.27556,-117.12162,-117.15101,-118.23617,-118.26262,-118.23612,-119.20549,-118.21753,-118.16754,-118.21926],\"marker\":{\"color\":\"#FECB52\",\"symbol\":\"circle\"},\"mode\":\"markers\",\"name\":\"Los Angeles\",\"showlegend\":true,\"type\":\"scattergeo\"},{\"geo\":\"geo\",\"hovertemplate\":\"\\u003cb\\u003e%{hovertext}\\u003c\\u002fb\\u003e\\u003cbr\\u003e\\u003cbr\\u003ePort Name=Boston\\u003cbr\\u003eLAT=%{lat}\\u003cbr\\u003eLON=%{lon}\\u003cextra\\u003e\\u003c\\u002fextra\\u003e\",\"hovertext\":[70.0,70.0,70.0,70.0,70.0,80.0],\"lat\":[41.61288,42.41086,43.64063,42.34269,41.61292,42.38508],\"legendgroup\":\"Boston\",\"lon\":[-71.40528,-70.78261,-70.28336,-71.02027,-71.4053,-71.02413],\"marker\":{\"color\":\"#636efa\",\"symbol\":\"circle\"},\"mode\":\"markers\",\"name\":\"Boston\",\"showlegend\":true,\"type\":\"scattergeo\"},{\"geo\":\"geo\",\"hovertemplate\":\"\\u003cb\\u003e%{hovertext}\\u003c\\u002fb\\u003e\\u003cbr\\u003e\\u003cbr\\u003ePort Name=Corpus Christi\\u003cbr\\u003eLAT=%{lat}\\u003cbr\\u003eLON=%{lon}\\u003cextra\\u003e\\u003c\\u002fextra\\u003e\",\"hovertext\":[80.0,70.0,80.0,70.0,80.0,80.0,80.0],\"lat\":[27.81454,27.84307,27.81217,27.79097,27.86928,27.8017,27.82411],\"legendgroup\":\"Corpus Christi\",\"lon\":[-97.41151,-97.07193,-97.40565,-96.86969,-97.24603,-96.89308,-96.94052],\"marker\":{\"color\":\"#EF553B\",\"symbol\":\"circle\"},\"mode\":\"markers\",\"name\":\"Corpus Christi\",\"showlegend\":true,\"type\":\"scattergeo\"},{\"geo\":\"geo\",\"hovertemplate\":\"\\u003cb\\u003e%{hovertext}\\u003c\\u002fb\\u003e\\u003cbr\\u003e\\u003cbr\\u003ePort Name=Miami\\u003cbr\\u003eLAT=%{lat}\\u003cbr\\u003eLON=%{lon}\\u003cextra\\u003e\\u003c\\u002fextra\\u003e\",\"hovertext\":[70.0,70.0,70.0,70.0,80.0,80.0,70.0,70.0,80.0,71.0,80.0,70.0,70.0,70.0,70.0,70.0,71.0,80.0,70.0,80.0,70.0,70.0,70.0,80.0,70.0,80.0],\"lat\":[25.76593,26.08782,26.06579,26.74959,26.51955,26.09283,26.07119,25.76597,26.13287,25.76909,26.09125,26.0657,26.11128,25.78741,25.76965,25.79562,25.76904,26.12035,26.137,26.09288,26.09325,25.76613,25.76625,26.53014,25.76963,26.52233],\"legendgroup\":\"Miami\",\"lon\":[-80.15022,-80.11619,-80.11529,-80.05037,-78.79607,-80.12305,-80.11465,-80.14785,-80.07557,-80.16614,-80.12175,-80.11627,-80.07727,-80.09315,-80.16774,-80.24486,-80.16625,-80.07771,-80.06627,-80.12191,-79.07616,-80.15943,-80.15831,-78.81674,-80.16772,-78.80725],\"marker\":{\"color\":\"#00cc96\",\"symbol\":\"circle\"},\"mode\":\"markers\",\"name\":\"Miami\",\"showlegend\":true,\"type\":\"scattergeo\"},{\"geo\":\"geo\",\"hovertemplate\":\"\\u003cb\\u003e%{hovertext}\\u003c\\u002fb\\u003e\\u003cbr\\u003e\\u003cbr\\u003ePort Name=Portland\\u003cbr\\u003eLAT=%{lat}\\u003cbr\\u003eLON=%{lon}\\u003cextra\\u003e\\u003c\\u002fextra\\u003e\",\"hovertext\":[70.0,80.0,70.0,70.0,80.0,70.0,70.0,70.0,80.0,70.0,70.0,70.0],\"lat\":[46.20101,45.635,45.5373,46.19982,46.9641,45.64076,46.11001,45.984,45.6349,46.04445,45.61268,46.19763],\"legendgroup\":\"Portland\",\"lon\":[-123.8194,-122.70358,-122.67893,-123.80669,-123.85309,-122.71761,-122.9634,-122.8351,-122.70373,-122.88284,-122.64631,-123.83168],\"marker\":{\"color\":\"#ab63fa\",\"symbol\":\"circle\"},\"mode\":\"markers\",\"name\":\"Portland\",\"showlegend\":true,\"type\":\"scattergeo\"},{\"geo\":\"geo\",\"hovertemplate\":\"\\u003cb\\u003e%{hovertext}\\u003c\\u002fb\\u003e\\u003cbr\\u003e\\u003cbr\\u003ePort Name=Oakland\\u003cbr\\u003eLAT=%{lat}\\u003cbr\\u003eLON=%{lon}\\u003cextra\\u003e\\u003c\\u002fextra\\u003e\",\"hovertext\":[70.0,89.0,80.0,70.0,89.0,80.0,80.0,79.0,80.0,70.0,79.0],\"lat\":[37.95474,37.76078,37.92729,37.79406,37.72555,37.7182,37.951,37.72784,37.73169,38.04098,38.041],\"legendgroup\":\"Oakland\",\"lon\":[-121.34894,-122.34672,-122.4155,-122.30738,-122.33301,-122.34209,-121.32617,-122.34613,-122.33693,-122.13578,-122.1358],\"marker\":{\"color\":\"#FFA15A\",\"symbol\":\"circle\"},\"mode\":\"markers\",\"name\":\"Oakland\",\"showlegend\":true,\"type\":\"scattergeo\"},{\"geo\":\"geo\",\"hovertemplate\":\"\\u003cb\\u003e%{hovertext}\\u003c\\u002fb\\u003e\\u003cbr\\u003e\\u003cbr\\u003ePort Name=Jacksonville\\u003cbr\\u003eLAT=%{lat}\\u003cbr\\u003eLON=%{lon}\\u003cextra\\u003e\\u003c\\u002fextra\\u003e\",\"hovertext\":[70.0,70.0,80.0,70.0,70.0,70.0],\"lat\":[30.40603,30.67755,30.35264,30.4225,30.39698,30.40612],\"legendgroup\":\"Jacksonville\",\"lon\":[-81.54627,-81.46457,-81.62028,-81.32103,-81.54953,-81.54609],\"marker\":{\"color\":\"#19d3f3\",\"symbol\":\"circle\"},\"mode\":\"markers\",\"name\":\"Jacksonville\",\"showlegend\":true,\"type\":\"scattergeo\"},{\"geo\":\"geo\",\"hovertemplate\":\"\\u003cb\\u003e%{hovertext}\\u003c\\u002fb\\u003e\\u003cbr\\u003e\\u003cbr\\u003ePort Name=Wilmington (DE)\\u003cbr\\u003eLAT=%{lat}\\u003cbr\\u003eLON=%{lon}\\u003cextra\\u003e\\u003c\\u002fextra\\u003e\",\"hovertext\":[70.0,70.0],\"lat\":[38.56929,38.53198],\"legendgroup\":\"Wilmington (DE)\",\"lon\":[-74.70411,-74.62261],\"marker\":{\"color\":\"#FF6692\",\"symbol\":\"circle\"},\"mode\":\"markers\",\"name\":\"Wilmington (DE)\",\"showlegend\":true,\"type\":\"scattergeo\"},{\"geo\":\"geo\",\"hovertemplate\":\"\\u003cb\\u003e%{hovertext}\\u003c\\u002fb\\u003e\\u003cbr\\u003e\\u003cbr\\u003ePort Name=San Diego\\u003cbr\\u003eLAT=%{lat}\\u003cbr\\u003eLON=%{lon}\\u003cextra\\u003e\\u003c\\u002fextra\\u003e\",\"hovertext\":[80.0,70.0],\"lat\":[31.98503,31.78678],\"legendgroup\":\"San Diego\",\"lon\":[-116.85106,-116.655],\"marker\":{\"color\":\"#B6E880\",\"symbol\":\"circle\"},\"mode\":\"markers\",\"name\":\"San Diego\",\"showlegend\":true,\"type\":\"scattergeo\"},{\"geo\":\"geo\",\"hovertemplate\":\"\\u003cb\\u003e%{hovertext}\\u003c\\u002fb\\u003e\\u003cbr\\u003e\\u003cbr\\u003ePort Name=Savannah\\u003cbr\\u003eLAT=%{lat}\\u003cbr\\u003eLON=%{lon}\\u003cextra\\u003e\\u003c\\u002fextra\\u003e\",\"hovertext\":[70.0,80.0,70.0,70.0,70.0,70.0,70.0,70.0,70.0,70.0,79.0,72.0],\"lat\":[32.13536,31.98153,32.92672,32.11903,32.14388,32.83037,32.12912,31.12998,32.83165,31.97071,31.9928,32.63119],\"legendgroup\":\"Savannah\",\"lon\":[-81.14261,-80.5646,-79.93488,-81.13233,-81.14284,-79.89315,-81.13875,-81.49255,-79.8927,-80.56538,-80.56462,-79.50779],\"marker\":{\"color\":\"#FF97FF\",\"symbol\":\"circle\"},\"mode\":\"markers\",\"name\":\"Savannah\",\"showlegend\":true,\"type\":\"scattergeo\"},{\"geo\":\"geo\",\"hovertemplate\":\"\\u003cb\\u003e%{hovertext}\\u003c\\u002fb\\u003e\\u003cbr\\u003e\\u003cbr\\u003ePort Name=Tampa\\u003cbr\\u003eLAT=%{lat}\\u003cbr\\u003eLON=%{lon}\\u003cextra\\u003e\\u003c\\u002fextra\\u003e\",\"hovertext\":[70.0,70.0,80.0,70.0,70.0,70.0],\"lat\":[27.90932,27.62786,27.86126,27.92021,27.90411,27.63498],\"legendgroup\":\"Tampa\",\"lon\":[-82.43955,-83.03316,-82.54952,-82.4205,-82.41736,-82.56197],\"marker\":{\"color\":\"#FECB52\",\"symbol\":\"circle\"},\"mode\":\"markers\",\"name\":\"Tampa\",\"showlegend\":true,\"type\":\"scattergeo\"},{\"geo\":\"geo\",\"hovertemplate\":\"\\u003cb\\u003e%{hovertext}\\u003c\\u002fb\\u003e\\u003cbr\\u003e\\u003cbr\\u003ePort Name=Port Arthur\\u003cbr\\u003eLAT=%{lat}\\u003cbr\\u003eLON=%{lon}\\u003cextra\\u003e\\u003c\\u002fextra\\u003e\",\"hovertext\":[80.0,80.0,84.0,80.0,80.0,80.0],\"lat\":[29.6112,30.03765,28.98148,29.55123,28.94502,29.56499],\"legendgroup\":\"Port Arthur\",\"lon\":[-93.26785,-93.33329,-93.24991,-93.21162,-93.26005,-93.21533],\"marker\":{\"color\":\"#636efa\",\"symbol\":\"circle\"},\"mode\":\"markers\",\"name\":\"Port Arthur\",\"showlegend\":true,\"type\":\"scattergeo\"},{\"geo\":\"geo\",\"hovertemplate\":\"\\u003cb\\u003e%{hovertext}\\u003c\\u002fb\\u003e\\u003cbr\\u003e\\u003cbr\\u003ePort Name=Honolulu\\u003cbr\\u003eLAT=%{lat}\\u003cbr\\u003eLON=%{lon}\\u003cextra\\u003e\\u003c\\u002fextra\\u003e\",\"hovertext\":[70.0],\"lat\":[21.326],\"legendgroup\":\"Honolulu\",\"lon\":[-158.11042],\"marker\":{\"color\":\"#EF553B\",\"symbol\":\"circle\"},\"mode\":\"markers\",\"name\":\"Honolulu\",\"showlegend\":true,\"type\":\"scattergeo\"},{\"geo\":\"geo\",\"hovertemplate\":\"\\u003cb\\u003e%{hovertext}\\u003c\\u002fb\\u003e\\u003cbr\\u003e\\u003cbr\\u003ePort Name=Philadelphia\\u003cbr\\u003eLAT=%{lat}\\u003cbr\\u003eLON=%{lon}\\u003cextra\\u003e\\u003c\\u002fextra\\u003e\",\"hovertext\":[30.0],\"lat\":[38.64025],\"legendgroup\":\"Philadelphia\",\"lon\":[-74.19711],\"marker\":{\"color\":\"#00cc96\",\"symbol\":\"circle\"},\"mode\":\"markers\",\"name\":\"Philadelphia\",\"showlegend\":true,\"type\":\"scattergeo\"}],                        {\"template\":{\"data\":{\"histogram2dcontour\":[{\"type\":\"histogram2dcontour\",\"colorbar\":{\"outlinewidth\":0,\"ticks\":\"\"},\"colorscale\":[[0.0,\"#0d0887\"],[0.1111111111111111,\"#46039f\"],[0.2222222222222222,\"#7201a8\"],[0.3333333333333333,\"#9c179e\"],[0.4444444444444444,\"#bd3786\"],[0.5555555555555556,\"#d8576b\"],[0.6666666666666666,\"#ed7953\"],[0.7777777777777778,\"#fb9f3a\"],[0.8888888888888888,\"#fdca26\"],[1.0,\"#f0f921\"]]}],\"choropleth\":[{\"type\":\"choropleth\",\"colorbar\":{\"outlinewidth\":0,\"ticks\":\"\"}}],\"histogram2d\":[{\"type\":\"histogram2d\",\"colorbar\":{\"outlinewidth\":0,\"ticks\":\"\"},\"colorscale\":[[0.0,\"#0d0887\"],[0.1111111111111111,\"#46039f\"],[0.2222222222222222,\"#7201a8\"],[0.3333333333333333,\"#9c179e\"],[0.4444444444444444,\"#bd3786\"],[0.5555555555555556,\"#d8576b\"],[0.6666666666666666,\"#ed7953\"],[0.7777777777777778,\"#fb9f3a\"],[0.8888888888888888,\"#fdca26\"],[1.0,\"#f0f921\"]]}],\"heatmap\":[{\"type\":\"heatmap\",\"colorbar\":{\"outlinewidth\":0,\"ticks\":\"\"},\"colorscale\":[[0.0,\"#0d0887\"],[0.1111111111111111,\"#46039f\"],[0.2222222222222222,\"#7201a8\"],[0.3333333333333333,\"#9c179e\"],[0.4444444444444444,\"#bd3786\"],[0.5555555555555556,\"#d8576b\"],[0.6666666666666666,\"#ed7953\"],[0.7777777777777778,\"#fb9f3a\"],[0.8888888888888888,\"#fdca26\"],[1.0,\"#f0f921\"]]}],\"heatmapgl\":[{\"type\":\"heatmapgl\",\"colorbar\":{\"outlinewidth\":0,\"ticks\":\"\"},\"colorscale\":[[0.0,\"#0d0887\"],[0.1111111111111111,\"#46039f\"],[0.2222222222222222,\"#7201a8\"],[0.3333333333333333,\"#9c179e\"],[0.4444444444444444,\"#bd3786\"],[0.5555555555555556,\"#d8576b\"],[0.6666666666666666,\"#ed7953\"],[0.7777777777777778,\"#fb9f3a\"],[0.8888888888888888,\"#fdca26\"],[1.0,\"#f0f921\"]]}],\"contourcarpet\":[{\"type\":\"contourcarpet\",\"colorbar\":{\"outlinewidth\":0,\"ticks\":\"\"}}],\"contour\":[{\"type\":\"contour\",\"colorbar\":{\"outlinewidth\":0,\"ticks\":\"\"},\"colorscale\":[[0.0,\"#0d0887\"],[0.1111111111111111,\"#46039f\"],[0.2222222222222222,\"#7201a8\"],[0.3333333333333333,\"#9c179e\"],[0.4444444444444444,\"#bd3786\"],[0.5555555555555556,\"#d8576b\"],[0.6666666666666666,\"#ed7953\"],[0.7777777777777778,\"#fb9f3a\"],[0.8888888888888888,\"#fdca26\"],[1.0,\"#f0f921\"]]}],\"surface\":[{\"type\":\"surface\",\"colorbar\":{\"outlinewidth\":0,\"ticks\":\"\"},\"colorscale\":[[0.0,\"#0d0887\"],[0.1111111111111111,\"#46039f\"],[0.2222222222222222,\"#7201a8\"],[0.3333333333333333,\"#9c179e\"],[0.4444444444444444,\"#bd3786\"],[0.5555555555555556,\"#d8576b\"],[0.6666666666666666,\"#ed7953\"],[0.7777777777777778,\"#fb9f3a\"],[0.8888888888888888,\"#fdca26\"],[1.0,\"#f0f921\"]]}],\"mesh3d\":[{\"type\":\"mesh3d\",\"colorbar\":{\"outlinewidth\":0,\"ticks\":\"\"}}],\"scatter\":[{\"fillpattern\":{\"fillmode\":\"overlay\",\"size\":10,\"solidity\":0.2},\"type\":\"scatter\"}],\"parcoords\":[{\"type\":\"parcoords\",\"line\":{\"colorbar\":{\"outlinewidth\":0,\"ticks\":\"\"}}}],\"scatterpolargl\":[{\"type\":\"scatterpolargl\",\"marker\":{\"colorbar\":{\"outlinewidth\":0,\"ticks\":\"\"}}}],\"bar\":[{\"error_x\":{\"color\":\"#2a3f5f\"},\"error_y\":{\"color\":\"#2a3f5f\"},\"marker\":{\"line\":{\"color\":\"#E5ECF6\",\"width\":0.5},\"pattern\":{\"fillmode\":\"overlay\",\"size\":10,\"solidity\":0.2}},\"type\":\"bar\"}],\"scattergeo\":[{\"type\":\"scattergeo\",\"marker\":{\"colorbar\":{\"outlinewidth\":0,\"ticks\":\"\"}}}],\"scatterpolar\":[{\"type\":\"scatterpolar\",\"marker\":{\"colorbar\":{\"outlinewidth\":0,\"ticks\":\"\"}}}],\"histogram\":[{\"marker\":{\"pattern\":{\"fillmode\":\"overlay\",\"size\":10,\"solidity\":0.2}},\"type\":\"histogram\"}],\"scattergl\":[{\"type\":\"scattergl\",\"marker\":{\"colorbar\":{\"outlinewidth\":0,\"ticks\":\"\"}}}],\"scatter3d\":[{\"type\":\"scatter3d\",\"line\":{\"colorbar\":{\"outlinewidth\":0,\"ticks\":\"\"}},\"marker\":{\"colorbar\":{\"outlinewidth\":0,\"ticks\":\"\"}}}],\"scattermapbox\":[{\"type\":\"scattermapbox\",\"marker\":{\"colorbar\":{\"outlinewidth\":0,\"ticks\":\"\"}}}],\"scatterternary\":[{\"type\":\"scatterternary\",\"marker\":{\"colorbar\":{\"outlinewidth\":0,\"ticks\":\"\"}}}],\"scattercarpet\":[{\"type\":\"scattercarpet\",\"marker\":{\"colorbar\":{\"outlinewidth\":0,\"ticks\":\"\"}}}],\"carpet\":[{\"aaxis\":{\"endlinecolor\":\"#2a3f5f\",\"gridcolor\":\"white\",\"linecolor\":\"white\",\"minorgridcolor\":\"white\",\"startlinecolor\":\"#2a3f5f\"},\"baxis\":{\"endlinecolor\":\"#2a3f5f\",\"gridcolor\":\"white\",\"linecolor\":\"white\",\"minorgridcolor\":\"white\",\"startlinecolor\":\"#2a3f5f\"},\"type\":\"carpet\"}],\"table\":[{\"cells\":{\"fill\":{\"color\":\"#EBF0F8\"},\"line\":{\"color\":\"white\"}},\"header\":{\"fill\":{\"color\":\"#C8D4E3\"},\"line\":{\"color\":\"white\"}},\"type\":\"table\"}],\"barpolar\":[{\"marker\":{\"line\":{\"color\":\"#E5ECF6\",\"width\":0.5},\"pattern\":{\"fillmode\":\"overlay\",\"size\":10,\"solidity\":0.2}},\"type\":\"barpolar\"}],\"pie\":[{\"automargin\":true,\"type\":\"pie\"}]},\"layout\":{\"autotypenumbers\":\"strict\",\"colorway\":[\"#636efa\",\"#EF553B\",\"#00cc96\",\"#ab63fa\",\"#FFA15A\",\"#19d3f3\",\"#FF6692\",\"#B6E880\",\"#FF97FF\",\"#FECB52\"],\"font\":{\"color\":\"#2a3f5f\"},\"hovermode\":\"closest\",\"hoverlabel\":{\"align\":\"left\"},\"paper_bgcolor\":\"white\",\"plot_bgcolor\":\"#E5ECF6\",\"polar\":{\"bgcolor\":\"#E5ECF6\",\"angularaxis\":{\"gridcolor\":\"white\",\"linecolor\":\"white\",\"ticks\":\"\"},\"radialaxis\":{\"gridcolor\":\"white\",\"linecolor\":\"white\",\"ticks\":\"\"}},\"ternary\":{\"bgcolor\":\"#E5ECF6\",\"aaxis\":{\"gridcolor\":\"white\",\"linecolor\":\"white\",\"ticks\":\"\"},\"baxis\":{\"gridcolor\":\"white\",\"linecolor\":\"white\",\"ticks\":\"\"},\"caxis\":{\"gridcolor\":\"white\",\"linecolor\":\"white\",\"ticks\":\"\"}},\"coloraxis\":{\"colorbar\":{\"outlinewidth\":0,\"ticks\":\"\"}},\"colorscale\":{\"sequential\":[[0.0,\"#0d0887\"],[0.1111111111111111,\"#46039f\"],[0.2222222222222222,\"#7201a8\"],[0.3333333333333333,\"#9c179e\"],[0.4444444444444444,\"#bd3786\"],[0.5555555555555556,\"#d8576b\"],[0.6666666666666666,\"#ed7953\"],[0.7777777777777778,\"#fb9f3a\"],[0.8888888888888888,\"#fdca26\"],[1.0,\"#f0f921\"]],\"sequentialminus\":[[0.0,\"#0d0887\"],[0.1111111111111111,\"#46039f\"],[0.2222222222222222,\"#7201a8\"],[0.3333333333333333,\"#9c179e\"],[0.4444444444444444,\"#bd3786\"],[0.5555555555555556,\"#d8576b\"],[0.6666666666666666,\"#ed7953\"],[0.7777777777777778,\"#fb9f3a\"],[0.8888888888888888,\"#fdca26\"],[1.0,\"#f0f921\"]],\"diverging\":[[0,\"#8e0152\"],[0.1,\"#c51b7d\"],[0.2,\"#de77ae\"],[0.3,\"#f1b6da\"],[0.4,\"#fde0ef\"],[0.5,\"#f7f7f7\"],[0.6,\"#e6f5d0\"],[0.7,\"#b8e186\"],[0.8,\"#7fbc41\"],[0.9,\"#4d9221\"],[1,\"#276419\"]]},\"xaxis\":{\"gridcolor\":\"white\",\"linecolor\":\"white\",\"ticks\":\"\",\"title\":{\"standoff\":15},\"zerolinecolor\":\"white\",\"automargin\":true,\"zerolinewidth\":2},\"yaxis\":{\"gridcolor\":\"white\",\"linecolor\":\"white\",\"ticks\":\"\",\"title\":{\"standoff\":15},\"zerolinecolor\":\"white\",\"automargin\":true,\"zerolinewidth\":2},\"scene\":{\"xaxis\":{\"backgroundcolor\":\"#E5ECF6\",\"gridcolor\":\"white\",\"linecolor\":\"white\",\"showbackground\":true,\"ticks\":\"\",\"zerolinecolor\":\"white\",\"gridwidth\":2},\"yaxis\":{\"backgroundcolor\":\"#E5ECF6\",\"gridcolor\":\"white\",\"linecolor\":\"white\",\"showbackground\":true,\"ticks\":\"\",\"zerolinecolor\":\"white\",\"gridwidth\":2},\"zaxis\":{\"backgroundcolor\":\"#E5ECF6\",\"gridcolor\":\"white\",\"linecolor\":\"white\",\"showbackground\":true,\"ticks\":\"\",\"zerolinecolor\":\"white\",\"gridwidth\":2}},\"shapedefaults\":{\"line\":{\"color\":\"#2a3f5f\"}},\"annotationdefaults\":{\"arrowcolor\":\"#2a3f5f\",\"arrowhead\":0,\"arrowwidth\":1},\"geo\":{\"bgcolor\":\"white\",\"landcolor\":\"#E5ECF6\",\"subunitcolor\":\"white\",\"showland\":true,\"showlakes\":true,\"lakecolor\":\"white\"},\"title\":{\"x\":0.05},\"mapbox\":{\"style\":\"light\"}}},\"geo\":{\"domain\":{\"x\":[0.0,1.0],\"y\":[0.0,1.0]},\"projection\":{\"type\":\"natural earth\"},\"center\":{},\"scope\":\"world\",\"showland\":true,\"landcolor\":\"lightgray\"},\"legend\":{\"title\":{\"text\":\"Port Name\"},\"tracegroupgap\":0},\"title\":{\"text\":\"First Arrivals: Vessel Locations by Port\"}},                        {\"responsive\": true}                    ).then(function(){\n",
              "                            \n",
              "var gd = document.getElementById('1cb13f80-a792-486e-acf9-9c1c14bae072');\n",
              "var x = new MutationObserver(function (mutations, observer) {{\n",
              "        var display = window.getComputedStyle(gd).display;\n",
              "        if (!display || display === 'none') {{\n",
              "            console.log([gd, 'removed!']);\n",
              "            Plotly.purge(gd);\n",
              "            observer.disconnect();\n",
              "        }}\n",
              "}});\n",
              "\n",
              "// Listen for the removal of the full notebook cells\n",
              "var notebookContainer = gd.closest('#notebook-container');\n",
              "if (notebookContainer) {{\n",
              "    x.observe(notebookContainer, {childList: true});\n",
              "}}\n",
              "\n",
              "// Listen for the clearing of the current output cell\n",
              "var outputEl = gd.closest('.output');\n",
              "if (outputEl) {{\n",
              "    x.observe(outputEl, {childList: true});\n",
              "}}\n",
              "\n",
              "                        })                };                            </script>        </div>\n",
              "</body>\n",
              "</html>"
            ]
          },
          "metadata": {}
        }
      ]
    },
    {
      "cell_type": "code",
      "source": [],
      "metadata": {
        "id": "qmG0bzq6tJhQ"
      },
      "execution_count": null,
      "outputs": []
    }
  ]
}