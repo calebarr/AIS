{
 "cells": [
  {
   "cell_type": "code",
   "execution_count": null,
   "id": "c7207cf8",
   "metadata": {},
   "outputs": [],
   "source": [
    "# #Uncomment and run the following command to update the requirements.txt file:\n",
    "# pip freeze > requirements.txt\n",
    "\n",
    "from Pipeline.pipeline import Pipeline\n",
    "db_config = {\n",
    "        \"user\": \"ais_sp500_db_user\",\n",
    "        \"password\": \"lFmNQ7l0yiXhSc1Bet3OHw8EuUeDuv7F\",\n",
    "        \"host\": \"dpg-d0rflvndiees73c05ea0-a.oregon-postgres.render.com\",\n",
    "        \"port\": 5432,\n",
    "        \"database\": \"ais_sp500_db\"\n",
    "    }\n",
    "\n",
    "pipeline = Pipeline(db_config=db_config)\n",
    "\n",
    "# # Load and concatenate YFinance data\n",
    "concatenated_df = pipeline.load_and_concat_yfinance_data()\n",
    "concatenated_df.to_csv(\"yfinance_data.csv\", index=False)\n",
    "\n",
    "# Load AIS data\n",
    "ais_data = pipeline.load_data(\"ais_port_visits\")\n",
    "ais_data.to_csv(\"ais_port_visits.csv\", index=False)\n",
    "\n",
    "# Load Yfinance macro data\n",
    "yfinance_macro_data = pipeline.load_data(\"macro_prices\")\n",
    "yfinance_macro_data.to_csv(\"yfinance_macro_data.csv\", index=False)"
   ]
  }
 ],
 "metadata": {
  "kernelspec": {
   "display_name": "venv",
   "language": "python",
   "name": "python3"
  },
  "language_info": {
   "name": "python",
   "version": "3.11.9"
  }
 },
 "nbformat": 4,
 "nbformat_minor": 5
}
