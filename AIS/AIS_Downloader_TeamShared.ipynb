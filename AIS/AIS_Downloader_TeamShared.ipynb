{
  "cells": [
    {
      "cell_type": "markdown",
      "metadata": {
        "colab_type": "text",
        "id": "view-in-github"
      },
      "source": [
        "<a href=\"https://colab.research.google.com/github/calebarr/AIS/blob/main/AIS_Downloader_TeamShared.ipynb\" target=\"_parent\"><img src=\"https://colab.research.google.com/assets/colab-badge.svg\" alt=\"Open In Colab\"/></a>"
      ]
    },
    {
      "cell_type": "code",
      "execution_count": null,
      "metadata": {},
      "outputs": [],
      "source": [
        "# Mount Google Drive\n",
        "# from google.colab import drive\n",
        "import os\n",
        "from datetime import datetime, timedelta\n",
        "import requests\n",
        "import zipfile\n",
        "import pandas as pd\n",
        "\n",
        "# print(\"Mounting Google Drive...\")\n",
        "# drive.mount('/content/drive')"
      ]
    },
    {
      "cell_type": "code",
      "execution_count": null,
      "metadata": {
        "colab": {
          "base_uri": "https://localhost:8080/"
        },
        "id": "0yfBwBvK_XL5",
        "outputId": "9ab4b434-5743-4136-ded9-e27f50a558f4"
      },
      "outputs": [
        {
          "name": "stdout",
          "output_type": "stream",
          "text": [
            "Files will be saved to: ../assets/ais_data\n",
            "Downloading AIS_2020_01_05.zip...\n",
            "Saved: ../assets/ais_data\\AIS_2020_01_05.zip\n",
            "Downloading AIS_2020_01_06.zip...\n"
          ]
        }
      ],
      "source": [
        "# AIS Data Downloader - Google Colab Version (Team-Ready)\n",
        "\n",
        "\n",
        "# Define the AIS downloader function\n",
        "def download_ais_data(start_date_str, end_date_str, save_folder):\n",
        "    os.makedirs(save_folder, exist_ok=True)\n",
        "    print(f\"Files will be saved to: {save_folder}\")\n",
        "\n",
        "    # Convert string dates to datetime objects\n",
        "    start_date = datetime.strptime(start_date_str, \"%Y-%m-%d\")\n",
        "    end_date = datetime.strptime(end_date_str, \"%Y-%m-%d\")\n",
        "\n",
        "    start_year = start_date.year\n",
        "    end_year = end_date.year\n",
        "    if start_year != end_year:\n",
        "        raise ValueError(\"Start and end dates must be in the same year for this script.\")\n",
        "\n",
        "    # Generate the date list\n",
        "    dates_to_download = [\n",
        "        (start_date + timedelta(days=i)).strftime(\"%Y-%m-%d\")\n",
        "        for i in range((end_date - start_date).days + 1)\n",
        "    ]\n",
        "\n",
        "    # Download each file in the date range\n",
        "    for date_str in dates_to_download:\n",
        "        date_obj = datetime.strptime(date_str, \"%Y-%m-%d\")\n",
        "        filename = f\"AIS_{date_obj.strftime('%Y_%m_%d')}.zip\"\n",
        "        # GS: Adjusted url by removing hardocded 2020 year and using start_year instead\n",
        "        url = f\"https://coast.noaa.gov/htdata/CMSP/AISDataHandler/{start_year}/{filename}\"\n",
        "\n",
        "        print(f\"Downloading {filename}...\")\n",
        "        response = requests.get(url)\n",
        "\n",
        "        if response.status_code == 200:\n",
        "            file_path = os.path.join(save_folder, filename)\n",
        "            with open(file_path, \"wb\") as f:\n",
        "                f.write(response.content)\n",
        "            print(f\"Saved: {file_path}\")\n",
        "        else:\n",
        "            print(f\"Failed to download {filename} (HTTP {response.status_code})\")\n",
        "\n",
        "# Now call the function with your chosen parameters\n",
        "download_ais_data(\n",
        "    start_date_str=\"2020-01-05\",\n",
        "    end_date_str=\"2020-01-06\",\n",
        "    save_folder=\"../assets/ais_data\"\n",
        ")\n",
        "\n",
        "\n"
      ]
    },
    {
      "cell_type": "code",
      "execution_count": null,
      "metadata": {},
      "outputs": [],
      "source": [
        "# Step 2 - Unzip the file and put it in a dataframe\n",
        "\n",
        "def unzip_and_load_data(zip_file_path, dataframe=None):\n",
        "    if dataframe is None:\n",
        "        dataframe = pd.DataFrame()\n",
        "    with zipfile.ZipFile(zip_file_path, 'r') as zip_ref:\n",
        "        zip_ref.extractall(os.path.dirname(zip_file_path))\n",
        "        for file_name in zip_ref.namelist():\n",
        "            if file_name.endswith('.csv'):\n",
        "                csv_file_path = os.path.join(os.path.dirname(zip_file_path), file_name)\n",
        "                print(f\"Loading data from {csv_file_path}...\")\n",
        "                temp_df = pd.read_csv(csv_file_path, low_memory=False)\n",
        "                dataframe = pd.concat([dataframe, temp_df], ignore_index=True)\n",
        "    return dataframe\n"
      ]
    },
    {
      "cell_type": "code",
      "execution_count": null,
      "metadata": {},
      "outputs": [],
      "source": [
        "data = unzip_and_load_data(\n",
        "    zip_file_path=\"../assets/ais_data/AIS_2020_01_05.zip\"\n",
        ")\n",
        "\n",
        "data.head()"
      ]
    }
  ],
  "metadata": {
    "colab": {
      "include_colab_link": true,
      "provenance": []
    },
    "kernelspec": {
      "display_name": "Python 3",
      "language": "python",
      "name": "python3"
    },
    "language_info": {
      "codemirror_mode": {
        "name": "ipython",
        "version": 3
      },
      "file_extension": ".py",
      "mimetype": "text/x-python",
      "name": "python",
      "nbconvert_exporter": "python",
      "pygments_lexer": "ipython3",
      "version": "3.11.9"
    }
  },
  "nbformat": 4,
  "nbformat_minor": 0
}
