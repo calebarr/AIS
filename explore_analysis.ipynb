{
 "cells": [
  {
   "cell_type": "markdown",
   "id": "a937f4f6",
   "metadata": {},
   "source": [
    "# Exploring Maritime Activities and the S\\&P 500\n",
    "\n",
    "This notebook examines the relationship between AIS maritime traffic and the S\\&P 500 index prices. The analysis is organized into four main steps:\n",
    "\n",
    "1. **Data Collection**\n",
    "2. **Data Cleaning**\n",
    "3. **Data Analysis**\n",
    "4. **Presentation**\n",
    "\n",
    "---\n",
    "\n",
    "## Table of Contents\n",
    "\n",
    "1. [Project Overview](#project-overview)\n",
    "2. [Installation and Setup](#installation-and-setup)\n",
    "3. [Database Connection](#database-connection)\n",
    "4. [Data Loading](#data-loading)\n",
    "5. [Dataframe Summaries](#dataframe-summaries)\n",
    "6. [Helper Functions](#helper-functions)\n",
    "7. [Main Analysis and Visualizations](#main-analysis-and-visualizations)\n",
    "8. [Subset Analysis](#subset-analysis)\n",
    "9. [Conclusion](#conclusion)\n",
    "\n",
    "---\n",
    "\n",
    "## 1. Project Overview {#project-overview}\n",
    "\n",
    "We explore how daily vessel counts derived from AIS (Automatic Identification System) data correlate with the daily and monthly close prices of the S\\&P 500 index. The workflow is:\n",
    "\n",
    "* **AIS Processor**: Downloads, cleans, and filters seven days of AIS data at a time, removes duplicates and non-commercial vessels, maps each vessel to its nearest port, and stores the cleaned data.\n",
    "* **Financial Fetcher**: Uses `yfinance` to retrieve historical closing prices for the S\\&P 500 (^GSPC) and individual components, scraping the current ticker list from Wikipedia.\n",
    "* **Database Storage**: Saves cleaned datasets in a PostgreSQL database for efficient querying and reproducibility.\n",
    "* **Pipeline Class**: Encapsulates all data retrieval, cleaning, and storage logic.\n",
    "\n",
    "---\n",
    "\n",
    "## 2. Installation and Setup {#installation-and-setup}"
   ]
  },
  {
   "cell_type": "code",
   "execution_count": null,
   "id": "2f25545d",
   "metadata": {},
   "outputs": [],
   "source": [
    "# Create and activate a virtual environment (optional)\n",
    "# python -m venv .venv && source .venv/bin/activate\n",
    "\n",
    "!pip install -r requirements.txt\n",
    "\n",
    "#Imports\n",
    "import pandas as pd\n",
    "import numpy as np\n",
    "import matplotlib.pyplot as plt\n",
    "import altair as alt\n",
    "from Pipeline.pipeline import Pipeline"
   ]
  },
  {
   "cell_type": "markdown",
   "id": "72f57247",
   "metadata": {},
   "source": []
  }
 ],
 "metadata": {
  "language_info": {
   "name": "python"
  }
 },
 "nbformat": 4,
 "nbformat_minor": 5
}
